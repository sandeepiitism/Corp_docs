{
 "cells": [
  {
   "cell_type": "markdown",
   "id": "17b4f29f",
   "metadata": {},
   "source": [
    "# Python Loops"
   ]
  },
  {
   "cell_type": "markdown",
   "id": "17270dec",
   "metadata": {},
   "source": [
    "1. if\n",
    "2. if else\n",
    "3. if elif else\n",
    "4. for\n",
    "5. Nested for\n",
    "6. While\n"
   ]
  },
  {
   "cell_type": "code",
   "execution_count": 1,
   "id": "f11479a2",
   "metadata": {},
   "outputs": [
    {
     "name": "stdout",
     "output_type": "stream",
     "text": [
      "you cannot drive\n"
     ]
    }
   ],
   "source": [
    "age=16\n",
    "\n",
    "if age>=18:\n",
    "    print(\"you can drive\")\n",
    "else:\n",
    "    print(\"you cannot drive\")"
   ]
  },
  {
   "cell_type": "code",
   "execution_count": 5,
   "id": "ca7d7cf8",
   "metadata": {},
   "outputs": [],
   "source": [
    "x=20\n",
    "if x>=23:\n",
    "    print(\"no else so not print\")\n"
   ]
  },
  {
   "cell_type": "code",
   "execution_count": 6,
   "id": "31156e4a",
   "metadata": {},
   "outputs": [
    {
     "name": "stdout",
     "output_type": "stream",
     "text": [
      "will print as outside the if block\n"
     ]
    }
   ],
   "source": [
    "x=20\n",
    "if x>=23:\n",
    "    pass\n",
    "print(\"will print as outside the if block\")"
   ]
  },
  {
   "cell_type": "code",
   "execution_count": 8,
   "id": "6addd703",
   "metadata": {},
   "outputs": [
    {
     "name": "stdout",
     "output_type": "stream",
     "text": [
      "excellent performance your grade is c\n"
     ]
    }
   ],
   "source": [
    "## if - elif - else\n",
    "\n",
    "score=35\n",
    "\n",
    "if score >=90:\n",
    "    print(\"excellent performance your grade is A+\")\n",
    "elif score >=80:\n",
    "    print(\"excellent performance your grade is A\")\n",
    "elif score >=70:\n",
    "    print(\"excellent performance your grade is B\")\n",
    "else:\n",
    "    print(\"excellent performance your grade is c\")"
   ]
  },
  {
   "cell_type": "code",
   "execution_count": 9,
   "id": "cf079d06",
   "metadata": {},
   "outputs": [
    {
     "name": "stdout",
     "output_type": "stream",
     "text": [
      "Please enter the time 16\n",
      "Afternoon\n"
     ]
    }
   ],
   "source": [
    "## condition and if-else\n",
    "time = int(input(\"Please enter the time \"))\n",
    "    \n",
    "if time < 0:\n",
    "           print(\"Invalid\")\n",
    "elif 0 <= time <= 5:\n",
    "           print(\"Night\")\n",
    "elif 6<= time <= 11:\n",
    "           print(\"Morning\")\n",
    "elif 12 <= time <= 17:\n",
    "           print(\"Afternoon\")\n",
    "elif 18 <= time <= 23:\n",
    "           print(\"Evening\")\n",
    "else:\n",
    "           print(\"Invalid\")"
   ]
  },
  {
   "cell_type": "code",
   "execution_count": 10,
   "id": "230177f2",
   "metadata": {},
   "outputs": [
    {
     "name": "stdout",
     "output_type": "stream",
     "text": [
      "largest number is 30\n"
     ]
    }
   ],
   "source": [
    "num1=10\n",
    "num2=20\n",
    "num3=30\n",
    "\n",
    "\n",
    "if (num1>=num2) and (num1>=num3):\n",
    "    largest=num1\n",
    "    print(\"largest number is\",largest)\n",
    "elif (num2>=num1) and (num2>=num3):\n",
    "    largest=num2\n",
    "    print(\"largest number is\",largest)\n",
    "else:\n",
    "    largest=num3\n",
    "    print(\"largest number is\",largest)"
   ]
  },
  {
   "cell_type": "code",
   "execution_count": 11,
   "id": "3cd92528",
   "metadata": {},
   "outputs": [],
   "source": [
    "## using operators like add,sub,mul,div"
   ]
  },
  {
   "cell_type": "code",
   "execution_count": 13,
   "id": "001ab1e6",
   "metadata": {},
   "outputs": [
    {
     "name": "stdout",
     "output_type": "stream",
     "text": [
      "enter first number :3\n",
      "enter operator (+,-,*,/,%) : +\n",
      "enter second number :4\n",
      "7\n"
     ]
    }
   ],
   "source": [
    "first = input(\"enter first number :\")\n",
    "operator = input(\"enter operator (+,-,*,/,%) : \")\n",
    "second = input(\"enter second number :\")\n",
    "\n",
    "first = int(first)\n",
    "second =  int(second)\n",
    "\n",
    "if operator ==  \"+\":\n",
    "    print(first+second)\n",
    "elif operator == \"-\":\n",
    "    print(first-second)\n",
    "elif operator == \"*\":\n",
    "    print(first*second)\n",
    "elif operator == \"/\":\n",
    "    print(first/second)\n",
    "elif operator == \"%\":\n",
    "    print(first%second)"
   ]
  },
  {
   "cell_type": "code",
   "execution_count": 14,
   "id": "e68133ce",
   "metadata": {},
   "outputs": [
    {
     "name": "stdout",
     "output_type": "stream",
     "text": [
      "enter number1:2\n",
      "enter number2:3\n",
      "enter op:*\n",
      "6\n"
     ]
    }
   ],
   "source": [
    "## questions\n",
    "num1=int(input(\"enter number1:\"))\n",
    "num2=int(input(\"enter number2:\"))\n",
    "op=input(\"enter op:\")\n",
    "         \n",
    "if op =='+':\n",
    "         print(num1+num2)\n",
    "elif op =='-':\n",
    "         print(num1-num2)\n",
    "elif op=='*':\n",
    "         print(num1*num2)\n",
    "elif op =='/':\n",
    "         print(num1/num2)\n",
    "else:\n",
    "         print(\"Invalid op:\")"
   ]
  },
  {
   "cell_type": "code",
   "execution_count": 15,
   "id": "fa943b2a",
   "metadata": {},
   "outputs": [
    {
     "name": "stdout",
     "output_type": "stream",
     "text": [
      "number is negitive\n"
     ]
    }
   ],
   "source": [
    "## questions\n",
    "num=-1\n",
    "\n",
    "if (num >= 0):\n",
    "    if num == 0:\n",
    "        print(\"number is 0\")\n",
    "    else:\n",
    "        print(\"number is positive\")\n",
    "else:\n",
    "    print(\"number is negitive\")"
   ]
  },
  {
   "cell_type": "markdown",
   "id": "e85e2331",
   "metadata": {},
   "source": [
    "#### for in range function"
   ]
  },
  {
   "cell_type": "code",
   "execution_count": 17,
   "id": "4faf3a88",
   "metadata": {},
   "outputs": [
    {
     "data": {
      "text/plain": [
       "[2, 3, 4, 5, 6, 7, 8, 9]"
      ]
     },
     "execution_count": 17,
     "metadata": {},
     "output_type": "execute_result"
    }
   ],
   "source": [
    "list(range(2,10))"
   ]
  },
  {
   "cell_type": "code",
   "execution_count": 18,
   "id": "615ef524",
   "metadata": {},
   "outputs": [
    {
     "data": {
      "text/plain": [
       "[0, 1, 2, 3, 4, 5, 6, 7, 8, 9]"
      ]
     },
     "execution_count": 18,
     "metadata": {},
     "output_type": "execute_result"
    }
   ],
   "source": [
    "list(range(10))"
   ]
  },
  {
   "cell_type": "code",
   "execution_count": 19,
   "id": "457b3bb6",
   "metadata": {},
   "outputs": [
    {
     "name": "stdout",
     "output_type": "stream",
     "text": [
      "0\n",
      "1\n",
      "2\n",
      "3\n",
      "4\n"
     ]
    }
   ],
   "source": [
    "for i in range(5):\n",
    "    print(i)"
   ]
  },
  {
   "cell_type": "code",
   "execution_count": 20,
   "id": "45e0640f",
   "metadata": {},
   "outputs": [
    {
     "name": "stdout",
     "output_type": "stream",
     "text": [
      "a\n",
      "b\n",
      "c\n"
     ]
    }
   ],
   "source": [
    "for l in [\"a\",\"b\",\"c\"]:\n",
    "    print(l)"
   ]
  },
  {
   "cell_type": "code",
   "execution_count": 21,
   "id": "c19cb60c",
   "metadata": {},
   "outputs": [
    {
     "name": "stdout",
     "output_type": "stream",
     "text": [
      "s\n",
      "a\n",
      "n\n",
      "d\n",
      "e\n",
      "e\n",
      "p\n"
     ]
    }
   ],
   "source": [
    "for i in \"sandeep\":\n",
    "    print(i)"
   ]
  },
  {
   "cell_type": "code",
   "execution_count": 22,
   "id": "ba1236b7",
   "metadata": {},
   "outputs": [
    {
     "ename": "TypeError",
     "evalue": "'int' object is not iterable",
     "output_type": "error",
     "traceback": [
      "\u001b[1;31m---------------------------------------------------------------------------\u001b[0m",
      "\u001b[1;31mTypeError\u001b[0m                                 Traceback (most recent call last)",
      "\u001b[1;32m~\\AppData\\Local\\Temp/ipykernel_9072/1505279495.py\u001b[0m in \u001b[0;36m<module>\u001b[1;34m\u001b[0m\n\u001b[0;32m      1\u001b[0m \u001b[1;31m## no range so error\u001b[0m\u001b[1;33m\u001b[0m\u001b[1;33m\u001b[0m\u001b[0m\n\u001b[1;32m----> 2\u001b[1;33m \u001b[1;32mfor\u001b[0m \u001b[0mi\u001b[0m \u001b[1;32min\u001b[0m \u001b[1;36m23\u001b[0m\u001b[1;33m:\u001b[0m\u001b[1;33m\u001b[0m\u001b[1;33m\u001b[0m\u001b[0m\n\u001b[0m\u001b[0;32m      3\u001b[0m     \u001b[0mprint\u001b[0m\u001b[1;33m(\u001b[0m\u001b[0mi\u001b[0m\u001b[1;33m)\u001b[0m\u001b[1;33m\u001b[0m\u001b[1;33m\u001b[0m\u001b[0m\n",
      "\u001b[1;31mTypeError\u001b[0m: 'int' object is not iterable"
     ]
    }
   ],
   "source": [
    "## no range so error\n",
    "for i in 23:\n",
    "    print(i)"
   ]
  },
  {
   "cell_type": "code",
   "execution_count": 23,
   "id": "c11154ae",
   "metadata": {},
   "outputs": [
    {
     "name": "stdout",
     "output_type": "stream",
     "text": [
      "s\n",
      "a\n",
      "n\n",
      "d\n",
      "e\n",
      "e\n",
      "p\n"
     ]
    }
   ],
   "source": [
    "## for in string\n",
    "\n",
    "for i in \"sandeep\":\n",
    "    print(i)"
   ]
  },
  {
   "cell_type": "code",
   "execution_count": 26,
   "id": "9dbc850f",
   "metadata": {},
   "outputs": [
    {
     "name": "stdout",
     "output_type": "stream",
     "text": [
      "sandeep\n",
      "data science\n"
     ]
    }
   ],
   "source": [
    "## for in dictionary\n",
    "\n",
    "d1 = {\"name\": \"sandeep\", \"domain\": \"data science\"}\n",
    "\n",
    "for i in d1.values():\n",
    "    print(i)"
   ]
  },
  {
   "cell_type": "code",
   "execution_count": 27,
   "id": "3808db11",
   "metadata": {},
   "outputs": [
    {
     "name": "stdout",
     "output_type": "stream",
     "text": [
      "name\n",
      "domain\n"
     ]
    }
   ],
   "source": [
    "\n",
    "d1 = {\"name\": \"sandeep\", \"domain\": \"data science\"}\n",
    "\n",
    "for i in d1.keys():\n",
    "    print(i)"
   ]
  },
  {
   "cell_type": "code",
   "execution_count": 28,
   "id": "996556d6",
   "metadata": {},
   "outputs": [
    {
     "name": "stdout",
     "output_type": "stream",
     "text": [
      "2\n",
      "5\n",
      "8\n"
     ]
    }
   ],
   "source": [
    "## for in range(start,stop,step)\n",
    "for i in range(2,9,3):\n",
    "    print(i)"
   ]
  },
  {
   "cell_type": "code",
   "execution_count": 29,
   "id": "0f4c481b",
   "metadata": {},
   "outputs": [
    {
     "name": "stdout",
     "output_type": "stream",
     "text": [
      "india\n",
      "uk\n",
      "germenry\n"
     ]
    }
   ],
   "source": [
    "country=[\"india\",\"uk\",\"germenry\"]\n",
    "\n",
    "for i in country:\n",
    "    print(i)"
   ]
  },
  {
   "cell_type": "code",
   "execution_count": 31,
   "id": "05f160cd",
   "metadata": {},
   "outputs": [
    {
     "name": "stdout",
     "output_type": "stream",
     "text": [
      "india\n",
      "uk\n",
      "germeny\n"
     ]
    }
   ],
   "source": [
    "## using range and len of string inside list\n",
    "\n",
    "country=[\"india\",\"uk\",\"germeny\"]\n",
    "\n",
    "\n",
    "for index in range(len(country)):\n",
    "    print(country[index])"
   ]
  },
  {
   "cell_type": "code",
   "execution_count": 32,
   "id": "0614fd76",
   "metadata": {},
   "outputs": [
    {
     "name": "stdout",
     "output_type": "stream",
     "text": [
      "dict_keys(['x1', 'x2', 'x3'])\n",
      "dict_values([1, 2, 3])\n"
     ]
    }
   ],
   "source": [
    "dict1={\"x1\":1,\"x2\":2,\"x3\":3}\n",
    "print(dict1.keys())\n",
    "print(dict1.values())"
   ]
  },
  {
   "cell_type": "code",
   "execution_count": 33,
   "id": "8602c8d6",
   "metadata": {},
   "outputs": [
    {
     "name": "stdout",
     "output_type": "stream",
     "text": [
      "x1 1\n",
      "x2 2\n",
      "x3 3\n"
     ]
    }
   ],
   "source": [
    "for key in dict1:\n",
    "    print(key, dict1[key])"
   ]
  },
  {
   "cell_type": "code",
   "execution_count": 34,
   "id": "90f6311b",
   "metadata": {},
   "outputs": [
    {
     "name": "stdout",
     "output_type": "stream",
     "text": [
      "x1\n",
      "x2\n",
      "x3\n"
     ]
    }
   ],
   "source": [
    "## if nothing mentioned it will only print the index\n",
    "\n",
    "for i in dict1:\n",
    "    print(i)"
   ]
  },
  {
   "cell_type": "code",
   "execution_count": 35,
   "id": "80ba4cd2",
   "metadata": {},
   "outputs": [
    {
     "name": "stdout",
     "output_type": "stream",
     "text": [
      "1\n",
      "2\n",
      "3\n"
     ]
    }
   ],
   "source": [
    "## for loop for tuple\n",
    "\n",
    "for i in (1,2,3):\n",
    "    print(i)"
   ]
  },
  {
   "cell_type": "code",
   "execution_count": 36,
   "id": "16e15eb7",
   "metadata": {},
   "outputs": [
    {
     "name": "stdout",
     "output_type": "stream",
     "text": [
      "1\n",
      "2\n",
      "3\n"
     ]
    }
   ],
   "source": [
    "## for loop in set\n",
    "\n",
    "for i in {1,2,3}:\n",
    "    print(i)"
   ]
  },
  {
   "cell_type": "markdown",
   "id": "31257c6a",
   "metadata": {},
   "source": [
    "#### end function"
   ]
  },
  {
   "cell_type": "code",
   "execution_count": 37,
   "id": "8027ce94",
   "metadata": {},
   "outputs": [
    {
     "name": "stdout",
     "output_type": "stream",
     "text": [
      "hi @sandeep! Hello @World $"
     ]
    }
   ],
   "source": [
    "print(\"hi\",end = ' @' )\n",
    "print(\"sandeep\", end='! ')\n",
    "print(\"Hello\",end = ' @')\n",
    "print(\"World\",end=' $')"
   ]
  },
  {
   "cell_type": "code",
   "execution_count": 38,
   "id": "932e6e88",
   "metadata": {},
   "outputs": [
    {
     "name": "stdout",
     "output_type": "stream",
     "text": [
      "0 $1 $2 $3 $4 $5 $6 $7 $8 $9 $"
     ]
    }
   ],
   "source": [
    "for i in range(10):\n",
    "    print(i,end=' $')"
   ]
  },
  {
   "cell_type": "code",
   "execution_count": 45,
   "id": "a40069f4",
   "metadata": {},
   "outputs": [
    {
     "name": "stdout",
     "output_type": "stream",
     "text": [
      "0 Rs1 Rs2 Rs3 Rs4 Rs5 Rs6 Rs7 Rs8 Rs9 Rs"
     ]
    }
   ],
   "source": [
    "for i in range(10):\n",
    "    print(i,end=' Rs')"
   ]
  },
  {
   "cell_type": "code",
   "execution_count": 46,
   "id": "15e1ea36",
   "metadata": {},
   "outputs": [
    {
     "name": "stdout",
     "output_type": "stream",
     "text": [
      "0\n",
      "1\n",
      "2\n",
      "3\n",
      "4\n",
      "done\n"
     ]
    }
   ],
   "source": [
    "## for-else\n",
    "\n",
    "for i in range(5):\n",
    "    print(i)\n",
    "else:\n",
    "    print(\"done\")"
   ]
  },
  {
   "cell_type": "code",
   "execution_count": 47,
   "id": "ed8fcaad",
   "metadata": {},
   "outputs": [
    {
     "name": "stdout",
     "output_type": "stream",
     "text": [
      "* \n",
      "* * \n",
      "* * * \n",
      "* * * * \n",
      "* * * * * \n"
     ]
    }
   ],
   "source": [
    "for i in range(5):\n",
    "    for j in range(i+1):\n",
    "        print(\"*\",end=' ')\n",
    "    print()\n",
    "    "
   ]
  },
  {
   "cell_type": "code",
   "execution_count": 48,
   "id": "ac9475c2",
   "metadata": {},
   "outputs": [
    {
     "name": "stdout",
     "output_type": "stream",
     "text": [
      "* * * * * \n",
      "* * * * \n",
      "* * * \n",
      "* * \n",
      "* \n"
     ]
    }
   ],
   "source": [
    "for i in range(5,0,-1):\n",
    "    for j in range(i,0,-1):\n",
    "        print(\"*\", end = \" \")\n",
    "    print()"
   ]
  },
  {
   "cell_type": "code",
   "execution_count": 49,
   "id": "a5621d38",
   "metadata": {},
   "outputs": [
    {
     "name": "stdout",
     "output_type": "stream",
     "text": [
      "1 2 3 4 5 \n",
      "2 4 6 8 10 \n",
      "3 6 9 12 15 \n",
      "4 8 12 16 20 \n",
      "5 10 15 20 25 \n"
     ]
    }
   ],
   "source": [
    "for i in range(1,6): \n",
    "    for j in range(1,6):\n",
    "        print(i*j,end=' ')\n",
    "    print()"
   ]
  },
  {
   "cell_type": "code",
   "execution_count": 50,
   "id": "341ea4b1",
   "metadata": {},
   "outputs": [
    {
     "name": "stdout",
     "output_type": "stream",
     "text": [
      "1 @2 @3 @4 @5 @\n",
      "2 @4 @6 @8 @10 @\n",
      "3 @6 @9 @12 @15 @\n",
      "4 @8 @12 @16 @20 @\n",
      "5 @10 @15 @20 @25 @\n"
     ]
    }
   ],
   "source": [
    "for i in range(1,6): \n",
    "    for j in range(1,6):\n",
    "        print(i*j,end=' @')\n",
    "    print()"
   ]
  },
  {
   "cell_type": "markdown",
   "id": "04c6b911",
   "metadata": {},
   "source": [
    "### While"
   ]
  },
  {
   "cell_type": "code",
   "execution_count": 51,
   "id": "7493a369",
   "metadata": {},
   "outputs": [
    {
     "name": "stdout",
     "output_type": "stream",
     "text": [
      "1\n",
      "2\n",
      "3\n",
      "4\n",
      "5\n"
     ]
    }
   ],
   "source": [
    "## always declare a variable before while\n",
    "count=1\n",
    "\n",
    "while count<=5:\n",
    "    print(count)\n",
    "    count +=1"
   ]
  },
  {
   "cell_type": "code",
   "execution_count": 52,
   "id": "711ecae7",
   "metadata": {},
   "outputs": [
    {
     "name": "stdout",
     "output_type": "stream",
     "text": [
      "enter a wordknslvs\n",
      "You entered  knslvs\n",
      "enter a wordquit\n",
      "You entered  quit\n"
     ]
    }
   ],
   "source": [
    "text = \" \"\n",
    "\n",
    "while text != \"quit\":\n",
    "    text= input(\"enter a word\")\n",
    "    print(\"You entered \", text)"
   ]
  },
  {
   "cell_type": "code",
   "execution_count": 53,
   "id": "9bd1f16d",
   "metadata": {},
   "outputs": [],
   "source": [
    "## if you know how times you will iterate go with for loop\n",
    "## if you dont know how times you will iterate go with while loop"
   ]
  },
  {
   "cell_type": "code",
   "execution_count": 54,
   "id": "7198a7eb",
   "metadata": {},
   "outputs": [
    {
     "name": "stdout",
     "output_type": "stream",
     "text": [
      "enter the age22\n",
      "you entered  22\n",
      "enter the age24\n",
      "you entered  24\n",
      "enter the age23\n",
      "you entered  23\n"
     ]
    }
   ],
   "source": [
    "age = 0\n",
    "\n",
    "while age!=23:\n",
    "    age = int(input('enter the age'))\n",
    "    print('you entered ',age)"
   ]
  },
  {
   "cell_type": "code",
   "execution_count": 55,
   "id": "d233b833",
   "metadata": {},
   "outputs": [
    {
     "name": "stdout",
     "output_type": "stream",
     "text": [
      "Enter Your age 77\n",
      "invalid age\n",
      "Enter Your age 23\n",
      "invalid age\n",
      "Age is  from list\n"
     ]
    }
   ],
   "source": [
    "## list and a variable\n",
    "list1=[23,23,22,21,20]\n",
    "age=0;\n",
    "while age not in list1:\n",
    "    age = int(input(\"Enter Your age \"))\n",
    "    print(\"invalid age\")\n",
    "else:\n",
    "    print(\"Age is  from list\");"
   ]
  },
  {
   "cell_type": "code",
   "execution_count": null,
   "id": "7a29d129",
   "metadata": {},
   "outputs": [],
   "source": []
  }
 ],
 "metadata": {
  "kernelspec": {
   "display_name": "Python 3 (ipykernel)",
   "language": "python",
   "name": "python3"
  },
  "language_info": {
   "codemirror_mode": {
    "name": "ipython",
    "version": 3
   },
   "file_extension": ".py",
   "mimetype": "text/x-python",
   "name": "python",
   "nbconvert_exporter": "python",
   "pygments_lexer": "ipython3",
   "version": "3.9.7"
  }
 },
 "nbformat": 4,
 "nbformat_minor": 5
}
