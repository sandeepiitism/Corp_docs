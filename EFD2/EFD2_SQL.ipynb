{
 "cells": [
  {
   "cell_type": "code",
   "execution_count": null,
   "id": "61e7103f",
   "metadata": {},
   "outputs": [],
   "source": []
  },
  {
   "cell_type": "code",
   "execution_count": null,
   "id": "e0a40006",
   "metadata": {},
   "outputs": [],
   "source": []
  },
  {
   "cell_type": "code",
   "execution_count": null,
   "id": "7111ff39",
   "metadata": {},
   "outputs": [],
   "source": [
    "import pandas as pd\n",
    "import pyodbc\n",
    "import warnings\n",
    "import datetime\n",
    "\n",
    "cnxn = pyodbc.connect(\"Driver={SQL Server Native Client 11.0};\"\n",
    "                        \"Server=na0vm00024.apac.bosch.com;\"\n",
    "                        \"Database=DB_MFC2DB_SQL;\"\n",
    "                        \"Trusted_Connection=yes;\")\n",
    "\n",
    "six_months_ago = datetime.datetime.now() - datetime.timedelta(days=180)\n",
    "formatted_date = six_months_ago.strftime('%Y-%m-%d')\n",
    "\n",
    "# sql = f\"SELECT * FROM [EFD2] WHERE CAST([TimeStamp] AS DATE) >= '{formatted_date}' ORDER BY [TimeStamp] ASC\"\n",
    "sql = f\"SELECT * FROM [EFD2]\"\n",
    "\n",
    "df = pd.read_sql_query(sql, cnxn, parse_dates=True)\n",
    "cursor = cnxn.cursor()\n",
    "cursor.execute(sql)\n",
    "\n",
    "df.head()\n",
    "\n"
   ]
  },
  {
   "cell_type": "code",
   "execution_count": null,
   "id": "68cfcd08",
   "metadata": {},
   "outputs": [],
   "source": [
    "sql = f\"SELECT * FROM [EFD2]\n"
   ]
  },
  {
   "cell_type": "code",
   "execution_count": null,
   "id": "4f32b5ca",
   "metadata": {},
   "outputs": [],
   "source": [
    "import pandas as pd\n",
    "import matplotlib.pyplot as plt\n",
    "\n",
    "plt.figure(figsize=(20, 12))\n",
    "plt.scatter(df['TimeStamp'], df['QTemp'])\n",
    "plt.xlabel('X-axis')\n",
    "plt.ylabel('Y-axis')\n",
    "plt.title('Scatter Plot of TimeStamp and QTemp')\n",
    "plt.show()\n"
   ]
  },
  {
   "cell_type": "markdown",
   "id": "5f0a1f19",
   "metadata": {},
   "source": [
    "### efd2 17th august"
   ]
  },
  {
   "cell_type": "code",
   "execution_count": null,
   "id": "04e18c30",
   "metadata": {},
   "outputs": [],
   "source": [
    "import pandas as pd\n",
    "import pyodbc\n",
    "import warnings\n",
    "import datetime\n",
    "\n",
    "cnxn = pyodbc.connect(\"Driver={SQL Server Native Client 11.0};\"\n",
    "                        \"Server=na0vm00024.apac.bosch.com;\"\n",
    "                        \"Database=DB_MFC2DB_SQL;\"\n",
    "                        \"Trusted_Connection=yes;\")\n",
    "\n",
    "sql = f\"SELECT [HEnergy1] , [TEnergy1] , [TemTempRH], [TemTempLH], [TimeStamp], CAST([TimeStamp] AS DATE) AS date FROM [EFD2] WHERE CAST([TimeStamp] AS DATE) = '2023-09-14' ORDER BY [TimeStamp] ASC\"\n",
    "\n",
    "df = pd.read_sql_query(sql, cnxn, parse_dates=True)\n",
    "cursor = cnxn.cursor()\n",
    "cursor.execute(sql)\n",
    "\n",
    "df.head()"
   ]
  },
  {
   "cell_type": "code",
   "execution_count": null,
   "id": "50c6cbed",
   "metadata": {},
   "outputs": [],
   "source": []
  },
  {
   "cell_type": "code",
   "execution_count": null,
   "id": "1ba6e4ff",
   "metadata": {},
   "outputs": [],
   "source": [
    "import plotly.graph_objects as go\n",
    "from plotly.subplots import make_subplots\n",
    "\n",
    "df['TimeStamp'] = pd.to_datetime(df['TimeStamp'])\n",
    "\n",
    "fig = make_subplots(rows=4, cols=1, shared_xaxes=True, subplot_titles=['HEnergy1', 'TEnergy1', 'TemTempRH', 'TemTempLH'])\n",
    "\n",
    "columns = ['HEnergy1', 'TEnergy1', 'TemTempRH', 'TemTempLH']\n",
    "\n",
    "for i, column in enumerate(columns, start=1):\n",
    "    fig.add_trace(go.Scatter(x=df['TimeStamp'], y=df[column], mode='lines', name=column), row=i, col=1)\n",
    "\n",
    "fig.update_layout(title_text='Individual Column Subplots with Timestamp as X-Axis', showlegend=False)\n",
    "\n",
    "fig.show()\n",
    "\n"
   ]
  },
  {
   "cell_type": "code",
   "execution_count": null,
   "id": "a45299e9",
   "metadata": {},
   "outputs": [],
   "source": [
    "import plotly.graph_objects as go\n",
    "\n",
    "df['TimeStamp'] = pd.to_datetime(df['TimeStamp'])\n",
    "\n",
    "columns = ['HEnergy1', 'TEnergy1', 'TemTempRH', 'TemTempLH']\n",
    "\n",
    "# Create a subplot with shared x-axis for all plots\n",
    "fig = make_subplots(rows=4, cols=1, shared_xaxes=True, subplot_titles=columns)\n",
    "\n",
    "for i, column in enumerate(columns, start=1):\n",
    "    fig.add_trace(go.Scatter(x=df['TimeStamp'], y=df[column], mode='lines', name=column), row=i, col=1)\n",
    "\n",
    "# Update layout and show the combined plot\n",
    "fig.update_layout(title_text='Combined Plots with Timestamp as X-Axis', showlegend=False)\n",
    "\n",
    "# Save the combined plot as an HTML file\n",
    "html_filename = '14_aug.html'\n",
    "fig.write_html(html_filename)\n",
    "\n",
    "# Optionally, open the HTML file in a web browser\n",
    "os.system(f'start {html_filename}')\n"
   ]
  },
  {
   "cell_type": "code",
   "execution_count": null,
   "id": "608b2a62",
   "metadata": {},
   "outputs": [],
   "source": [
    "### efd2 and efd3 for hardnening and tampering temperature"
   ]
  },
  {
   "cell_type": "code",
   "execution_count": 4,
   "id": "54b383fe",
   "metadata": {},
   "outputs": [
    {
     "data": {
      "text/html": [
       "<div>\n",
       "<style scoped>\n",
       "    .dataframe tbody tr th:only-of-type {\n",
       "        vertical-align: middle;\n",
       "    }\n",
       "\n",
       "    .dataframe tbody tr th {\n",
       "        vertical-align: top;\n",
       "    }\n",
       "\n",
       "    .dataframe thead th {\n",
       "        text-align: right;\n",
       "    }\n",
       "</style>\n",
       "<table border=\"1\" class=\"dataframe\">\n",
       "  <thead>\n",
       "    <tr style=\"text-align: right;\">\n",
       "      <th></th>\n",
       "      <th>HTempLH</th>\n",
       "      <th>HTempRH</th>\n",
       "      <th>TemTempRH</th>\n",
       "      <th>TemTempLH</th>\n",
       "      <th>TimeStamp</th>\n",
       "    </tr>\n",
       "  </thead>\n",
       "  <tbody>\n",
       "    <tr>\n",
       "      <th>15193971</th>\n",
       "      <td>254.947922</td>\n",
       "      <td>268.417236</td>\n",
       "      <td>250.000000</td>\n",
       "      <td>250.000000</td>\n",
       "      <td>2024-01-08 11:59:53.403</td>\n",
       "    </tr>\n",
       "    <tr>\n",
       "      <th>15193972</th>\n",
       "      <td>399.262146</td>\n",
       "      <td>461.111084</td>\n",
       "      <td>250.000000</td>\n",
       "      <td>250.000000</td>\n",
       "      <td>2024-01-08 11:59:54.403</td>\n",
       "    </tr>\n",
       "    <tr>\n",
       "      <th>15193973</th>\n",
       "      <td>557.045715</td>\n",
       "      <td>599.927612</td>\n",
       "      <td>260.170715</td>\n",
       "      <td>250.000000</td>\n",
       "      <td>2024-01-08 11:59:55.403</td>\n",
       "    </tr>\n",
       "    <tr>\n",
       "      <th>15193974</th>\n",
       "      <td>632.638916</td>\n",
       "      <td>657.653381</td>\n",
       "      <td>372.873260</td>\n",
       "      <td>364.351837</td>\n",
       "      <td>2024-01-08 11:59:56.403</td>\n",
       "    </tr>\n",
       "    <tr>\n",
       "      <th>15193975</th>\n",
       "      <td>703.009277</td>\n",
       "      <td>746.166077</td>\n",
       "      <td>404.210083</td>\n",
       "      <td>409.707764</td>\n",
       "      <td>2024-01-08 11:59:57.403</td>\n",
       "    </tr>\n",
       "  </tbody>\n",
       "</table>\n",
       "</div>"
      ],
      "text/plain": [
       "             HTempLH     HTempRH   TemTempRH   TemTempLH  \\\n",
       "15193971  254.947922  268.417236  250.000000  250.000000   \n",
       "15193972  399.262146  461.111084  250.000000  250.000000   \n",
       "15193973  557.045715  599.927612  260.170715  250.000000   \n",
       "15193974  632.638916  657.653381  372.873260  364.351837   \n",
       "15193975  703.009277  746.166077  404.210083  409.707764   \n",
       "\n",
       "                       TimeStamp  \n",
       "15193971 2024-01-08 11:59:53.403  \n",
       "15193972 2024-01-08 11:59:54.403  \n",
       "15193973 2024-01-08 11:59:55.403  \n",
       "15193974 2024-01-08 11:59:56.403  \n",
       "15193975 2024-01-08 11:59:57.403  "
      ]
     },
     "execution_count": 4,
     "metadata": {},
     "output_type": "execute_result"
    }
   ],
   "source": [
    "import pandas as pd\n",
    "import pyodbc\n",
    "import warnings\n",
    "import datetime\n",
    "\n",
    "cnxn = pyodbc.connect(\"Driver={SQL Server Native Client 11.0};\"\n",
    "                        \"Server=na0vm00024.apac.bosch.com;\"\n",
    "                        \"Database=DB_MFC2DB_SQL;\"\n",
    "                        \"Trusted_Connection=yes;\")\n",
    "\n",
    "# sql = f\"SELECT [HTempLH] , [HTempRH] , [TemTempRH], [TemTempLH], [TimeStamp], CAST([TimeStamp] AS DATE) AS date FROM [EFD2] WHERE CAST([TimeStamp] AS DATE) = '2023-09-14' ORDER BY [TimeStamp] ASC\"\n",
    "\n",
    "sql = f\" SELECT [HTempLH] ,[HTempRH],[TemTempRH], [TemTempLH], [TimeStamp] FROM [EFD2] WHERE Timestamp BETWEEN '2023-06-01T00:00:00' AND '2024-01-08T11:59:58' ORDER BY 'TimeStamp'\"\n",
    "df = pd.read_sql_query(sql, cnxn, parse_dates=True)\n",
    "cursor = cnxn.cursor()\n",
    "cursor.execute(sql)\n",
    "\n",
    "# df.tail()\n"
   ]
  },
  {
   "cell_type": "code",
   "execution_count": null,
   "id": "c1e81121",
   "metadata": {},
   "outputs": [],
   "source": []
  }
 ],
 "metadata": {
  "kernelspec": {
   "display_name": "Python 3 (ipykernel)",
   "language": "python",
   "name": "python3"
  },
  "language_info": {
   "codemirror_mode": {
    "name": "ipython",
    "version": 3
   },
   "file_extension": ".py",
   "mimetype": "text/x-python",
   "name": "python",
   "nbconvert_exporter": "python",
   "pygments_lexer": "ipython3",
   "version": "3.9.7"
  }
 },
 "nbformat": 4,
 "nbformat_minor": 5
}
