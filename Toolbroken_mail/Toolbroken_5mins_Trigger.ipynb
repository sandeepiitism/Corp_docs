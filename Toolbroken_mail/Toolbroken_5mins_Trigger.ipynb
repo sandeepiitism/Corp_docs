{
 "cells": [
  {
   "cell_type": "code",
   "execution_count": 2,
   "id": "8b74ba33",
   "metadata": {},
   "outputs": [],
   "source": [
    "import pandas as pd\n",
    "from prophet import Prophet\n",
    "import pyodbc\n",
    "import datetime\n",
    "import warnings\n",
    "\n",
    "warnings.filterwarnings(\"ignore\")"
   ]
  },
  {
   "cell_type": "code",
   "execution_count": 3,
   "id": "ff773a06",
   "metadata": {},
   "outputs": [],
   "source": [
    "import pyodbc\n",
    "cnxn = pyodbc.connect(\"Driver={SQL Server Native Client 11.0};\"\n",
    "                        \"Server=na0vm00024.apac.bosch.com;\"\n",
    "                        \"Database=DB_MFC2DB_SQL;\"\n",
    "                        \"Trusted_Connection=yes;\")"
   ]
  },
  {
   "cell_type": "code",
   "execution_count": 10,
   "id": "86eec827",
   "metadata": {},
   "outputs": [
    {
     "data": {
      "text/html": [
       "<div>\n",
       "<style scoped>\n",
       "    .dataframe tbody tr th:only-of-type {\n",
       "        vertical-align: middle;\n",
       "    }\n",
       "\n",
       "    .dataframe tbody tr th {\n",
       "        vertical-align: top;\n",
       "    }\n",
       "\n",
       "    .dataframe thead th {\n",
       "        text-align: right;\n",
       "    }\n",
       "</style>\n",
       "<table border=\"1\" class=\"dataframe\">\n",
       "  <thead>\n",
       "    <tr style=\"text-align: right;\">\n",
       "      <th></th>\n",
       "      <th>CoolantPr</th>\n",
       "      <th>ToolBroken</th>\n",
       "      <th>TimeStamp</th>\n",
       "      <th>dz</th>\n",
       "    </tr>\n",
       "  </thead>\n",
       "  <tbody>\n",
       "  </tbody>\n",
       "</table>\n",
       "</div>"
      ],
      "text/plain": [
       "Empty DataFrame\n",
       "Columns: [CoolantPr, ToolBroken, TimeStamp, dz]\n",
       "Index: []"
      ]
     },
     "execution_count": 10,
     "metadata": {},
     "output_type": "execute_result"
    }
   ],
   "source": [
    "sql = \"\"\"SELECT [CoolantPr], [ToolBroken], [TimeStamp], 'dz1' AS dz\n",
    "         FROM [ChironDZ1]\n",
    "         WHERE [TimeStamp] >= DATEADD(MINUTE, -600, GETDATE()) \n",
    "         AND [ToolBroken] = 1\n",
    "         AND [ProgRun] = 1\n",
    "\n",
    "         UNION\n",
    "\n",
    "         SELECT [CoolantPr], [ToolBroken], [TimeStamp], 'dz2' AS dz\n",
    "         FROM [ChironDZ2]\n",
    "         WHERE [TimeStamp] >= DATEADD(MINUTE, -600, GETDATE()) \n",
    "         AND [ToolBroken] = 1\n",
    "         AND [ProgRun] = 1\n",
    "         \n",
    "         UNION\n",
    "\n",
    "         SELECT [CoolantPr], [ToolBroken], [TimeStamp], 'dz3' AS dz\n",
    "         FROM [ChironDZ3]\n",
    "         WHERE [TimeStamp] >= DATEADD(MINUTE, -600, GETDATE()) \n",
    "         AND [ToolBroken] = 1\n",
    "         AND [ProgRun] = 1\n",
    "         \n",
    "         UNION\n",
    "\n",
    "         SELECT [CoolantPr], [ToolBroken], [TimeStamp], 'dz4' AS dz\n",
    "         FROM [ChironDZ4]\n",
    "         WHERE [TimeStamp] >= DATEADD(MINUTE, -600, GETDATE()) \n",
    "         AND [ToolBroken] = 1\n",
    "         AND [ProgRun] = 1\n",
    "         \n",
    "         UNION\n",
    "\n",
    "         SELECT [CoolantPr], [ToolBroken], [TimeStamp], 'dz6' AS dz\n",
    "         FROM [ChironDZ6]\n",
    "         WHERE [TimeStamp] >= DATEADD(MINUTE, -600, GETDATE()) \n",
    "         AND [ToolBroken] = 1\n",
    "         AND [ProgRun] = 1\n",
    "         \n",
    "         UNION\n",
    "\n",
    "         SELECT [CoolantPr], [ToolBroken], [TimeStamp], 'dz7' AS dz\n",
    "         FROM [ChironDZ7]\n",
    "         WHERE [TimeStamp] >= DATEADD(MINUTE, -600, GETDATE()) \n",
    "         AND [ToolBroken] = 1\n",
    "         AND [ProgRun] = 1\n",
    "         \n",
    "         UNION\n",
    "\n",
    "         SELECT [CoolantPr], [ToolBroken], [TimeStamp], 'dz8' AS dz\n",
    "         FROM [ChironDZ8]\n",
    "         WHERE [TimeStamp] >= DATEADD(MINUTE, -600, GETDATE()) \n",
    "         AND [ToolBroken] = 1\n",
    "         AND [ProgRun] = 1\n",
    "         \n",
    "         UNION\n",
    "\n",
    "         SELECT [CoolantPr], [ToolBroken], [TimeStamp], 'dz9' AS dz\n",
    "         FROM [ChironDZ9_1]\n",
    "         WHERE [TimeStamp] >= DATEADD(MINUTE, -600, GETDATE()) \n",
    "         AND [ToolBroken] = 1\n",
    "         AND [ProgRun] = 1\n",
    "         \n",
    "         \n",
    "         ORDER BY [TimeStamp] ASC\"\"\" \n",
    "\n",
    "df_mail = pd.read_sql_query(sql, cnxn, parse_dates=True)\n",
    "df_mail.head()"
   ]
  },
  {
   "cell_type": "code",
   "execution_count": 9,
   "id": "c96cdd21",
   "metadata": {},
   "outputs": [
    {
     "data": {
      "text/plain": [
       "array(['dz4', 'dz2'], dtype=object)"
      ]
     },
     "execution_count": 9,
     "metadata": {},
     "output_type": "execute_result"
    }
   ],
   "source": [
    "df_mail[\"dz\"].unique()"
   ]
  },
  {
   "cell_type": "markdown",
   "id": "e92b1255",
   "metadata": {},
   "source": [
    "### short sql"
   ]
  },
  {
   "cell_type": "code",
   "execution_count": 7,
   "id": "e1439168",
   "metadata": {},
   "outputs": [
    {
     "data": {
      "text/html": [
       "<div>\n",
       "<style scoped>\n",
       "    .dataframe tbody tr th:only-of-type {\n",
       "        vertical-align: middle;\n",
       "    }\n",
       "\n",
       "    .dataframe tbody tr th {\n",
       "        vertical-align: top;\n",
       "    }\n",
       "\n",
       "    .dataframe thead th {\n",
       "        text-align: right;\n",
       "    }\n",
       "</style>\n",
       "<table border=\"1\" class=\"dataframe\">\n",
       "  <thead>\n",
       "    <tr style=\"text-align: right;\">\n",
       "      <th></th>\n",
       "      <th>CoolantPr</th>\n",
       "      <th>ToolBroken</th>\n",
       "      <th>TimeStamp</th>\n",
       "      <th>dz</th>\n",
       "    </tr>\n",
       "  </thead>\n",
       "  <tbody>\n",
       "    <tr>\n",
       "      <th>162</th>\n",
       "      <td>1.655629</td>\n",
       "      <td>False</td>\n",
       "      <td>2024-04-08 15:28:08.373</td>\n",
       "      <td>dz4</td>\n",
       "    </tr>\n",
       "    <tr>\n",
       "      <th>163</th>\n",
       "      <td>73.404650</td>\n",
       "      <td>False</td>\n",
       "      <td>2024-04-08 15:28:09.607</td>\n",
       "      <td>dz2</td>\n",
       "    </tr>\n",
       "    <tr>\n",
       "      <th>164</th>\n",
       "      <td>1.564074</td>\n",
       "      <td>False</td>\n",
       "      <td>2024-04-08 15:28:13.280</td>\n",
       "      <td>dz4</td>\n",
       "    </tr>\n",
       "    <tr>\n",
       "      <th>165</th>\n",
       "      <td>64.882350</td>\n",
       "      <td>False</td>\n",
       "      <td>2024-04-08 15:28:17.123</td>\n",
       "      <td>dz2</td>\n",
       "    </tr>\n",
       "    <tr>\n",
       "      <th>166</th>\n",
       "      <td>20.729700</td>\n",
       "      <td>False</td>\n",
       "      <td>2024-04-08 15:28:18.170</td>\n",
       "      <td>dz4</td>\n",
       "    </tr>\n",
       "  </tbody>\n",
       "</table>\n",
       "</div>"
      ],
      "text/plain": [
       "     CoolantPr  ToolBroken               TimeStamp   dz\n",
       "162   1.655629       False 2024-04-08 15:28:08.373  dz4\n",
       "163  73.404650       False 2024-04-08 15:28:09.607  dz2\n",
       "164   1.564074       False 2024-04-08 15:28:13.280  dz4\n",
       "165  64.882350       False 2024-04-08 15:28:17.123  dz2\n",
       "166  20.729700       False 2024-04-08 15:28:18.170  dz4"
      ]
     },
     "execution_count": 7,
     "metadata": {},
     "output_type": "execute_result"
    }
   ],
   "source": [
    "df_mail.tail()"
   ]
  },
  {
   "cell_type": "code",
   "execution_count": null,
   "id": "0213a95f",
   "metadata": {},
   "outputs": [],
   "source": []
  },
  {
   "cell_type": "code",
   "execution_count": null,
   "id": "97c88676",
   "metadata": {},
   "outputs": [],
   "source": []
  },
  {
   "cell_type": "code",
   "execution_count": 13,
   "id": "0987fcec",
   "metadata": {},
   "outputs": [
    {
     "data": {
      "text/html": [
       "<div>\n",
       "<style scoped>\n",
       "    .dataframe tbody tr th:only-of-type {\n",
       "        vertical-align: middle;\n",
       "    }\n",
       "\n",
       "    .dataframe tbody tr th {\n",
       "        vertical-align: top;\n",
       "    }\n",
       "\n",
       "    .dataframe thead th {\n",
       "        text-align: right;\n",
       "    }\n",
       "</style>\n",
       "<table border=\"1\" class=\"dataframe\">\n",
       "  <thead>\n",
       "    <tr style=\"text-align: right;\">\n",
       "      <th></th>\n",
       "      <th>CoolantPr</th>\n",
       "      <th>ToolBroken</th>\n",
       "      <th>TimeStamp</th>\n",
       "      <th>dz</th>\n",
       "    </tr>\n",
       "  </thead>\n",
       "  <tbody>\n",
       "  </tbody>\n",
       "</table>\n",
       "</div>"
      ],
      "text/plain": [
       "Empty DataFrame\n",
       "Columns: [CoolantPr, ToolBroken, TimeStamp, dz]\n",
       "Index: []"
      ]
     },
     "execution_count": 13,
     "metadata": {},
     "output_type": "execute_result"
    }
   ],
   "source": [
    "sql = \"\"\"SELECT [CoolantPr], [ToolBroken], [TimeStamp], 'dz1' AS dz\n",
    "         FROM [ChironDZ1]\n",
    "         WHERE [TimeStamp] >= DATEADD(MINUTE, -600, GETDATE()) \n",
    "         AND [ToolBroken] = 0\n",
    "         AND [ProgRun] = 1\n",
    "        ORDER BY [TimeStamp] ASC\"\"\" \n",
    "\n",
    "df_test = pd.read_sql_query(sql, cnxn, parse_dates=True)\n",
    "df_test.head()"
   ]
  },
  {
   "cell_type": "code",
   "execution_count": null,
   "id": "bce5d027",
   "metadata": {},
   "outputs": [],
   "source": []
  }
 ],
 "metadata": {
  "kernelspec": {
   "display_name": "Python 3 (ipykernel)",
   "language": "python",
   "name": "python3"
  },
  "language_info": {
   "codemirror_mode": {
    "name": "ipython",
    "version": 3
   },
   "file_extension": ".py",
   "mimetype": "text/x-python",
   "name": "python",
   "nbconvert_exporter": "python",
   "pygments_lexer": "ipython3",
   "version": "3.9.7"
  }
 },
 "nbformat": 4,
 "nbformat_minor": 5
}
