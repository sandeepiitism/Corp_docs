{
 "cells": [
  {
   "cell_type": "markdown",
   "id": "69e45ec0",
   "metadata": {},
   "source": [
    "# Python Data structure storage"
   ]
  },
  {
   "cell_type": "markdown",
   "id": "406060b0",
   "metadata": {},
   "source": [
    "### List"
   ]
  },
  {
   "cell_type": "code",
   "execution_count": 1,
   "id": "2685d1e3",
   "metadata": {},
   "outputs": [
    {
     "data": {
      "text/plain": [
       "list"
      ]
     },
     "execution_count": 1,
     "metadata": {},
     "output_type": "execute_result"
    }
   ],
   "source": [
    "l = []\n",
    "type (l)"
   ]
  },
  {
   "cell_type": "code",
   "execution_count": 2,
   "id": "434974a7",
   "metadata": {},
   "outputs": [
    {
     "data": {
      "text/plain": [
       "[1, 2, 3, 4, 'sandeep', 'chowdhury', (3+3j), 33.543, False]"
      ]
     },
     "execution_count": 2,
     "metadata": {},
     "output_type": "execute_result"
    }
   ],
   "source": [
    "l1 = [1,2,3,4,\"sandeep\", \"chowdhury\", 3+3j, 33.543, False]  ### In a list you can store any datatypes\n",
    "l1"
   ]
  },
  {
   "cell_type": "code",
   "execution_count": 3,
   "id": "2fdcc266",
   "metadata": {},
   "outputs": [
    {
     "name": "stdout",
     "output_type": "stream",
     "text": [
      "[1, 2, 3, 4, 'sandeep', 'chowdhury', (3+3j), 33.543, False]\n"
     ]
    }
   ],
   "source": [
    "print(l1)"
   ]
  },
  {
   "cell_type": "code",
   "execution_count": 4,
   "id": "f5f0a99e",
   "metadata": {},
   "outputs": [
    {
     "data": {
      "text/plain": [
       "[1, 2, 3, 4, 'sandeep', 'chowdhury', (3+3j), 33.543, False, [7, 6, 5, 4]]"
      ]
     },
     "execution_count": 4,
     "metadata": {},
     "output_type": "execute_result"
    }
   ],
   "source": [
    "### keeping list inside a list\n",
    "l2 = [1,2,3,4,\"sandeep\", \"chowdhury\", 3+3j, 33.543, False, [7,6,5,4]]\n",
    "l2"
   ]
  },
  {
   "cell_type": "markdown",
   "id": "d3c7ac9f",
   "metadata": {},
   "source": [
    "### indexing and slicing in a list"
   ]
  },
  {
   "cell_type": "code",
   "execution_count": 5,
   "id": "f6ca7a94",
   "metadata": {},
   "outputs": [
    {
     "data": {
      "text/plain": [
       "[1, 2, 3, 4]"
      ]
     },
     "execution_count": 5,
     "metadata": {},
     "output_type": "execute_result"
    }
   ],
   "source": [
    "l2[0:4]"
   ]
  },
  {
   "cell_type": "code",
   "execution_count": 11,
   "id": "9b00cf73",
   "metadata": {},
   "outputs": [
    {
     "data": {
      "text/plain": [
       "10"
      ]
     },
     "execution_count": 11,
     "metadata": {},
     "output_type": "execute_result"
    }
   ],
   "source": [
    "len(l2)"
   ]
  },
  {
   "cell_type": "code",
   "execution_count": 10,
   "id": "50e794c3",
   "metadata": {},
   "outputs": [
    {
     "data": {
      "text/plain": [
       "[[7, 6, 5, 4]]"
      ]
     },
     "execution_count": 10,
     "metadata": {},
     "output_type": "execute_result"
    }
   ],
   "source": [
    "l2[9:10]  ### list inside a list is also 1 index"
   ]
  },
  {
   "cell_type": "code",
   "execution_count": 12,
   "id": "73fdb4ea",
   "metadata": {},
   "outputs": [
    {
     "data": {
      "text/plain": [
       "[7, 6, 5, 4]"
      ]
     },
     "execution_count": 12,
     "metadata": {},
     "output_type": "execute_result"
    }
   ],
   "source": [
    "l2[-1]  ### same list reversing it"
   ]
  },
  {
   "cell_type": "code",
   "execution_count": 13,
   "id": "9a586c63",
   "metadata": {},
   "outputs": [
    {
     "data": {
      "text/plain": [
       "4"
      ]
     },
     "execution_count": 13,
     "metadata": {},
     "output_type": "execute_result"
    }
   ],
   "source": [
    "### suppose wants to extract the last element of list inside another list [7,6,5,4] --> 0,1,2,3\n",
    "\n",
    "l2[-1][3]"
   ]
  },
  {
   "cell_type": "code",
   "execution_count": 14,
   "id": "c7eeddd4",
   "metadata": {},
   "outputs": [
    {
     "data": {
      "text/plain": [
       "[1,\n",
       " 2,\n",
       " 3,\n",
       " 4,\n",
       " 'sandeep',\n",
       " 'chowdhury',\n",
       " (3+3j),\n",
       " 33.543,\n",
       " False,\n",
       " [7, 6, 5, 4],\n",
       " 9,\n",
       " 99,\n",
       " 999,\n",
       " 'sandeep',\n",
       " 'python']"
      ]
     },
     "execution_count": 14,
     "metadata": {},
     "output_type": "execute_result"
    }
   ],
   "source": [
    "### list concatenation\n",
    "\n",
    "l3 = [9,99,999, \"sandeep\", \"python\"]\n",
    "\n",
    "l2+l3"
   ]
  },
  {
   "cell_type": "code",
   "execution_count": 15,
   "id": "00f21ec3",
   "metadata": {},
   "outputs": [
    {
     "name": "stdout",
     "output_type": "stream",
     "text": [
      "[1, 2, 3, 4, 'sandeep', 'chowdhury', (3+3j), 33.543, False, [7, 6, 5, 4], 9, 99, 999, 'sandeep', 'python']\n"
     ]
    }
   ],
   "source": [
    "print(l2+l3)  ### print helps to show output"
   ]
  },
  {
   "cell_type": "code",
   "execution_count": 16,
   "id": "d499b0f3",
   "metadata": {},
   "outputs": [
    {
     "ename": "TypeError",
     "evalue": "can only concatenate list (not \"str\") to list",
     "output_type": "error",
     "traceback": [
      "\u001b[1;31m---------------------------------------------------------------------------\u001b[0m",
      "\u001b[1;31mTypeError\u001b[0m                                 Traceback (most recent call last)",
      "\u001b[1;32m~\\AppData\\Local\\Temp/ipykernel_21360/2285992336.py\u001b[0m in \u001b[0;36m<module>\u001b[1;34m\u001b[0m\n\u001b[0;32m      1\u001b[0m \u001b[1;31m### list with any other format will not work\u001b[0m\u001b[1;33m\u001b[0m\u001b[1;33m\u001b[0m\u001b[0m\n\u001b[0;32m      2\u001b[0m \u001b[1;33m\u001b[0m\u001b[0m\n\u001b[1;32m----> 3\u001b[1;33m \u001b[0ml3\u001b[0m\u001b[1;33m+\u001b[0m\u001b[1;34m\"chowdhury\"\u001b[0m\u001b[1;33m\u001b[0m\u001b[1;33m\u001b[0m\u001b[0m\n\u001b[0m",
      "\u001b[1;31mTypeError\u001b[0m: can only concatenate list (not \"str\") to list"
     ]
    }
   ],
   "source": [
    "### list with any other format will not work\n",
    "\n",
    "l3+\"chowdhury\""
   ]
  },
  {
   "cell_type": "code",
   "execution_count": 17,
   "id": "7835644a",
   "metadata": {},
   "outputs": [
    {
     "data": {
      "text/plain": [
       "['s', 'a', 'n', 'd', 'e', 'e', 'p']"
      ]
     },
     "execution_count": 17,
     "metadata": {},
     "output_type": "execute_result"
    }
   ],
   "source": [
    "### if list is used for string it breaks it into letters\n",
    "\n",
    "list(\"sandeep\")\n"
   ]
  },
  {
   "cell_type": "code",
   "execution_count": 18,
   "id": "71778451",
   "metadata": {},
   "outputs": [
    {
     "data": {
      "text/plain": [
       "['h',\n",
       " 'e',\n",
       " 'l',\n",
       " 'l',\n",
       " 'o',\n",
       " ' ',\n",
       " 'w',\n",
       " 'o',\n",
       " 'r',\n",
       " 'l',\n",
       " 'd',\n",
       " ' ',\n",
       " 't',\n",
       " 'h',\n",
       " 'i',\n",
       " 's',\n",
       " ' ',\n",
       " 'i',\n",
       " 's',\n",
       " ' ',\n",
       " 's',\n",
       " 'a',\n",
       " 'n',\n",
       " 'd',\n",
       " 'e',\n",
       " 'e',\n",
       " 'p']"
      ]
     },
     "execution_count": 18,
     "metadata": {},
     "output_type": "execute_result"
    }
   ],
   "source": [
    "list(\"hello world this is sandeep\")"
   ]
  },
  {
   "cell_type": "code",
   "execution_count": 19,
   "id": "2dde66f6",
   "metadata": {},
   "outputs": [
    {
     "ename": "TypeError",
     "evalue": "'int' object is not iterable",
     "output_type": "error",
     "traceback": [
      "\u001b[1;31m---------------------------------------------------------------------------\u001b[0m",
      "\u001b[1;31mTypeError\u001b[0m                                 Traceback (most recent call last)",
      "\u001b[1;32m~\\AppData\\Local\\Temp/ipykernel_21360/2226708014.py\u001b[0m in \u001b[0;36m<module>\u001b[1;34m\u001b[0m\n\u001b[0;32m      1\u001b[0m \u001b[1;31m### numbers inside a list is not possible\u001b[0m\u001b[1;33m\u001b[0m\u001b[1;33m\u001b[0m\u001b[0m\n\u001b[0;32m      2\u001b[0m \u001b[1;33m\u001b[0m\u001b[0m\n\u001b[1;32m----> 3\u001b[1;33m \u001b[0mlist\u001b[0m\u001b[1;33m(\u001b[0m\u001b[1;36m333\u001b[0m\u001b[1;33m)\u001b[0m\u001b[1;33m\u001b[0m\u001b[1;33m\u001b[0m\u001b[0m\n\u001b[0m",
      "\u001b[1;31mTypeError\u001b[0m: 'int' object is not iterable"
     ]
    }
   ],
   "source": [
    "### numbers inside a list is not possible  ---> TypeError will explain later\n",
    "\n",
    "list(333)"
   ]
  },
  {
   "cell_type": "code",
   "execution_count": 24,
   "id": "8547ae78",
   "metadata": {},
   "outputs": [
    {
     "data": {
      "text/plain": [
       "['sandeep', 333]"
      ]
     },
     "execution_count": 24,
     "metadata": {},
     "output_type": "execute_result"
    }
   ],
   "source": [
    "### so list is declared inside a square bracket to store any datatype but not list function directly\n",
    "\n",
    "l4 = [\"sandeep\", 333]\n",
    "l4"
   ]
  },
  {
   "cell_type": "code",
   "execution_count": 25,
   "id": "edac7442",
   "metadata": {},
   "outputs": [
    {
     "data": {
      "text/plain": [
       "['sandeep', 333, 'sandeep', 333, 'sandeep', 333]"
      ]
     },
     "execution_count": 25,
     "metadata": {},
     "output_type": "execute_result"
    }
   ],
   "source": [
    "### list an repeat\n",
    "\n",
    "l4*3"
   ]
  },
  {
   "cell_type": "markdown",
   "id": "71b9deee",
   "metadata": {},
   "source": [
    "#### list is a mutable entity"
   ]
  },
  {
   "cell_type": "code",
   "execution_count": 26,
   "id": "032c80d8",
   "metadata": {},
   "outputs": [
    {
     "data": {
      "text/plain": [
       "1"
      ]
     },
     "execution_count": 26,
     "metadata": {},
     "output_type": "execute_result"
    }
   ],
   "source": [
    "### data can be changed/modified inside a list\n",
    "l5 = [1,2,3,\"sandeep\",\"python\"]\n",
    "l5[0]"
   ]
  },
  {
   "cell_type": "code",
   "execution_count": 27,
   "id": "9607f039",
   "metadata": {},
   "outputs": [
    {
     "data": {
      "text/plain": [
       "'sandeep'"
      ]
     },
     "execution_count": 27,
     "metadata": {},
     "output_type": "execute_result"
    }
   ],
   "source": [
    "l5[3]"
   ]
  },
  {
   "cell_type": "code",
   "execution_count": 29,
   "id": "db9bbf2c",
   "metadata": {},
   "outputs": [
    {
     "data": {
      "text/plain": [
       "[1, 2, 3, 'chowdhury', 'python']"
      ]
     },
     "execution_count": 29,
     "metadata": {},
     "output_type": "execute_result"
    }
   ],
   "source": [
    "l5[3]=\"chowdhury\"\n",
    "l5"
   ]
  },
  {
   "cell_type": "markdown",
   "id": "c5b8b082",
   "metadata": {},
   "source": [
    "### Tuple"
   ]
  },
  {
   "cell_type": "code",
   "execution_count": 30,
   "id": "df4880b2",
   "metadata": {},
   "outputs": [
    {
     "data": {
      "text/plain": [
       "tuple"
      ]
     },
     "execution_count": 30,
     "metadata": {},
     "output_type": "execute_result"
    }
   ],
   "source": [
    "t = ()\n",
    "type(t)"
   ]
  },
  {
   "cell_type": "code",
   "execution_count": 31,
   "id": "483b261f",
   "metadata": {},
   "outputs": [
    {
     "data": {
      "text/plain": [
       "(1, 2, 3, 'sandeep', 'python')"
      ]
     },
     "execution_count": 31,
     "metadata": {},
     "output_type": "execute_result"
    }
   ],
   "source": [
    "t = (1,2,3,\"sandeep\", \"python\")\n",
    "t"
   ]
  },
  {
   "cell_type": "code",
   "execution_count": 33,
   "id": "c5952a61",
   "metadata": {},
   "outputs": [
    {
     "data": {
      "text/plain": [
       "'python'"
      ]
     },
     "execution_count": 33,
     "metadata": {},
     "output_type": "execute_result"
    }
   ],
   "source": [
    "t[-1]"
   ]
  },
  {
   "cell_type": "code",
   "execution_count": 34,
   "id": "7b6f6a6d",
   "metadata": {},
   "outputs": [
    {
     "data": {
      "text/plain": [
       "5"
      ]
     },
     "execution_count": 34,
     "metadata": {},
     "output_type": "execute_result"
    }
   ],
   "source": [
    "len(t)"
   ]
  },
  {
   "cell_type": "code",
   "execution_count": 35,
   "id": "a322c563",
   "metadata": {},
   "outputs": [
    {
     "data": {
      "text/plain": [
       "(3, 'sandeep')"
      ]
     },
     "execution_count": 35,
     "metadata": {},
     "output_type": "execute_result"
    }
   ],
   "source": [
    "t[2:4]"
   ]
  },
  {
   "cell_type": "code",
   "execution_count": 36,
   "id": "18f5fea7",
   "metadata": {},
   "outputs": [
    {
     "data": {
      "text/plain": [
       "(1, 2, 3, 4, 'sandeep', 'chowdhury', (3+3j), 33.543, False, (7, 6, 5, 4))"
      ]
     },
     "execution_count": 36,
     "metadata": {},
     "output_type": "execute_result"
    }
   ],
   "source": [
    "### in tuple also you can store any data types\n",
    "t1= (1,2,3,4,\"sandeep\", \"chowdhury\", 3+3j, 33.543, False, (7,6,5,4))\n",
    "t1"
   ]
  },
  {
   "cell_type": "code",
   "execution_count": 37,
   "id": "05350ab9",
   "metadata": {},
   "outputs": [
    {
     "data": {
      "text/plain": [
       "(7, 6, 5, 4)"
      ]
     },
     "execution_count": 37,
     "metadata": {},
     "output_type": "execute_result"
    }
   ],
   "source": [
    "t1[-1]"
   ]
  },
  {
   "cell_type": "code",
   "execution_count": 38,
   "id": "ec8846e7",
   "metadata": {},
   "outputs": [
    {
     "data": {
      "text/plain": [
       "4"
      ]
     },
     "execution_count": 38,
     "metadata": {},
     "output_type": "execute_result"
    }
   ],
   "source": [
    "t1[-1][-1]"
   ]
  },
  {
   "cell_type": "code",
   "execution_count": 39,
   "id": "462eb635",
   "metadata": {},
   "outputs": [
    {
     "data": {
      "text/plain": [
       "(1, 2, 3, 4, 'sandeep', 'chowdhury', (3+3j), 33.543, False, [7, 6, 5, 4])"
      ]
     },
     "execution_count": 39,
     "metadata": {},
     "output_type": "execute_result"
    }
   ],
   "source": [
    "### list inside a tuple\n",
    "\n",
    "t2= (1,2,3,4,\"sandeep\", \"chowdhury\", 3+3j, 33.543, False, [7,6,5,4])\n",
    "t2"
   ]
  },
  {
   "cell_type": "code",
   "execution_count": 40,
   "id": "94ec3bf3",
   "metadata": {},
   "outputs": [
    {
     "data": {
      "text/plain": [
       "[7, 6, 5, 4]"
      ]
     },
     "execution_count": 40,
     "metadata": {},
     "output_type": "execute_result"
    }
   ],
   "source": [
    "t2[-1]"
   ]
  },
  {
   "cell_type": "code",
   "execution_count": 41,
   "id": "ad7b6ad0",
   "metadata": {},
   "outputs": [
    {
     "data": {
      "text/plain": [
       "5"
      ]
     },
     "execution_count": 41,
     "metadata": {},
     "output_type": "execute_result"
    }
   ],
   "source": [
    "t2[-1][2]"
   ]
  },
  {
   "cell_type": "markdown",
   "id": "67d820ec",
   "metadata": {},
   "source": [
    "#### Tuple is Immutable"
   ]
  },
  {
   "cell_type": "code",
   "execution_count": 42,
   "id": "4c745545",
   "metadata": {},
   "outputs": [
    {
     "data": {
      "text/plain": [
       "'sandeep'"
      ]
     },
     "execution_count": 42,
     "metadata": {},
     "output_type": "execute_result"
    }
   ],
   "source": [
    "### In tupple you cannot modify or change the data\n",
    "t3 = (\"sandeep\", 637638, 99.999)\n",
    "t3[0]"
   ]
  },
  {
   "cell_type": "code",
   "execution_count": 43,
   "id": "b4e5365c",
   "metadata": {},
   "outputs": [
    {
     "ename": "TypeError",
     "evalue": "'tuple' object does not support item assignment",
     "output_type": "error",
     "traceback": [
      "\u001b[1;31m---------------------------------------------------------------------------\u001b[0m",
      "\u001b[1;31mTypeError\u001b[0m                                 Traceback (most recent call last)",
      "\u001b[1;32m~\\AppData\\Local\\Temp/ipykernel_21360/3269709836.py\u001b[0m in \u001b[0;36m<module>\u001b[1;34m\u001b[0m\n\u001b[1;32m----> 1\u001b[1;33m \u001b[0mt3\u001b[0m\u001b[1;33m[\u001b[0m\u001b[1;36m0\u001b[0m\u001b[1;33m]\u001b[0m\u001b[1;33m=\u001b[0m\u001b[1;34m\"chowdhury\"\u001b[0m\u001b[1;33m\u001b[0m\u001b[1;33m\u001b[0m\u001b[0m\n\u001b[0m",
      "\u001b[1;31mTypeError\u001b[0m: 'tuple' object does not support item assignment"
     ]
    }
   ],
   "source": [
    "t3[0]=\"chowdhury\""
   ]
  },
  {
   "cell_type": "code",
   "execution_count": 44,
   "id": "eb43482e",
   "metadata": {},
   "outputs": [
    {
     "data": {
      "text/plain": [
       "(1, 2, 3, 'sandeep', 'python', 'chowdhury', (3+3j), 77.77)"
      ]
     },
     "execution_count": 44,
     "metadata": {},
     "output_type": "execute_result"
    }
   ],
   "source": [
    "### concatenation among the tuple are possible\n",
    "t4 = (1,2,3,\"sandeep\", \"python\")\n",
    "t5 = (\"chowdhury\", 3+3j, 77.77)\n",
    "\n",
    "t4+t5"
   ]
  },
  {
   "cell_type": "code",
   "execution_count": 45,
   "id": "6fc47e47",
   "metadata": {},
   "outputs": [
    {
     "ename": "TypeError",
     "evalue": "can only concatenate tuple (not \"list\") to tuple",
     "output_type": "error",
     "traceback": [
      "\u001b[1;31m---------------------------------------------------------------------------\u001b[0m",
      "\u001b[1;31mTypeError\u001b[0m                                 Traceback (most recent call last)",
      "\u001b[1;32m~\\AppData\\Local\\Temp/ipykernel_21360/3127094954.py\u001b[0m in \u001b[0;36m<module>\u001b[1;34m\u001b[0m\n\u001b[0;32m      2\u001b[0m \u001b[0ml7\u001b[0m \u001b[1;33m=\u001b[0m \u001b[1;33m[\u001b[0m\u001b[1;36m7\u001b[0m\u001b[1;33m,\u001b[0m\u001b[1;36m6\u001b[0m\u001b[1;33m,\u001b[0m\u001b[1;36m5\u001b[0m\u001b[1;33m]\u001b[0m\u001b[1;33m\u001b[0m\u001b[1;33m\u001b[0m\u001b[0m\n\u001b[0;32m      3\u001b[0m \u001b[1;33m\u001b[0m\u001b[0m\n\u001b[1;32m----> 4\u001b[1;33m \u001b[0mt4\u001b[0m\u001b[1;33m+\u001b[0m\u001b[0ml7\u001b[0m\u001b[1;33m\u001b[0m\u001b[1;33m\u001b[0m\u001b[0m\n\u001b[0m",
      "\u001b[1;31mTypeError\u001b[0m: can only concatenate tuple (not \"list\") to tuple"
     ]
    }
   ],
   "source": [
    "### tuple and list different data types not possible\n",
    "t4 = (1,2,3,\"sandeep\", \"python\")\n",
    "l7 = [7,6,5]\n",
    "\n",
    "t4+l7"
   ]
  },
  {
   "cell_type": "code",
   "execution_count": 46,
   "id": "c5314848",
   "metadata": {},
   "outputs": [
    {
     "data": {
      "text/plain": [
       "('sandeep', 100, 'sandeep', 100, 'sandeep', 100)"
      ]
     },
     "execution_count": 46,
     "metadata": {},
     "output_type": "execute_result"
    }
   ],
   "source": [
    "#### multiplication of data is possible\n",
    "t5 = (\"sandeep\", 100)\n",
    "t5*3"
   ]
  },
  {
   "cell_type": "markdown",
   "id": "81a2a6fd",
   "metadata": {},
   "source": [
    "##### tuple to list conversion is possible"
   ]
  },
  {
   "cell_type": "code",
   "execution_count": 47,
   "id": "d8670825",
   "metadata": {},
   "outputs": [
    {
     "data": {
      "text/plain": [
       "[1, 2, 3, 'sandeep', (5+9j), False]"
      ]
     },
     "execution_count": 47,
     "metadata": {},
     "output_type": "execute_result"
    }
   ],
   "source": [
    "t6 = (1,2,3,\"sandeep\", 5+9j, False)\n",
    "list(t6)"
   ]
  },
  {
   "cell_type": "markdown",
   "id": "d62b589e",
   "metadata": {},
   "source": [
    "##### List to Tuple conversion is possible"
   ]
  },
  {
   "cell_type": "code",
   "execution_count": 49,
   "id": "a68df49d",
   "metadata": {},
   "outputs": [
    {
     "data": {
      "text/plain": [
       "(1, 2, 3, 'sandeep', (5+9j), False)"
      ]
     },
     "execution_count": 49,
     "metadata": {},
     "output_type": "execute_result"
    }
   ],
   "source": [
    "l8 = [1,2,3,\"sandeep\", 5+9j, False]\n",
    "tuple(l8)"
   ]
  },
  {
   "cell_type": "code",
   "execution_count": 48,
   "id": "68f64565",
   "metadata": {},
   "outputs": [
    {
     "data": {
      "text/plain": [
       "(1, 2, 3, 'sandeep', (5+9j), False)"
      ]
     },
     "execution_count": 48,
     "metadata": {},
     "output_type": "execute_result"
    }
   ],
   "source": [
    "tuple(t6)"
   ]
  },
  {
   "cell_type": "code",
   "execution_count": 51,
   "id": "e322296f",
   "metadata": {},
   "outputs": [
    {
     "data": {
      "text/plain": [
       "11"
      ]
     },
     "execution_count": 51,
     "metadata": {},
     "output_type": "execute_result"
    }
   ],
   "source": [
    "t7 = (\"sande    ep\")\n",
    "len(t7)"
   ]
  },
  {
   "cell_type": "markdown",
   "id": "a4ed67a7",
   "metadata": {},
   "source": [
    "### Set"
   ]
  },
  {
   "cell_type": "code",
   "execution_count": 53,
   "id": "500570da",
   "metadata": {},
   "outputs": [
    {
     "data": {
      "text/plain": [
       "set"
      ]
     },
     "execution_count": 53,
     "metadata": {},
     "output_type": "execute_result"
    }
   ],
   "source": [
    "s = {1,2,3,4,4}\n",
    "type(s)"
   ]
  },
  {
   "cell_type": "code",
   "execution_count": 55,
   "id": "57ca6430",
   "metadata": {},
   "outputs": [
    {
     "data": {
      "text/plain": [
       "{1, 2, 3, 4}"
      ]
     },
     "execution_count": 55,
     "metadata": {},
     "output_type": "execute_result"
    }
   ],
   "source": [
    "### 4 is not repeated in set when we print the result\n",
    "s"
   ]
  },
  {
   "cell_type": "markdown",
   "id": "01a87b2f",
   "metadata": {},
   "source": [
    "##### set always remove duplicates"
   ]
  },
  {
   "cell_type": "code",
   "execution_count": 56,
   "id": "32258ac9",
   "metadata": {},
   "outputs": [
    {
     "data": {
      "text/plain": [
       "{1, 2, 3, 4, 'sandeep'}"
      ]
     },
     "execution_count": 56,
     "metadata": {},
     "output_type": "execute_result"
    }
   ],
   "source": [
    "### Note --> it is not doing sorting\n",
    "s1 = {\"sandeep\", \"sandeep\", \"sandeep\", 1,2,3,2,3,1,3,4}\n",
    "s1"
   ]
  },
  {
   "cell_type": "code",
   "execution_count": 68,
   "id": "6076eca1",
   "metadata": {},
   "outputs": [
    {
     "ename": "TypeError",
     "evalue": "'set' object is not subscriptable",
     "output_type": "error",
     "traceback": [
      "\u001b[1;31m---------------------------------------------------------------------------\u001b[0m",
      "\u001b[1;31mTypeError\u001b[0m                                 Traceback (most recent call last)",
      "\u001b[1;32m~\\AppData\\Local\\Temp/ipykernel_21360/2203406659.py\u001b[0m in \u001b[0;36m<module>\u001b[1;34m\u001b[0m\n\u001b[0;32m      1\u001b[0m \u001b[1;31m#### since Set removes the duplicates so indexing is also not possible and any operation related to index is also not possible.\u001b[0m\u001b[1;33m\u001b[0m\u001b[1;33m\u001b[0m\u001b[0m\n\u001b[1;32m----> 2\u001b[1;33m \u001b[0ms1\u001b[0m\u001b[1;33m[\u001b[0m\u001b[1;36m0\u001b[0m\u001b[1;33m]\u001b[0m\u001b[1;33m\u001b[0m\u001b[1;33m\u001b[0m\u001b[0m\n\u001b[0m",
      "\u001b[1;31mTypeError\u001b[0m: 'set' object is not subscriptable"
     ]
    }
   ],
   "source": [
    "#### since Set removes the duplicates so indexing is also not possible and any operation related to index is also not possible.\n",
    "s1[0]"
   ]
  },
  {
   "cell_type": "markdown",
   "id": "5f8cc784",
   "metadata": {},
   "source": [
    "#### Set into a list"
   ]
  },
  {
   "cell_type": "code",
   "execution_count": 57,
   "id": "3b944fa8",
   "metadata": {},
   "outputs": [
    {
     "data": {
      "text/plain": [
       "{1, 2, 3, 4, 'python', 'sandeep'}"
      ]
     },
     "execution_count": 57,
     "metadata": {},
     "output_type": "execute_result"
    }
   ],
   "source": [
    "### Set into a list\n",
    "s2 = {\"sandeep\", \"python\", \"python\", 1,2,3,2,3,4}\n",
    "s2"
   ]
  },
  {
   "cell_type": "code",
   "execution_count": 58,
   "id": "7c04cc94",
   "metadata": {},
   "outputs": [
    {
     "data": {
      "text/plain": [
       "[1, 2, 3, 4, 'python', 'sandeep']"
      ]
     },
     "execution_count": 58,
     "metadata": {},
     "output_type": "execute_result"
    }
   ],
   "source": [
    "list(s2)"
   ]
  },
  {
   "cell_type": "markdown",
   "id": "6918f1dd",
   "metadata": {},
   "source": [
    "#### List to set"
   ]
  },
  {
   "cell_type": "code",
   "execution_count": 59,
   "id": "bcfc6bbf",
   "metadata": {},
   "outputs": [
    {
     "data": {
      "text/plain": [
       "['sandeep', 'python', 'python', 1, 2, 3, 2, 3, 4]"
      ]
     },
     "execution_count": 59,
     "metadata": {},
     "output_type": "execute_result"
    }
   ],
   "source": [
    "l9 = [\"sandeep\", \"python\", \"python\", 1,2,3,2,3,4]\n",
    "l9"
   ]
  },
  {
   "cell_type": "code",
   "execution_count": 60,
   "id": "02454dab",
   "metadata": {},
   "outputs": [
    {
     "data": {
      "text/plain": [
       "{1, 2, 3, 4, 'python', 'sandeep'}"
      ]
     },
     "execution_count": 60,
     "metadata": {},
     "output_type": "execute_result"
    }
   ],
   "source": [
    "set(l9)"
   ]
  },
  {
   "cell_type": "markdown",
   "id": "c4880fde",
   "metadata": {},
   "source": [
    "#### list inside a list cannot be converted to set"
   ]
  },
  {
   "cell_type": "code",
   "execution_count": 61,
   "id": "13e06bbd",
   "metadata": {},
   "outputs": [
    {
     "data": {
      "text/plain": [
       "[1, 2, 3, 4, 'sandeep', 'chowdhury', (3+3j), 33.543, False, [7, 6, 5, 4]]"
      ]
     },
     "execution_count": 61,
     "metadata": {},
     "output_type": "execute_result"
    }
   ],
   "source": [
    "### list inside a list is unhashable\n",
    "l10 = [1,2,3,4,\"sandeep\", \"chowdhury\", 3+3j, 33.543, False, [7,6,5,4]]\n",
    "l10"
   ]
  },
  {
   "cell_type": "code",
   "execution_count": 62,
   "id": "95f9cd81",
   "metadata": {},
   "outputs": [
    {
     "ename": "TypeError",
     "evalue": "unhashable type: 'list'",
     "output_type": "error",
     "traceback": [
      "\u001b[1;31m---------------------------------------------------------------------------\u001b[0m",
      "\u001b[1;31mTypeError\u001b[0m                                 Traceback (most recent call last)",
      "\u001b[1;32m~\\AppData\\Local\\Temp/ipykernel_21360/1624124785.py\u001b[0m in \u001b[0;36m<module>\u001b[1;34m\u001b[0m\n\u001b[1;32m----> 1\u001b[1;33m \u001b[0mset\u001b[0m\u001b[1;33m(\u001b[0m\u001b[0ml10\u001b[0m\u001b[1;33m)\u001b[0m\u001b[1;33m\u001b[0m\u001b[1;33m\u001b[0m\u001b[0m\n\u001b[0m",
      "\u001b[1;31mTypeError\u001b[0m: unhashable type: 'list'"
     ]
    }
   ],
   "source": [
    "set(l10)"
   ]
  },
  {
   "cell_type": "markdown",
   "id": "fed9ea5f",
   "metadata": {},
   "source": [
    "#### Tuple to Set"
   ]
  },
  {
   "cell_type": "code",
   "execution_count": 63,
   "id": "ee726a8a",
   "metadata": {},
   "outputs": [
    {
     "data": {
      "text/plain": [
       "(1, 2, 3, 'sandeep', (5+9j), False)"
      ]
     },
     "execution_count": 63,
     "metadata": {},
     "output_type": "execute_result"
    }
   ],
   "source": [
    "t8 = (1,2,3,\"sandeep\", 5+9j, False)\n",
    "t8"
   ]
  },
  {
   "cell_type": "code",
   "execution_count": 64,
   "id": "fce1feaa",
   "metadata": {},
   "outputs": [
    {
     "data": {
      "text/plain": [
       "{(5+9j), 1, 2, 3, False, 'sandeep'}"
      ]
     },
     "execution_count": 64,
     "metadata": {},
     "output_type": "execute_result"
    }
   ],
   "source": [
    "set(t8)"
   ]
  },
  {
   "cell_type": "markdown",
   "id": "6452fba9",
   "metadata": {},
   "source": [
    "#### Set to tuple"
   ]
  },
  {
   "cell_type": "code",
   "execution_count": 66,
   "id": "877456dc",
   "metadata": {},
   "outputs": [
    {
     "data": {
      "text/plain": [
       "{1, 2, 3, 4, 'py', 'sandeep'}"
      ]
     },
     "execution_count": 66,
     "metadata": {},
     "output_type": "execute_result"
    }
   ],
   "source": [
    "s3 = {\"sandeep\", 1,2,3,3,3,4,\"py\", \"py\"}\n",
    "s3"
   ]
  },
  {
   "cell_type": "code",
   "execution_count": 67,
   "id": "8cbcf257",
   "metadata": {},
   "outputs": [
    {
     "data": {
      "text/plain": [
       "(1, 2, 3, 4, 'py', 'sandeep')"
      ]
     },
     "execution_count": 67,
     "metadata": {},
     "output_type": "execute_result"
    }
   ],
   "source": [
    "tuple(s3)"
   ]
  },
  {
   "cell_type": "markdown",
   "id": "43adc49f",
   "metadata": {},
   "source": [
    "#### If index is not possible to find in set then do type casting"
   ]
  },
  {
   "cell_type": "code",
   "execution_count": 72,
   "id": "ca1ca18e",
   "metadata": {},
   "outputs": [
    {
     "data": {
      "text/plain": [
       "[1, 2, 3, 4, 'sandeep']"
      ]
     },
     "execution_count": 72,
     "metadata": {},
     "output_type": "execute_result"
    }
   ],
   "source": [
    "### use typecasting to get the data\n",
    "new_set = list(s1)\n",
    "new_set\n"
   ]
  },
  {
   "cell_type": "code",
   "execution_count": 71,
   "id": "01ac158d",
   "metadata": {},
   "outputs": [
    {
     "data": {
      "text/plain": [
       "1"
      ]
     },
     "execution_count": 71,
     "metadata": {},
     "output_type": "execute_result"
    }
   ],
   "source": [
    "new_set[0]"
   ]
  },
  {
   "cell_type": "markdown",
   "id": "6df87061",
   "metadata": {},
   "source": [
    "#### there is no concept of mutability or immutability in set as we cannot even access it"
   ]
  },
  {
   "cell_type": "code",
   "execution_count": null,
   "id": "4d47da86",
   "metadata": {},
   "outputs": [],
   "source": []
  },
  {
   "cell_type": "markdown",
   "id": "eb2f2ea6",
   "metadata": {},
   "source": [
    "### Dictionary"
   ]
  },
  {
   "cell_type": "code",
   "execution_count": 52,
   "id": "4edbc83e",
   "metadata": {},
   "outputs": [
    {
     "data": {
      "text/plain": [
       "dict"
      ]
     },
     "execution_count": 52,
     "metadata": {},
     "output_type": "execute_result"
    }
   ],
   "source": [
    "d = {}\n",
    "type(d)"
   ]
  },
  {
   "cell_type": "code",
   "execution_count": 73,
   "id": "7409494f",
   "metadata": {},
   "outputs": [
    {
     "data": {
      "text/plain": [
       "{'name': 'sandeep'}"
      ]
     },
     "execution_count": 73,
     "metadata": {},
     "output_type": "execute_result"
    }
   ],
   "source": [
    "### key-value pair\n",
    "d1 = {\"name\":\"sandeep\"}\n",
    "d1\n"
   ]
  },
  {
   "cell_type": "code",
   "execution_count": 75,
   "id": "9e841439",
   "metadata": {},
   "outputs": [
    {
     "data": {
      "text/plain": [
       "dict_keys(['name'])"
      ]
     },
     "execution_count": 75,
     "metadata": {},
     "output_type": "execute_result"
    }
   ],
   "source": [
    "### keys are named indexes as list, tupple etc have 0,1,2,3,etc....\n",
    "d1.keys()"
   ]
  },
  {
   "cell_type": "code",
   "execution_count": 76,
   "id": "3301d149",
   "metadata": {},
   "outputs": [
    {
     "data": {
      "text/plain": [
       "dict_values(['sandeep'])"
      ]
     },
     "execution_count": 76,
     "metadata": {},
     "output_type": "execute_result"
    }
   ],
   "source": [
    "d1.values()"
   ]
  },
  {
   "cell_type": "code",
   "execution_count": 77,
   "id": "fe0471ca",
   "metadata": {},
   "outputs": [
    {
     "data": {
      "text/plain": [
       "{'game': 'IPL', 'players': ['sachin', 'kohli', 'dhoni'], 'score': [67, 88, 54]}"
      ]
     },
     "execution_count": 77,
     "metadata": {},
     "output_type": "execute_result"
    }
   ],
   "source": [
    "### value can be a string like player or a list like players name\n",
    "d2 = {\"game\":\"IPL\", \"players\":[\"sachin\", \"kohli\", \"dhoni\"], \"score\":[67, 88, 54]}\n",
    "d2"
   ]
  },
  {
   "cell_type": "code",
   "execution_count": 78,
   "id": "3b70c00b",
   "metadata": {},
   "outputs": [
    {
     "data": {
      "text/plain": [
       "{'name': 'chowdhury'}"
      ]
     },
     "execution_count": 78,
     "metadata": {},
     "output_type": "execute_result"
    }
   ],
   "source": [
    "### in dictionary if same key, it takes the latest key\n",
    "\n",
    "d3 = {\"name\": \"sandeep\", \"name\":\"chowdhury\"}\n",
    "d3"
   ]
  },
  {
   "cell_type": "code",
   "execution_count": 79,
   "id": "5bc43bc7",
   "metadata": {},
   "outputs": [
    {
     "data": {
      "text/plain": [
       "{1234: 'sandeep'}"
      ]
     },
     "execution_count": 79,
     "metadata": {},
     "output_type": "execute_result"
    }
   ],
   "source": [
    "### number can be key\n",
    "d4 = {1234:\"sandeep\"}\n",
    "d4"
   ]
  },
  {
   "cell_type": "code",
   "execution_count": 80,
   "id": "4d897e9b",
   "metadata": {},
   "outputs": [
    {
     "ename": "TypeError",
     "evalue": "unhashable type: 'list'",
     "output_type": "error",
     "traceback": [
      "\u001b[1;31m---------------------------------------------------------------------------\u001b[0m",
      "\u001b[1;31mTypeError\u001b[0m                                 Traceback (most recent call last)",
      "\u001b[1;32m~\\AppData\\Local\\Temp/ipykernel_21360/3928955187.py\u001b[0m in \u001b[0;36m<module>\u001b[1;34m\u001b[0m\n\u001b[0;32m      1\u001b[0m \u001b[1;31m### list cannot be key\u001b[0m\u001b[1;33m\u001b[0m\u001b[1;33m\u001b[0m\u001b[0m\n\u001b[1;32m----> 2\u001b[1;33m \u001b[0md5\u001b[0m \u001b[1;33m=\u001b[0m \u001b[1;33m{\u001b[0m\u001b[1;33m[\u001b[0m\u001b[1;36m1\u001b[0m\u001b[1;33m,\u001b[0m\u001b[1;36m2\u001b[0m\u001b[1;33m,\u001b[0m\u001b[1;36m3\u001b[0m\u001b[1;33m,\u001b[0m\u001b[1;36m4\u001b[0m\u001b[1;33m]\u001b[0m\u001b[1;33m:\u001b[0m\u001b[1;34m\"sandeep\"\u001b[0m\u001b[1;33m}\u001b[0m\u001b[1;33m\u001b[0m\u001b[1;33m\u001b[0m\u001b[0m\n\u001b[0m\u001b[0;32m      3\u001b[0m \u001b[0md5\u001b[0m\u001b[1;33m\u001b[0m\u001b[1;33m\u001b[0m\u001b[0m\n",
      "\u001b[1;31mTypeError\u001b[0m: unhashable type: 'list'"
     ]
    }
   ],
   "source": [
    "### list cannot be key\n",
    "d5 = {[1,2,3,4]:\"sandeep\"}\n",
    "d5"
   ]
  },
  {
   "cell_type": "code",
   "execution_count": 81,
   "id": "bcdf929f",
   "metadata": {},
   "outputs": [
    {
     "data": {
      "text/plain": [
       "{(1, 2, 3, 4): 'sandeep'}"
      ]
     },
     "execution_count": 81,
     "metadata": {},
     "output_type": "execute_result"
    }
   ],
   "source": [
    "### tuple as a Key is possible\n",
    "d6 = {(1,2,3,4):\"sandeep\"}\n",
    "d6"
   ]
  },
  {
   "cell_type": "code",
   "execution_count": 82,
   "id": "a689ff16",
   "metadata": {},
   "outputs": [
    {
     "ename": "TypeError",
     "evalue": "unhashable type: 'set'",
     "output_type": "error",
     "traceback": [
      "\u001b[1;31m---------------------------------------------------------------------------\u001b[0m",
      "\u001b[1;31mTypeError\u001b[0m                                 Traceback (most recent call last)",
      "\u001b[1;32m~\\AppData\\Local\\Temp/ipykernel_21360/2284536204.py\u001b[0m in \u001b[0;36m<module>\u001b[1;34m\u001b[0m\n\u001b[0;32m      1\u001b[0m \u001b[1;31m### set as a key is not possible\u001b[0m\u001b[1;33m\u001b[0m\u001b[1;33m\u001b[0m\u001b[0m\n\u001b[1;32m----> 2\u001b[1;33m \u001b[0md7\u001b[0m \u001b[1;33m=\u001b[0m \u001b[1;33m{\u001b[0m\u001b[1;33m{\u001b[0m\u001b[1;36m1\u001b[0m\u001b[1;33m,\u001b[0m\u001b[1;36m2\u001b[0m\u001b[1;33m,\u001b[0m\u001b[1;36m3\u001b[0m\u001b[1;33m,\u001b[0m\u001b[1;36m3\u001b[0m\u001b[1;33m,\u001b[0m\u001b[1;36m4\u001b[0m\u001b[1;33m}\u001b[0m\u001b[1;33m:\u001b[0m\u001b[1;34m\"sandeep\"\u001b[0m\u001b[1;33m}\u001b[0m\u001b[1;33m\u001b[0m\u001b[1;33m\u001b[0m\u001b[0m\n\u001b[0m\u001b[0;32m      3\u001b[0m \u001b[0md7\u001b[0m\u001b[1;33m\u001b[0m\u001b[1;33m\u001b[0m\u001b[0m\n",
      "\u001b[1;31mTypeError\u001b[0m: unhashable type: 'set'"
     ]
    }
   ],
   "source": [
    "### set as a key is not possible\n",
    "d7 = {{1,2,3,3,4}:\"sandeep\"}\n",
    "d7"
   ]
  },
  {
   "cell_type": "code",
   "execution_count": 83,
   "id": "414e9c28",
   "metadata": {},
   "outputs": [
    {
     "ename": "SyntaxError",
     "evalue": "invalid syntax (Temp/ipykernel_21360/4187763768.py, line 2)",
     "output_type": "error",
     "traceback": [
      "\u001b[1;36m  File \u001b[1;32m\"C:\\Users\\CHS9NA\\AppData\\Local\\Temp/ipykernel_21360/4187763768.py\"\u001b[1;36m, line \u001b[1;32m2\u001b[0m\n\u001b[1;33m    d8 = {%df:\"sandeep\"}\u001b[0m\n\u001b[1;37m          ^\u001b[0m\n\u001b[1;31mSyntaxError\u001b[0m\u001b[1;31m:\u001b[0m invalid syntax\n"
     ]
    }
   ],
   "source": [
    "### any predefined python operator can't be key\n",
    "d8 = {%df:\"sandeep\"}\n",
    "d8"
   ]
  },
  {
   "cell_type": "code",
   "execution_count": 84,
   "id": "15244888",
   "metadata": {},
   "outputs": [
    {
     "data": {
      "text/plain": [
       "{'%df': 'sandeep'}"
      ]
     },
     "execution_count": 84,
     "metadata": {},
     "output_type": "execute_result"
    }
   ],
   "source": [
    "### make it string it will work\n",
    "d9 = {\"%df\":\"sandeep\"}\n",
    "d9"
   ]
  },
  {
   "cell_type": "code",
   "execution_count": 88,
   "id": "db7ed6f0",
   "metadata": {},
   "outputs": [
    {
     "data": {
      "text/plain": [
       "{'team': ['abc', 'cde', 'efg'],\n",
       " 'players': ('sachin', 'kohli', 'dhoni'),\n",
       " 'score': {54, 67, 88},\n",
       " 'day': 1,\n",
       " 'game': 1}"
      ]
     },
     "execution_count": 88,
     "metadata": {},
     "output_type": "execute_result"
    }
   ],
   "source": [
    "### you can keep values in any format as list, tuole, dict\n",
    "### values can be unique as 1 is common but keys cannot be\n",
    "d10 = {\"team\":[\"abc\", \"cde\", \"efg\"], \"players\":(\"sachin\", \"kohli\", \"dhoni\"), \"score\":{67, 88, 54}, \"day\": 1, \"game\":1}\n",
    "d10"
   ]
  },
  {
   "cell_type": "code",
   "execution_count": 89,
   "id": "3f6998e8",
   "metadata": {},
   "outputs": [
    {
     "data": {
      "text/plain": [
       "['abc', 'cde', 'efg']"
      ]
     },
     "execution_count": 89,
     "metadata": {},
     "output_type": "execute_result"
    }
   ],
   "source": [
    "d10[\"team\"]"
   ]
  },
  {
   "cell_type": "code",
   "execution_count": 90,
   "id": "d313d852",
   "metadata": {},
   "outputs": [
    {
     "data": {
      "text/plain": [
       "('sachin', 'kohli', 'dhoni')"
      ]
     },
     "execution_count": 90,
     "metadata": {},
     "output_type": "execute_result"
    }
   ],
   "source": [
    "d10[\"players\"]"
   ]
  },
  {
   "cell_type": "code",
   "execution_count": 91,
   "id": "9d742542",
   "metadata": {},
   "outputs": [
    {
     "data": {
      "text/plain": [
       "{54, 67, 88}"
      ]
     },
     "execution_count": 91,
     "metadata": {},
     "output_type": "execute_result"
    }
   ],
   "source": [
    "d10[\"score\"]"
   ]
  },
  {
   "cell_type": "markdown",
   "id": "8cab7a28",
   "metadata": {},
   "source": [
    "#### Nested dictionary"
   ]
  },
  {
   "cell_type": "code",
   "execution_count": 93,
   "id": "1ed6a4ba",
   "metadata": {},
   "outputs": [
    {
     "data": {
      "text/plain": [
       "{'team': ['abc', 'cde', 'efg'],\n",
       " 'players': ('sachin', 'kohli', 'dhoni'),\n",
       " 'score': {54, 67, 88},\n",
       " 'day': 1,\n",
       " 'game': 1,\n",
       " 'ground': {'ipl': ['kol', 'del', 'chen', 'dharm'],\n",
       "  'oneday': ['ahm', 'ranc', 'pune', 'hyd']}}"
      ]
     },
     "execution_count": 93,
     "metadata": {},
     "output_type": "execute_result"
    }
   ],
   "source": [
    "\n",
    "d11 = {\"team\":[\"abc\", \"cde\", \"efg\"], \"players\":(\"sachin\", \"kohli\", \"dhoni\"), \"score\":{67, 88, 54}, \"day\": 1, \"game\":1, \n",
    "       \"ground\": {\"ipl\":[\"kol\", \"del\", \"chen\", \"dharm\"], \"oneday\":[\"ahm\", \"ranc\", \"pune\", \"hyd\"]}}\n",
    "d11"
   ]
  },
  {
   "cell_type": "code",
   "execution_count": 96,
   "id": "83bbfa56",
   "metadata": {},
   "outputs": [
    {
     "data": {
      "text/plain": [
       "['ahm', 'ranc', 'pune', 'hyd']"
      ]
     },
     "execution_count": 96,
     "metadata": {},
     "output_type": "execute_result"
    }
   ],
   "source": [
    "d11[\"ground\"][\"oneday\"]"
   ]
  },
  {
   "cell_type": "code",
   "execution_count": 97,
   "id": "ed13c14d",
   "metadata": {},
   "outputs": [
    {
     "data": {
      "text/plain": [
       "{'name': 'sandeep', 'phone_num': 57484657389}"
      ]
     },
     "execution_count": 97,
     "metadata": {},
     "output_type": "execute_result"
    }
   ],
   "source": [
    "### adding entry in dictionary\n",
    "d12 = {\"name\": \"sandeep\"}\n",
    "\n",
    "### add phone number\n",
    "d12[\"phone_num\"] = 57484657389\n",
    "\n",
    "d12"
   ]
  },
  {
   "cell_type": "code",
   "execution_count": 98,
   "id": "6e882890",
   "metadata": {},
   "outputs": [
    {
     "data": {
      "text/plain": [
       "[('team', ['abc', 'cde', 'efg']),\n",
       " ('players', ('sachin', 'kohli', 'dhoni')),\n",
       " ('score', {54, 67, 88}),\n",
       " ('day', 1),\n",
       " ('game', 1)]"
      ]
     },
     "execution_count": 98,
     "metadata": {},
     "output_type": "execute_result"
    }
   ],
   "source": [
    "### Items\n",
    "d10 = {\"team\":[\"abc\", \"cde\", \"efg\"], \"players\":(\"sachin\", \"kohli\", \"dhoni\"), \"score\":{67, 88, 54}, \"day\": 1, \"game\":1}\n",
    "list(d10.items())"
   ]
  },
  {
   "cell_type": "code",
   "execution_count": null,
   "id": "60200e3b",
   "metadata": {},
   "outputs": [],
   "source": []
  }
 ],
 "metadata": {
  "kernelspec": {
   "display_name": "Python 3 (ipykernel)",
   "language": "python",
   "name": "python3"
  },
  "language_info": {
   "codemirror_mode": {
    "name": "ipython",
    "version": 3
   },
   "file_extension": ".py",
   "mimetype": "text/x-python",
   "name": "python",
   "nbconvert_exporter": "python",
   "pygments_lexer": "ipython3",
   "version": "3.9.7"
  }
 },
 "nbformat": 4,
 "nbformat_minor": 5
}
