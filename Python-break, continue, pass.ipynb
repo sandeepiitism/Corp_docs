{
 "cells": [
  {
   "cell_type": "markdown",
   "id": "2e464b32",
   "metadata": {},
   "source": [
    "## Python conditions"
   ]
  },
  {
   "cell_type": "markdown",
   "id": "7fb20d6e",
   "metadata": {},
   "source": [
    "1. Break\n",
    "2. Continue\n",
    "3. Pass"
   ]
  },
  {
   "cell_type": "code",
   "execution_count": 1,
   "id": "6e6d0091",
   "metadata": {},
   "outputs": [
    {
     "name": "stdout",
     "output_type": "stream",
     "text": [
      "negative num\n"
     ]
    }
   ],
   "source": [
    "# if-else\n",
    "number =0\n",
    "\n",
    "if number>0:\n",
    "    print(\"positive num\")\n",
    "else:\n",
    "    print(\"negative num\")"
   ]
  },
  {
   "cell_type": "code",
   "execution_count": 2,
   "id": "aacba013",
   "metadata": {},
   "outputs": [
    {
     "name": "stdout",
     "output_type": "stream",
     "text": [
      "non negative num\n"
     ]
    }
   ],
   "source": [
    "## if-elif-else\n",
    "number =0\n",
    "\n",
    "if number>0:\n",
    "    print(\"positive num\")\n",
    "elif number == 0:\n",
    "    print(\"non negative num\")\n",
    "else:\n",
    "    print(\"negative num\")"
   ]
  },
  {
   "cell_type": "code",
   "execution_count": 3,
   "id": "dee2e8b7",
   "metadata": {},
   "outputs": [
    {
     "name": "stdout",
     "output_type": "stream",
     "text": [
      "non negative num\n",
      "This is outside print\n"
     ]
    }
   ],
   "source": [
    "## print outside loop\n",
    "number =0\n",
    "\n",
    "if number>0:\n",
    "    print(\"positive num\")\n",
    "elif number == 0:\n",
    "    print(\"non negative num\")\n",
    "else:\n",
    "    print(\"negative num\")\n",
    "print(\"This is outside print\")"
   ]
  },
  {
   "cell_type": "code",
   "execution_count": 9,
   "id": "69ef86d5",
   "metadata": {},
   "outputs": [
    {
     "name": "stdout",
     "output_type": "stream",
     "text": [
      "today is mon\n",
      "today is tue\n",
      "today is wed\n",
      "today is thu\n",
      "today is fri\n",
      "today is sat\n",
      "today is sun\n"
     ]
    }
   ],
   "source": [
    "## while\n",
    "\n",
    "days = 0\n",
    "week = [\"mon\", \"tue\", \"wed\", \"thu\", \"fri\", \"sat\", \"sun\"]\n",
    "\n",
    "while days<7:\n",
    "    print(f\"today is {week[days]}\")\n",
    "#     print(f\"today is \"+ week[days])\n",
    "    days+=1"
   ]
  },
  {
   "cell_type": "code",
   "execution_count": 10,
   "id": "8bdc9fa0",
   "metadata": {},
   "outputs": [
    {
     "data": {
      "text/plain": [
       "['Hi', 'I', 'am', 'sandeep']"
      ]
     },
     "execution_count": 10,
     "metadata": {},
     "output_type": "execute_result"
    }
   ],
   "source": [
    "## split whitespace\n",
    "\n",
    "text = \"Hi I am sandeep\"\n",
    "text.split()"
   ]
  },
  {
   "cell_type": "code",
   "execution_count": 11,
   "id": "6984c5ab",
   "metadata": {},
   "outputs": [
    {
     "name": "stdout",
     "output_type": "stream",
     "text": [
      "enter two numbers: 2 3\n",
      "5\n"
     ]
    }
   ],
   "source": [
    "## split two number using whitespace\n",
    "\n",
    "a,b = input(\"enter two numbers: \").split()\n",
    "c = int(a)+int(b)\n",
    "\n",
    "print(c)"
   ]
  },
  {
   "cell_type": "code",
   "execution_count": 12,
   "id": "50718e45",
   "metadata": {},
   "outputs": [
    {
     "name": "stdout",
     "output_type": "stream",
     "text": [
      "enter name, age and id: sandeep 22 001\n",
      "sandeep\n",
      "22\n",
      "001\n"
     ]
    }
   ],
   "source": [
    "name, age, _id = input(\"enter name, age and id: \").split()\n",
    "print(name)\n",
    "print(age)\n",
    "print(_id)"
   ]
  },
  {
   "cell_type": "code",
   "execution_count": 15,
   "id": "24797ef9",
   "metadata": {},
   "outputs": [
    {
     "name": "stdout",
     "output_type": "stream",
     "text": [
      "['A', 'B', 'C D E']\n"
     ]
    }
   ],
   "source": [
    "## split in n+1 buckets\n",
    "\n",
    "letters = \"A B C D E\"\n",
    "print(letters.split(' ', 2))"
   ]
  },
  {
   "cell_type": "code",
   "execution_count": 16,
   "id": "57c823d0",
   "metadata": {},
   "outputs": [
    {
     "name": "stdout",
     "output_type": "stream",
     "text": [
      "['A', 'B', 'C', 'D E']\n"
     ]
    }
   ],
   "source": [
    "## split in n+1 buckets\n",
    "\n",
    "letters = \"A B C D E\"\n",
    "print(letters.split(' ', 3))"
   ]
  },
  {
   "cell_type": "code",
   "execution_count": 17,
   "id": "dd27a8a1",
   "metadata": {},
   "outputs": [
    {
     "data": {
      "text/plain": [
       "['hi', 'hi', 'hi', 'hi', 'hi', 'hi']"
      ]
     },
     "execution_count": 17,
     "metadata": {},
     "output_type": "execute_result"
    }
   ],
   "source": [
    "sep = \"hi@hi@hi@hi@hi@hi\"\n",
    "sep.split(\"@\")"
   ]
  },
  {
   "cell_type": "code",
   "execution_count": 18,
   "id": "bc232759",
   "metadata": {},
   "outputs": [
    {
     "data": {
      "text/plain": [
       "['hi', 'hi', 'hi@hi@hi@hi']"
      ]
     },
     "execution_count": 18,
     "metadata": {},
     "output_type": "execute_result"
    }
   ],
   "source": [
    "sep.split(\"@\", 2)"
   ]
  },
  {
   "cell_type": "code",
   "execution_count": 19,
   "id": "2bb28b1a",
   "metadata": {},
   "outputs": [
    {
     "name": "stdout",
     "output_type": "stream",
     "text": [
      "letters s\n",
      "letters a\n",
      "letters n\n",
      "letters d\n",
      "letters e\n",
      "letters e\n",
      "letters p\n"
     ]
    }
   ],
   "source": [
    "## break letters\n",
    "\n",
    "for i in \"sandeep\":\n",
    "    print('letters', i)"
   ]
  },
  {
   "cell_type": "code",
   "execution_count": 20,
   "id": "78bd3c18",
   "metadata": {},
   "outputs": [
    {
     "name": "stdout",
     "output_type": "stream",
     "text": [
      "letters s\n",
      "letters a\n",
      "letters n\n"
     ]
    }
   ],
   "source": [
    "## Break\n",
    "\n",
    "for i in \"sandeep\":\n",
    "    if i == \"d\":\n",
    "        break\n",
    "    print('letters', i)"
   ]
  },
  {
   "cell_type": "code",
   "execution_count": 21,
   "id": "57b3860d",
   "metadata": {},
   "outputs": [
    {
     "name": "stdout",
     "output_type": "stream",
     "text": [
      "0\n",
      "1\n",
      "2\n"
     ]
    }
   ],
   "source": [
    "for i in range(5):\n",
    "    if i==3:\n",
    "        break\n",
    "    print(i)"
   ]
  },
  {
   "cell_type": "code",
   "execution_count": 23,
   "id": "aa34f9a1",
   "metadata": {},
   "outputs": [
    {
     "name": "stdout",
     "output_type": "stream",
     "text": [
      "1\n",
      "2\n",
      "3\n",
      "4\n",
      "5\n",
      "6\n"
     ]
    }
   ],
   "source": [
    "## break using while\n",
    "\n",
    "i = 1\n",
    "\n",
    "while i<=10:\n",
    "    print(i)\n",
    "    \n",
    "    if i>5:\n",
    "        break\n",
    "    i=i+1"
   ]
  },
  {
   "cell_type": "code",
   "execution_count": 28,
   "id": "18ca198e",
   "metadata": {},
   "outputs": [
    {
     "name": "stdout",
     "output_type": "stream",
     "text": [
      "1\n",
      "2\n",
      "3\n",
      "4\n",
      "5\n"
     ]
    }
   ],
   "source": [
    "## break in list\n",
    "l1 = [1,2,3,4,5,100]\n",
    "\n",
    "for i in l1:\n",
    "    if i>10:\n",
    "        break\n",
    "    print(i)"
   ]
  },
  {
   "cell_type": "code",
   "execution_count": 29,
   "id": "46f8bb3d",
   "metadata": {},
   "outputs": [
    {
     "name": "stdout",
     "output_type": "stream",
     "text": [
      "[1, 2, 3, 4, 5]\n"
     ]
    }
   ],
   "source": [
    "## break and store in a list\n",
    "l1 = [1, 2, 3, 4, 5, 100]\n",
    "result_list = []\n",
    "\n",
    "for i in l1:\n",
    "    if i > 10:\n",
    "        break\n",
    "    result_list.append(i)\n",
    "\n",
    "print(result_list)\n"
   ]
  },
  {
   "cell_type": "code",
   "execution_count": 33,
   "id": "dcc34127",
   "metadata": {},
   "outputs": [
    {
     "name": "stdout",
     "output_type": "stream",
     "text": [
      "h\n",
      "i\n",
      ",\n"
     ]
    }
   ],
   "source": [
    "## break when character\n",
    "s2 = \"hi, I am, sandeep\"\n",
    "\n",
    "for i in s2:\n",
    "    print(i)\n",
    "    if i == \",\":\n",
    "        break\n"
   ]
  },
  {
   "cell_type": "code",
   "execution_count": 34,
   "id": "99741356",
   "metadata": {},
   "outputs": [
    {
     "name": "stdout",
     "output_type": "stream",
     "text": [
      "h\n",
      "i\n",
      " \n",
      "I\n",
      " \n",
      "a\n",
      "m\n",
      " \n",
      "s\n",
      "a\n",
      "n\n"
     ]
    }
   ],
   "source": [
    "## break in character\n",
    "\n",
    "s1 = \"hi I am sandeep\"\n",
    "\n",
    "for i in s1:\n",
    "    if i == \"d\":\n",
    "        break\n",
    "    print(i)"
   ]
  },
  {
   "cell_type": "code",
   "execution_count": 38,
   "id": "611b2bc3",
   "metadata": {},
   "outputs": [
    {
     "name": "stdout",
     "output_type": "stream",
     "text": [
      "['hi', 'I', 'am']\n"
     ]
    }
   ],
   "source": [
    "## store the words in list\n",
    "\n",
    "s1 = \"hi I am sandeep\"\n",
    "result_list = []\n",
    "\n",
    "for word in s1.split():\n",
    "    if 'd' in word:\n",
    "        break\n",
    "    result_list.append(word)\n",
    "\n",
    "print(result_list)"
   ]
  },
  {
   "cell_type": "code",
   "execution_count": 36,
   "id": "288cdd6e",
   "metadata": {},
   "outputs": [
    {
     "name": "stdout",
     "output_type": "stream",
     "text": [
      "['hi', 'I', 'am', 'san']\n"
     ]
    }
   ],
   "source": [
    "## getting the final word also where it breaks\n",
    "\n",
    "s1 = \"hi I am sandeep\"\n",
    "result_list = []\n",
    "\n",
    "for word in s1.split():\n",
    "    if 'd' in word:\n",
    "        word = word[:word.index('d')]\n",
    "        result_list.append(word)\n",
    "        break\n",
    "    result_list.append(word)\n",
    "\n",
    "print(result_list)"
   ]
  },
  {
   "cell_type": "code",
   "execution_count": 42,
   "id": "bb283ba8",
   "metadata": {},
   "outputs": [
    {
     "name": "stdout",
     "output_type": "stream",
     "text": [
      "s\n",
      "a\n",
      "n\n",
      "e\n",
      "e\n",
      "p\n"
     ]
    }
   ],
   "source": [
    "# continue skips the conditions\n",
    "\n",
    "for i in \"sandeep\":\n",
    "    if i == \"d\":\n",
    "        continue\n",
    "    print(i)"
   ]
  },
  {
   "cell_type": "code",
   "execution_count": 47,
   "id": "e256e32e",
   "metadata": {},
   "outputs": [
    {
     "name": "stdout",
     "output_type": "stream",
     "text": [
      "0\n",
      "1\n",
      "2\n",
      "3\n",
      "5\n",
      "6\n"
     ]
    }
   ],
   "source": [
    "# continue skips the conditions\n",
    "for i in range(7):\n",
    "    if i == 4:\n",
    "        continue\n",
    "    print(i)"
   ]
  },
  {
   "cell_type": "code",
   "execution_count": null,
   "id": "bdd4fffe",
   "metadata": {},
   "outputs": [],
   "source": [
    "## Break ends the loop\n",
    "## continue skips the loop"
   ]
  },
  {
   "cell_type": "code",
   "execution_count": 50,
   "id": "dfd45493",
   "metadata": {},
   "outputs": [
    {
     "name": "stdout",
     "output_type": "stream",
     "text": [
      "1\n",
      "3\n",
      "5\n",
      "7\n",
      "9\n"
     ]
    }
   ],
   "source": [
    "# Q.1 Odd numbers using continue from (1,11)\n",
    "## sol: filter the even number\n",
    "\n",
    "for i in range(11):\n",
    "    if i%2 ==0:\n",
    "        continue\n",
    "    print(i)"
   ]
  },
  {
   "cell_type": "code",
   "execution_count": 51,
   "id": "2b349b7d",
   "metadata": {},
   "outputs": [
    {
     "name": "stdout",
     "output_type": "stream",
     "text": [
      "0\n",
      "2\n",
      "4\n",
      "6\n",
      "8\n",
      "10\n"
     ]
    }
   ],
   "source": [
    "# Q.2 Odd numbers using continue from (1,11)\n",
    "## sol: filter the odd number\n",
    "\n",
    "for i in range(11):\n",
    "    if i%2 != 0:\n",
    "        continue\n",
    "    print(i)"
   ]
  },
  {
   "cell_type": "code",
   "execution_count": 52,
   "id": "fa8e7583",
   "metadata": {},
   "outputs": [
    {
     "name": "stdout",
     "output_type": "stream",
     "text": [
      "hi\n"
     ]
    }
   ],
   "source": [
    "## Pass\n",
    "n = 10\n",
    "\n",
    "if n>10:\n",
    "    pass\n",
    "\n",
    "print(\"hi\")"
   ]
  },
  {
   "cell_type": "code",
   "execution_count": 53,
   "id": "a4417915",
   "metadata": {},
   "outputs": [
    {
     "ename": "IndentationError",
     "evalue": "expected an indented block (Temp/ipykernel_21756/464953218.py, line 3)",
     "output_type": "error",
     "traceback": [
      "\u001b[1;36m  File \u001b[1;32m\"C:\\Users\\CHS9NA\\AppData\\Local\\Temp/ipykernel_21756/464953218.py\"\u001b[1;36m, line \u001b[1;32m3\u001b[0m\n\u001b[1;33m    \u001b[0m\n\u001b[1;37m    ^\u001b[0m\n\u001b[1;31mIndentationError\u001b[0m\u001b[1;31m:\u001b[0m expected an indented block\n"
     ]
    }
   ],
   "source": [
    "## to avoid code error use pass\n",
    "if n >20:\n",
    "    "
   ]
  },
  {
   "cell_type": "code",
   "execution_count": 55,
   "id": "ad0e2edb",
   "metadata": {},
   "outputs": [
    {
     "name": "stdout",
     "output_type": "stream",
     "text": [
      "s\n",
      "a\n",
      "n\n",
      "d\n",
      "e\n",
      "e\n",
      "p\n"
     ]
    }
   ],
   "source": [
    "## it bypass any conditions, actually it does nothing\n",
    "for i in \"sandeep\":\n",
    "    if i == \"d\":\n",
    "        pass\n",
    "    print(i)"
   ]
  },
  {
   "cell_type": "code",
   "execution_count": null,
   "id": "af0ebc23",
   "metadata": {},
   "outputs": [],
   "source": []
  }
 ],
 "metadata": {
  "kernelspec": {
   "display_name": "Python 3 (ipykernel)",
   "language": "python",
   "name": "python3"
  },
  "language_info": {
   "codemirror_mode": {
    "name": "ipython",
    "version": 3
   },
   "file_extension": ".py",
   "mimetype": "text/x-python",
   "name": "python",
   "nbconvert_exporter": "python",
   "pygments_lexer": "ipython3",
   "version": "3.9.7"
  }
 },
 "nbformat": 4,
 "nbformat_minor": 5
}
