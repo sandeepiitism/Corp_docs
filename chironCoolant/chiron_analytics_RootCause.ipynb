{
 "cells": [
  {
   "cell_type": "markdown",
   "id": "8e781c13",
   "metadata": {},
   "source": [
    "### 8 months dataset"
   ]
  },
  {
   "cell_type": "code",
   "execution_count": null,
   "id": "2c000e31",
   "metadata": {},
   "outputs": [],
   "source": [
    "import os\n",
    "import pandas as pd\n",
    "import numpy as np\n",
    "import matplotlib.pyplot as plt\n"
   ]
  },
  {
   "cell_type": "code",
   "execution_count": null,
   "id": "9d74a54a",
   "metadata": {},
   "outputs": [],
   "source": [
    "filepaths = [f for f in os.listdir(\".\") if f.endswith('.csv')]\n",
    "df = pd.concat(map(pd.read_csv, filepaths))\n",
    "len(df)"
   ]
  },
  {
   "cell_type": "markdown",
   "id": "aaf30693",
   "metadata": {},
   "source": [
    "`Note`: <br>\n",
    "- Table1: <br>\n",
    "6,7 --> 1.25 predrill, gundrill <br>\n",
    "13,14 -->1.43 predrill, gundrill <br>\n",
    "- Table2: <br>\n",
    "22,23 --> 1.25 predrill, gundrill <br>\n",
    "29,30 -->1.43 predrill, gundrill<br>"
   ]
  },
  {
   "cell_type": "code",
   "execution_count": null,
   "id": "8c66804a",
   "metadata": {},
   "outputs": [],
   "source": [
    "df_10437 = df[df['ProgNo'] == 10437] \n",
    "df_20437 = df[df['ProgNo'] == 20437]"
   ]
  },
  {
   "cell_type": "code",
   "execution_count": null,
   "id": "e1051267",
   "metadata": {},
   "outputs": [],
   "source": [
    "df_10437[\"PresentTool\"].unique()"
   ]
  },
  {
   "cell_type": "code",
   "execution_count": null,
   "id": "e4e1d8c0",
   "metadata": {},
   "outputs": [],
   "source": [
    "df_20437[\"PresentTool\"].unique()"
   ]
  },
  {
   "cell_type": "code",
   "execution_count": null,
   "id": "1573fbd8",
   "metadata": {},
   "outputs": [],
   "source": [
    "df_20437[df_20437['PresentTool'] == 7][\"PresentTool\"].count() "
   ]
  },
  {
   "cell_type": "code",
   "execution_count": null,
   "id": "49e322c0",
   "metadata": {},
   "outputs": [],
   "source": [
    "tool_6 = df_10437[df_10437['PresentTool'] == 6][\"PresentTool\"].count() \n",
    "tool_7 = df_10437[df_10437['PresentTool'] == 7][\"PresentTool\"].count() \n",
    "tool_22 = df_10437[df_10437['PresentTool'] == 22][\"PresentTool\"].count() \n",
    "tool_23 = df_10437[df_10437['PresentTool'] == 23][\"PresentTool\"].count() \n",
    "\n",
    "tool_6_2 = df_20437[df_20437['PresentTool'] == 6][\"PresentTool\"].count() \n",
    "tool_7_2 = df_20437[df_20437['PresentTool'] == 7][\"PresentTool\"].count() \n",
    "tool_22_2 = df_20437[df_20437['PresentTool'] == 22][\"PresentTool\"].count() \n",
    "tool_23_2 = df_20437[df_20437['PresentTool'] == 23][\"PresentTool\"].count() \n",
    "\n",
    "\n",
    "print(f\" During 10437, Tool6={tool_6}, Tool7={tool_7}, Tool22={tool_22}, Tool23 ={tool_23}\")\n",
    "print(f\" During 20437, Tool6={tool_6_2}, Tool7={tool_7_2}, Tool22={tool_22_2}, Tool23 ={tool_23_2}\")"
   ]
  },
  {
   "cell_type": "code",
   "execution_count": null,
   "id": "3e0a070b",
   "metadata": {},
   "outputs": [],
   "source": [
    "df[df['ProgNo'] == 10437][\"PresentTool\"].unique()"
   ]
  },
  {
   "cell_type": "code",
   "execution_count": null,
   "id": "83035dac",
   "metadata": {},
   "outputs": [],
   "source": [
    "df[df['ProgNo'] == 20437][\"PresentTool\"].unique()"
   ]
  },
  {
   "cell_type": "code",
   "execution_count": null,
   "id": "0116e6c5",
   "metadata": {},
   "outputs": [],
   "source": []
  },
  {
   "cell_type": "code",
   "execution_count": null,
   "id": "7dc62df0",
   "metadata": {},
   "outputs": [],
   "source": []
  },
  {
   "cell_type": "code",
   "execution_count": null,
   "id": "cbc7296a",
   "metadata": {},
   "outputs": [],
   "source": [
    "df.columns"
   ]
  },
  {
   "cell_type": "code",
   "execution_count": null,
   "id": "cf82ac8f",
   "metadata": {},
   "outputs": [],
   "source": []
  },
  {
   "cell_type": "code",
   "execution_count": null,
   "id": "f3753c66",
   "metadata": {},
   "outputs": [],
   "source": [
    "df =df.drop(['PartCount', 'AaxisError', 'CoolantPr','Alarm', 'Day', 'Hours', 'Minute', 'Year','PresentToolLife', 'SP1Load', 'SP2Load', 'SP1TEMP', 'SP2TEMP', 'CTinMIN', \n",
    "             'CTinSEC', 'UAxisError', 'Prog_Interrupt', 'Coolant_Set_pressure', 'Tool_wear', 'ASetpoint', 'USetpoint', 'HydMTmp', 'HydMVibration', 'SP1Vibration', 'SP1Temp1', \n",
    "             'SP2Vibration', 'SP2Temp1', 'ElecPanel_Humidity', 'ElecPanel_Temperature', 'TimeStamp', 'Id' ], axis=1)\n",
    "df.dropna(axis=1,inplace=True)\n",
    "df.tail(2)"
   ]
  },
  {
   "cell_type": "code",
   "execution_count": null,
   "id": "32d1d62e",
   "metadata": {},
   "outputs": [],
   "source": [
    "df[['ToolBroken']] = df[['ToolBroken']].astype(int)\n",
    "which_tool_broken = df[df['ToolBroken'] == 1]\n",
    "\n",
    "df['ToolBroken (Shifted)'] = df['ToolBroken'].shift(periods=1)\n",
    "toolbroken_shift=df[df['ToolBroken'] != df['ToolBroken (Shifted)']]\n",
    "toolbroken_shift = toolbroken_shift[toolbroken_shift['ToolBroken'] == 1]\n",
    "toolbroken_shift"
   ]
  },
  {
   "cell_type": "code",
   "execution_count": null,
   "id": "d25e274c",
   "metadata": {},
   "outputs": [],
   "source": [
    "df[\"Month\"].unique()"
   ]
  },
  {
   "cell_type": "code",
   "execution_count": null,
   "id": "2d1e6328",
   "metadata": {},
   "outputs": [],
   "source": [
    "first_month = df[df['Month'] == 1][[\"ProgNo\", \"ProgRun\", \"PresentTool\"]]\n",
    "first_month"
   ]
  },
  {
   "cell_type": "code",
   "execution_count": null,
   "id": "830f165a",
   "metadata": {},
   "outputs": [],
   "source": [
    "first_month[first_month['ProgNo'] == 10437][\"PresentTool\"].unique()"
   ]
  },
  {
   "cell_type": "code",
   "execution_count": null,
   "id": "313b58c2",
   "metadata": {},
   "outputs": [],
   "source": [
    "first_month[first_month['ProgNo'] == 20437][\"PresentTool\"].unique()"
   ]
  },
  {
   "cell_type": "code",
   "execution_count": null,
   "id": "7eac64f7",
   "metadata": {},
   "outputs": [],
   "source": [
    "import plotly.express as px\n",
    "figure = px.histogram(first_month, x = \"PresentTool\", \n",
    "                      color = \"ProgNo\", \n",
    "                      title= \"tool life\")\n",
    "figure.show()"
   ]
  },
  {
   "cell_type": "code",
   "execution_count": null,
   "id": "e362fb9b",
   "metadata": {},
   "outputs": [],
   "source": []
  },
  {
   "cell_type": "code",
   "execution_count": null,
   "id": "f558226e",
   "metadata": {},
   "outputs": [],
   "source": []
  },
  {
   "cell_type": "code",
   "execution_count": null,
   "id": "bcbc4113",
   "metadata": {},
   "outputs": [],
   "source": [
    "# df =df.drop(['ProgRun', 'Day', 'Hours', 'Minute', 'Year', 'Month', 'HydMTmp','HydMVibration','ElecPanel_Humidity', 'CTinMIN', 'CTinSEC'], axis=1)\n",
    "# df.dropna(axis=1,inplace=True)\n",
    "# df.tail(2)\n"
   ]
  },
  {
   "cell_type": "code",
   "execution_count": null,
   "id": "9ca6b954",
   "metadata": {},
   "outputs": [],
   "source": [
    "df[['ToolBroken']] = df[['ToolBroken']].astype(int)\n",
    "# which_tool_broken = df[df['ToolBroken'] == 1][\"PresentTool\"]\n",
    "which_tool_broken = df[df['ToolBroken'] == 1]\n",
    "which_tool_broken = pd.DataFrame(which_tool_broken)\n",
    "which_tool_broken[\"PresentTool\"].unique()  \n",
    "\n",
    "# len(which_tool_broken)"
   ]
  },
  {
   "cell_type": "code",
   "execution_count": null,
   "id": "490f1698",
   "metadata": {},
   "outputs": [],
   "source": [
    "column_values = which_tool_broken[[\"PresentTool\", \"ProgNo\"]].values\n",
    "which_tool_broken_progno = np.unique(column_values)\n",
    "which_tool_broken_progno"
   ]
  },
  {
   "cell_type": "code",
   "execution_count": null,
   "id": "e423db51",
   "metadata": {},
   "outputs": [],
   "source": [
    "df.columns"
   ]
  },
  {
   "cell_type": "code",
   "execution_count": null,
   "id": "dbadacad",
   "metadata": {},
   "outputs": [],
   "source": [
    "len(which_tool_broken[which_tool_broken['PresentTool']==5])"
   ]
  },
  {
   "cell_type": "markdown",
   "id": "2152c179",
   "metadata": {},
   "source": [
    "`Note`: <br>\n",
    "    1. PresentTool = 5 --> 171 <br>\n",
    "    2. PresentTool = 6 --> 5206 <br>\n",
    "    3. PresentTool = 7 --> 3186 <br>\n",
    "    4. PresentTool = 13 --> 2629 <br>\n",
    "    5. PresentTool = 14 --> 1069 <br>\n",
    "    6. PresentTool = 23 --> 70 <br>\n",
    "    7. PresentTool = 30 --> 1616"
   ]
  },
  {
   "cell_type": "markdown",
   "id": "a9c20322",
   "metadata": {},
   "source": [
    "#### Creating a count of ToolBreak occurances in last 6 months"
   ]
  },
  {
   "cell_type": "code",
   "execution_count": null,
   "id": "b61b6340",
   "metadata": {},
   "outputs": [],
   "source": [
    "df['ToolBroken (Shifted)'] = df['ToolBroken'].shift(periods=1)\n",
    "toolbroken_shift=df[df['ToolBroken'] != df['ToolBroken (Shifted)']]\n",
    "# toolbroken_shift=df[df['ToolBroken'] != df['ToolBroken (Shifted)']][[\"PresentTool\", \"ToolBroken\", 'PresentToolLife']]\n",
    "toolbroken_shift = toolbroken_shift[toolbroken_shift['ToolBroken'] == 1][\"PresentTool\"]\n",
    "# toolbroken_shift.head(10)\n",
    "\n",
    "from collections import Counter\n",
    "toolbroken_shift_occurance = Counter( toolbroken_shift )\n",
    "# print(toolbroken_shift_occurance.items())\n",
    "\n",
    "toollife_df = pd.DataFrame.from_dict(toolbroken_shift_occurance.items())\n",
    "toollife_df[1] = round(toollife_df[1]/2)\n",
    "toollife_df\n",
    "\n",
    "toollife_df.columns = ['Tool', 'Change_overs']\n",
    "toollife_df_sort = toollife_df.sort_values(by=['Change_overs'], ascending=False)\n",
    "toollife_df_sort"
   ]
  },
  {
   "cell_type": "markdown",
   "id": "13964229",
   "metadata": {},
   "source": [
    "#### Identication of the ProgNo and Most change overs"
   ]
  },
  {
   "cell_type": "code",
   "execution_count": null,
   "id": "b73b53d8",
   "metadata": {},
   "outputs": [],
   "source": [
    "#### Getting the ProgNo when most change over occurs\n",
    "\n",
    "df['ToolBroken (Shifted)'] = df['ToolBroken'].shift(periods=1)\n",
    "ProgNo_shift=df[df['ToolBroken'] != df['ToolBroken (Shifted)']]\n",
    "\n",
    "ProgNo_shift = ProgNo_shift[ProgNo_shift['ToolBroken'] == 1][\"ProgNo\"]\n",
    "\n",
    "\n",
    "from collections import Counter\n",
    "ProgNo_shift_occurance = Counter( ProgNo_shift )\n",
    "\n",
    "ProgNo_df = pd.DataFrame.from_dict(ProgNo_shift_occurance.items())\n",
    "ProgNo_df[1] = round(ProgNo_df[1]/2)\n",
    "ProgNo_df\n",
    "\n",
    "ProgNo_df.columns = ['ProgNo', 'Change_overs']\n",
    "ProgNo_df_sort = ProgNo_df.sort_values(by=['Change_overs'], ascending=False)\n",
    "ProgNo_df_sort"
   ]
  },
  {
   "cell_type": "markdown",
   "id": "bc6a3565",
   "metadata": {},
   "source": [
    "#### Major contributors are tool 30, 6, 14, etc --> to find in which progNo they occur most"
   ]
  },
  {
   "cell_type": "code",
   "execution_count": null,
   "id": "5f18e75d",
   "metadata": {},
   "outputs": [],
   "source": [
    "df['ToolBroken (Shifted)'] = df['ToolBroken'].shift(periods=1)\n",
    "ProgNo_shift=df[df['ToolBroken'] != df['ToolBroken (Shifted)']]\n",
    "ProgNo_shift = ProgNo_shift[ProgNo_shift['ToolBroken'] == 1]\n",
    "\n",
    "# ProgNo_shift\n",
    "\n",
    "progNo_when_presentTool = ProgNo_shift[ProgNo_shift['ProgNo'] == 10437][\"PresentTool\"]\n",
    "\n",
    "from collections import Counter\n",
    "ProgNo_shift_occurance = Counter( progNo_when_presentTool )\n",
    "ProgNo_shift_occurance\n",
    "\n",
    "ProgNo_presentTool = pd.DataFrame.from_dict(ProgNo_shift_occurance.items())\n",
    "ProgNo_presentTool[1] = round(ProgNo_presentTool[1]/2)\n",
    "ProgNo_presentTool\n",
    "\n",
    "ProgNo_presentTool.columns = ['Tool_when_10437', 'Change_overs']\n",
    "ProgNo_presentTool = ProgNo_presentTool.sort_values(by=['Change_overs'], ascending=False)\n",
    "ProgNo_presentTool\n"
   ]
  },
  {
   "cell_type": "code",
   "execution_count": null,
   "id": "328c459e",
   "metadata": {},
   "outputs": [],
   "source": [
    "df['ToolBroken (Shifted)'] = df['ToolBroken'].shift(periods=1)\n",
    "ProgNo_shift=df[df['ToolBroken'] != df['ToolBroken (Shifted)']]\n",
    "ProgNo_shift = ProgNo_shift[ProgNo_shift['ToolBroken'] == 1]\n",
    "\n",
    "# ProgNo_shift\n",
    "\n",
    "progNo_when_presentTool = ProgNo_shift[ProgNo_shift['ProgNo'] == 20437][\"PresentTool\"]\n",
    "\n",
    "from collections import Counter\n",
    "ProgNo_shift_occurance = Counter( progNo_when_presentTool )\n",
    "ProgNo_shift_occurance\n",
    "\n",
    "ProgNo_presentTool = pd.DataFrame.from_dict(ProgNo_shift_occurance.items())\n",
    "ProgNo_presentTool[1] = round(ProgNo_presentTool[1]/2)\n",
    "ProgNo_presentTool\n",
    "\n",
    "ProgNo_presentTool.columns = ['Tool_when_20437', 'Change_overs']\n",
    "ProgNo_presentTool = ProgNo_presentTool.sort_values(by=['Change_overs'], ascending=False)\n",
    "ProgNo_presentTool"
   ]
  },
  {
   "cell_type": "code",
   "execution_count": null,
   "id": "8e21e938",
   "metadata": {},
   "outputs": [],
   "source": []
  },
  {
   "cell_type": "code",
   "execution_count": null,
   "id": "56bbd3f0",
   "metadata": {},
   "outputs": [],
   "source": []
  },
  {
   "cell_type": "markdown",
   "id": "0e12845e",
   "metadata": {},
   "source": [
    "### Present ToolLife Analysis"
   ]
  },
  {
   "cell_type": "markdown",
   "id": "85c7126e",
   "metadata": {},
   "source": [
    "#### Toollife when tool broken"
   ]
  },
  {
   "cell_type": "code",
   "execution_count": null,
   "id": "a7b909d4",
   "metadata": {},
   "outputs": [],
   "source": [
    "# toollife_while_broken = which_tool_broken[which_tool_broken['ToolBroken'] == 1][\"PresentToolLife\"]\n",
    "which_tool_broken = which_tool_broken[which_tool_broken['ToolBroken'] == 1]\n",
    "which_tool_broken = pd.DataFrame(which_tool_broken)\n",
    "# which_tool_broken[\"PresentToolLife\"].unique()\n",
    "which_tool_broken[\"PresentTool\"].unique()                 ### Tools which were broken most"
   ]
  },
  {
   "cell_type": "code",
   "execution_count": null,
   "id": "975d2b7a",
   "metadata": {},
   "outputs": [],
   "source": [
    "df['ToolBroken (Shifted)'] = df['ToolBroken'].shift(periods=1)\n",
    "toolbroken_shift=df[df['ToolBroken'] != df['ToolBroken (Shifted)']]\n",
    "# toolbroken_shift=df[df['ToolBroken'] != df['ToolBroken (Shifted)']][[\"PresentTool\", \"ToolBroken\", 'PresentToolLife']]\n",
    "toolbroken_shift = toolbroken_shift[toolbroken_shift['ToolBroken'] == 1][\"PresentTool\"]"
   ]
  },
  {
   "cell_type": "code",
   "execution_count": null,
   "id": "5caf517e",
   "metadata": {},
   "outputs": [],
   "source": [
    "df['ToolBroken (Shifted)'] = df['ToolBroken'].shift(periods=1)\n",
    "Toolbroken_df=df[df['ToolBroken'] != df['ToolBroken (Shifted)']]\n",
    "Toolbroken_df = Toolbroken_df[Toolbroken_df['ToolBroken'] == 1]\n",
    "# Toolbroken_df\n",
    "Toolbroken_df1 = Toolbroken_df[Toolbroken_df['PresentTool'] == 30][\"PresentToolLife\"]\n",
    "# Toolbroken_df1\n",
    "\n",
    "t1 = Toolbroken_df1.value_counts()\n",
    "print(t1)\n",
    "\n",
    "toollife = df[df['PresentTool'] == 30][\"PresentToolLife\"]   ### use to get the max-min values\n",
    "\n",
    "# t1"
   ]
  },
  {
   "cell_type": "markdown",
   "id": "e42d4f1d",
   "metadata": {},
   "source": [
    "`Toollife`"
   ]
  },
  {
   "cell_type": "code",
   "execution_count": null,
   "id": "73161256",
   "metadata": {},
   "outputs": [],
   "source": [
    "toollife.min()"
   ]
  },
  {
   "cell_type": "code",
   "execution_count": null,
   "id": "109ec5c4",
   "metadata": {},
   "outputs": [],
   "source": [
    "toollife.max()"
   ]
  },
  {
   "cell_type": "code",
   "execution_count": null,
   "id": "04fac0c0",
   "metadata": {},
   "outputs": [],
   "source": [
    "div = (toollife.max()-toollife.min())/3\n",
    "div"
   ]
  },
  {
   "cell_type": "code",
   "execution_count": null,
   "id": "c2f9a440",
   "metadata": {},
   "outputs": [],
   "source": [
    "first = div+toollife.min()\n",
    "first"
   ]
  },
  {
   "cell_type": "code",
   "execution_count": null,
   "id": "df7cf9c2",
   "metadata": {},
   "outputs": [],
   "source": [
    "sec = 2*div+toollife.min()\n",
    "sec"
   ]
  },
  {
   "cell_type": "code",
   "execution_count": null,
   "id": "b8e8cd4e",
   "metadata": {},
   "outputs": [],
   "source": [
    "new = pd.DataFrame.from_dict(t1.items())\n",
    "new.columns = ['A', 'B']\n",
    "new = new.sort_values(by=['B'], ascending=False)\n",
    "# new\n",
    "\n",
    "new_range = (new[(new['A']>=toollife.min()) & (new['A']<first)][['A','B']])[\"B\"].count()\n",
    "mid_range = (new[(new['A']>=first) & (new['A']<sec)][['A','B']])[\"B\"].count()\n",
    "old_range = (new[(new['A']>=sec) & (new['A']<toollife.max())][['A','B']])[\"B\"].count()\n",
    "\n",
    "print(\"The changeovers at new range is {}\". format(new_range))\n",
    "print(\"The changeovers at mid range is {}\". format(mid_range))\n",
    "print(\"The changeovers at old range is {}\". format(old_range))"
   ]
  },
  {
   "cell_type": "code",
   "execution_count": null,
   "id": "ee83fbeb",
   "metadata": {},
   "outputs": [],
   "source": [
    "### Tool Life Results"
   ]
  },
  {
   "cell_type": "markdown",
   "id": "623a00e5",
   "metadata": {},
   "source": [
    "__note__<br>\n",
    "\n",
    "`Range`: New + Mid + Old <br>\n",
    "\n",
    "`Tool 5` : 0 + 1+ 1 <br>\n",
    "`Tool 6` : 0 + 0 + 24 <br>\n",
    "`Tool 7` : 0 + 0 + 15 <br>\n",
    "`Tool 13` : 0 + 5 + 2 <br>\n",
    "`Tool 14` : 0 + 0 + 7 <br>\n",
    "`Tool 23` : 0 + 0 + 1 <br>\n",
    "`Tool 30` : 0 + 0 + 10\n",
    "\n",
    "\n"
   ]
  },
  {
   "cell_type": "code",
   "execution_count": null,
   "id": "c7f166f1",
   "metadata": {},
   "outputs": [],
   "source": []
  },
  {
   "cell_type": "code",
   "execution_count": null,
   "id": "e411feae",
   "metadata": {},
   "outputs": [],
   "source": []
  },
  {
   "cell_type": "code",
   "execution_count": null,
   "id": "466dec06",
   "metadata": {},
   "outputs": [],
   "source": []
  },
  {
   "cell_type": "markdown",
   "id": "93d0e224",
   "metadata": {},
   "source": [
    "### correlations among the datapoints"
   ]
  },
  {
   "cell_type": "code",
   "execution_count": null,
   "id": "00ff74bc",
   "metadata": {},
   "outputs": [],
   "source": [
    "df.columns"
   ]
  },
  {
   "cell_type": "code",
   "execution_count": null,
   "id": "1c0902f5",
   "metadata": {},
   "outputs": [],
   "source": [
    "data_corr =df.drop(['ProgNo','Alarm', 'ToolBroken', 'Prog_Interrupt', 'ElecPanel_Temperature', 'TimeStamp', 'Id',\n",
    "       'ToolBroken (Shifted)'], axis=1)\n",
    "data_corr.dropna(axis=1,inplace=True)\n",
    "data_corr.tail(2)"
   ]
  },
  {
   "cell_type": "code",
   "execution_count": null,
   "id": "9ca45377",
   "metadata": {},
   "outputs": [],
   "source": [
    "len(data_corr)"
   ]
  },
  {
   "cell_type": "code",
   "execution_count": null,
   "id": "8745c40f",
   "metadata": {},
   "outputs": [],
   "source": [
    "corr = data_corr.corr()\n",
    "kot = corr[corr>=0.5] \n",
    "\n",
    "plt.figure(figsize = (15,8))\n",
    "sns.heatmap(kot.corr(), annot = True, fmt = '.1f', linewidths=0.5, linecolor='green')\n",
    "plt.show()"
   ]
  },
  {
   "cell_type": "code",
   "execution_count": null,
   "id": "828cdd13",
   "metadata": {},
   "outputs": [],
   "source": [
    "dfCorr = data_corr.corr()\n",
    "filteredDf = dfCorr[((dfCorr >= .55) | (dfCorr <= -.5)) & (dfCorr !=1.000)]\n",
    "plt.figure(figsize=(30,10))\n",
    "sns.heatmap(filteredDf, annot=True, cmap=\"Reds\", fmt = '.1f', linewidths=0.5, linecolor='green')\n",
    "plt.show()"
   ]
  },
  {
   "cell_type": "code",
   "execution_count": null,
   "id": "b59c070b",
   "metadata": {},
   "outputs": [],
   "source": []
  },
  {
   "cell_type": "code",
   "execution_count": null,
   "id": "8461dca1",
   "metadata": {},
   "outputs": [],
   "source": []
  },
  {
   "cell_type": "code",
   "execution_count": null,
   "id": "6f0a227a",
   "metadata": {},
   "outputs": [],
   "source": []
  },
  {
   "cell_type": "code",
   "execution_count": null,
   "id": "f8833643",
   "metadata": {},
   "outputs": [],
   "source": []
  },
  {
   "cell_type": "code",
   "execution_count": null,
   "id": "65802bfa",
   "metadata": {},
   "outputs": [],
   "source": []
  },
  {
   "cell_type": "markdown",
   "id": "090b31b7",
   "metadata": {},
   "source": [
    "### Finding Coolant Pressure signature on 6 months data"
   ]
  },
  {
   "cell_type": "markdown",
   "id": "6b09b338",
   "metadata": {},
   "source": [
    "#### Coolant 1-Day signature extract"
   ]
  },
  {
   "cell_type": "markdown",
   "id": "a502b654",
   "metadata": {},
   "source": [
    "`Chirondata_20230511.csv --> ToolBreak=14, ToolBreak=5\n",
    "Chirondata_20230516.csv --> ToolBreak= 6\n",
    "Chirondata_20230517.csv --> ToolBreak= 6\n",
    "Chirondata_20230518.csv --> ToolBreak=6\n",
    "Chirondata_20230522.csv --> ToolBreak=5\n",
    "Chirondata_20230523.csv --> ToolBreak=14\n",
    "Chirondata_20230524.csv --> ToolBreak=14`\n"
   ]
  },
  {
   "cell_type": "code",
   "execution_count": null,
   "id": "38d901e3",
   "metadata": {},
   "outputs": [],
   "source": [
    "import os\n",
    "import pandas as pd\n",
    "import numpy as np\n",
    "import matplotlib.pyplot as plt\n",
    "import seaborn as sns"
   ]
  },
  {
   "cell_type": "code",
   "execution_count": null,
   "id": "7ef795a5",
   "metadata": {},
   "outputs": [],
   "source": [
    "df_1= pd.read_csv(\"Chirondata_20230516.csv\")\n",
    "df_1.head(2)"
   ]
  },
  {
   "cell_type": "code",
   "execution_count": null,
   "id": "9d893a21",
   "metadata": {},
   "outputs": [],
   "source": [
    "df_1['New_Time'] = df_1.TimeStamp.str[11:19]"
   ]
  },
  {
   "cell_type": "code",
   "execution_count": null,
   "id": "98d7e2b5",
   "metadata": {},
   "outputs": [],
   "source": [
    "df_1 = df_1.drop(['ProgRun','Alarm', 'Day', 'Hours', 'Minute', 'Year', 'Month','Id', 'HydMTmp','HydMVibration','ElecPanel_Humidity', 'CTinMIN', 'CTinSEC'], axis=1)\n",
    "df_1.dropna(axis=1,inplace=True)\n",
    "df_1.tail(2)"
   ]
  },
  {
   "cell_type": "code",
   "execution_count": null,
   "id": "bb07674d",
   "metadata": {},
   "outputs": [],
   "source": [
    "time=df_1['New_Time'][df_1['ToolBroken']==1]\n",
    "time.values"
   ]
  },
  {
   "cell_type": "code",
   "execution_count": null,
   "id": "181f389f",
   "metadata": {},
   "outputs": [],
   "source": [
    "# get_time_data = df_1.set_index('New_Time')['19:31:09':'19:32:49'] \n",
    "get_time_data = df_1.set_index('New_Time')[time.values[1]:time.values[-1]] \n",
    "# get_time_data[[\"CoolantPr\"]]\n",
    "\n",
    "# get_time_data['Time'] = get_time_data.TimeStamp.str[11:19]\n",
    "\n",
    "# ### To know which tool was operating before break\n",
    "get_time_data[[\"CoolantPr\", \"Tool_wear\", \"PresentTool\"]]"
   ]
  },
  {
   "cell_type": "code",
   "execution_count": null,
   "id": "6b285c9e",
   "metadata": {},
   "outputs": [],
   "source": [
    "### before break what tools appear most\n",
    "get_time_data[[\"PresentTool\"]].value_counts().index.values"
   ]
  },
  {
   "cell_type": "markdown",
   "id": "823c924c",
   "metadata": {},
   "source": [
    "`Conclusion`: <br>\n",
    "- If toolbreak = 5, 4 occurs.<br>\n",
    "- If toolbreak = 6, 5 occurs.<br>\n",
    "- If toolbreak = 14, 13 occurs."
   ]
  },
  {
   "cell_type": "markdown",
   "id": "8a113e6d",
   "metadata": {},
   "source": [
    "#### Lets find the signature of 5th before 6th break"
   ]
  },
  {
   "cell_type": "code",
   "execution_count": null,
   "id": "bdc3937c",
   "metadata": {},
   "outputs": [],
   "source": [
    "col18=get_time_data[[\"CoolantPr\"]]\n",
    "col18"
   ]
  },
  {
   "cell_type": "code",
   "execution_count": null,
   "id": "7ffd1f39",
   "metadata": {},
   "outputs": [],
   "source": [
    "col18_arr = col18.reset_index()\n",
    "col18_arr[\"CoolantPr\"]"
   ]
  },
  {
   "cell_type": "code",
   "execution_count": null,
   "id": "5dc2a394",
   "metadata": {},
   "outputs": [],
   "source": [
    "plt.figure( figsize=(10, 10) )\n",
    "plt.plot(col18)"
   ]
  },
  {
   "cell_type": "code",
   "execution_count": null,
   "id": "133c35a0",
   "metadata": {},
   "outputs": [],
   "source": [
    "for i in col18_arr[\"CoolantPr\"]:\n",
    "    print(i)"
   ]
  },
  {
   "cell_type": "code",
   "execution_count": null,
   "id": "7e62f059",
   "metadata": {},
   "outputs": [],
   "source": []
  },
  {
   "cell_type": "markdown",
   "id": "fd279547",
   "metadata": {},
   "source": [
    "#### Coolant Pressure comparison with same toolbreak"
   ]
  },
  {
   "cell_type": "code",
   "execution_count": null,
   "id": "c98eba77",
   "metadata": {},
   "outputs": [],
   "source": []
  },
  {
   "cell_type": "code",
   "execution_count": null,
   "id": "bb2d211a",
   "metadata": {},
   "outputs": [],
   "source": []
  },
  {
   "cell_type": "code",
   "execution_count": null,
   "id": "90fef1e8",
   "metadata": {},
   "outputs": [],
   "source": []
  },
  {
   "cell_type": "code",
   "execution_count": null,
   "id": "659e995c",
   "metadata": {},
   "outputs": [],
   "source": []
  },
  {
   "cell_type": "code",
   "execution_count": null,
   "id": "17e283ae",
   "metadata": {},
   "outputs": [],
   "source": []
  },
  {
   "cell_type": "code",
   "execution_count": null,
   "id": "797f23cd",
   "metadata": {},
   "outputs": [],
   "source": []
  },
  {
   "cell_type": "markdown",
   "id": "48f92ff9",
   "metadata": {},
   "source": [
    "#### Coolant Pressure comparison with different toolbreak"
   ]
  },
  {
   "cell_type": "code",
   "execution_count": null,
   "id": "2bd2b3de",
   "metadata": {},
   "outputs": [],
   "source": []
  },
  {
   "cell_type": "code",
   "execution_count": null,
   "id": "fa54fb50",
   "metadata": {},
   "outputs": [],
   "source": []
  },
  {
   "cell_type": "code",
   "execution_count": null,
   "id": "b5167564",
   "metadata": {},
   "outputs": [],
   "source": []
  },
  {
   "cell_type": "code",
   "execution_count": null,
   "id": "a8e78903",
   "metadata": {},
   "outputs": [],
   "source": []
  },
  {
   "cell_type": "code",
   "execution_count": null,
   "id": "3d472002",
   "metadata": {},
   "outputs": [],
   "source": []
  },
  {
   "cell_type": "code",
   "execution_count": null,
   "id": "3ebfa832",
   "metadata": {},
   "outputs": [],
   "source": [
    "df['New_Time'] = df.TimeStamp.str[11:19]"
   ]
  },
  {
   "cell_type": "code",
   "execution_count": null,
   "id": "3acc7de5",
   "metadata": {},
   "outputs": [],
   "source": [
    "time=df['New_Time'][df['ToolBroken']==1]\n",
    "time.values "
   ]
  },
  {
   "cell_type": "code",
   "execution_count": null,
   "id": "f2552425",
   "metadata": {},
   "outputs": [],
   "source": []
  },
  {
   "cell_type": "code",
   "execution_count": null,
   "id": "74a0d236",
   "metadata": {},
   "outputs": [],
   "source": [
    "import numpy as np\n",
    "import pandas as pd\n",
    "def breakage(filename):\n",
    "    data = pd.read_csv(filename)\n",
    "    data['New_Time'] = data.TimeStamp.str[11:19]\n",
    "    data[['ProgRun', 'ToolBroken']] = data[['ProgRun', 'ToolBroken']].astype(int)\n",
    "    co1=data['ToolBroken'][data['ToolBroken']==0].count()\n",
    "    co2=data['ToolBroken'][data['ToolBroken']==1].count()\n",
    "    return co1, co2\n",
    "\n",
    "    "
   ]
  },
  {
   "cell_type": "code",
   "execution_count": null,
   "id": "0acaa50d",
   "metadata": {},
   "outputs": [],
   "source": [
    "# breakage(\"Chirondata_2023051."
   ]
  },
  {
   "cell_type": "markdown",
   "id": "0e912216",
   "metadata": {},
   "source": [
    "#### Study Data Chirondata_20230511.csv"
   ]
  },
  {
   "cell_type": "code",
   "execution_count": null,
   "id": "a8d19c40",
   "metadata": {},
   "outputs": [],
   "source": [
    "# data_11 = pd.read_csv('Chirondata_20230511.csv')\n",
    "# data_11['New_Time'] = data_11.TimeStamp.str[11:19]\n",
    "# time_11=data_11['New_Time'][data_11['ToolBroken']==1]\n",
    "# time_11.values"
   ]
  },
  {
   "cell_type": "markdown",
   "id": "39994d24",
   "metadata": {},
   "source": [
    "`Chirondata_20230511.csv\n",
    "Chirondata_20230516.csv\n",
    "Chirondata_20230517.csv\n",
    "Chirondata_20230518.csv\n",
    "Chirondata_20230522.csv\n",
    "Chirondata_20230523.csv\n",
    "Chirondata_20230524.csv`"
   ]
  },
  {
   "cell_type": "markdown",
   "id": "2859eaab",
   "metadata": {},
   "source": [
    "### Study of Chiron on 16/05/2023"
   ]
  },
  {
   "cell_type": "code",
   "execution_count": null,
   "id": "e29ef30f",
   "metadata": {},
   "outputs": [],
   "source": [
    "breakage(\"Chirondata_20230516.csv\")"
   ]
  },
  {
   "cell_type": "code",
   "execution_count": null,
   "id": "083ae514",
   "metadata": {},
   "outputs": [],
   "source": [
    "data_16 = pd.read_csv('Chirondata_20230516.csv')\n",
    "data_16['New_Time'] = data_16.TimeStamp.str[11:19]\n",
    "time_16=data_16['New_Time'][data_16['ToolBroken']==1]\n",
    "time_16.values"
   ]
  },
  {
   "cell_type": "code",
   "execution_count": null,
   "id": "b08e92d6",
   "metadata": {},
   "outputs": [],
   "source": [
    "data = pd.read_csv('Chirondata_20230516.csv')\n",
    "data['New_Time'] = data.TimeStamp.str[11:19]\n",
    "df2 = data.set_index('New_Time')['19:30:29':'19:34:11']   ### gundrill break timestamp\n",
    "# df2 = data.set_index('New_Time')['23:59:59':'20:27:48']   ### start to end timestamp\n",
    "# df2 = data.set_index('New_Time')['18:58:55':'19:49:48']\n",
    "df2['Time'] = df2.TimeStamp.str[11:19]\n",
    "# df2.head(2)"
   ]
  },
  {
   "cell_type": "code",
   "execution_count": null,
   "id": "21f40fc6",
   "metadata": {},
   "outputs": [],
   "source": [
    "df2.columns"
   ]
  },
  {
   "cell_type": "code",
   "execution_count": null,
   "id": "27de62b2",
   "metadata": {},
   "outputs": [],
   "source": [
    "import matplotlib.pyplot as plt\n",
    "plt.figure( figsize=(20, 20) )\n",
    "# graph = df2.plot(x = 'TimeStamp', y = ['CoolantPr', 'SP1Vibration','SP1Load', 'PresentToolLife'])\n",
    "# graph = df2.plot(x = 'Time', y = ['PresentToolLife'])\n",
    "graph = df2.plot(x = 'Time', y = ['UAxisError'])"
   ]
  },
  {
   "cell_type": "code",
   "execution_count": null,
   "id": "8faa5184",
   "metadata": {},
   "outputs": [],
   "source": [
    "df2_norm = df2.drop(['ProgNo','ProgRun', 'ToolBroken','Alarm', 'Day', 'Hours', 'Minute', 'Year', 'Month','TimeStamp','Time','Id'], axis=1)\n",
    "df2_norm.dropna(axis=1,inplace=True)\n",
    "df2_norm.tail(2)"
   ]
  },
  {
   "cell_type": "code",
   "execution_count": null,
   "id": "73efb39f",
   "metadata": {},
   "outputs": [],
   "source": [
    "df2_norm=(df2_norm.astype(np.float32)-df2_norm.astype(np.float32).min())/(df2_norm.astype(np.float32).max()-df2_norm.astype(np.float32).min())\n",
    "df2_norm.head(2)"
   ]
  },
  {
   "cell_type": "code",
   "execution_count": null,
   "id": "a8704776",
   "metadata": {},
   "outputs": [],
   "source": [
    "# df2.TimeStamp.str[11:19]\n",
    "\n",
    "df2_norm= df2_norm.join(df2['TimeStamp'])\n",
    "df2_norm['Time'] = df2.TimeStamp.str[11:19]\n",
    "df2_norm.head(2)"
   ]
  },
  {
   "cell_type": "code",
   "execution_count": null,
   "id": "eeb12257",
   "metadata": {},
   "outputs": [],
   "source": [
    "import matplotlib.pyplot as plt\n",
    "plt.figure( figsize=(20, 20) )\n",
    "graph = df2_norm.plot(x = 'Time', y = ['CoolantPr', 'PresentToolLife'])"
   ]
  },
  {
   "cell_type": "code",
   "execution_count": null,
   "id": "e0b92d8a",
   "metadata": {},
   "outputs": [],
   "source": []
  },
  {
   "cell_type": "code",
   "execution_count": null,
   "id": "b99da753",
   "metadata": {},
   "outputs": [],
   "source": []
  },
  {
   "cell_type": "markdown",
   "id": "faaaec3a",
   "metadata": {},
   "source": [
    "### Study of Chiron at 17/05/2023"
   ]
  },
  {
   "cell_type": "code",
   "execution_count": null,
   "id": "b2320499",
   "metadata": {},
   "outputs": [],
   "source": [
    "breakage(\"Chirondata_20230517.csv\")"
   ]
  },
  {
   "cell_type": "code",
   "execution_count": null,
   "id": "81691591",
   "metadata": {},
   "outputs": [],
   "source": [
    "data_17 = pd.read_csv('Chirondata_20230517.csv')\n",
    "data_17['New_Time'] = data_17.TimeStamp.str[11:19]\n",
    "time_17=data_17['New_Time'][data_17['ToolBroken']==1]\n",
    "time_17.values"
   ]
  },
  {
   "cell_type": "code",
   "execution_count": null,
   "id": "077aaef7",
   "metadata": {},
   "outputs": [],
   "source": [
    "data = pd.read_csv('Chirondata_20230517.csv')\n",
    "data['New_Time'] = data.TimeStamp.str[11:19]\n",
    "df3 = data.set_index('New_Time')['10:57:30':'10:57:56']\n",
    "df3['Time'] = df3.TimeStamp.str[11:19]\n",
    "df3.head(2)"
   ]
  },
  {
   "cell_type": "code",
   "execution_count": null,
   "id": "44385730",
   "metadata": {},
   "outputs": [],
   "source": [
    "import matplotlib.pyplot as plt\n",
    "plt.figure( figsize=(20, 20) )\n",
    "# graph = df3.plot(x = 'Time', y = ['CoolantPr', 'SP1Vibration','SP1Load', 'PresentToolLife'])\n",
    "graph = df3.plot(x = 'Time', y = ['PresentToolLife'])"
   ]
  },
  {
   "cell_type": "markdown",
   "id": "bfdd4248",
   "metadata": {},
   "source": [
    "`Coolant pressure falls and gundrill breaks`"
   ]
  },
  {
   "cell_type": "code",
   "execution_count": null,
   "id": "d4eda2cd",
   "metadata": {},
   "outputs": [],
   "source": [
    "df3_norm = df3.drop(['ProgNo','ProgRun', 'ToolBroken','Alarm', 'Day', 'Hours', 'Minute', 'Year', 'Month','TimeStamp','Time','Id'], axis=1)\n",
    "df3_norm.dropna(axis=1,inplace=True)\n",
    "df3_norm.tail(2)"
   ]
  },
  {
   "cell_type": "code",
   "execution_count": null,
   "id": "04cd67bd",
   "metadata": {},
   "outputs": [],
   "source": [
    "df3_norm=(df3_norm.astype(np.float32)-df3_norm.astype(np.float32).min())/(df3_norm.astype(np.float32).max()-df3_norm.astype(np.float32).min())\n",
    "df3_norm.head(2)"
   ]
  },
  {
   "cell_type": "code",
   "execution_count": null,
   "id": "1146c38e",
   "metadata": {},
   "outputs": [],
   "source": [
    "df3_norm= df3_norm.join(df3['TimeStamp'])\n",
    "df3_norm['Time'] = df3.TimeStamp.str[11:19]\n",
    "df3_norm.head(2)"
   ]
  },
  {
   "cell_type": "code",
   "execution_count": null,
   "id": "00392432",
   "metadata": {},
   "outputs": [],
   "source": [
    "import matplotlib.pyplot as plt\n",
    "plt.figure( figsize=(20, 20) )\n",
    "graph = df3_norm.plot(x = 'Time', y = ['CoolantPr','PresentToolLife'])"
   ]
  },
  {
   "cell_type": "code",
   "execution_count": null,
   "id": "bf0252ee",
   "metadata": {},
   "outputs": [],
   "source": []
  },
  {
   "cell_type": "code",
   "execution_count": null,
   "id": "beb1395f",
   "metadata": {},
   "outputs": [],
   "source": []
  },
  {
   "cell_type": "code",
   "execution_count": null,
   "id": "1834c331",
   "metadata": {},
   "outputs": [],
   "source": []
  },
  {
   "cell_type": "markdown",
   "id": "70b2b737",
   "metadata": {},
   "source": [
    "### Study of Chiron at 18/05/2023"
   ]
  },
  {
   "cell_type": "code",
   "execution_count": null,
   "id": "8d7edee9",
   "metadata": {},
   "outputs": [],
   "source": [
    "breakage(\"Chirondata_20230518.csv\")"
   ]
  },
  {
   "cell_type": "code",
   "execution_count": null,
   "id": "b8049aa2",
   "metadata": {},
   "outputs": [],
   "source": [
    "data_18 = pd.read_csv('Chirondata_20230518.csv')\n",
    "data_18['New_Time'] = data_18.TimeStamp.str[11:19]\n",
    "time_18=data_18['New_Time'][data_18['ToolBroken']==1]\n",
    "time_18.values"
   ]
  },
  {
   "cell_type": "code",
   "execution_count": null,
   "id": "a410dd86",
   "metadata": {},
   "outputs": [],
   "source": [
    "data = pd.read_csv('Chirondata_20230518.csv')\n",
    "data['New_Time'] = data.TimeStamp.str[11:19]\n",
    "df4= data.set_index('New_Time')['14:10:30':'14:11:56']\n",
    "df4['Time'] = df4.TimeStamp.str[11:19]\n",
    "df4.head(2)"
   ]
  },
  {
   "cell_type": "code",
   "execution_count": null,
   "id": "7c85fdfe",
   "metadata": {},
   "outputs": [],
   "source": [
    "import matplotlib.pyplot as plt\n",
    "plt.figure( figsize=(20, 20) )\n",
    "# graph = df3.plot(x = 'Time', y = ['CoolantPr', 'SP1Vibration','SP1Load', 'PresentToolLife'])\n",
    "graph = df4.plot(x = 'Time', y = ['PresentToolLife'])"
   ]
  },
  {
   "cell_type": "code",
   "execution_count": null,
   "id": "82df87a0",
   "metadata": {},
   "outputs": [],
   "source": [
    "df4_norm = df4.drop(['ProgNo','ProgRun', 'ToolBroken','Alarm', 'Day', 'Hours', 'Minute', 'Year', 'Month','TimeStamp','Time','Id'], axis=1)\n",
    "df4_norm.dropna(axis=1,inplace=True)\n",
    "df4_norm.tail(2)"
   ]
  },
  {
   "cell_type": "code",
   "execution_count": null,
   "id": "986f1ef6",
   "metadata": {},
   "outputs": [],
   "source": [
    "df4_norm=(df4_norm.astype(np.float32)-df4_norm.astype(np.float32).min())/(df4_norm.astype(np.float32).max()-df4_norm.astype(np.float32).min())\n",
    "df4_norm.head(2)"
   ]
  },
  {
   "cell_type": "code",
   "execution_count": null,
   "id": "489a33e4",
   "metadata": {},
   "outputs": [],
   "source": [
    "df4_norm= df4_norm.join(df2['TimeStamp'])\n",
    "df4_norm['Time'] = df4.TimeStamp.str[11:19]\n",
    "df4_norm.head(2)"
   ]
  },
  {
   "cell_type": "code",
   "execution_count": null,
   "id": "27858a24",
   "metadata": {},
   "outputs": [],
   "source": [
    "import matplotlib.pyplot as plt\n",
    "plt.figure( figsize=(20, 20) )\n",
    "graph = df4_norm.plot(x = 'Time', y = ['CoolantPr','PresentToolLife'])"
   ]
  },
  {
   "cell_type": "code",
   "execution_count": null,
   "id": "15285b70",
   "metadata": {},
   "outputs": [],
   "source": []
  },
  {
   "cell_type": "code",
   "execution_count": null,
   "id": "6b0f9803",
   "metadata": {},
   "outputs": [],
   "source": []
  },
  {
   "cell_type": "code",
   "execution_count": null,
   "id": "0b1f31d7",
   "metadata": {},
   "outputs": [],
   "source": []
  },
  {
   "cell_type": "code",
   "execution_count": null,
   "id": "6474367e",
   "metadata": {},
   "outputs": [],
   "source": []
  },
  {
   "cell_type": "code",
   "execution_count": null,
   "id": "7187889c",
   "metadata": {},
   "outputs": [],
   "source": []
  },
  {
   "cell_type": "markdown",
   "id": "d88fe307",
   "metadata": {},
   "source": [
    "### Plots"
   ]
  },
  {
   "cell_type": "code",
   "execution_count": null,
   "id": "02841bee",
   "metadata": {},
   "outputs": [],
   "source": [
    "data = pd.read_csv(\"Chirondata_20230529.csv\")"
   ]
  },
  {
   "cell_type": "code",
   "execution_count": null,
   "id": "f4673d82",
   "metadata": {},
   "outputs": [],
   "source": [
    "data.columns"
   ]
  },
  {
   "cell_type": "code",
   "execution_count": null,
   "id": "85daa923",
   "metadata": {},
   "outputs": [],
   "source": [
    "### converting true and False into 0 and 1 \n",
    "data[['ProgRun', 'ToolBroken']] = data[['ProgRun', 'ToolBroken']].astype(int)\n",
    "\n",
    "co1=data['ToolBroken'][data['ToolBroken']==0].count()\n",
    "print(co1)\n",
    "print(\"-----------------------------------------------------\")\n",
    "\n",
    "co2=data['ToolBroken'][data['ToolBroken']==1].count()\n",
    "print(co2)"
   ]
  },
  {
   "cell_type": "code",
   "execution_count": null,
   "id": "dbf91839",
   "metadata": {},
   "outputs": [],
   "source": [
    "# co1=data['ToolBroken'][data['ToolBroken']==0].count()\n",
    "# print(co1)\n",
    "# print(\"-----------------------------------------------------\")\n",
    "\n",
    "# co2=data['ToolBroken'][data['ToolBroken']==1].count()\n",
    "# print(co2)"
   ]
  },
  {
   "cell_type": "code",
   "execution_count": null,
   "id": "6ff37ace",
   "metadata": {},
   "outputs": [],
   "source": [
    "data['ToolBroken'][data['ToolBroken']==1].count()"
   ]
  },
  {
   "cell_type": "code",
   "execution_count": null,
   "id": "798b3022",
   "metadata": {},
   "outputs": [],
   "source": [
    "timesp1 = data[data['SP1Vibration'] >5][\"New_Time\"]\n",
    "len(timesp1)"
   ]
  },
  {
   "cell_type": "code",
   "execution_count": null,
   "id": "6b62838d",
   "metadata": {},
   "outputs": [],
   "source": [
    "timesp2 = data[data['SP2Vibration'] >5][\"New_Time\"]\n",
    "len(timesp2)"
   ]
  },
  {
   "cell_type": "code",
   "execution_count": null,
   "id": "c29e26f4",
   "metadata": {},
   "outputs": [],
   "source": [
    "import plotly.express as px\n",
    "import plotly.io as pio\n",
    "import plotly.graph_objects as go\n",
    "pio.templates.default = \"plotly_white\"\n",
    "chart = px.line(data, x='New_Time', \n",
    "                        y=['SP1Vibration','SP2Vibration'], \n",
    "                        title='test')\n",
    "chart.show()"
   ]
  },
  {
   "cell_type": "code",
   "execution_count": null,
   "id": "70c525ec",
   "metadata": {},
   "outputs": [],
   "source": [
    "# plt.figure(figsize = (15,8))\n",
    "# sns.lineplot(data = data[['SP1Vibration',\n",
    "# 'SP1Temp1', 'SP1Load']])\n",
    "# plt.xlabel('time_scale')\n",
    "# plt.ylabel('range')"
   ]
  },
  {
   "cell_type": "code",
   "execution_count": null,
   "id": "6d5cb884",
   "metadata": {},
   "outputs": [],
   "source": [
    "# plt.figure(figsize = (18,10))\n",
    "# plt.subplot(3,3,1)\n",
    "# sns.scatterplot(x = 'New_Time', y = 'SP1Vibration',data = data, color ='orange')\n",
    "# plt.subplot(3,3,2)\n",
    "# sns.scatterplot(x = 'New_Time', y = 'SP1Temp1',data = data, color= 'b')\n",
    "# plt.subplot(3,3,3)\n",
    "# sns.scatterplot(x = 'New_Time', y = 'SP1Vibration',data = data, color ='g')"
   ]
  },
  {
   "cell_type": "code",
   "execution_count": null,
   "id": "24043ca2",
   "metadata": {},
   "outputs": [],
   "source": [
    "# plt.figure(figsize = (15,8))\n",
    "# sns.lineplot(x = 'New_Time', y = 'SP1Vibration', data = data, color = 'green')\n",
    "# sns.set(style= \"darkgrid\", color_codes=True)\n",
    "# plt.xticks()\n",
    "# plt.yticks()"
   ]
  },
  {
   "cell_type": "code",
   "execution_count": null,
   "id": "83ad8194",
   "metadata": {},
   "outputs": [],
   "source": [
    "fig = px.histogram(data, \n",
    "                   x=['SP1Vibration','SP2Vibration'],\n",
    "                   nbins=50, title='SP1Vibration magnitude histogram')\n",
    "fig.show()"
   ]
  },
  {
   "cell_type": "code",
   "execution_count": null,
   "id": "942e7571",
   "metadata": {},
   "outputs": [],
   "source": [
    "plt.figure(figsize=(15, 10))\n",
    "sns.countplot(data.ProgRun)\n",
    "plt.title(\"Distribution of Manual and AutoMode\")\n",
    "plt.show()"
   ]
  },
  {
   "cell_type": "code",
   "execution_count": null,
   "id": "75ff9ca5",
   "metadata": {},
   "outputs": [],
   "source": [
    "import plotly.express as px\n",
    "data = data\n",
    "figure = px.histogram(data, x = \"SP1Vibration\", \n",
    "                      color = \"ProgRun\", \n",
    "                      title= \"Factors Affecting machines\")\n",
    "figure.show()"
   ]
  },
  {
   "cell_type": "code",
   "execution_count": null,
   "id": "65e5bed1",
   "metadata": {},
   "outputs": [],
   "source": [
    "boxplot = data.boxplot(column=['SP1Vibration', 'SP2Vibration'])"
   ]
  },
  {
   "cell_type": "code",
   "execution_count": null,
   "id": "e903cd5a",
   "metadata": {},
   "outputs": [],
   "source": [
    "boxplot = data.boxplot(column=['AaxisError', 'CoolantPr','SP1Load', 'SP2Load', 'SP1TEMP', 'SP2TEMP', 'CTinMIN', 'CTinSEC', 'UAxisError'])\n",
    "plt.xticks(rotation=90)"
   ]
  },
  {
   "cell_type": "code",
   "execution_count": null,
   "id": "f88a696d",
   "metadata": {},
   "outputs": [],
   "source": [
    "boxplot = data_new.boxplot(column=['SP1Vibration', 'SP2Vibration'])"
   ]
  },
  {
   "cell_type": "code",
   "execution_count": null,
   "id": "13a306b4",
   "metadata": {},
   "outputs": [],
   "source": [
    "# data_norm.columns"
   ]
  },
  {
   "cell_type": "code",
   "execution_count": null,
   "id": "1b0b10ad",
   "metadata": {},
   "outputs": [],
   "source": [
    "# timesp1_new = data_new[data_new['SP1Vibration'] >5][\"New_Time\"]\n",
    "# len(timesp1_new)"
   ]
  },
  {
   "cell_type": "code",
   "execution_count": null,
   "id": "5dce5a7c",
   "metadata": {},
   "outputs": [],
   "source": [
    "# timesp2_new = data_new[data_new['SP2Vibration'] >5][\"New_Time\"]\n",
    "# len(timesp2_new)"
   ]
  },
  {
   "cell_type": "code",
   "execution_count": null,
   "id": "bc8f6ff1",
   "metadata": {},
   "outputs": [],
   "source": []
  },
  {
   "cell_type": "markdown",
   "id": "718b2cf8",
   "metadata": {},
   "source": [
    "### Data Normalization & Correlation"
   ]
  },
  {
   "cell_type": "code",
   "execution_count": null,
   "id": "5e455a33",
   "metadata": {},
   "outputs": [],
   "source": [
    "data_new = data.drop(['ProgNo','ProgRun', 'ToolBroken','Alarm', 'Day', 'Hours', 'Minute', 'Year', 'Month','TimeStamp','Id', 'New_Time'], axis=1)\n",
    "data_new.dropna(axis=1,inplace=True)\n",
    "data_new.tail(2)"
   ]
  },
  {
   "cell_type": "code",
   "execution_count": null,
   "id": "c639ff04",
   "metadata": {},
   "outputs": [],
   "source": [
    "### Dropping New_Time column to perform Normalization\n",
    "# data_new = data.drop(['New_Time'], axis=1)\n",
    "# data_new.head(2)"
   ]
  },
  {
   "cell_type": "code",
   "execution_count": null,
   "id": "b94e81f2",
   "metadata": {},
   "outputs": [],
   "source": [
    "data_norm=(data_new.astype(np.float32)-data_new.astype(np.float32).min())/(data_new.astype(np.float32).max()-data_new.astype(np.float32).min())\n",
    "data_norm.head(2)"
   ]
  },
  {
   "cell_type": "code",
   "execution_count": null,
   "id": "d65cabfd",
   "metadata": {},
   "outputs": [],
   "source": [
    "boxplot = data_norm.boxplot(column=['AaxisError', 'CoolantPr','SP1Load', 'SP2Load', 'SP1TEMP', 'SP2TEMP', 'CTinMIN', 'CTinSEC', 'UAxisError', 'HydMTmp', 'HydMVibration'])\n",
    "plt.xticks(rotation=90)"
   ]
  },
  {
   "cell_type": "code",
   "execution_count": null,
   "id": "8afa855b",
   "metadata": {},
   "outputs": [],
   "source": [
    "plt.figure(figsize = (15,8))\n",
    "sns.lineplot(data = data_norm[['SP1Vibration',\n",
    "'SP1Temp1', 'SP1Load']])\n",
    "plt.xlabel('time_scale')\n",
    "plt.ylabel('range')"
   ]
  },
  {
   "cell_type": "code",
   "execution_count": null,
   "id": "4a9d2511",
   "metadata": {},
   "outputs": [],
   "source": [
    "plt.figure(figsize = (15,10))\n",
    "sns.lineplot(data = data_norm[['AaxisError', 'CoolantPr','SP1Load', 'SP2Load', 'SP1TEMP', 'SP2TEMP', 'CTinMIN', 'CTinSEC', 'UAxisError', 'HydMTmp', 'HydMVibration' ]])"
   ]
  },
  {
   "cell_type": "code",
   "execution_count": null,
   "id": "9b2fe022",
   "metadata": {},
   "outputs": [],
   "source": [
    "corr = data_new.corr()\n",
    "corr\n",
    "kot = corr[corr>=0.5]\n",
    "plt.figure(figsize=(12,8))\n",
    "sns.heatmap(kot, cmap=\"Reds\", linewidths=0.5, linecolor='green')"
   ]
  },
  {
   "cell_type": "code",
   "execution_count": null,
   "id": "75eff590",
   "metadata": {},
   "outputs": [],
   "source": [
    "corr = data_new.corr()\n",
    "kot = corr[corr>=0.5] \n",
    "\n",
    "plt.figure(figsize = (15,8))\n",
    "sns.heatmap(kot.corr(), annot = True, fmt = '.1f', linewidths=0.5, linecolor='green')\n",
    "plt.show()\n"
   ]
  },
  {
   "cell_type": "code",
   "execution_count": null,
   "id": "ae7b6eb7",
   "metadata": {},
   "outputs": [],
   "source": []
  },
  {
   "cell_type": "code",
   "execution_count": null,
   "id": "fef79c93",
   "metadata": {},
   "outputs": [],
   "source": []
  },
  {
   "cell_type": "code",
   "execution_count": null,
   "id": "d83b5487",
   "metadata": {},
   "outputs": [],
   "source": []
  },
  {
   "cell_type": "code",
   "execution_count": null,
   "id": "e0051fca",
   "metadata": {},
   "outputs": [],
   "source": []
  },
  {
   "cell_type": "code",
   "execution_count": null,
   "id": "870c99ae",
   "metadata": {},
   "outputs": [],
   "source": []
  },
  {
   "cell_type": "code",
   "execution_count": null,
   "id": "e332cec8",
   "metadata": {},
   "outputs": [],
   "source": []
  },
  {
   "cell_type": "code",
   "execution_count": null,
   "id": "c9385289",
   "metadata": {},
   "outputs": [],
   "source": []
  },
  {
   "cell_type": "code",
   "execution_count": null,
   "id": "32435f4e",
   "metadata": {},
   "outputs": [],
   "source": []
  },
  {
   "cell_type": "code",
   "execution_count": null,
   "id": "291ada26",
   "metadata": {},
   "outputs": [],
   "source": [
    "import numpy as np\n",
    "import pandas as pd\n",
    "import seaborn as sns\n",
    "import matplotlib.pyplot as plt\n",
    "\n",
    "data = pd.read_csv(\"Chirondata_20230516.csv\")\n",
    "data['New_Time'] = data.TimeStamp.str[11:19]\n",
    "data.head(2)"
   ]
  },
  {
   "cell_type": "code",
   "execution_count": null,
   "id": "2b0dc49c",
   "metadata": {},
   "outputs": [],
   "source": [
    "data.corr()"
   ]
  },
  {
   "cell_type": "code",
   "execution_count": null,
   "id": "c5ea284c",
   "metadata": {},
   "outputs": [],
   "source": [
    "plt.figure(figsize=(12,10))\n",
    "corr=data.corr()\n",
    "sns.heatmap(corr,annot=True)"
   ]
  },
  {
   "cell_type": "code",
   "execution_count": null,
   "id": "d6870d72",
   "metadata": {},
   "outputs": [],
   "source": [
    "def correlation(dataset, threshold):\n",
    "    col_corr = set()\n",
    "    corr_matrix = dataset.corr()\n",
    "    for i in range(len(corr_matrix.columns)):\n",
    "        for j in range(i):\n",
    "            if abs(corr_matrix.iloc[i, j]) > threshold: \n",
    "                colname = corr_matrix.columns[i]\n",
    "                col_corr.add(colname)\n",
    "    return col_corr\n",
    "\n"
   ]
  },
  {
   "cell_type": "code",
   "execution_count": null,
   "id": "f936444b",
   "metadata": {},
   "outputs": [],
   "source": [
    "corr_features=correlation(data,0.85)"
   ]
  },
  {
   "cell_type": "code",
   "execution_count": null,
   "id": "db560ff7",
   "metadata": {},
   "outputs": [],
   "source": [
    "corr_features"
   ]
  },
  {
   "cell_type": "code",
   "execution_count": null,
   "id": "225f7463",
   "metadata": {},
   "outputs": [],
   "source": []
  },
  {
   "cell_type": "code",
   "execution_count": null,
   "id": "99885e00",
   "metadata": {},
   "outputs": [],
   "source": []
  },
  {
   "cell_type": "markdown",
   "id": "2684655b",
   "metadata": {},
   "source": [
    "### Analysis with last 6 months data"
   ]
  },
  {
   "cell_type": "code",
   "execution_count": null,
   "id": "6d72de7d",
   "metadata": {},
   "outputs": [],
   "source": [
    "import os\n",
    "import pandas as pd\n",
    "import numpy as np\n",
    "import matplotlib.pyplot as plt\n",
    "\n",
    "filepaths = [f for f in os.listdir(\".\") if f.endswith('.csv')]\n",
    "df = pd.concat(map(pd.read_csv, filepaths))\n",
    "len(df)"
   ]
  },
  {
   "cell_type": "code",
   "execution_count": null,
   "id": "e14fbfdc",
   "metadata": {},
   "outputs": [],
   "source": [
    "df.head(2)"
   ]
  },
  {
   "cell_type": "code",
   "execution_count": null,
   "id": "5ccdccdf",
   "metadata": {},
   "outputs": [],
   "source": [
    "data = df.drop(['ProgNo','ProgRun','Alarm', 'Day', 'Hours', 'Minute', 'Year', 'Month','TimeStamp','Id'], axis=1)\n",
    "data.dropna(axis=1,inplace=True)\n",
    "data.tail(2)"
   ]
  },
  {
   "cell_type": "code",
   "execution_count": null,
   "id": "ec762c08",
   "metadata": {},
   "outputs": [],
   "source": [
    "data.columns"
   ]
  },
  {
   "cell_type": "code",
   "execution_count": null,
   "id": "79609865",
   "metadata": {},
   "outputs": [],
   "source": [
    "def correlation(dataset, threshold):\n",
    "    col_corr = set()\n",
    "    corr_matrix = dataset.corr()\n",
    "    for i in range(len(corr_matrix.columns)):\n",
    "        for j in range(i):\n",
    "            if abs(corr_matrix.iloc[i, j]) > threshold: \n",
    "                colname = corr_matrix.columns[i]\n",
    "                col_corr.add(colname)\n",
    "    return col_corr\n",
    "\n",
    "corr_features=correlation(df,0.65)\n",
    "\n",
    "corr_features\n"
   ]
  },
  {
   "cell_type": "code",
   "execution_count": null,
   "id": "59d79ef8",
   "metadata": {},
   "outputs": [],
   "source": [
    "import seaborn as sns\n",
    "data_Corr = data.corr()\n",
    "filteredDf = data_Corr[((data_Corr >= .65) | (data_Corr <= -.65)) & (data_Corr !=1.000)]\n",
    "plt.figure(figsize=(30,10))\n",
    "sns.heatmap(filteredDf, annot=True, cmap=\"Reds\", fmt = '.1f', linewidths=0.5, linecolor='green')\n",
    "plt.show()"
   ]
  },
  {
   "cell_type": "code",
   "execution_count": null,
   "id": "20c2dc91",
   "metadata": {},
   "outputs": [],
   "source": [
    "data[['ToolBroken']] = data[['ToolBroken']].astype(int)\n",
    "data.tail(2)\n"
   ]
  },
  {
   "cell_type": "code",
   "execution_count": null,
   "id": "c8b7c14e",
   "metadata": {},
   "outputs": [],
   "source": [
    "### finding which tool broken most and converting it to dataframe\n",
    "which_tool_broken = data[data['ToolBroken'] == 1][\"PresentTool\"]\n",
    "which_tool_broken = pd.DataFrame(which_tool_broken)\n",
    "# which_tool_broken\n",
    "which_tool_broken[\"PresentTool\"].unique()             "
   ]
  },
  {
   "cell_type": "code",
   "execution_count": null,
   "id": "e3255a42",
   "metadata": {},
   "outputs": [],
   "source": [
    "which_tool_broken_1 = data[data['ToolBroken'] == 1]\n",
    "which_tool_broken_1 = pd.DataFrame(which_tool_broken_1)\n",
    "# which_tool_broken_1"
   ]
  },
  {
   "cell_type": "code",
   "execution_count": null,
   "id": "e2c632a0",
   "metadata": {},
   "outputs": [],
   "source": [
    "### finding the counts of which_tool_break "
   ]
  },
  {
   "cell_type": "code",
   "execution_count": null,
   "id": "b712b70b",
   "metadata": {},
   "outputs": [],
   "source": [
    "c = which_tool_broken_1[which_tool_broken_1['PresentTool'] == 23].count()\n",
    "c"
   ]
  },
  {
   "cell_type": "code",
   "execution_count": null,
   "id": "209f487d",
   "metadata": {},
   "outputs": [],
   "source": [
    "(70/len(df))*100"
   ]
  },
  {
   "cell_type": "markdown",
   "id": "51ddb6c2",
   "metadata": {},
   "source": [
    "### Hypotheis: coolant more than 100"
   ]
  },
  {
   "cell_type": "code",
   "execution_count": null,
   "id": "b0471a47",
   "metadata": {},
   "outputs": [],
   "source": [
    "data['Coolant_Set_pressure'].max()"
   ]
  },
  {
   "cell_type": "code",
   "execution_count": null,
   "id": "00861d3e",
   "metadata": {},
   "outputs": [],
   "source": [
    "data['Coolant_Set_pressure'].min()"
   ]
  },
  {
   "cell_type": "code",
   "execution_count": null,
   "id": "9d627810",
   "metadata": {},
   "outputs": [],
   "source": [
    "#### Identification of Gun_drill when Coolant pressure is more than 100\n",
    "find_gundrill_coolant = data[data['Coolant_Set_pressure'] > 100]\n",
    "find_gundrill_coolant = pd.DataFrame(find_gundrill_coolant)\n",
    "find_gundrill_coolant.head(2)\n",
    "# find_gundrill[\"PresentTool\"].unique()"
   ]
  },
  {
   "cell_type": "code",
   "execution_count": null,
   "id": "ec8b3ee7",
   "metadata": {},
   "outputs": [],
   "source": [
    "find_gundrill_coolant['Coolant_Set_pressure'].min()"
   ]
  },
  {
   "cell_type": "code",
   "execution_count": null,
   "id": "f81eb0f5",
   "metadata": {},
   "outputs": [],
   "source": [
    "### finding which tool broken most and converting it to dataframe\n",
    "which_tool_broken = find_gundrill_coolant[find_gundrill_coolant['ToolBroken'] == 1][\"PresentTool\"]\n",
    "which_tool_broken = pd.DataFrame(which_tool_broken)\n",
    "# which_tool_broken\n",
    "which_tool_broken[\"PresentTool\"].unique()  "
   ]
  },
  {
   "cell_type": "markdown",
   "id": "0b9b1403",
   "metadata": {},
   "source": [
    "### Tool-life study"
   ]
  },
  {
   "cell_type": "code",
   "execution_count": null,
   "id": "2833c734",
   "metadata": {},
   "outputs": [],
   "source": [
    "find_toolife = data[data['ToolBroken'] == 1][\"PresentToolLife\"]\n",
    "find_toolife"
   ]
  },
  {
   "cell_type": "code",
   "execution_count": null,
   "id": "a1e86bd4",
   "metadata": {},
   "outputs": [],
   "source": []
  },
  {
   "cell_type": "code",
   "execution_count": null,
   "id": "a4a2a53d",
   "metadata": {},
   "outputs": [],
   "source": []
  },
  {
   "cell_type": "code",
   "execution_count": null,
   "id": "1e745836",
   "metadata": {},
   "outputs": [],
   "source": []
  },
  {
   "cell_type": "markdown",
   "id": "9e3ddc0f",
   "metadata": {},
   "source": [
    "## SQL Data"
   ]
  },
  {
   "cell_type": "markdown",
   "id": "48d11d1c",
   "metadata": {},
   "source": [
    "### DZ9"
   ]
  },
  {
   "cell_type": "code",
   "execution_count": 14,
   "id": "2b83673e",
   "metadata": {},
   "outputs": [
    {
     "data": {
      "text/plain": [
       "(33628, 3)"
      ]
     },
     "execution_count": 14,
     "metadata": {},
     "output_type": "execute_result"
    }
   ],
   "source": [
    "import pandas as pd\n",
    "import numpy as np\n",
    "import pyodbc\n",
    "import warnings\n",
    "\n",
    "warnings.filterwarnings(\"ignore\")\n",
    "\n",
    "import pyodbc\n",
    "cnxn = pyodbc.connect(\"Driver={SQL Server Native Client 11.0};\"\n",
    "                        \"Server=na0vm00024.apac.bosch.com;\"\n",
    "                        \"Database=DB_MFC2DB_SQL;\"\n",
    "                        \"Trusted_Connection=yes;\")\n",
    "\n",
    "sql = \"SELECT [ProgRun], [PresentTool], [ToolBroken], [TimeStamp] FROM [ChironDZ9] WHERE [ToolBroken] = 1 ORDER BY [TimeStamp]\"\n",
    "df = pd.read_sql_query(sql, cnxn, index_col=\"TimeStamp\", parse_dates=True)\n",
    "df.shape"
   ]
  },
  {
   "cell_type": "code",
   "execution_count": 21,
   "id": "be6ef441",
   "metadata": {},
   "outputs": [
    {
     "data": {
      "application/vnd.plotly.v1+json": {
       "config": {
        "plotlyServerURL": "https://plot.ly"
       },
       "data": [
        {
         "domain": {
          "x": [
           0,
           1
          ],
          "y": [
           0,
           1
          ]
         },
         "hovertemplate": "PresentTool=%{label}<br>ToolBroken Count=%{value}<extra></extra>",
         "labels": [
          6,
          30,
          14,
          7,
          23,
          22,
          13,
          12,
          28,
          21,
          5,
          29
         ],
         "legendgroup": "",
         "name": "",
         "showlegend": true,
         "type": "pie",
         "values": [
          8316,
          7411,
          4107,
          3277,
          2538,
          2532,
          2344,
          1444,
          808,
          535,
          171,
          145
         ]
        }
       ],
       "layout": {
        "legend": {
         "tracegroupgap": 0
        },
        "template": {
         "data": {
          "bar": [
           {
            "error_x": {
             "color": "#2a3f5f"
            },
            "error_y": {
             "color": "#2a3f5f"
            },
            "marker": {
             "line": {
              "color": "#E5ECF6",
              "width": 0.5
             },
             "pattern": {
              "fillmode": "overlay",
              "size": 10,
              "solidity": 0.2
             }
            },
            "type": "bar"
           }
          ],
          "barpolar": [
           {
            "marker": {
             "line": {
              "color": "#E5ECF6",
              "width": 0.5
             },
             "pattern": {
              "fillmode": "overlay",
              "size": 10,
              "solidity": 0.2
             }
            },
            "type": "barpolar"
           }
          ],
          "carpet": [
           {
            "aaxis": {
             "endlinecolor": "#2a3f5f",
             "gridcolor": "white",
             "linecolor": "white",
             "minorgridcolor": "white",
             "startlinecolor": "#2a3f5f"
            },
            "baxis": {
             "endlinecolor": "#2a3f5f",
             "gridcolor": "white",
             "linecolor": "white",
             "minorgridcolor": "white",
             "startlinecolor": "#2a3f5f"
            },
            "type": "carpet"
           }
          ],
          "choropleth": [
           {
            "colorbar": {
             "outlinewidth": 0,
             "ticks": ""
            },
            "type": "choropleth"
           }
          ],
          "contour": [
           {
            "colorbar": {
             "outlinewidth": 0,
             "ticks": ""
            },
            "colorscale": [
             [
              0,
              "#0d0887"
             ],
             [
              0.1111111111111111,
              "#46039f"
             ],
             [
              0.2222222222222222,
              "#7201a8"
             ],
             [
              0.3333333333333333,
              "#9c179e"
             ],
             [
              0.4444444444444444,
              "#bd3786"
             ],
             [
              0.5555555555555556,
              "#d8576b"
             ],
             [
              0.6666666666666666,
              "#ed7953"
             ],
             [
              0.7777777777777778,
              "#fb9f3a"
             ],
             [
              0.8888888888888888,
              "#fdca26"
             ],
             [
              1,
              "#f0f921"
             ]
            ],
            "type": "contour"
           }
          ],
          "contourcarpet": [
           {
            "colorbar": {
             "outlinewidth": 0,
             "ticks": ""
            },
            "type": "contourcarpet"
           }
          ],
          "heatmap": [
           {
            "colorbar": {
             "outlinewidth": 0,
             "ticks": ""
            },
            "colorscale": [
             [
              0,
              "#0d0887"
             ],
             [
              0.1111111111111111,
              "#46039f"
             ],
             [
              0.2222222222222222,
              "#7201a8"
             ],
             [
              0.3333333333333333,
              "#9c179e"
             ],
             [
              0.4444444444444444,
              "#bd3786"
             ],
             [
              0.5555555555555556,
              "#d8576b"
             ],
             [
              0.6666666666666666,
              "#ed7953"
             ],
             [
              0.7777777777777778,
              "#fb9f3a"
             ],
             [
              0.8888888888888888,
              "#fdca26"
             ],
             [
              1,
              "#f0f921"
             ]
            ],
            "type": "heatmap"
           }
          ],
          "heatmapgl": [
           {
            "colorbar": {
             "outlinewidth": 0,
             "ticks": ""
            },
            "colorscale": [
             [
              0,
              "#0d0887"
             ],
             [
              0.1111111111111111,
              "#46039f"
             ],
             [
              0.2222222222222222,
              "#7201a8"
             ],
             [
              0.3333333333333333,
              "#9c179e"
             ],
             [
              0.4444444444444444,
              "#bd3786"
             ],
             [
              0.5555555555555556,
              "#d8576b"
             ],
             [
              0.6666666666666666,
              "#ed7953"
             ],
             [
              0.7777777777777778,
              "#fb9f3a"
             ],
             [
              0.8888888888888888,
              "#fdca26"
             ],
             [
              1,
              "#f0f921"
             ]
            ],
            "type": "heatmapgl"
           }
          ],
          "histogram": [
           {
            "marker": {
             "pattern": {
              "fillmode": "overlay",
              "size": 10,
              "solidity": 0.2
             }
            },
            "type": "histogram"
           }
          ],
          "histogram2d": [
           {
            "colorbar": {
             "outlinewidth": 0,
             "ticks": ""
            },
            "colorscale": [
             [
              0,
              "#0d0887"
             ],
             [
              0.1111111111111111,
              "#46039f"
             ],
             [
              0.2222222222222222,
              "#7201a8"
             ],
             [
              0.3333333333333333,
              "#9c179e"
             ],
             [
              0.4444444444444444,
              "#bd3786"
             ],
             [
              0.5555555555555556,
              "#d8576b"
             ],
             [
              0.6666666666666666,
              "#ed7953"
             ],
             [
              0.7777777777777778,
              "#fb9f3a"
             ],
             [
              0.8888888888888888,
              "#fdca26"
             ],
             [
              1,
              "#f0f921"
             ]
            ],
            "type": "histogram2d"
           }
          ],
          "histogram2dcontour": [
           {
            "colorbar": {
             "outlinewidth": 0,
             "ticks": ""
            },
            "colorscale": [
             [
              0,
              "#0d0887"
             ],
             [
              0.1111111111111111,
              "#46039f"
             ],
             [
              0.2222222222222222,
              "#7201a8"
             ],
             [
              0.3333333333333333,
              "#9c179e"
             ],
             [
              0.4444444444444444,
              "#bd3786"
             ],
             [
              0.5555555555555556,
              "#d8576b"
             ],
             [
              0.6666666666666666,
              "#ed7953"
             ],
             [
              0.7777777777777778,
              "#fb9f3a"
             ],
             [
              0.8888888888888888,
              "#fdca26"
             ],
             [
              1,
              "#f0f921"
             ]
            ],
            "type": "histogram2dcontour"
           }
          ],
          "mesh3d": [
           {
            "colorbar": {
             "outlinewidth": 0,
             "ticks": ""
            },
            "type": "mesh3d"
           }
          ],
          "parcoords": [
           {
            "line": {
             "colorbar": {
              "outlinewidth": 0,
              "ticks": ""
             }
            },
            "type": "parcoords"
           }
          ],
          "pie": [
           {
            "automargin": true,
            "type": "pie"
           }
          ],
          "scatter": [
           {
            "fillpattern": {
             "fillmode": "overlay",
             "size": 10,
             "solidity": 0.2
            },
            "type": "scatter"
           }
          ],
          "scatter3d": [
           {
            "line": {
             "colorbar": {
              "outlinewidth": 0,
              "ticks": ""
             }
            },
            "marker": {
             "colorbar": {
              "outlinewidth": 0,
              "ticks": ""
             }
            },
            "type": "scatter3d"
           }
          ],
          "scattercarpet": [
           {
            "marker": {
             "colorbar": {
              "outlinewidth": 0,
              "ticks": ""
             }
            },
            "type": "scattercarpet"
           }
          ],
          "scattergeo": [
           {
            "marker": {
             "colorbar": {
              "outlinewidth": 0,
              "ticks": ""
             }
            },
            "type": "scattergeo"
           }
          ],
          "scattergl": [
           {
            "marker": {
             "colorbar": {
              "outlinewidth": 0,
              "ticks": ""
             }
            },
            "type": "scattergl"
           }
          ],
          "scattermapbox": [
           {
            "marker": {
             "colorbar": {
              "outlinewidth": 0,
              "ticks": ""
             }
            },
            "type": "scattermapbox"
           }
          ],
          "scatterpolar": [
           {
            "marker": {
             "colorbar": {
              "outlinewidth": 0,
              "ticks": ""
             }
            },
            "type": "scatterpolar"
           }
          ],
          "scatterpolargl": [
           {
            "marker": {
             "colorbar": {
              "outlinewidth": 0,
              "ticks": ""
             }
            },
            "type": "scatterpolargl"
           }
          ],
          "scatterternary": [
           {
            "marker": {
             "colorbar": {
              "outlinewidth": 0,
              "ticks": ""
             }
            },
            "type": "scatterternary"
           }
          ],
          "surface": [
           {
            "colorbar": {
             "outlinewidth": 0,
             "ticks": ""
            },
            "colorscale": [
             [
              0,
              "#0d0887"
             ],
             [
              0.1111111111111111,
              "#46039f"
             ],
             [
              0.2222222222222222,
              "#7201a8"
             ],
             [
              0.3333333333333333,
              "#9c179e"
             ],
             [
              0.4444444444444444,
              "#bd3786"
             ],
             [
              0.5555555555555556,
              "#d8576b"
             ],
             [
              0.6666666666666666,
              "#ed7953"
             ],
             [
              0.7777777777777778,
              "#fb9f3a"
             ],
             [
              0.8888888888888888,
              "#fdca26"
             ],
             [
              1,
              "#f0f921"
             ]
            ],
            "type": "surface"
           }
          ],
          "table": [
           {
            "cells": {
             "fill": {
              "color": "#EBF0F8"
             },
             "line": {
              "color": "white"
             }
            },
            "header": {
             "fill": {
              "color": "#C8D4E3"
             },
             "line": {
              "color": "white"
             }
            },
            "type": "table"
           }
          ]
         },
         "layout": {
          "annotationdefaults": {
           "arrowcolor": "#2a3f5f",
           "arrowhead": 0,
           "arrowwidth": 1
          },
          "autotypenumbers": "strict",
          "coloraxis": {
           "colorbar": {
            "outlinewidth": 0,
            "ticks": ""
           }
          },
          "colorscale": {
           "diverging": [
            [
             0,
             "#8e0152"
            ],
            [
             0.1,
             "#c51b7d"
            ],
            [
             0.2,
             "#de77ae"
            ],
            [
             0.3,
             "#f1b6da"
            ],
            [
             0.4,
             "#fde0ef"
            ],
            [
             0.5,
             "#f7f7f7"
            ],
            [
             0.6,
             "#e6f5d0"
            ],
            [
             0.7,
             "#b8e186"
            ],
            [
             0.8,
             "#7fbc41"
            ],
            [
             0.9,
             "#4d9221"
            ],
            [
             1,
             "#276419"
            ]
           ],
           "sequential": [
            [
             0,
             "#0d0887"
            ],
            [
             0.1111111111111111,
             "#46039f"
            ],
            [
             0.2222222222222222,
             "#7201a8"
            ],
            [
             0.3333333333333333,
             "#9c179e"
            ],
            [
             0.4444444444444444,
             "#bd3786"
            ],
            [
             0.5555555555555556,
             "#d8576b"
            ],
            [
             0.6666666666666666,
             "#ed7953"
            ],
            [
             0.7777777777777778,
             "#fb9f3a"
            ],
            [
             0.8888888888888888,
             "#fdca26"
            ],
            [
             1,
             "#f0f921"
            ]
           ],
           "sequentialminus": [
            [
             0,
             "#0d0887"
            ],
            [
             0.1111111111111111,
             "#46039f"
            ],
            [
             0.2222222222222222,
             "#7201a8"
            ],
            [
             0.3333333333333333,
             "#9c179e"
            ],
            [
             0.4444444444444444,
             "#bd3786"
            ],
            [
             0.5555555555555556,
             "#d8576b"
            ],
            [
             0.6666666666666666,
             "#ed7953"
            ],
            [
             0.7777777777777778,
             "#fb9f3a"
            ],
            [
             0.8888888888888888,
             "#fdca26"
            ],
            [
             1,
             "#f0f921"
            ]
           ]
          },
          "colorway": [
           "#636efa",
           "#EF553B",
           "#00cc96",
           "#ab63fa",
           "#FFA15A",
           "#19d3f3",
           "#FF6692",
           "#B6E880",
           "#FF97FF",
           "#FECB52"
          ],
          "font": {
           "color": "#2a3f5f"
          },
          "geo": {
           "bgcolor": "white",
           "lakecolor": "white",
           "landcolor": "#E5ECF6",
           "showlakes": true,
           "showland": true,
           "subunitcolor": "white"
          },
          "hoverlabel": {
           "align": "left"
          },
          "hovermode": "closest",
          "mapbox": {
           "style": "light"
          },
          "paper_bgcolor": "white",
          "plot_bgcolor": "#E5ECF6",
          "polar": {
           "angularaxis": {
            "gridcolor": "white",
            "linecolor": "white",
            "ticks": ""
           },
           "bgcolor": "#E5ECF6",
           "radialaxis": {
            "gridcolor": "white",
            "linecolor": "white",
            "ticks": ""
           }
          },
          "scene": {
           "xaxis": {
            "backgroundcolor": "#E5ECF6",
            "gridcolor": "white",
            "gridwidth": 2,
            "linecolor": "white",
            "showbackground": true,
            "ticks": "",
            "zerolinecolor": "white"
           },
           "yaxis": {
            "backgroundcolor": "#E5ECF6",
            "gridcolor": "white",
            "gridwidth": 2,
            "linecolor": "white",
            "showbackground": true,
            "ticks": "",
            "zerolinecolor": "white"
           },
           "zaxis": {
            "backgroundcolor": "#E5ECF6",
            "gridcolor": "white",
            "gridwidth": 2,
            "linecolor": "white",
            "showbackground": true,
            "ticks": "",
            "zerolinecolor": "white"
           }
          },
          "shapedefaults": {
           "line": {
            "color": "#2a3f5f"
           }
          },
          "ternary": {
           "aaxis": {
            "gridcolor": "white",
            "linecolor": "white",
            "ticks": ""
           },
           "baxis": {
            "gridcolor": "white",
            "linecolor": "white",
            "ticks": ""
           },
           "bgcolor": "#E5ECF6",
           "caxis": {
            "gridcolor": "white",
            "linecolor": "white",
            "ticks": ""
           }
          },
          "title": {
           "x": 0.05
          },
          "xaxis": {
           "automargin": true,
           "gridcolor": "white",
           "linecolor": "white",
           "ticks": "",
           "title": {
            "standoff": 15
           },
           "zerolinecolor": "white",
           "zerolinewidth": 2
          },
          "yaxis": {
           "automargin": true,
           "gridcolor": "white",
           "linecolor": "white",
           "ticks": "",
           "title": {
            "standoff": 15
           },
           "zerolinecolor": "white",
           "zerolinewidth": 2
          }
         }
        },
        "title": {
         "text": "ToolBroken Distribution by PresentTool_26/07/2023 to 26/10/2023"
        }
       }
      },
      "text/html": [
       "<div>                            <div id=\"7bfae5d9-3421-41f2-8c1f-458f477771d5\" class=\"plotly-graph-div\" style=\"height:525px; width:100%;\"></div>            <script type=\"text/javascript\">                require([\"plotly\"], function(Plotly) {                    window.PLOTLYENV=window.PLOTLYENV || {};                                    if (document.getElementById(\"7bfae5d9-3421-41f2-8c1f-458f477771d5\")) {                    Plotly.newPlot(                        \"7bfae5d9-3421-41f2-8c1f-458f477771d5\",                        [{\"domain\":{\"x\":[0.0,1.0],\"y\":[0.0,1.0]},\"hovertemplate\":\"PresentTool=%{label}<br>ToolBroken Count=%{value}<extra></extra>\",\"labels\":[6,30,14,7,23,22,13,12,28,21,5,29],\"legendgroup\":\"\",\"name\":\"\",\"showlegend\":true,\"values\":[8316,7411,4107,3277,2538,2532,2344,1444,808,535,171,145],\"type\":\"pie\"}],                        {\"template\":{\"data\":{\"histogram2dcontour\":[{\"type\":\"histogram2dcontour\",\"colorbar\":{\"outlinewidth\":0,\"ticks\":\"\"},\"colorscale\":[[0.0,\"#0d0887\"],[0.1111111111111111,\"#46039f\"],[0.2222222222222222,\"#7201a8\"],[0.3333333333333333,\"#9c179e\"],[0.4444444444444444,\"#bd3786\"],[0.5555555555555556,\"#d8576b\"],[0.6666666666666666,\"#ed7953\"],[0.7777777777777778,\"#fb9f3a\"],[0.8888888888888888,\"#fdca26\"],[1.0,\"#f0f921\"]]}],\"choropleth\":[{\"type\":\"choropleth\",\"colorbar\":{\"outlinewidth\":0,\"ticks\":\"\"}}],\"histogram2d\":[{\"type\":\"histogram2d\",\"colorbar\":{\"outlinewidth\":0,\"ticks\":\"\"},\"colorscale\":[[0.0,\"#0d0887\"],[0.1111111111111111,\"#46039f\"],[0.2222222222222222,\"#7201a8\"],[0.3333333333333333,\"#9c179e\"],[0.4444444444444444,\"#bd3786\"],[0.5555555555555556,\"#d8576b\"],[0.6666666666666666,\"#ed7953\"],[0.7777777777777778,\"#fb9f3a\"],[0.8888888888888888,\"#fdca26\"],[1.0,\"#f0f921\"]]}],\"heatmap\":[{\"type\":\"heatmap\",\"colorbar\":{\"outlinewidth\":0,\"ticks\":\"\"},\"colorscale\":[[0.0,\"#0d0887\"],[0.1111111111111111,\"#46039f\"],[0.2222222222222222,\"#7201a8\"],[0.3333333333333333,\"#9c179e\"],[0.4444444444444444,\"#bd3786\"],[0.5555555555555556,\"#d8576b\"],[0.6666666666666666,\"#ed7953\"],[0.7777777777777778,\"#fb9f3a\"],[0.8888888888888888,\"#fdca26\"],[1.0,\"#f0f921\"]]}],\"heatmapgl\":[{\"type\":\"heatmapgl\",\"colorbar\":{\"outlinewidth\":0,\"ticks\":\"\"},\"colorscale\":[[0.0,\"#0d0887\"],[0.1111111111111111,\"#46039f\"],[0.2222222222222222,\"#7201a8\"],[0.3333333333333333,\"#9c179e\"],[0.4444444444444444,\"#bd3786\"],[0.5555555555555556,\"#d8576b\"],[0.6666666666666666,\"#ed7953\"],[0.7777777777777778,\"#fb9f3a\"],[0.8888888888888888,\"#fdca26\"],[1.0,\"#f0f921\"]]}],\"contourcarpet\":[{\"type\":\"contourcarpet\",\"colorbar\":{\"outlinewidth\":0,\"ticks\":\"\"}}],\"contour\":[{\"type\":\"contour\",\"colorbar\":{\"outlinewidth\":0,\"ticks\":\"\"},\"colorscale\":[[0.0,\"#0d0887\"],[0.1111111111111111,\"#46039f\"],[0.2222222222222222,\"#7201a8\"],[0.3333333333333333,\"#9c179e\"],[0.4444444444444444,\"#bd3786\"],[0.5555555555555556,\"#d8576b\"],[0.6666666666666666,\"#ed7953\"],[0.7777777777777778,\"#fb9f3a\"],[0.8888888888888888,\"#fdca26\"],[1.0,\"#f0f921\"]]}],\"surface\":[{\"type\":\"surface\",\"colorbar\":{\"outlinewidth\":0,\"ticks\":\"\"},\"colorscale\":[[0.0,\"#0d0887\"],[0.1111111111111111,\"#46039f\"],[0.2222222222222222,\"#7201a8\"],[0.3333333333333333,\"#9c179e\"],[0.4444444444444444,\"#bd3786\"],[0.5555555555555556,\"#d8576b\"],[0.6666666666666666,\"#ed7953\"],[0.7777777777777778,\"#fb9f3a\"],[0.8888888888888888,\"#fdca26\"],[1.0,\"#f0f921\"]]}],\"mesh3d\":[{\"type\":\"mesh3d\",\"colorbar\":{\"outlinewidth\":0,\"ticks\":\"\"}}],\"scatter\":[{\"fillpattern\":{\"fillmode\":\"overlay\",\"size\":10,\"solidity\":0.2},\"type\":\"scatter\"}],\"parcoords\":[{\"type\":\"parcoords\",\"line\":{\"colorbar\":{\"outlinewidth\":0,\"ticks\":\"\"}}}],\"scatterpolargl\":[{\"type\":\"scatterpolargl\",\"marker\":{\"colorbar\":{\"outlinewidth\":0,\"ticks\":\"\"}}}],\"bar\":[{\"error_x\":{\"color\":\"#2a3f5f\"},\"error_y\":{\"color\":\"#2a3f5f\"},\"marker\":{\"line\":{\"color\":\"#E5ECF6\",\"width\":0.5},\"pattern\":{\"fillmode\":\"overlay\",\"size\":10,\"solidity\":0.2}},\"type\":\"bar\"}],\"scattergeo\":[{\"type\":\"scattergeo\",\"marker\":{\"colorbar\":{\"outlinewidth\":0,\"ticks\":\"\"}}}],\"scatterpolar\":[{\"type\":\"scatterpolar\",\"marker\":{\"colorbar\":{\"outlinewidth\":0,\"ticks\":\"\"}}}],\"histogram\":[{\"marker\":{\"pattern\":{\"fillmode\":\"overlay\",\"size\":10,\"solidity\":0.2}},\"type\":\"histogram\"}],\"scattergl\":[{\"type\":\"scattergl\",\"marker\":{\"colorbar\":{\"outlinewidth\":0,\"ticks\":\"\"}}}],\"scatter3d\":[{\"type\":\"scatter3d\",\"line\":{\"colorbar\":{\"outlinewidth\":0,\"ticks\":\"\"}},\"marker\":{\"colorbar\":{\"outlinewidth\":0,\"ticks\":\"\"}}}],\"scattermapbox\":[{\"type\":\"scattermapbox\",\"marker\":{\"colorbar\":{\"outlinewidth\":0,\"ticks\":\"\"}}}],\"scatterternary\":[{\"type\":\"scatterternary\",\"marker\":{\"colorbar\":{\"outlinewidth\":0,\"ticks\":\"\"}}}],\"scattercarpet\":[{\"type\":\"scattercarpet\",\"marker\":{\"colorbar\":{\"outlinewidth\":0,\"ticks\":\"\"}}}],\"carpet\":[{\"aaxis\":{\"endlinecolor\":\"#2a3f5f\",\"gridcolor\":\"white\",\"linecolor\":\"white\",\"minorgridcolor\":\"white\",\"startlinecolor\":\"#2a3f5f\"},\"baxis\":{\"endlinecolor\":\"#2a3f5f\",\"gridcolor\":\"white\",\"linecolor\":\"white\",\"minorgridcolor\":\"white\",\"startlinecolor\":\"#2a3f5f\"},\"type\":\"carpet\"}],\"table\":[{\"cells\":{\"fill\":{\"color\":\"#EBF0F8\"},\"line\":{\"color\":\"white\"}},\"header\":{\"fill\":{\"color\":\"#C8D4E3\"},\"line\":{\"color\":\"white\"}},\"type\":\"table\"}],\"barpolar\":[{\"marker\":{\"line\":{\"color\":\"#E5ECF6\",\"width\":0.5},\"pattern\":{\"fillmode\":\"overlay\",\"size\":10,\"solidity\":0.2}},\"type\":\"barpolar\"}],\"pie\":[{\"automargin\":true,\"type\":\"pie\"}]},\"layout\":{\"autotypenumbers\":\"strict\",\"colorway\":[\"#636efa\",\"#EF553B\",\"#00cc96\",\"#ab63fa\",\"#FFA15A\",\"#19d3f3\",\"#FF6692\",\"#B6E880\",\"#FF97FF\",\"#FECB52\"],\"font\":{\"color\":\"#2a3f5f\"},\"hovermode\":\"closest\",\"hoverlabel\":{\"align\":\"left\"},\"paper_bgcolor\":\"white\",\"plot_bgcolor\":\"#E5ECF6\",\"polar\":{\"bgcolor\":\"#E5ECF6\",\"angularaxis\":{\"gridcolor\":\"white\",\"linecolor\":\"white\",\"ticks\":\"\"},\"radialaxis\":{\"gridcolor\":\"white\",\"linecolor\":\"white\",\"ticks\":\"\"}},\"ternary\":{\"bgcolor\":\"#E5ECF6\",\"aaxis\":{\"gridcolor\":\"white\",\"linecolor\":\"white\",\"ticks\":\"\"},\"baxis\":{\"gridcolor\":\"white\",\"linecolor\":\"white\",\"ticks\":\"\"},\"caxis\":{\"gridcolor\":\"white\",\"linecolor\":\"white\",\"ticks\":\"\"}},\"coloraxis\":{\"colorbar\":{\"outlinewidth\":0,\"ticks\":\"\"}},\"colorscale\":{\"sequential\":[[0.0,\"#0d0887\"],[0.1111111111111111,\"#46039f\"],[0.2222222222222222,\"#7201a8\"],[0.3333333333333333,\"#9c179e\"],[0.4444444444444444,\"#bd3786\"],[0.5555555555555556,\"#d8576b\"],[0.6666666666666666,\"#ed7953\"],[0.7777777777777778,\"#fb9f3a\"],[0.8888888888888888,\"#fdca26\"],[1.0,\"#f0f921\"]],\"sequentialminus\":[[0.0,\"#0d0887\"],[0.1111111111111111,\"#46039f\"],[0.2222222222222222,\"#7201a8\"],[0.3333333333333333,\"#9c179e\"],[0.4444444444444444,\"#bd3786\"],[0.5555555555555556,\"#d8576b\"],[0.6666666666666666,\"#ed7953\"],[0.7777777777777778,\"#fb9f3a\"],[0.8888888888888888,\"#fdca26\"],[1.0,\"#f0f921\"]],\"diverging\":[[0,\"#8e0152\"],[0.1,\"#c51b7d\"],[0.2,\"#de77ae\"],[0.3,\"#f1b6da\"],[0.4,\"#fde0ef\"],[0.5,\"#f7f7f7\"],[0.6,\"#e6f5d0\"],[0.7,\"#b8e186\"],[0.8,\"#7fbc41\"],[0.9,\"#4d9221\"],[1,\"#276419\"]]},\"xaxis\":{\"gridcolor\":\"white\",\"linecolor\":\"white\",\"ticks\":\"\",\"title\":{\"standoff\":15},\"zerolinecolor\":\"white\",\"automargin\":true,\"zerolinewidth\":2},\"yaxis\":{\"gridcolor\":\"white\",\"linecolor\":\"white\",\"ticks\":\"\",\"title\":{\"standoff\":15},\"zerolinecolor\":\"white\",\"automargin\":true,\"zerolinewidth\":2},\"scene\":{\"xaxis\":{\"backgroundcolor\":\"#E5ECF6\",\"gridcolor\":\"white\",\"linecolor\":\"white\",\"showbackground\":true,\"ticks\":\"\",\"zerolinecolor\":\"white\",\"gridwidth\":2},\"yaxis\":{\"backgroundcolor\":\"#E5ECF6\",\"gridcolor\":\"white\",\"linecolor\":\"white\",\"showbackground\":true,\"ticks\":\"\",\"zerolinecolor\":\"white\",\"gridwidth\":2},\"zaxis\":{\"backgroundcolor\":\"#E5ECF6\",\"gridcolor\":\"white\",\"linecolor\":\"white\",\"showbackground\":true,\"ticks\":\"\",\"zerolinecolor\":\"white\",\"gridwidth\":2}},\"shapedefaults\":{\"line\":{\"color\":\"#2a3f5f\"}},\"annotationdefaults\":{\"arrowcolor\":\"#2a3f5f\",\"arrowhead\":0,\"arrowwidth\":1},\"geo\":{\"bgcolor\":\"white\",\"landcolor\":\"#E5ECF6\",\"subunitcolor\":\"white\",\"showland\":true,\"showlakes\":true,\"lakecolor\":\"white\"},\"title\":{\"x\":0.05},\"mapbox\":{\"style\":\"light\"}}},\"legend\":{\"tracegroupgap\":0},\"title\":{\"text\":\"ToolBroken Distribution by PresentTool_26/07/2023 to 26/10/2023\"}},                        {\"responsive\": true}                    ).then(function(){\n",
       "                            \n",
       "var gd = document.getElementById('7bfae5d9-3421-41f2-8c1f-458f477771d5');\n",
       "var x = new MutationObserver(function (mutations, observer) {{\n",
       "        var display = window.getComputedStyle(gd).display;\n",
       "        if (!display || display === 'none') {{\n",
       "            console.log([gd, 'removed!']);\n",
       "            Plotly.purge(gd);\n",
       "            observer.disconnect();\n",
       "        }}\n",
       "}});\n",
       "\n",
       "// Listen for the removal of the full notebook cells\n",
       "var notebookContainer = gd.closest('#notebook-container');\n",
       "if (notebookContainer) {{\n",
       "    x.observe(notebookContainer, {childList: true});\n",
       "}}\n",
       "\n",
       "// Listen for the clearing of the current output cell\n",
       "var outputEl = gd.closest('.output');\n",
       "if (outputEl) {{\n",
       "    x.observe(outputEl, {childList: true});\n",
       "}}\n",
       "\n",
       "                        })                };                });            </script>        </div>"
      ]
     },
     "metadata": {},
     "output_type": "display_data"
    }
   ],
   "source": [
    "import pandas as pd\n",
    "import plotly.express as px\n",
    "\n",
    "result = df[df['ToolBroken'] == True]['PresentTool'].value_counts().reset_index()\n",
    "result.columns = ['PresentTool', 'ToolBroken_Count']\n",
    "\n",
    "fig = px.pie(result, names='PresentTool', values='ToolBroken_Count', title='ToolBroken Distribution by PresentTool_26/07/2023 to 26/10/2023',\n",
    "             labels={'PresentTool': 'PresentTool', 'ToolBroken_Count': 'ToolBroken Count'})\n",
    "\n",
    "\n",
    "fig.show()\n"
   ]
  },
  {
   "cell_type": "markdown",
   "id": "9873bbab",
   "metadata": {},
   "source": [
    "### Dz9_1"
   ]
  },
  {
   "cell_type": "code",
   "execution_count": 11,
   "id": "4eae94a5",
   "metadata": {},
   "outputs": [
    {
     "data": {
      "text/plain": [
       "(9486, 3)"
      ]
     },
     "execution_count": 11,
     "metadata": {},
     "output_type": "execute_result"
    }
   ],
   "source": [
    "import pandas as pd\n",
    "import numpy as np\n",
    "import pyodbc\n",
    "import warnings\n",
    "\n",
    "warnings.filterwarnings(\"ignore\")\n",
    "\n",
    "import pyodbc\n",
    "cnxn = pyodbc.connect(\"Driver={SQL Server Native Client 11.0};\"\n",
    "                        \"Server=na0vm00024.apac.bosch.com;\"\n",
    "                        \"Database=DB_MFC2DB_SQL;\"\n",
    "                        \"Trusted_Connection=yes;\")\n",
    "\n",
    "sql = \"SELECT [ProgRun], [PresentTool], [ToolBroken], [TimeStamp] FROM [ChironDZ9_1] WHERE [ToolBroken] = 1 ORDER BY [TimeStamp]\"\n",
    "df1 = pd.read_sql_query(sql, cnxn, index_col=\"TimeStamp\", parse_dates=True)\n",
    "df1.shape"
   ]
  },
  {
   "cell_type": "code",
   "execution_count": 18,
   "id": "bbd95732",
   "metadata": {},
   "outputs": [
    {
     "data": {
      "application/vnd.plotly.v1+json": {
       "config": {
        "plotlyServerURL": "https://plot.ly"
       },
       "data": [
        {
         "domain": {
          "x": [
           0,
           1
          ],
          "y": [
           0,
           1
          ]
         },
         "hovertemplate": "PresentTool=%{label}<br>ToolBroken Count=%{value}<extra></extra>",
         "labels": [
          12,
          14,
          23,
          6,
          30,
          22,
          7,
          28
         ],
         "legendgroup": "",
         "name": "",
         "showlegend": true,
         "type": "pie",
         "values": [
          2606,
          2451,
          1910,
          1239,
          488,
          465,
          225,
          102
         ]
        }
       ],
       "layout": {
        "legend": {
         "tracegroupgap": 0
        },
        "template": {
         "data": {
          "bar": [
           {
            "error_x": {
             "color": "#2a3f5f"
            },
            "error_y": {
             "color": "#2a3f5f"
            },
            "marker": {
             "line": {
              "color": "#E5ECF6",
              "width": 0.5
             },
             "pattern": {
              "fillmode": "overlay",
              "size": 10,
              "solidity": 0.2
             }
            },
            "type": "bar"
           }
          ],
          "barpolar": [
           {
            "marker": {
             "line": {
              "color": "#E5ECF6",
              "width": 0.5
             },
             "pattern": {
              "fillmode": "overlay",
              "size": 10,
              "solidity": 0.2
             }
            },
            "type": "barpolar"
           }
          ],
          "carpet": [
           {
            "aaxis": {
             "endlinecolor": "#2a3f5f",
             "gridcolor": "white",
             "linecolor": "white",
             "minorgridcolor": "white",
             "startlinecolor": "#2a3f5f"
            },
            "baxis": {
             "endlinecolor": "#2a3f5f",
             "gridcolor": "white",
             "linecolor": "white",
             "minorgridcolor": "white",
             "startlinecolor": "#2a3f5f"
            },
            "type": "carpet"
           }
          ],
          "choropleth": [
           {
            "colorbar": {
             "outlinewidth": 0,
             "ticks": ""
            },
            "type": "choropleth"
           }
          ],
          "contour": [
           {
            "colorbar": {
             "outlinewidth": 0,
             "ticks": ""
            },
            "colorscale": [
             [
              0,
              "#0d0887"
             ],
             [
              0.1111111111111111,
              "#46039f"
             ],
             [
              0.2222222222222222,
              "#7201a8"
             ],
             [
              0.3333333333333333,
              "#9c179e"
             ],
             [
              0.4444444444444444,
              "#bd3786"
             ],
             [
              0.5555555555555556,
              "#d8576b"
             ],
             [
              0.6666666666666666,
              "#ed7953"
             ],
             [
              0.7777777777777778,
              "#fb9f3a"
             ],
             [
              0.8888888888888888,
              "#fdca26"
             ],
             [
              1,
              "#f0f921"
             ]
            ],
            "type": "contour"
           }
          ],
          "contourcarpet": [
           {
            "colorbar": {
             "outlinewidth": 0,
             "ticks": ""
            },
            "type": "contourcarpet"
           }
          ],
          "heatmap": [
           {
            "colorbar": {
             "outlinewidth": 0,
             "ticks": ""
            },
            "colorscale": [
             [
              0,
              "#0d0887"
             ],
             [
              0.1111111111111111,
              "#46039f"
             ],
             [
              0.2222222222222222,
              "#7201a8"
             ],
             [
              0.3333333333333333,
              "#9c179e"
             ],
             [
              0.4444444444444444,
              "#bd3786"
             ],
             [
              0.5555555555555556,
              "#d8576b"
             ],
             [
              0.6666666666666666,
              "#ed7953"
             ],
             [
              0.7777777777777778,
              "#fb9f3a"
             ],
             [
              0.8888888888888888,
              "#fdca26"
             ],
             [
              1,
              "#f0f921"
             ]
            ],
            "type": "heatmap"
           }
          ],
          "heatmapgl": [
           {
            "colorbar": {
             "outlinewidth": 0,
             "ticks": ""
            },
            "colorscale": [
             [
              0,
              "#0d0887"
             ],
             [
              0.1111111111111111,
              "#46039f"
             ],
             [
              0.2222222222222222,
              "#7201a8"
             ],
             [
              0.3333333333333333,
              "#9c179e"
             ],
             [
              0.4444444444444444,
              "#bd3786"
             ],
             [
              0.5555555555555556,
              "#d8576b"
             ],
             [
              0.6666666666666666,
              "#ed7953"
             ],
             [
              0.7777777777777778,
              "#fb9f3a"
             ],
             [
              0.8888888888888888,
              "#fdca26"
             ],
             [
              1,
              "#f0f921"
             ]
            ],
            "type": "heatmapgl"
           }
          ],
          "histogram": [
           {
            "marker": {
             "pattern": {
              "fillmode": "overlay",
              "size": 10,
              "solidity": 0.2
             }
            },
            "type": "histogram"
           }
          ],
          "histogram2d": [
           {
            "colorbar": {
             "outlinewidth": 0,
             "ticks": ""
            },
            "colorscale": [
             [
              0,
              "#0d0887"
             ],
             [
              0.1111111111111111,
              "#46039f"
             ],
             [
              0.2222222222222222,
              "#7201a8"
             ],
             [
              0.3333333333333333,
              "#9c179e"
             ],
             [
              0.4444444444444444,
              "#bd3786"
             ],
             [
              0.5555555555555556,
              "#d8576b"
             ],
             [
              0.6666666666666666,
              "#ed7953"
             ],
             [
              0.7777777777777778,
              "#fb9f3a"
             ],
             [
              0.8888888888888888,
              "#fdca26"
             ],
             [
              1,
              "#f0f921"
             ]
            ],
            "type": "histogram2d"
           }
          ],
          "histogram2dcontour": [
           {
            "colorbar": {
             "outlinewidth": 0,
             "ticks": ""
            },
            "colorscale": [
             [
              0,
              "#0d0887"
             ],
             [
              0.1111111111111111,
              "#46039f"
             ],
             [
              0.2222222222222222,
              "#7201a8"
             ],
             [
              0.3333333333333333,
              "#9c179e"
             ],
             [
              0.4444444444444444,
              "#bd3786"
             ],
             [
              0.5555555555555556,
              "#d8576b"
             ],
             [
              0.6666666666666666,
              "#ed7953"
             ],
             [
              0.7777777777777778,
              "#fb9f3a"
             ],
             [
              0.8888888888888888,
              "#fdca26"
             ],
             [
              1,
              "#f0f921"
             ]
            ],
            "type": "histogram2dcontour"
           }
          ],
          "mesh3d": [
           {
            "colorbar": {
             "outlinewidth": 0,
             "ticks": ""
            },
            "type": "mesh3d"
           }
          ],
          "parcoords": [
           {
            "line": {
             "colorbar": {
              "outlinewidth": 0,
              "ticks": ""
             }
            },
            "type": "parcoords"
           }
          ],
          "pie": [
           {
            "automargin": true,
            "type": "pie"
           }
          ],
          "scatter": [
           {
            "fillpattern": {
             "fillmode": "overlay",
             "size": 10,
             "solidity": 0.2
            },
            "type": "scatter"
           }
          ],
          "scatter3d": [
           {
            "line": {
             "colorbar": {
              "outlinewidth": 0,
              "ticks": ""
             }
            },
            "marker": {
             "colorbar": {
              "outlinewidth": 0,
              "ticks": ""
             }
            },
            "type": "scatter3d"
           }
          ],
          "scattercarpet": [
           {
            "marker": {
             "colorbar": {
              "outlinewidth": 0,
              "ticks": ""
             }
            },
            "type": "scattercarpet"
           }
          ],
          "scattergeo": [
           {
            "marker": {
             "colorbar": {
              "outlinewidth": 0,
              "ticks": ""
             }
            },
            "type": "scattergeo"
           }
          ],
          "scattergl": [
           {
            "marker": {
             "colorbar": {
              "outlinewidth": 0,
              "ticks": ""
             }
            },
            "type": "scattergl"
           }
          ],
          "scattermapbox": [
           {
            "marker": {
             "colorbar": {
              "outlinewidth": 0,
              "ticks": ""
             }
            },
            "type": "scattermapbox"
           }
          ],
          "scatterpolar": [
           {
            "marker": {
             "colorbar": {
              "outlinewidth": 0,
              "ticks": ""
             }
            },
            "type": "scatterpolar"
           }
          ],
          "scatterpolargl": [
           {
            "marker": {
             "colorbar": {
              "outlinewidth": 0,
              "ticks": ""
             }
            },
            "type": "scatterpolargl"
           }
          ],
          "scatterternary": [
           {
            "marker": {
             "colorbar": {
              "outlinewidth": 0,
              "ticks": ""
             }
            },
            "type": "scatterternary"
           }
          ],
          "surface": [
           {
            "colorbar": {
             "outlinewidth": 0,
             "ticks": ""
            },
            "colorscale": [
             [
              0,
              "#0d0887"
             ],
             [
              0.1111111111111111,
              "#46039f"
             ],
             [
              0.2222222222222222,
              "#7201a8"
             ],
             [
              0.3333333333333333,
              "#9c179e"
             ],
             [
              0.4444444444444444,
              "#bd3786"
             ],
             [
              0.5555555555555556,
              "#d8576b"
             ],
             [
              0.6666666666666666,
              "#ed7953"
             ],
             [
              0.7777777777777778,
              "#fb9f3a"
             ],
             [
              0.8888888888888888,
              "#fdca26"
             ],
             [
              1,
              "#f0f921"
             ]
            ],
            "type": "surface"
           }
          ],
          "table": [
           {
            "cells": {
             "fill": {
              "color": "#EBF0F8"
             },
             "line": {
              "color": "white"
             }
            },
            "header": {
             "fill": {
              "color": "#C8D4E3"
             },
             "line": {
              "color": "white"
             }
            },
            "type": "table"
           }
          ]
         },
         "layout": {
          "annotationdefaults": {
           "arrowcolor": "#2a3f5f",
           "arrowhead": 0,
           "arrowwidth": 1
          },
          "autotypenumbers": "strict",
          "coloraxis": {
           "colorbar": {
            "outlinewidth": 0,
            "ticks": ""
           }
          },
          "colorscale": {
           "diverging": [
            [
             0,
             "#8e0152"
            ],
            [
             0.1,
             "#c51b7d"
            ],
            [
             0.2,
             "#de77ae"
            ],
            [
             0.3,
             "#f1b6da"
            ],
            [
             0.4,
             "#fde0ef"
            ],
            [
             0.5,
             "#f7f7f7"
            ],
            [
             0.6,
             "#e6f5d0"
            ],
            [
             0.7,
             "#b8e186"
            ],
            [
             0.8,
             "#7fbc41"
            ],
            [
             0.9,
             "#4d9221"
            ],
            [
             1,
             "#276419"
            ]
           ],
           "sequential": [
            [
             0,
             "#0d0887"
            ],
            [
             0.1111111111111111,
             "#46039f"
            ],
            [
             0.2222222222222222,
             "#7201a8"
            ],
            [
             0.3333333333333333,
             "#9c179e"
            ],
            [
             0.4444444444444444,
             "#bd3786"
            ],
            [
             0.5555555555555556,
             "#d8576b"
            ],
            [
             0.6666666666666666,
             "#ed7953"
            ],
            [
             0.7777777777777778,
             "#fb9f3a"
            ],
            [
             0.8888888888888888,
             "#fdca26"
            ],
            [
             1,
             "#f0f921"
            ]
           ],
           "sequentialminus": [
            [
             0,
             "#0d0887"
            ],
            [
             0.1111111111111111,
             "#46039f"
            ],
            [
             0.2222222222222222,
             "#7201a8"
            ],
            [
             0.3333333333333333,
             "#9c179e"
            ],
            [
             0.4444444444444444,
             "#bd3786"
            ],
            [
             0.5555555555555556,
             "#d8576b"
            ],
            [
             0.6666666666666666,
             "#ed7953"
            ],
            [
             0.7777777777777778,
             "#fb9f3a"
            ],
            [
             0.8888888888888888,
             "#fdca26"
            ],
            [
             1,
             "#f0f921"
            ]
           ]
          },
          "colorway": [
           "#636efa",
           "#EF553B",
           "#00cc96",
           "#ab63fa",
           "#FFA15A",
           "#19d3f3",
           "#FF6692",
           "#B6E880",
           "#FF97FF",
           "#FECB52"
          ],
          "font": {
           "color": "#2a3f5f"
          },
          "geo": {
           "bgcolor": "white",
           "lakecolor": "white",
           "landcolor": "#E5ECF6",
           "showlakes": true,
           "showland": true,
           "subunitcolor": "white"
          },
          "hoverlabel": {
           "align": "left"
          },
          "hovermode": "closest",
          "mapbox": {
           "style": "light"
          },
          "paper_bgcolor": "white",
          "plot_bgcolor": "#E5ECF6",
          "polar": {
           "angularaxis": {
            "gridcolor": "white",
            "linecolor": "white",
            "ticks": ""
           },
           "bgcolor": "#E5ECF6",
           "radialaxis": {
            "gridcolor": "white",
            "linecolor": "white",
            "ticks": ""
           }
          },
          "scene": {
           "xaxis": {
            "backgroundcolor": "#E5ECF6",
            "gridcolor": "white",
            "gridwidth": 2,
            "linecolor": "white",
            "showbackground": true,
            "ticks": "",
            "zerolinecolor": "white"
           },
           "yaxis": {
            "backgroundcolor": "#E5ECF6",
            "gridcolor": "white",
            "gridwidth": 2,
            "linecolor": "white",
            "showbackground": true,
            "ticks": "",
            "zerolinecolor": "white"
           },
           "zaxis": {
            "backgroundcolor": "#E5ECF6",
            "gridcolor": "white",
            "gridwidth": 2,
            "linecolor": "white",
            "showbackground": true,
            "ticks": "",
            "zerolinecolor": "white"
           }
          },
          "shapedefaults": {
           "line": {
            "color": "#2a3f5f"
           }
          },
          "ternary": {
           "aaxis": {
            "gridcolor": "white",
            "linecolor": "white",
            "ticks": ""
           },
           "baxis": {
            "gridcolor": "white",
            "linecolor": "white",
            "ticks": ""
           },
           "bgcolor": "#E5ECF6",
           "caxis": {
            "gridcolor": "white",
            "linecolor": "white",
            "ticks": ""
           }
          },
          "title": {
           "x": 0.05
          },
          "xaxis": {
           "automargin": true,
           "gridcolor": "white",
           "linecolor": "white",
           "ticks": "",
           "title": {
            "standoff": 15
           },
           "zerolinecolor": "white",
           "zerolinewidth": 2
          },
          "yaxis": {
           "automargin": true,
           "gridcolor": "white",
           "linecolor": "white",
           "ticks": "",
           "title": {
            "standoff": 15
           },
           "zerolinecolor": "white",
           "zerolinewidth": 2
          }
         }
        },
        "title": {
         "text": "ToolBroken Distribution by PresentTool_05/05/2023 to 17/07/2023"
        }
       }
      },
      "text/html": [
       "<div>                            <div id=\"09e500e0-fb65-421b-963a-588eff951ce4\" class=\"plotly-graph-div\" style=\"height:525px; width:100%;\"></div>            <script type=\"text/javascript\">                require([\"plotly\"], function(Plotly) {                    window.PLOTLYENV=window.PLOTLYENV || {};                                    if (document.getElementById(\"09e500e0-fb65-421b-963a-588eff951ce4\")) {                    Plotly.newPlot(                        \"09e500e0-fb65-421b-963a-588eff951ce4\",                        [{\"domain\":{\"x\":[0.0,1.0],\"y\":[0.0,1.0]},\"hovertemplate\":\"PresentTool=%{label}<br>ToolBroken Count=%{value}<extra></extra>\",\"labels\":[12,14,23,6,30,22,7,28],\"legendgroup\":\"\",\"name\":\"\",\"showlegend\":true,\"values\":[2606,2451,1910,1239,488,465,225,102],\"type\":\"pie\"}],                        {\"template\":{\"data\":{\"histogram2dcontour\":[{\"type\":\"histogram2dcontour\",\"colorbar\":{\"outlinewidth\":0,\"ticks\":\"\"},\"colorscale\":[[0.0,\"#0d0887\"],[0.1111111111111111,\"#46039f\"],[0.2222222222222222,\"#7201a8\"],[0.3333333333333333,\"#9c179e\"],[0.4444444444444444,\"#bd3786\"],[0.5555555555555556,\"#d8576b\"],[0.6666666666666666,\"#ed7953\"],[0.7777777777777778,\"#fb9f3a\"],[0.8888888888888888,\"#fdca26\"],[1.0,\"#f0f921\"]]}],\"choropleth\":[{\"type\":\"choropleth\",\"colorbar\":{\"outlinewidth\":0,\"ticks\":\"\"}}],\"histogram2d\":[{\"type\":\"histogram2d\",\"colorbar\":{\"outlinewidth\":0,\"ticks\":\"\"},\"colorscale\":[[0.0,\"#0d0887\"],[0.1111111111111111,\"#46039f\"],[0.2222222222222222,\"#7201a8\"],[0.3333333333333333,\"#9c179e\"],[0.4444444444444444,\"#bd3786\"],[0.5555555555555556,\"#d8576b\"],[0.6666666666666666,\"#ed7953\"],[0.7777777777777778,\"#fb9f3a\"],[0.8888888888888888,\"#fdca26\"],[1.0,\"#f0f921\"]]}],\"heatmap\":[{\"type\":\"heatmap\",\"colorbar\":{\"outlinewidth\":0,\"ticks\":\"\"},\"colorscale\":[[0.0,\"#0d0887\"],[0.1111111111111111,\"#46039f\"],[0.2222222222222222,\"#7201a8\"],[0.3333333333333333,\"#9c179e\"],[0.4444444444444444,\"#bd3786\"],[0.5555555555555556,\"#d8576b\"],[0.6666666666666666,\"#ed7953\"],[0.7777777777777778,\"#fb9f3a\"],[0.8888888888888888,\"#fdca26\"],[1.0,\"#f0f921\"]]}],\"heatmapgl\":[{\"type\":\"heatmapgl\",\"colorbar\":{\"outlinewidth\":0,\"ticks\":\"\"},\"colorscale\":[[0.0,\"#0d0887\"],[0.1111111111111111,\"#46039f\"],[0.2222222222222222,\"#7201a8\"],[0.3333333333333333,\"#9c179e\"],[0.4444444444444444,\"#bd3786\"],[0.5555555555555556,\"#d8576b\"],[0.6666666666666666,\"#ed7953\"],[0.7777777777777778,\"#fb9f3a\"],[0.8888888888888888,\"#fdca26\"],[1.0,\"#f0f921\"]]}],\"contourcarpet\":[{\"type\":\"contourcarpet\",\"colorbar\":{\"outlinewidth\":0,\"ticks\":\"\"}}],\"contour\":[{\"type\":\"contour\",\"colorbar\":{\"outlinewidth\":0,\"ticks\":\"\"},\"colorscale\":[[0.0,\"#0d0887\"],[0.1111111111111111,\"#46039f\"],[0.2222222222222222,\"#7201a8\"],[0.3333333333333333,\"#9c179e\"],[0.4444444444444444,\"#bd3786\"],[0.5555555555555556,\"#d8576b\"],[0.6666666666666666,\"#ed7953\"],[0.7777777777777778,\"#fb9f3a\"],[0.8888888888888888,\"#fdca26\"],[1.0,\"#f0f921\"]]}],\"surface\":[{\"type\":\"surface\",\"colorbar\":{\"outlinewidth\":0,\"ticks\":\"\"},\"colorscale\":[[0.0,\"#0d0887\"],[0.1111111111111111,\"#46039f\"],[0.2222222222222222,\"#7201a8\"],[0.3333333333333333,\"#9c179e\"],[0.4444444444444444,\"#bd3786\"],[0.5555555555555556,\"#d8576b\"],[0.6666666666666666,\"#ed7953\"],[0.7777777777777778,\"#fb9f3a\"],[0.8888888888888888,\"#fdca26\"],[1.0,\"#f0f921\"]]}],\"mesh3d\":[{\"type\":\"mesh3d\",\"colorbar\":{\"outlinewidth\":0,\"ticks\":\"\"}}],\"scatter\":[{\"fillpattern\":{\"fillmode\":\"overlay\",\"size\":10,\"solidity\":0.2},\"type\":\"scatter\"}],\"parcoords\":[{\"type\":\"parcoords\",\"line\":{\"colorbar\":{\"outlinewidth\":0,\"ticks\":\"\"}}}],\"scatterpolargl\":[{\"type\":\"scatterpolargl\",\"marker\":{\"colorbar\":{\"outlinewidth\":0,\"ticks\":\"\"}}}],\"bar\":[{\"error_x\":{\"color\":\"#2a3f5f\"},\"error_y\":{\"color\":\"#2a3f5f\"},\"marker\":{\"line\":{\"color\":\"#E5ECF6\",\"width\":0.5},\"pattern\":{\"fillmode\":\"overlay\",\"size\":10,\"solidity\":0.2}},\"type\":\"bar\"}],\"scattergeo\":[{\"type\":\"scattergeo\",\"marker\":{\"colorbar\":{\"outlinewidth\":0,\"ticks\":\"\"}}}],\"scatterpolar\":[{\"type\":\"scatterpolar\",\"marker\":{\"colorbar\":{\"outlinewidth\":0,\"ticks\":\"\"}}}],\"histogram\":[{\"marker\":{\"pattern\":{\"fillmode\":\"overlay\",\"size\":10,\"solidity\":0.2}},\"type\":\"histogram\"}],\"scattergl\":[{\"type\":\"scattergl\",\"marker\":{\"colorbar\":{\"outlinewidth\":0,\"ticks\":\"\"}}}],\"scatter3d\":[{\"type\":\"scatter3d\",\"line\":{\"colorbar\":{\"outlinewidth\":0,\"ticks\":\"\"}},\"marker\":{\"colorbar\":{\"outlinewidth\":0,\"ticks\":\"\"}}}],\"scattermapbox\":[{\"type\":\"scattermapbox\",\"marker\":{\"colorbar\":{\"outlinewidth\":0,\"ticks\":\"\"}}}],\"scatterternary\":[{\"type\":\"scatterternary\",\"marker\":{\"colorbar\":{\"outlinewidth\":0,\"ticks\":\"\"}}}],\"scattercarpet\":[{\"type\":\"scattercarpet\",\"marker\":{\"colorbar\":{\"outlinewidth\":0,\"ticks\":\"\"}}}],\"carpet\":[{\"aaxis\":{\"endlinecolor\":\"#2a3f5f\",\"gridcolor\":\"white\",\"linecolor\":\"white\",\"minorgridcolor\":\"white\",\"startlinecolor\":\"#2a3f5f\"},\"baxis\":{\"endlinecolor\":\"#2a3f5f\",\"gridcolor\":\"white\",\"linecolor\":\"white\",\"minorgridcolor\":\"white\",\"startlinecolor\":\"#2a3f5f\"},\"type\":\"carpet\"}],\"table\":[{\"cells\":{\"fill\":{\"color\":\"#EBF0F8\"},\"line\":{\"color\":\"white\"}},\"header\":{\"fill\":{\"color\":\"#C8D4E3\"},\"line\":{\"color\":\"white\"}},\"type\":\"table\"}],\"barpolar\":[{\"marker\":{\"line\":{\"color\":\"#E5ECF6\",\"width\":0.5},\"pattern\":{\"fillmode\":\"overlay\",\"size\":10,\"solidity\":0.2}},\"type\":\"barpolar\"}],\"pie\":[{\"automargin\":true,\"type\":\"pie\"}]},\"layout\":{\"autotypenumbers\":\"strict\",\"colorway\":[\"#636efa\",\"#EF553B\",\"#00cc96\",\"#ab63fa\",\"#FFA15A\",\"#19d3f3\",\"#FF6692\",\"#B6E880\",\"#FF97FF\",\"#FECB52\"],\"font\":{\"color\":\"#2a3f5f\"},\"hovermode\":\"closest\",\"hoverlabel\":{\"align\":\"left\"},\"paper_bgcolor\":\"white\",\"plot_bgcolor\":\"#E5ECF6\",\"polar\":{\"bgcolor\":\"#E5ECF6\",\"angularaxis\":{\"gridcolor\":\"white\",\"linecolor\":\"white\",\"ticks\":\"\"},\"radialaxis\":{\"gridcolor\":\"white\",\"linecolor\":\"white\",\"ticks\":\"\"}},\"ternary\":{\"bgcolor\":\"#E5ECF6\",\"aaxis\":{\"gridcolor\":\"white\",\"linecolor\":\"white\",\"ticks\":\"\"},\"baxis\":{\"gridcolor\":\"white\",\"linecolor\":\"white\",\"ticks\":\"\"},\"caxis\":{\"gridcolor\":\"white\",\"linecolor\":\"white\",\"ticks\":\"\"}},\"coloraxis\":{\"colorbar\":{\"outlinewidth\":0,\"ticks\":\"\"}},\"colorscale\":{\"sequential\":[[0.0,\"#0d0887\"],[0.1111111111111111,\"#46039f\"],[0.2222222222222222,\"#7201a8\"],[0.3333333333333333,\"#9c179e\"],[0.4444444444444444,\"#bd3786\"],[0.5555555555555556,\"#d8576b\"],[0.6666666666666666,\"#ed7953\"],[0.7777777777777778,\"#fb9f3a\"],[0.8888888888888888,\"#fdca26\"],[1.0,\"#f0f921\"]],\"sequentialminus\":[[0.0,\"#0d0887\"],[0.1111111111111111,\"#46039f\"],[0.2222222222222222,\"#7201a8\"],[0.3333333333333333,\"#9c179e\"],[0.4444444444444444,\"#bd3786\"],[0.5555555555555556,\"#d8576b\"],[0.6666666666666666,\"#ed7953\"],[0.7777777777777778,\"#fb9f3a\"],[0.8888888888888888,\"#fdca26\"],[1.0,\"#f0f921\"]],\"diverging\":[[0,\"#8e0152\"],[0.1,\"#c51b7d\"],[0.2,\"#de77ae\"],[0.3,\"#f1b6da\"],[0.4,\"#fde0ef\"],[0.5,\"#f7f7f7\"],[0.6,\"#e6f5d0\"],[0.7,\"#b8e186\"],[0.8,\"#7fbc41\"],[0.9,\"#4d9221\"],[1,\"#276419\"]]},\"xaxis\":{\"gridcolor\":\"white\",\"linecolor\":\"white\",\"ticks\":\"\",\"title\":{\"standoff\":15},\"zerolinecolor\":\"white\",\"automargin\":true,\"zerolinewidth\":2},\"yaxis\":{\"gridcolor\":\"white\",\"linecolor\":\"white\",\"ticks\":\"\",\"title\":{\"standoff\":15},\"zerolinecolor\":\"white\",\"automargin\":true,\"zerolinewidth\":2},\"scene\":{\"xaxis\":{\"backgroundcolor\":\"#E5ECF6\",\"gridcolor\":\"white\",\"linecolor\":\"white\",\"showbackground\":true,\"ticks\":\"\",\"zerolinecolor\":\"white\",\"gridwidth\":2},\"yaxis\":{\"backgroundcolor\":\"#E5ECF6\",\"gridcolor\":\"white\",\"linecolor\":\"white\",\"showbackground\":true,\"ticks\":\"\",\"zerolinecolor\":\"white\",\"gridwidth\":2},\"zaxis\":{\"backgroundcolor\":\"#E5ECF6\",\"gridcolor\":\"white\",\"linecolor\":\"white\",\"showbackground\":true,\"ticks\":\"\",\"zerolinecolor\":\"white\",\"gridwidth\":2}},\"shapedefaults\":{\"line\":{\"color\":\"#2a3f5f\"}},\"annotationdefaults\":{\"arrowcolor\":\"#2a3f5f\",\"arrowhead\":0,\"arrowwidth\":1},\"geo\":{\"bgcolor\":\"white\",\"landcolor\":\"#E5ECF6\",\"subunitcolor\":\"white\",\"showland\":true,\"showlakes\":true,\"lakecolor\":\"white\"},\"title\":{\"x\":0.05},\"mapbox\":{\"style\":\"light\"}}},\"legend\":{\"tracegroupgap\":0},\"title\":{\"text\":\"ToolBroken Distribution by PresentTool_05/05/2023 to 17/07/2023\"}},                        {\"responsive\": true}                    ).then(function(){\n",
       "                            \n",
       "var gd = document.getElementById('09e500e0-fb65-421b-963a-588eff951ce4');\n",
       "var x = new MutationObserver(function (mutations, observer) {{\n",
       "        var display = window.getComputedStyle(gd).display;\n",
       "        if (!display || display === 'none') {{\n",
       "            console.log([gd, 'removed!']);\n",
       "            Plotly.purge(gd);\n",
       "            observer.disconnect();\n",
       "        }}\n",
       "}});\n",
       "\n",
       "// Listen for the removal of the full notebook cells\n",
       "var notebookContainer = gd.closest('#notebook-container');\n",
       "if (notebookContainer) {{\n",
       "    x.observe(notebookContainer, {childList: true});\n",
       "}}\n",
       "\n",
       "// Listen for the clearing of the current output cell\n",
       "var outputEl = gd.closest('.output');\n",
       "if (outputEl) {{\n",
       "    x.observe(outputEl, {childList: true});\n",
       "}}\n",
       "\n",
       "                        })                };                });            </script>        </div>"
      ]
     },
     "metadata": {},
     "output_type": "display_data"
    }
   ],
   "source": [
    "import pandas as pd\n",
    "import plotly.express as px\n",
    "\n",
    "result = df1[df1['ToolBroken'] == True]['PresentTool'].value_counts().reset_index()\n",
    "result.columns = ['PresentTool', 'ToolBroken_Count']\n",
    "\n",
    "fig = px.pie(result, names='PresentTool', values='ToolBroken_Count', title='ToolBroken Distribution by PresentTool_05/05/2023 to 17/07/2023',\n",
    "             labels={'PresentTool': 'PresentTool', 'ToolBroken_Count': 'ToolBroken Count'})\n",
    "\n",
    "\n",
    "fig.show()"
   ]
  },
  {
   "cell_type": "code",
   "execution_count": null,
   "id": "c7b6af6d",
   "metadata": {},
   "outputs": [],
   "source": []
  },
  {
   "cell_type": "code",
   "execution_count": null,
   "id": "213848ab",
   "metadata": {},
   "outputs": [],
   "source": []
  },
  {
   "cell_type": "code",
   "execution_count": null,
   "id": "5b2372ef",
   "metadata": {},
   "outputs": [],
   "source": []
  },
  {
   "cell_type": "markdown",
   "id": "0cdd2956",
   "metadata": {},
   "source": [
    "### Next --> Tool life cycle prediction"
   ]
  },
  {
   "cell_type": "code",
   "execution_count": null,
   "id": "657ff3d5",
   "metadata": {},
   "outputs": [],
   "source": []
  }
 ],
 "metadata": {
  "kernelspec": {
   "display_name": "Python 3 (ipykernel)",
   "language": "python",
   "name": "python3"
  },
  "language_info": {
   "codemirror_mode": {
    "name": "ipython",
    "version": 3
   },
   "file_extension": ".py",
   "mimetype": "text/x-python",
   "name": "python",
   "nbconvert_exporter": "python",
   "pygments_lexer": "ipython3",
   "version": "3.9.7"
  }
 },
 "nbformat": 4,
 "nbformat_minor": 5
}
