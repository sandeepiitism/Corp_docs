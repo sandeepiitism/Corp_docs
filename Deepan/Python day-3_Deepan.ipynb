{
 "cells": [
  {
   "cell_type": "markdown",
   "id": "a5f8790e",
   "metadata": {},
   "source": [
    "# Python data Structure"
   ]
  },
  {
   "cell_type": "markdown",
   "id": "cb8062ad",
   "metadata": {},
   "source": [
    "1. List --> []\n",
    "2. Tuple --> ()\n",
    "3. Set --> {}\n",
    "4. Dictionary --> {}"
   ]
  },
  {
   "cell_type": "markdown",
   "id": "63720896",
   "metadata": {},
   "source": [
    "## 1. List"
   ]
  },
  {
   "cell_type": "code",
   "execution_count": 4,
   "id": "a3b852ba",
   "metadata": {},
   "outputs": [
    {
     "name": "stdout",
     "output_type": "stream",
     "text": [
      "<class 'list'>\n",
      "hello deepan\n"
     ]
    }
   ],
   "source": [
    "l1 = []\n",
    "print(type(l1))\n",
    "print(\"hello deepan\")"
   ]
  },
  {
   "cell_type": "code",
   "execution_count": null,
   "id": "327c9175",
   "metadata": {},
   "outputs": [],
   "source": []
  }
 ],
 "metadata": {
  "kernelspec": {
   "display_name": "Python 3 (ipykernel)",
   "language": "python",
   "name": "python3"
  },
  "language_info": {
   "codemirror_mode": {
    "name": "ipython",
    "version": 3
   },
   "file_extension": ".py",
   "mimetype": "text/x-python",
   "name": "python",
   "nbconvert_exporter": "python",
   "pygments_lexer": "ipython3",
   "version": "3.9.7"
  }
 },
 "nbformat": 4,
 "nbformat_minor": 5
}
