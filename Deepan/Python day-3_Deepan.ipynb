{
 "cells": [
  {
   "cell_type": "markdown",
   "id": "a5f8790e",
   "metadata": {},
   "source": [
    "# Python data Structure storage"
   ]
  },
  {
   "cell_type": "markdown",
   "id": "cb8062ad",
   "metadata": {},
   "source": [
    "1. List --> []\n",
    "2. Tuple --> ()\n",
    "3. Set --> {}\n",
    "4. Dictionary --> {}"
   ]
  },
  {
   "cell_type": "markdown",
   "id": "63720896",
   "metadata": {},
   "source": [
    "## 1. List"
   ]
  },
  {
   "cell_type": "code",
   "execution_count": 4,
   "id": "a3b852ba",
   "metadata": {},
   "outputs": [
    {
     "name": "stdout",
     "output_type": "stream",
     "text": [
      "<class 'list'>\n",
      "hello deepan\n"
     ]
    }
   ],
   "source": [
    "l1 = []\n",
    "print(type(l1))\n",
    "print(\"hello deepan\")"
   ]
  },
  {
   "cell_type": "code",
   "execution_count": 2,
   "id": "327c9175",
   "metadata": {},
   "outputs": [
    {
     "name": "stdout",
     "output_type": "stream",
     "text": [
      "[1, 2, 3, 4]\n"
     ]
    }
   ],
   "source": [
    "l2 = [1,2,3,4]\n",
    "print(l2)"
   ]
  },
  {
   "cell_type": "code",
   "execution_count": 3,
   "id": "545782a3",
   "metadata": {},
   "outputs": [
    {
     "data": {
      "text/plain": [
       "[1, 2, 3, 4]"
      ]
     },
     "execution_count": 3,
     "metadata": {},
     "output_type": "execute_result"
    }
   ],
   "source": [
    "l2"
   ]
  },
  {
   "cell_type": "code",
   "execution_count": 4,
   "id": "5ad8f713",
   "metadata": {},
   "outputs": [
    {
     "data": {
      "text/plain": [
       "list"
      ]
     },
     "execution_count": 4,
     "metadata": {},
     "output_type": "execute_result"
    }
   ],
   "source": [
    "type(l2)"
   ]
  },
  {
   "cell_type": "code",
   "execution_count": 5,
   "id": "8a4333db",
   "metadata": {},
   "outputs": [
    {
     "data": {
      "text/plain": [
       "[2.33, 4.55]"
      ]
     },
     "execution_count": 5,
     "metadata": {},
     "output_type": "execute_result"
    }
   ],
   "source": [
    "l3 = [2.33, 4.55]\n",
    "l3"
   ]
  },
  {
   "cell_type": "code",
   "execution_count": 6,
   "id": "77b15a7c",
   "metadata": {},
   "outputs": [
    {
     "data": {
      "text/plain": [
       "[1, 2, 3, 3.44, False, 'deepan', (3+2j)]"
      ]
     },
     "execution_count": 6,
     "metadata": {},
     "output_type": "execute_result"
    }
   ],
   "source": [
    "## list can store any data types\n",
    "l4 = [1,2,3, 3.44, False, \"deepan\", (3+2j)]\n",
    "l4"
   ]
  },
  {
   "cell_type": "code",
   "execution_count": 7,
   "id": "26cf075d",
   "metadata": {},
   "outputs": [
    {
     "data": {
      "text/plain": [
       "[1, 2, 3, ['sandeep', 2, 4.77], 3.44, False, 'deepan', (3+2j)]"
      ]
     },
     "execution_count": 7,
     "metadata": {},
     "output_type": "execute_result"
    }
   ],
   "source": [
    "## list inside a list --> Nested List\n",
    "\n",
    "l5 = [1,2,3, [\"sandeep\",2,4.77], 3.44, False, \"deepan\", (3+2j)]\n",
    "l5"
   ]
  },
  {
   "cell_type": "code",
   "execution_count": 8,
   "id": "306c0397",
   "metadata": {},
   "outputs": [
    {
     "data": {
      "text/plain": [
       "list"
      ]
     },
     "execution_count": 8,
     "metadata": {},
     "output_type": "execute_result"
    }
   ],
   "source": [
    "type(l5)"
   ]
  },
  {
   "cell_type": "code",
   "execution_count": 9,
   "id": "fa8d5038",
   "metadata": {},
   "outputs": [
    {
     "data": {
      "text/plain": [
       "[1, 2, 3, 1, 2, 3, 1, 2, 3]"
      ]
     },
     "execution_count": 9,
     "metadata": {},
     "output_type": "execute_result"
    }
   ],
   "source": [
    "# anything can be modified in list\n",
    "l6 = [1,2,3]\n",
    "l6*3"
   ]
  },
  {
   "cell_type": "code",
   "execution_count": 11,
   "id": "6be61bf4",
   "metadata": {},
   "outputs": [
    {
     "data": {
      "text/plain": [
       "'deepan'"
      ]
     },
     "execution_count": 11,
     "metadata": {},
     "output_type": "execute_result"
    }
   ],
   "source": [
    "l7 = [1,2,3, 3.44, False, \"deepan\", (3+2j)]\n",
    "## slicing is also possible\n",
    "l7[5]  ## slicing n-1"
   ]
  },
  {
   "cell_type": "code",
   "execution_count": 12,
   "id": "f01e2d92",
   "metadata": {},
   "outputs": [
    {
     "data": {
      "text/plain": [
       "7"
      ]
     },
     "execution_count": 12,
     "metadata": {},
     "output_type": "execute_result"
    }
   ],
   "source": [
    "len(l7) # len function tells n"
   ]
  },
  {
   "cell_type": "code",
   "execution_count": 13,
   "id": "0abfba9b",
   "metadata": {},
   "outputs": [
    {
     "data": {
      "text/plain": [
       "('sandeep', False)"
      ]
     },
     "execution_count": 13,
     "metadata": {},
     "output_type": "execute_result"
    }
   ],
   "source": [
    "## extract sandeep\n",
    "l8 = [1,2,3, [\"sandeep\",2,4.77], 3.44, False, \"deepan\", (3+2j)]\n",
    "l8[3][0], l8[5]\n",
    "\n"
   ]
  },
  {
   "cell_type": "code",
   "execution_count": 14,
   "id": "7d1cc356",
   "metadata": {},
   "outputs": [
    {
     "data": {
      "text/plain": [
       "[(3+2j), 'deepan', False, 3.44, ['sandeep', 2, 4.77], 3, 2, 1]"
      ]
     },
     "execution_count": 14,
     "metadata": {},
     "output_type": "execute_result"
    }
   ],
   "source": [
    "l8[::-1]"
   ]
  },
  {
   "cell_type": "code",
   "execution_count": 19,
   "id": "5dedf0a1",
   "metadata": {},
   "outputs": [
    {
     "data": {
      "text/plain": [
       "[4.77, 2, 'sandeep']"
      ]
     },
     "execution_count": 19,
     "metadata": {},
     "output_type": "execute_result"
    }
   ],
   "source": [
    "l8[3][::-1]"
   ]
  },
  {
   "cell_type": "code",
   "execution_count": 20,
   "id": "82227b49",
   "metadata": {},
   "outputs": [
    {
     "data": {
      "text/plain": [
       "'atta'"
      ]
     },
     "execution_count": 20,
     "metadata": {},
     "output_type": "execute_result"
    }
   ],
   "source": [
    "## list assignment\n",
    "\n",
    "l9 = [\"atta\", \"maida\", \"milk\", 200, 400]\n",
    "l9[0]"
   ]
  },
  {
   "cell_type": "code",
   "execution_count": 21,
   "id": "ceb2ad49",
   "metadata": {},
   "outputs": [
    {
     "data": {
      "text/plain": [
       "['poha', 'maida', 'milk', 200, 400]"
      ]
     },
     "execution_count": 21,
     "metadata": {},
     "output_type": "execute_result"
    }
   ],
   "source": [
    "l9[0] = \"poha\"\n",
    "l9"
   ]
  },
  {
   "cell_type": "code",
   "execution_count": 22,
   "id": "05149b9c",
   "metadata": {},
   "outputs": [
    {
     "data": {
      "text/plain": [
       "['s', 'a', 'n', 'd', 'e', 'e', 'p']"
      ]
     },
     "execution_count": 22,
     "metadata": {},
     "output_type": "execute_result"
    }
   ],
   "source": [
    "list(\"sandeep\")"
   ]
  },
  {
   "cell_type": "markdown",
   "id": "b2f86c65",
   "metadata": {},
   "source": [
    "## 2. Tuple"
   ]
  },
  {
   "cell_type": "code",
   "execution_count": 24,
   "id": "8acd07f1",
   "metadata": {},
   "outputs": [
    {
     "data": {
      "text/plain": [
       "tuple"
      ]
     },
     "execution_count": 24,
     "metadata": {},
     "output_type": "execute_result"
    }
   ],
   "source": [
    "t1 = ()\n",
    "type(t1)"
   ]
  },
  {
   "cell_type": "code",
   "execution_count": 25,
   "id": "7e7cf457",
   "metadata": {},
   "outputs": [
    {
     "data": {
      "text/plain": [
       "tuple"
      ]
     },
     "execution_count": 25,
     "metadata": {},
     "output_type": "execute_result"
    }
   ],
   "source": [
    "t2 = (1,2,3,4)\n",
    "type(t2)"
   ]
  },
  {
   "cell_type": "code",
   "execution_count": 27,
   "id": "a0d389c2",
   "metadata": {},
   "outputs": [
    {
     "data": {
      "text/plain": [
       "int"
      ]
     },
     "execution_count": 27,
     "metadata": {},
     "output_type": "execute_result"
    }
   ],
   "source": [
    "type(t2[0])"
   ]
  },
  {
   "cell_type": "code",
   "execution_count": 29,
   "id": "749abd12",
   "metadata": {},
   "outputs": [
    {
     "data": {
      "text/plain": [
       "(1, 2, 3, 3.44, False, 'deepan', (3+2j))"
      ]
     },
     "execution_count": 29,
     "metadata": {},
     "output_type": "execute_result"
    }
   ],
   "source": [
    "t3= (1,2,3, 3.44, False, \"deepan\", (3+2j))\n",
    "t3"
   ]
  },
  {
   "cell_type": "code",
   "execution_count": 31,
   "id": "92be0288",
   "metadata": {},
   "outputs": [
    {
     "data": {
      "text/plain": [
       "(1, 2, 3, ('sandeep', 2, 4.77), 3.44, False, 'deepan', (3+2j))"
      ]
     },
     "execution_count": 31,
     "metadata": {},
     "output_type": "execute_result"
    }
   ],
   "source": [
    "# tuple inside a tuple\n",
    "\n",
    "t4 = (1,2,3, (\"sandeep\",2,4.77), 3.44, False, \"deepan\", (3+2j))\n",
    "t4"
   ]
  },
  {
   "cell_type": "code",
   "execution_count": 33,
   "id": "034d2ed1",
   "metadata": {},
   "outputs": [
    {
     "data": {
      "text/plain": [
       "'sandeep'"
      ]
     },
     "execution_count": 33,
     "metadata": {},
     "output_type": "execute_result"
    }
   ],
   "source": [
    "t4[3][0]"
   ]
  },
  {
   "cell_type": "code",
   "execution_count": 34,
   "id": "c5dbc090",
   "metadata": {},
   "outputs": [
    {
     "data": {
      "text/plain": [
       "'sandeep'"
      ]
     },
     "execution_count": 34,
     "metadata": {},
     "output_type": "execute_result"
    }
   ],
   "source": [
    "t5 = (1,2,3, (\"sandeep\",2,4.77), 3.44, False, \"deepan\", (3+2j))\n",
    "t5[3][0]"
   ]
  },
  {
   "cell_type": "code",
   "execution_count": 35,
   "id": "781b7f40",
   "metadata": {},
   "outputs": [
    {
     "ename": "TypeError",
     "evalue": "'tuple' object does not support item assignment",
     "output_type": "error",
     "traceback": [
      "\u001b[1;31m---------------------------------------------------------------------------\u001b[0m",
      "\u001b[1;31mTypeError\u001b[0m                                 Traceback (most recent call last)",
      "\u001b[1;32m~\\AppData\\Local\\Temp/ipykernel_1304/4203666123.py\u001b[0m in \u001b[0;36m<module>\u001b[1;34m\u001b[0m\n\u001b[1;32m----> 1\u001b[1;33m \u001b[0mt5\u001b[0m\u001b[1;33m[\u001b[0m\u001b[1;36m3\u001b[0m\u001b[1;33m]\u001b[0m\u001b[1;33m[\u001b[0m\u001b[1;36m0\u001b[0m\u001b[1;33m]\u001b[0m \u001b[1;33m=\u001b[0m \u001b[1;34m\"deepan\"\u001b[0m\u001b[1;33m\u001b[0m\u001b[1;33m\u001b[0m\u001b[0m\n\u001b[0m",
      "\u001b[1;31mTypeError\u001b[0m: 'tuple' object does not support item assignment"
     ]
    }
   ],
   "source": [
    "t5[3][0] = \"deepan\""
   ]
  },
  {
   "cell_type": "markdown",
   "id": "97b3df84",
   "metadata": {},
   "source": [
    "## 3. Set"
   ]
  },
  {
   "cell_type": "code",
   "execution_count": 36,
   "id": "e1ad591c",
   "metadata": {},
   "outputs": [
    {
     "data": {
      "text/plain": [
       "dict"
      ]
     },
     "execution_count": 36,
     "metadata": {},
     "output_type": "execute_result"
    }
   ],
   "source": [
    "s1 = {}\n",
    "type(s1)"
   ]
  },
  {
   "cell_type": "code",
   "execution_count": 37,
   "id": "d51451cd",
   "metadata": {},
   "outputs": [
    {
     "data": {
      "text/plain": [
       "set"
      ]
     },
     "execution_count": 37,
     "metadata": {},
     "output_type": "execute_result"
    }
   ],
   "source": [
    "s2 = {1,2,3}\n",
    "type(s2)"
   ]
  },
  {
   "cell_type": "code",
   "execution_count": 38,
   "id": "78727767",
   "metadata": {},
   "outputs": [
    {
     "data": {
      "text/plain": [
       "dict"
      ]
     },
     "execution_count": 38,
     "metadata": {},
     "output_type": "execute_result"
    }
   ],
   "source": [
    "d1 = {\"keys\": \"values\"}\n",
    "type(d1)"
   ]
  },
  {
   "cell_type": "code",
   "execution_count": 43,
   "id": "88ca75c0",
   "metadata": {},
   "outputs": [
    {
     "data": {
      "text/plain": [
       "{'deepan': 'is a bosch guy'}"
      ]
     },
     "execution_count": 43,
     "metadata": {},
     "output_type": "execute_result"
    }
   ],
   "source": [
    "d2 = {\"deepan\": \"is a bosch guy\"}\n",
    "d2"
   ]
  },
  {
   "cell_type": "code",
   "execution_count": 44,
   "id": "1876a50a",
   "metadata": {},
   "outputs": [
    {
     "data": {
      "text/plain": [
       "dict_keys(['deepan'])"
      ]
     },
     "execution_count": 44,
     "metadata": {},
     "output_type": "execute_result"
    }
   ],
   "source": [
    "d2.keys()"
   ]
  },
  {
   "cell_type": "code",
   "execution_count": 45,
   "id": "9dfecef0",
   "metadata": {},
   "outputs": [
    {
     "data": {
      "text/plain": [
       "dict_values(['is a bosch guy'])"
      ]
     },
     "execution_count": 45,
     "metadata": {},
     "output_type": "execute_result"
    }
   ],
   "source": [
    "d2.values()"
   ]
  },
  {
   "cell_type": "code",
   "execution_count": 46,
   "id": "117ca7c6",
   "metadata": {},
   "outputs": [
    {
     "data": {
      "text/plain": [
       "{(3+2j), 1, 2, 3, 3.44, False, 'deepan'}"
      ]
     },
     "execution_count": 46,
     "metadata": {},
     "output_type": "execute_result"
    }
   ],
   "source": [
    "## continue the set\n",
    "\n",
    "s3 = {1,2,3, 3.44, False, \"deepan\", (3+2j)}\n",
    "s3"
   ]
  },
  {
   "cell_type": "code",
   "execution_count": 48,
   "id": "b77da963",
   "metadata": {},
   "outputs": [
    {
     "data": {
      "text/plain": [
       "{(3+2j), 1, 2, 3, 3.44, False, 'deepan'}"
      ]
     },
     "execution_count": 48,
     "metadata": {},
     "output_type": "execute_result"
    }
   ],
   "source": [
    "s4 = {1,2,2,3,3, 3.44, False, False,\"deepan\", (3+2j)}\n",
    "s4"
   ]
  },
  {
   "cell_type": "markdown",
   "id": "3d393e22",
   "metadata": {},
   "source": [
    "## 4. Dictionary"
   ]
  },
  {
   "cell_type": "code",
   "execution_count": 49,
   "id": "21dc0651",
   "metadata": {},
   "outputs": [
    {
     "data": {
      "text/plain": [
       "{'user1': 'good', 'user2': 'ok', 'user3': 'bad'}"
      ]
     },
     "execution_count": 49,
     "metadata": {},
     "output_type": "execute_result"
    }
   ],
   "source": [
    "d3 = {\"user1\":\"good\", \"user2\": \"ok\", \"user3\":\"bad\"}\n",
    "\n",
    "d3"
   ]
  },
  {
   "cell_type": "code",
   "execution_count": 52,
   "id": "4fcaa641",
   "metadata": {},
   "outputs": [
    {
     "data": {
      "text/plain": [
       "'bad'"
      ]
     },
     "execution_count": 52,
     "metadata": {},
     "output_type": "execute_result"
    }
   ],
   "source": [
    "d3[\"user3\"]"
   ]
  },
  {
   "cell_type": "code",
   "execution_count": 53,
   "id": "fe4eb61d",
   "metadata": {},
   "outputs": [],
   "source": [
    "## Nested dictionary -- dict inside dict or anything inside a dict\n",
    "\n",
    "d4 = {\n",
    "  \"child1\" : {\n",
    "    \"name\" : \"Emil\",\n",
    "    \"year\" : 2004\n",
    "  },\n",
    "  \"child2\" : {\n",
    "    \"name\" : \"Tobias\",\n",
    "    \"year\" : 2007\n",
    "  },\n",
    "  \"child3\" : {\n",
    "    \"name\" : \"Linus\",\n",
    "    \"year\" : 2011\n",
    "  }\n",
    "} "
   ]
  },
  {
   "cell_type": "code",
   "execution_count": 60,
   "id": "3e0c6822",
   "metadata": {},
   "outputs": [
    {
     "data": {
      "text/plain": [
       "{'child1': {'name': 'Emil', 'year': 2004},\n",
       " 'child2': {'name': 'Tobias', 'year': 2007},\n",
       " 'child3': {'name': 'Linus', 'year': 2011}}"
      ]
     },
     "execution_count": 60,
     "metadata": {},
     "output_type": "execute_result"
    }
   ],
   "source": [
    "d4"
   ]
  },
  {
   "cell_type": "code",
   "execution_count": 55,
   "id": "2f950739",
   "metadata": {},
   "outputs": [
    {
     "data": {
      "text/plain": [
       "{'name': 'Emil', 'year': 2004}"
      ]
     },
     "execution_count": 55,
     "metadata": {},
     "output_type": "execute_result"
    }
   ],
   "source": [
    "d4[\"child1\"]"
   ]
  },
  {
   "cell_type": "code",
   "execution_count": 59,
   "id": "a25910bb",
   "metadata": {},
   "outputs": [
    {
     "data": {
      "text/plain": [
       "('Emil', 2004)"
      ]
     },
     "execution_count": 59,
     "metadata": {},
     "output_type": "execute_result"
    }
   ],
   "source": [
    "d4[\"child1\"][\"name\"], d4[\"child1\"][\"year\"]"
   ]
  },
  {
   "cell_type": "code",
   "execution_count": 61,
   "id": "dd959842",
   "metadata": {},
   "outputs": [
    {
     "data": {
      "text/plain": [
       "{'name': 'Linus', 'year': 2011}"
      ]
     },
     "execution_count": 61,
     "metadata": {},
     "output_type": "execute_result"
    }
   ],
   "source": [
    "d4[\"child3\"]"
   ]
  },
  {
   "cell_type": "code",
   "execution_count": 62,
   "id": "8094a9f8",
   "metadata": {},
   "outputs": [
    {
     "data": {
      "text/plain": [
       "2011"
      ]
     },
     "execution_count": 62,
     "metadata": {},
     "output_type": "execute_result"
    }
   ],
   "source": [
    "d4[\"child3\"][\"year\"]"
   ]
  },
  {
   "cell_type": "code",
   "execution_count": 63,
   "id": "9378b585",
   "metadata": {},
   "outputs": [],
   "source": [
    "d4 = {\n",
    "  \"child1\" : {\n",
    "    \"name\" : [\"Emil\", \"deepan\", \"sandeep\"],\n",
    "    \"year\" : 2023\n",
    "  },\n",
    "  \"child2\" : {\n",
    "    \"name\" : \"Tobias\",\n",
    "    \"year\" : 2007\n",
    "  },\n",
    "  \"child3\" : {\n",
    "    \"name\" : \"Linus\",\n",
    "    \"year\" : 2011\n",
    "  }\n",
    "} "
   ]
  },
  {
   "cell_type": "code",
   "execution_count": 65,
   "id": "fb3c92c3",
   "metadata": {},
   "outputs": [
    {
     "data": {
      "text/plain": [
       "['deepan', 'saneep']"
      ]
     },
     "execution_count": 65,
     "metadata": {},
     "output_type": "execute_result"
    }
   ],
   "source": [
    "d4[\"child1\"][\"name\"][1:3]"
   ]
  },
  {
   "cell_type": "code",
   "execution_count": 67,
   "id": "20be0d9b",
   "metadata": {},
   "outputs": [],
   "source": [
    "## assignments-1\n",
    "\n",
    "# list1 = [1, \"sandeep\", 001]\n",
    "# list2 = [2, \"Deepan\", 002]\n",
    "\n",
    "#op: [\"napeeD\", \"peednas\"]"
   ]
  },
  {
   "cell_type": "code",
   "execution_count": 68,
   "id": "5777209b",
   "metadata": {},
   "outputs": [],
   "source": [
    "## assignments-2\n",
    "\n",
    "#scores = {\"team\": [\"kol\", \"hyd\"], \"captains\":(\"iyer\", \"patcummins\"), \"score\":{150, 175, 175, 200}, \"ground\":{1:\"eden\", 2:\"chennai\", 3:\"hyd\"}}\n",
    "# 1. change team kol to pune.\n",
    "# 2. change ground eden to Pune."
   ]
  },
  {
   "cell_type": "code",
   "execution_count": null,
   "id": "bdf85cf8",
   "metadata": {},
   "outputs": [],
   "source": []
  },
  {
   "cell_type": "code",
   "execution_count": null,
   "id": "262dc538",
   "metadata": {},
   "outputs": [],
   "source": []
  }
 ],
 "metadata": {
  "kernelspec": {
   "display_name": "Python 3 (ipykernel)",
   "language": "python",
   "name": "python3"
  },
  "language_info": {
   "codemirror_mode": {
    "name": "ipython",
    "version": 3
   },
   "file_extension": ".py",
   "mimetype": "text/x-python",
   "name": "python",
   "nbconvert_exporter": "python",
   "pygments_lexer": "ipython3",
   "version": "3.9.7"
  }
 },
 "nbformat": 4,
 "nbformat_minor": 5
}
