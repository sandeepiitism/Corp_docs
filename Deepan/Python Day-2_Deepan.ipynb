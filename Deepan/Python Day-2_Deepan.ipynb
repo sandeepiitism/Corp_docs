{
 "cells": [
  {
   "cell_type": "markdown",
   "id": "60741b0b",
   "metadata": {},
   "source": [
    "# Python Day 2"
   ]
  },
  {
   "cell_type": "markdown",
   "id": "f57dcd8f",
   "metadata": {},
   "source": [
    "Author: Sandeep"
   ]
  },
  {
   "cell_type": "markdown",
   "id": "8fffd2ff",
   "metadata": {},
   "source": [
    "1. Comments\n",
    "2. Multiline comments\n",
    "3. Typecasting\n",
    "4. Slicing\n",
    "5. f-string (Rev)\n",
    "6. print_func (Rev)\n",
    "7. user_input (Rev)"
   ]
  },
  {
   "cell_type": "markdown",
   "id": "676c8efc",
   "metadata": {},
   "source": [
    "### 1. Comments"
   ]
  },
  {
   "cell_type": "code",
   "execution_count": 1,
   "id": "17c22c9d",
   "metadata": {},
   "outputs": [
    {
     "data": {
      "text/plain": [
       "4"
      ]
     },
     "execution_count": 1,
     "metadata": {},
     "output_type": "execute_result"
    }
   ],
   "source": [
    "# addition\n",
    "2+2"
   ]
  },
  {
   "cell_type": "code",
   "execution_count": 3,
   "id": "9eb711ac",
   "metadata": {},
   "outputs": [
    {
     "name": "stdout",
     "output_type": "stream",
     "text": [
      "Deepan\n",
      "8\n"
     ]
    }
   ],
   "source": [
    "# This is code\n",
    "# This is python\n",
    "# This is mult code\n",
    "\n",
    "print(\"Deepan\") # this is my name\n",
    "print(2**3) # this is I use in my SAP data"
   ]
  },
  {
   "cell_type": "markdown",
   "id": "f6b12178",
   "metadata": {},
   "source": [
    "### 2. Multiline comment"
   ]
  },
  {
   "cell_type": "code",
   "execution_count": null,
   "id": "b21792e9",
   "metadata": {},
   "outputs": [],
   "source": [
    "# kjhfv ihf oihoihfi hfvpfvpodjf jpojpojpofvhfpejf jsgdu shd isoishdos \n",
    "# dposdpodovsovdifvhdifhdpofbpodfbpodfpodvpohpoghdoisdpshdpovjspod jsdsdj;sd\n",
    "# kjdhfvid hf jdf\n",
    "# hkjfvdf"
   ]
  },
  {
   "cell_type": "code",
   "execution_count": 4,
   "id": "076e8ec2",
   "metadata": {},
   "outputs": [
    {
     "name": "stdout",
     "output_type": "stream",
     "text": [
      "Deepan\n",
      "8\n"
     ]
    }
   ],
   "source": [
    "\"\"\" \n",
    "kjhfv ihf oihoihfi hfvpfvpodjf jpojpojpofvhfpejf jsgdu shd isoishdos \n",
    "dposdpodovsovdifvhdifhdpofbpodfbpodfpodvpohpoghdoisdpshdpovjspod jsdsdj;sd\n",
    "kjdhfvid hf jdf\n",
    "hkjfvdf\n",
    "\n",
    "\"\"\"\n",
    "\n",
    "print(\"Deepan\") # this is my name\n",
    "print(2**3) # this is I use in my SAP data"
   ]
  },
  {
   "cell_type": "code",
   "execution_count": 5,
   "id": "a6ffdac6",
   "metadata": {},
   "outputs": [
    {
     "name": "stdout",
     "output_type": "stream",
     "text": [
      "\n",
      "hiuhfiugfuidhfh\n",
      "doihvois hvdovds\n",
      "gdiudhgvishdhsdovhsiu\n",
      "uhihdhdhow\n"
     ]
    }
   ],
   "source": [
    "print(\"\"\"\n",
    "hiuhfiugfuidhfh\n",
    "doihvois hvdovds\n",
    "gdiudhgvishdhsdovhsiu\n",
    "uhihdhdhow\"\"\")"
   ]
  },
  {
   "cell_type": "code",
   "execution_count": 6,
   "id": "c514c804",
   "metadata": {},
   "outputs": [
    {
     "name": "stdout",
     "output_type": "stream",
     "text": [
      " kudiusgds gdusgdus ugsdcush\n",
      "sydgcsiuhcds gsdchs\n",
      "sdgckusdhcks deepan\n"
     ]
    }
   ],
   "source": [
    "a = \"deepan\"\n",
    "print(\"\"\" kudiusgds gdusgdus ugsdcush\n",
    "sydgcsiuhcds gsdchs\n",
    "sdgckusdhcks\"\"\", a)"
   ]
  },
  {
   "cell_type": "code",
   "execution_count": 7,
   "id": "b3e8a035",
   "metadata": {},
   "outputs": [
    {
     "name": "stdout",
     "output_type": "stream",
     "text": [
      "\n",
      "*\n",
      "**\n",
      "***\n",
      "****\n",
      "*****\n"
     ]
    }
   ],
   "source": [
    "print(\"\"\"\n",
    "*\n",
    "**\n",
    "***\n",
    "****\n",
    "*****\n",
    "\"\"\")"
   ]
  },
  {
   "cell_type": "markdown",
   "id": "d81409bc",
   "metadata": {},
   "source": [
    "### 3.Typecasting"
   ]
  },
  {
   "cell_type": "code",
   "execution_count": 10,
   "id": "37386a83",
   "metadata": {},
   "outputs": [
    {
     "name": "stdout",
     "output_type": "stream",
     "text": [
      "<class 'int'>\n"
     ]
    }
   ],
   "source": [
    "a = 22\n",
    "print(type(a))"
   ]
  },
  {
   "cell_type": "code",
   "execution_count": 13,
   "id": "7262d2d6",
   "metadata": {},
   "outputs": [],
   "source": [
    "# integer to Float\n",
    "\n",
    "b = float(a)"
   ]
  },
  {
   "cell_type": "code",
   "execution_count": 14,
   "id": "d4807a1d",
   "metadata": {},
   "outputs": [
    {
     "data": {
      "text/plain": [
       "22.0"
      ]
     },
     "execution_count": 14,
     "metadata": {},
     "output_type": "execute_result"
    }
   ],
   "source": [
    "b"
   ]
  },
  {
   "cell_type": "code",
   "execution_count": 15,
   "id": "2c57d915",
   "metadata": {},
   "outputs": [
    {
     "data": {
      "text/plain": [
       "22"
      ]
     },
     "execution_count": 15,
     "metadata": {},
     "output_type": "execute_result"
    }
   ],
   "source": [
    "a"
   ]
  },
  {
   "cell_type": "code",
   "execution_count": 18,
   "id": "ff23849e",
   "metadata": {},
   "outputs": [
    {
     "name": "stdout",
     "output_type": "stream",
     "text": [
      "<class 'int'>\n",
      "<class 'float'>\n"
     ]
    }
   ],
   "source": [
    "print(type(a))\n",
    "print(type(b))"
   ]
  },
  {
   "cell_type": "code",
   "execution_count": 20,
   "id": "a0de3a7a",
   "metadata": {},
   "outputs": [
    {
     "name": "stdout",
     "output_type": "stream",
     "text": [
      "enter a ph num: 75647386574\n"
     ]
    },
    {
     "data": {
      "text/plain": [
       "'75647386574'"
      ]
     },
     "execution_count": 20,
     "metadata": {},
     "output_type": "execute_result"
    }
   ],
   "source": [
    "num = input(\"enter a ph num: \")\n",
    "num\n",
    "\n"
   ]
  },
  {
   "cell_type": "code",
   "execution_count": 21,
   "id": "67361acf",
   "metadata": {},
   "outputs": [
    {
     "data": {
      "text/plain": [
       "75647386574"
      ]
     },
     "execution_count": 21,
     "metadata": {},
     "output_type": "execute_result"
    }
   ],
   "source": [
    "num1 = int(num)\n",
    "num1"
   ]
  },
  {
   "cell_type": "code",
   "execution_count": 22,
   "id": "84e0139d",
   "metadata": {},
   "outputs": [
    {
     "data": {
      "text/plain": [
       "int"
      ]
     },
     "execution_count": 22,
     "metadata": {},
     "output_type": "execute_result"
    }
   ],
   "source": [
    "type(num1)"
   ]
  },
  {
   "cell_type": "code",
   "execution_count": 23,
   "id": "1e3f1824",
   "metadata": {},
   "outputs": [
    {
     "data": {
      "text/plain": [
       "22"
      ]
     },
     "execution_count": 23,
     "metadata": {},
     "output_type": "execute_result"
    }
   ],
   "source": [
    "num2 = 22.0\n",
    "num3 = int(num2)\n",
    "num3"
   ]
  },
  {
   "cell_type": "code",
   "execution_count": 24,
   "id": "6ec16095",
   "metadata": {},
   "outputs": [
    {
     "data": {
      "text/plain": [
       "int"
      ]
     },
     "execution_count": 24,
     "metadata": {},
     "output_type": "execute_result"
    }
   ],
   "source": [
    "type(num3)"
   ]
  },
  {
   "cell_type": "code",
   "execution_count": 25,
   "id": "c3d633e6",
   "metadata": {},
   "outputs": [
    {
     "ename": "ValueError",
     "evalue": "invalid literal for int() with base 10: 'sandeep'",
     "output_type": "error",
     "traceback": [
      "\u001b[1;31m---------------------------------------------------------------------------\u001b[0m",
      "\u001b[1;31mValueError\u001b[0m                                Traceback (most recent call last)",
      "\u001b[1;32m~\\AppData\\Local\\Temp/ipykernel_26524/110471590.py\u001b[0m in \u001b[0;36m<module>\u001b[1;34m\u001b[0m\n\u001b[0;32m      3\u001b[0m \u001b[0mtype\u001b[0m\u001b[1;33m(\u001b[0m\u001b[0mname1\u001b[0m\u001b[1;33m)\u001b[0m\u001b[1;33m\u001b[0m\u001b[1;33m\u001b[0m\u001b[0m\n\u001b[0;32m      4\u001b[0m \u001b[1;33m\u001b[0m\u001b[0m\n\u001b[1;32m----> 5\u001b[1;33m \u001b[0mname2\u001b[0m \u001b[1;33m=\u001b[0m \u001b[0mint\u001b[0m\u001b[1;33m(\u001b[0m\u001b[0mname1\u001b[0m\u001b[1;33m)\u001b[0m\u001b[1;33m\u001b[0m\u001b[1;33m\u001b[0m\u001b[0m\n\u001b[0m\u001b[0;32m      6\u001b[0m \u001b[0mname2\u001b[0m\u001b[1;33m\u001b[0m\u001b[1;33m\u001b[0m\u001b[0m\n",
      "\u001b[1;31mValueError\u001b[0m: invalid literal for int() with base 10: 'sandeep'"
     ]
    }
   ],
   "source": [
    "# string to int, float is not possible\n",
    "name1= \"sandeep\"\n",
    "type(name1)\n",
    "\n",
    "name2 = int(name1)\n",
    "name2"
   ]
  },
  {
   "cell_type": "code",
   "execution_count": 26,
   "id": "dccef888",
   "metadata": {},
   "outputs": [
    {
     "ename": "ValueError",
     "evalue": "invalid literal for int() with base 10: 'sandeep100'",
     "output_type": "error",
     "traceback": [
      "\u001b[1;31m---------------------------------------------------------------------------\u001b[0m",
      "\u001b[1;31mValueError\u001b[0m                                Traceback (most recent call last)",
      "\u001b[1;32m~\\AppData\\Local\\Temp/ipykernel_26524/3101092265.py\u001b[0m in \u001b[0;36m<module>\u001b[1;34m\u001b[0m\n\u001b[0;32m      2\u001b[0m \u001b[0mtype\u001b[0m\u001b[1;33m(\u001b[0m\u001b[0mname3\u001b[0m\u001b[1;33m)\u001b[0m\u001b[1;33m\u001b[0m\u001b[1;33m\u001b[0m\u001b[0m\n\u001b[0;32m      3\u001b[0m \u001b[1;33m\u001b[0m\u001b[0m\n\u001b[1;32m----> 4\u001b[1;33m \u001b[0mname4\u001b[0m \u001b[1;33m=\u001b[0m \u001b[0mint\u001b[0m\u001b[1;33m(\u001b[0m\u001b[0mname3\u001b[0m\u001b[1;33m)\u001b[0m\u001b[1;33m\u001b[0m\u001b[1;33m\u001b[0m\u001b[0m\n\u001b[0m\u001b[0;32m      5\u001b[0m \u001b[0mname4\u001b[0m\u001b[1;33m\u001b[0m\u001b[1;33m\u001b[0m\u001b[0m\n",
      "\u001b[1;31mValueError\u001b[0m: invalid literal for int() with base 10: 'sandeep100'"
     ]
    }
   ],
   "source": [
    "name3= \"sandeep100\"\n",
    "type(name3)\n",
    "\n",
    "name4 = int(name3)\n",
    "name4"
   ]
  },
  {
   "cell_type": "code",
   "execution_count": 28,
   "id": "dfcf071b",
   "metadata": {},
   "outputs": [
    {
     "name": "stdout",
     "output_type": "stream",
     "text": [
      "100\n",
      "<class 'int'>\n"
     ]
    }
   ],
   "source": [
    "name5= \"100\"\n",
    "type(name5)\n",
    "\n",
    "name6 = int(name5)\n",
    "print(name6)\n",
    "print(type(name6))"
   ]
  },
  {
   "cell_type": "code",
   "execution_count": 33,
   "id": "2ce95956",
   "metadata": {},
   "outputs": [
    {
     "data": {
      "text/plain": [
       "23"
      ]
     },
     "execution_count": 33,
     "metadata": {},
     "output_type": "execute_result"
    }
   ],
   "source": [
    "# using typecasting and round function\n",
    "num5 = 22.99\n",
    "num6 = int(round(num5))\n",
    "num6"
   ]
  },
  {
   "cell_type": "markdown",
   "id": "5f26c0b8",
   "metadata": {},
   "source": [
    "### 4. Slicing"
   ]
  },
  {
   "cell_type": "code",
   "execution_count": 34,
   "id": "a6e21ff0",
   "metadata": {},
   "outputs": [],
   "source": [
    "# sandeep --> 0,1,2,3,4,5,6,7,.....\n",
    "# sandeep --> peednas --> -1,-2,-3,-4,-5,...."
   ]
  },
  {
   "cell_type": "code",
   "execution_count": 48,
   "id": "045feeef",
   "metadata": {},
   "outputs": [
    {
     "data": {
      "text/plain": [
       "'s'"
      ]
     },
     "execution_count": 48,
     "metadata": {},
     "output_type": "execute_result"
    }
   ],
   "source": [
    "name = \"sandeep\"\n",
    "name[0]"
   ]
  },
  {
   "cell_type": "code",
   "execution_count": 49,
   "id": "1d5d8199",
   "metadata": {},
   "outputs": [
    {
     "data": {
      "text/plain": [
       "'d'"
      ]
     },
     "execution_count": 49,
     "metadata": {},
     "output_type": "execute_result"
    }
   ],
   "source": [
    "name[3]"
   ]
  },
  {
   "cell_type": "code",
   "execution_count": 36,
   "id": "148b1511",
   "metadata": {},
   "outputs": [
    {
     "data": {
      "text/plain": [
       "'sa'"
      ]
     },
     "execution_count": 36,
     "metadata": {},
     "output_type": "execute_result"
    }
   ],
   "source": [
    "# slicing = name [start:stop+1]\n",
    "name = \"sandeep\"\n",
    "name[0:2]\n"
   ]
  },
  {
   "cell_type": "code",
   "execution_count": 37,
   "id": "c4165395",
   "metadata": {},
   "outputs": [
    {
     "data": {
      "text/plain": [
       "'deep'"
      ]
     },
     "execution_count": 37,
     "metadata": {},
     "output_type": "execute_result"
    }
   ],
   "source": [
    "name[3:8]"
   ]
  },
  {
   "cell_type": "code",
   "execution_count": 38,
   "id": "2d84bf67",
   "metadata": {},
   "outputs": [
    {
     "data": {
      "text/plain": [
       "'deep'"
      ]
     },
     "execution_count": 38,
     "metadata": {},
     "output_type": "execute_result"
    }
   ],
   "source": [
    "name[3:7]"
   ]
  },
  {
   "cell_type": "code",
   "execution_count": 40,
   "id": "560d0c50",
   "metadata": {},
   "outputs": [
    {
     "data": {
      "text/plain": [
       "7"
      ]
     },
     "execution_count": 40,
     "metadata": {},
     "output_type": "execute_result"
    }
   ],
   "source": [
    "# len --> length of any string --> stop+1\n",
    "len(name)"
   ]
  },
  {
   "cell_type": "code",
   "execution_count": 41,
   "id": "18485255",
   "metadata": {},
   "outputs": [
    {
     "data": {
      "text/plain": [
       "6"
      ]
     },
     "execution_count": 41,
     "metadata": {},
     "output_type": "execute_result"
    }
   ],
   "source": [
    "name2 =\"deepan\"\n",
    "len(name2)"
   ]
  },
  {
   "cell_type": "code",
   "execution_count": 43,
   "id": "7d80cbdf",
   "metadata": {},
   "outputs": [
    {
     "data": {
      "text/plain": [
       "'deep'"
      ]
     },
     "execution_count": 43,
     "metadata": {},
     "output_type": "execute_result"
    }
   ],
   "source": [
    "name2[0:4]"
   ]
  },
  {
   "cell_type": "code",
   "execution_count": 44,
   "id": "6cd60777",
   "metadata": {},
   "outputs": [
    {
     "data": {
      "text/plain": [
       "'pan'"
      ]
     },
     "execution_count": 44,
     "metadata": {},
     "output_type": "execute_result"
    }
   ],
   "source": [
    "name2[3:6]"
   ]
  },
  {
   "cell_type": "code",
   "execution_count": 45,
   "id": "ffa267e1",
   "metadata": {},
   "outputs": [
    {
     "data": {
      "text/plain": [
       "'pan'"
      ]
     },
     "execution_count": 45,
     "metadata": {},
     "output_type": "execute_result"
    }
   ],
   "source": [
    "name2[3:len(name2)]"
   ]
  },
  {
   "cell_type": "code",
   "execution_count": 51,
   "id": "d78ad551",
   "metadata": {},
   "outputs": [
    {
     "data": {
      "text/plain": [
       "'epan'"
      ]
     },
     "execution_count": 51,
     "metadata": {},
     "output_type": "execute_result"
    }
   ],
   "source": [
    "start = 2\n",
    "stop = len(name2)\n",
    "\n",
    "name2[start:stop]\n",
    "# name3[2:6]\n",
    "# mame4 [2:6]\n"
   ]
  },
  {
   "cell_type": "code",
   "execution_count": 50,
   "id": "0bc90eda",
   "metadata": {},
   "outputs": [
    {
     "data": {
      "text/plain": [
       "'p'"
      ]
     },
     "execution_count": 50,
     "metadata": {},
     "output_type": "execute_result"
    }
   ],
   "source": [
    "name2[start]"
   ]
  },
  {
   "cell_type": "code",
   "execution_count": 53,
   "id": "e6056bfa",
   "metadata": {},
   "outputs": [
    {
     "data": {
      "text/plain": [
       "'deepan'"
      ]
     },
     "execution_count": 53,
     "metadata": {},
     "output_type": "execute_result"
    }
   ],
   "source": [
    "# you can go any positive to print your name/variable\n",
    "name2[0:6000]"
   ]
  },
  {
   "cell_type": "code",
   "execution_count": 59,
   "id": "6ca5c373",
   "metadata": {},
   "outputs": [
    {
     "data": {
      "text/plain": [
       "'deepan'"
      ]
     },
     "execution_count": 59,
     "metadata": {},
     "output_type": "execute_result"
    }
   ],
   "source": [
    "start = 2\n",
    "stop = len(name2)\n",
    "\n",
    "name2[:stop]"
   ]
  },
  {
   "cell_type": "code",
   "execution_count": 60,
   "id": "d58602ca",
   "metadata": {},
   "outputs": [
    {
     "data": {
      "text/plain": [
       "'n'"
      ]
     },
     "execution_count": 60,
     "metadata": {},
     "output_type": "execute_result"
    }
   ],
   "source": [
    "name2[-1]"
   ]
  },
  {
   "cell_type": "code",
   "execution_count": 61,
   "id": "40c80cca",
   "metadata": {},
   "outputs": [
    {
     "data": {
      "text/plain": [
       "'a'"
      ]
     },
     "execution_count": 61,
     "metadata": {},
     "output_type": "execute_result"
    }
   ],
   "source": [
    "name2[-2]"
   ]
  },
  {
   "cell_type": "code",
   "execution_count": 70,
   "id": "9aee531a",
   "metadata": {},
   "outputs": [
    {
     "data": {
      "text/plain": [
       "''"
      ]
     },
     "execution_count": 70,
     "metadata": {},
     "output_type": "execute_result"
    }
   ],
   "source": [
    "# deepan --> napeed --> -1,-2,-3,-4\n",
    "name2[-1:-3]"
   ]
  },
  {
   "cell_type": "code",
   "execution_count": 72,
   "id": "17a016aa",
   "metadata": {},
   "outputs": [
    {
     "data": {
      "text/plain": [
       "'napeed'"
      ]
     },
     "execution_count": 72,
     "metadata": {},
     "output_type": "execute_result"
    }
   ],
   "source": [
    "name2[::-1]"
   ]
  },
  {
   "cell_type": "code",
   "execution_count": 75,
   "id": "581355d6",
   "metadata": {},
   "outputs": [
    {
     "data": {
      "text/plain": [
       "'n'"
      ]
     },
     "execution_count": 75,
     "metadata": {},
     "output_type": "execute_result"
    }
   ],
   "source": [
    "name2[-1]"
   ]
  },
  {
   "cell_type": "code",
   "execution_count": 76,
   "id": "730c2d97",
   "metadata": {},
   "outputs": [
    {
     "data": {
      "text/plain": [
       "'a'"
      ]
     },
     "execution_count": 76,
     "metadata": {},
     "output_type": "execute_result"
    }
   ],
   "source": [
    "name2[-2:-1]"
   ]
  },
  {
   "cell_type": "code",
   "execution_count": 77,
   "id": "8f46bd92",
   "metadata": {},
   "outputs": [
    {
     "data": {
      "text/plain": [
       "'a'"
      ]
     },
     "execution_count": 77,
     "metadata": {},
     "output_type": "execute_result"
    }
   ],
   "source": [
    "name2[-2]"
   ]
  },
  {
   "cell_type": "code",
   "execution_count": 106,
   "id": "893dcb95",
   "metadata": {},
   "outputs": [
    {
     "data": {
      "text/plain": [
       "'an'"
      ]
     },
     "execution_count": 106,
     "metadata": {},
     "output_type": "execute_result"
    }
   ],
   "source": [
    "# 'an' ---> will check using negative axis\n",
    "# Solution ---> \n",
    "\n",
    "name2[-2:]"
   ]
  },
  {
   "cell_type": "code",
   "execution_count": 87,
   "id": "9d30d87a",
   "metadata": {},
   "outputs": [
    {
     "data": {
      "text/plain": [
       "'Dea'"
      ]
     },
     "execution_count": 87,
     "metadata": {},
     "output_type": "execute_result"
    }
   ],
   "source": [
    "# name[start:stop:jump]\n",
    "\n",
    "#sandeep --> op: snep\n",
    "#deepan --> op: dea  --> jump every 2nd index\n",
    "\n",
    "name3 = \"Deepan\"\n",
    "name3[0:10:2]"
   ]
  },
  {
   "cell_type": "code",
   "execution_count": 89,
   "id": "eb13811a",
   "metadata": {},
   "outputs": [
    {
     "data": {
      "text/plain": [
       "'Dp'"
      ]
     },
     "execution_count": 89,
     "metadata": {},
     "output_type": "execute_result"
    }
   ],
   "source": [
    "name3[0:5:3]\n"
   ]
  },
  {
   "cell_type": "code",
   "execution_count": 90,
   "id": "ae95bc1c",
   "metadata": {},
   "outputs": [
    {
     "data": {
      "text/plain": [
       "'D'"
      ]
     },
     "execution_count": 90,
     "metadata": {},
     "output_type": "execute_result"
    }
   ],
   "source": [
    "name3[0:2:3]\n"
   ]
  },
  {
   "cell_type": "code",
   "execution_count": 92,
   "id": "2560db0d",
   "metadata": {},
   "outputs": [
    {
     "data": {
      "text/plain": [
       "'Dea'"
      ]
     },
     "execution_count": 92,
     "metadata": {},
     "output_type": "execute_result"
    }
   ],
   "source": [
    "name3[-100:-1:2]"
   ]
  },
  {
   "cell_type": "code",
   "execution_count": 93,
   "id": "fe04acdf",
   "metadata": {},
   "outputs": [
    {
     "data": {
      "text/plain": [
       "51"
      ]
     },
     "execution_count": 93,
     "metadata": {},
     "output_type": "execute_result"
    }
   ],
   "source": [
    "name4 = \"jvudhfviduvf iugfviugfvdv ggfvifgvidgf fgidgfvfivdf\"\n",
    "len(name4)"
   ]
  },
  {
   "cell_type": "code",
   "execution_count": 94,
   "id": "53ce6b0c",
   "metadata": {},
   "outputs": [
    {
     "data": {
      "text/plain": [
       "'juhvdv ufigvvgfigig gdffv'"
      ]
     },
     "execution_count": 94,
     "metadata": {},
     "output_type": "execute_result"
    }
   ],
   "source": [
    "name4[-51:-1:2]"
   ]
  },
  {
   "cell_type": "code",
   "execution_count": 96,
   "id": "1707dca1",
   "metadata": {},
   "outputs": [
    {
     "data": {
      "text/plain": [
       "'vudhfviduvf iugfviugfvdv ggfvifgvidgf fgidgfvfivdf'"
      ]
     },
     "execution_count": 96,
     "metadata": {},
     "output_type": "execute_result"
    }
   ],
   "source": [
    "# you can use no stop limit also\n",
    "name4[1:]"
   ]
  },
  {
   "cell_type": "code",
   "execution_count": 97,
   "id": "7ff9efaa",
   "metadata": {},
   "outputs": [
    {
     "data": {
      "text/plain": [
       "'jvudhfviduvf iugfviugfvdv ggfv'"
      ]
     },
     "execution_count": 97,
     "metadata": {},
     "output_type": "execute_result"
    }
   ],
   "source": [
    "# by default start is 0.\n",
    "name4[:30]"
   ]
  },
  {
   "cell_type": "code",
   "execution_count": 98,
   "id": "6c6e9ac9",
   "metadata": {},
   "outputs": [
    {
     "data": {
      "text/plain": [
       "'fdvifvfgdigf fgdivgfivfgg vdvfguivfgui fvudivfhduvj'"
      ]
     },
     "execution_count": 98,
     "metadata": {},
     "output_type": "execute_result"
    }
   ],
   "source": [
    "name4[::-1]"
   ]
  },
  {
   "cell_type": "code",
   "execution_count": 102,
   "id": "be358d84",
   "metadata": {},
   "outputs": [
    {
     "data": {
      "text/plain": [
       "'f00vc21014'"
      ]
     },
     "execution_count": 102,
     "metadata": {},
     "output_type": "execute_result"
    }
   ],
   "source": [
    "enquiry = \"sap100_f00vc21014_deepan\"\n",
    "enquiry[7:17]"
   ]
  },
  {
   "cell_type": "code",
   "execution_count": 105,
   "id": "617afd1b",
   "metadata": {},
   "outputs": [
    {
     "data": {
      "text/plain": [
       "'sap014'"
      ]
     },
     "execution_count": 105,
     "metadata": {},
     "output_type": "execute_result"
    }
   ],
   "source": [
    "enquiry[0:3] + enquiry[14:17]"
   ]
  },
  {
   "cell_type": "markdown",
   "id": "61461911",
   "metadata": {},
   "source": [
    "### Assignments"
   ]
  },
  {
   "cell_type": "code",
   "execution_count": null,
   "id": "a9f0c1ba",
   "metadata": {},
   "outputs": [],
   "source": [
    "# 1. concatenate two strings and print the last two letters.\n",
    "# 2. user input gives name and a number. Multiply that number with the name.\n",
    "# 3. user will input name and date of birth. output prints fist 4 letter of the name and year of birth together."
   ]
  },
  {
   "cell_type": "code",
   "execution_count": 3,
   "id": "7332dbe2",
   "metadata": {},
   "outputs": [
    {
     "ename": "KeyboardInterrupt",
     "evalue": "Interrupted by user",
     "output_type": "error",
     "traceback": [
      "\u001b[1;31m---------------------------------------------------------------------------\u001b[0m",
      "\u001b[1;31mKeyboardInterrupt\u001b[0m                         Traceback (most recent call last)",
      "\u001b[1;32m~\\AppData\\Local\\Temp/ipykernel_21640/1979265026.py\u001b[0m in \u001b[0;36m<module>\u001b[1;34m\u001b[0m\n\u001b[1;32m----> 1\u001b[1;33m \u001b[0mname\u001b[0m \u001b[1;33m=\u001b[0m \u001b[0minput\u001b[0m\u001b[1;33m(\u001b[0m\u001b[1;34m\"enter: \"\u001b[0m\u001b[1;33m)\u001b[0m\u001b[1;33m\u001b[0m\u001b[1;33m\u001b[0m\u001b[0m\n\u001b[0m\u001b[0;32m      2\u001b[0m \u001b[0mage\u001b[0m \u001b[1;33m=\u001b[0m \u001b[0mint\u001b[0m\u001b[1;33m(\u001b[0m\u001b[0minput\u001b[0m\u001b[1;33m(\u001b[0m\u001b[1;34m\"enter: \"\u001b[0m\u001b[1;33m)\u001b[0m\u001b[1;33m)\u001b[0m\u001b[1;33m\u001b[0m\u001b[1;33m\u001b[0m\u001b[0m\n\u001b[0;32m      3\u001b[0m \u001b[1;33m\u001b[0m\u001b[0m\n\u001b[0;32m      4\u001b[0m \u001b[0mname\u001b[0m\u001b[1;33m*\u001b[0m\u001b[0mage\u001b[0m\u001b[1;33m\u001b[0m\u001b[1;33m\u001b[0m\u001b[0m\n",
      "\u001b[1;32mC:\\Program Files\\Anaconda3\\lib\\site-packages\\ipykernel\\kernelbase.py\u001b[0m in \u001b[0;36mraw_input\u001b[1;34m(self, prompt)\u001b[0m\n\u001b[0;32m   1004\u001b[0m                 \u001b[1;34m\"raw_input was called, but this frontend does not support input requests.\"\u001b[0m\u001b[1;33m\u001b[0m\u001b[1;33m\u001b[0m\u001b[0m\n\u001b[0;32m   1005\u001b[0m             )\n\u001b[1;32m-> 1006\u001b[1;33m         return self._input_request(\n\u001b[0m\u001b[0;32m   1007\u001b[0m             \u001b[0mstr\u001b[0m\u001b[1;33m(\u001b[0m\u001b[0mprompt\u001b[0m\u001b[1;33m)\u001b[0m\u001b[1;33m,\u001b[0m\u001b[1;33m\u001b[0m\u001b[1;33m\u001b[0m\u001b[0m\n\u001b[0;32m   1008\u001b[0m             \u001b[0mself\u001b[0m\u001b[1;33m.\u001b[0m\u001b[0m_parent_ident\u001b[0m\u001b[1;33m[\u001b[0m\u001b[1;34m\"shell\"\u001b[0m\u001b[1;33m]\u001b[0m\u001b[1;33m,\u001b[0m\u001b[1;33m\u001b[0m\u001b[1;33m\u001b[0m\u001b[0m\n",
      "\u001b[1;32mC:\\Program Files\\Anaconda3\\lib\\site-packages\\ipykernel\\kernelbase.py\u001b[0m in \u001b[0;36m_input_request\u001b[1;34m(self, prompt, ident, parent, password)\u001b[0m\n\u001b[0;32m   1049\u001b[0m             \u001b[1;32mexcept\u001b[0m \u001b[0mKeyboardInterrupt\u001b[0m\u001b[1;33m:\u001b[0m\u001b[1;33m\u001b[0m\u001b[1;33m\u001b[0m\u001b[0m\n\u001b[0;32m   1050\u001b[0m                 \u001b[1;31m# re-raise KeyboardInterrupt, to truncate traceback\u001b[0m\u001b[1;33m\u001b[0m\u001b[1;33m\u001b[0m\u001b[0m\n\u001b[1;32m-> 1051\u001b[1;33m                 \u001b[1;32mraise\u001b[0m \u001b[0mKeyboardInterrupt\u001b[0m\u001b[1;33m(\u001b[0m\u001b[1;34m\"Interrupted by user\"\u001b[0m\u001b[1;33m)\u001b[0m \u001b[1;32mfrom\u001b[0m \u001b[1;32mNone\u001b[0m\u001b[1;33m\u001b[0m\u001b[1;33m\u001b[0m\u001b[0m\n\u001b[0m\u001b[0;32m   1052\u001b[0m             \u001b[1;32mexcept\u001b[0m \u001b[0mException\u001b[0m\u001b[1;33m:\u001b[0m\u001b[1;33m\u001b[0m\u001b[1;33m\u001b[0m\u001b[0m\n\u001b[0;32m   1053\u001b[0m                 \u001b[0mself\u001b[0m\u001b[1;33m.\u001b[0m\u001b[0mlog\u001b[0m\u001b[1;33m.\u001b[0m\u001b[0mwarning\u001b[0m\u001b[1;33m(\u001b[0m\u001b[1;34m\"Invalid Message:\"\u001b[0m\u001b[1;33m,\u001b[0m \u001b[0mexc_info\u001b[0m\u001b[1;33m=\u001b[0m\u001b[1;32mTrue\u001b[0m\u001b[1;33m)\u001b[0m\u001b[1;33m\u001b[0m\u001b[1;33m\u001b[0m\u001b[0m\n",
      "\u001b[1;31mKeyboardInterrupt\u001b[0m: Interrupted by user"
     ]
    }
   ],
   "source": [
    "name = input(\"enter: \")\n",
    "age = int(input(\"enter: \"))\n",
    "\n",
    "name*age"
   ]
  },
  {
   "cell_type": "code",
   "execution_count": null,
   "id": "1f7153ab",
   "metadata": {},
   "outputs": [],
   "source": []
  }
 ],
 "metadata": {
  "kernelspec": {
   "display_name": "Python 3 (ipykernel)",
   "language": "python",
   "name": "python3"
  },
  "language_info": {
   "codemirror_mode": {
    "name": "ipython",
    "version": 3
   },
   "file_extension": ".py",
   "mimetype": "text/x-python",
   "name": "python",
   "nbconvert_exporter": "python",
   "pygments_lexer": "ipython3",
   "version": "3.9.7"
  }
 },
 "nbformat": 4,
 "nbformat_minor": 5
}
