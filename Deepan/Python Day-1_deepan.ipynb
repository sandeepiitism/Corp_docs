{
 "cells": [
  {
   "cell_type": "markdown",
   "id": "3c3945ea",
   "metadata": {},
   "source": [
    "# Python Day - 1"
   ]
  },
  {
   "cell_type": "markdown",
   "id": "a10c5c35",
   "metadata": {},
   "source": [
    "#### Author: sandeep"
   ]
  },
  {
   "cell_type": "markdown",
   "id": "31d4a8e9",
   "metadata": {},
   "source": [
    "### Data types"
   ]
  },
  {
   "cell_type": "markdown",
   "id": "f000d7ce",
   "metadata": {},
   "source": [
    "1. Integer\n",
    "2. Float\n",
    "3. String\n",
    "4. Boolean\n",
    "5. Complex Number"
   ]
  },
  {
   "cell_type": "markdown",
   "id": "17a099fd",
   "metadata": {},
   "source": [
    "### Integers"
   ]
  },
  {
   "cell_type": "markdown",
   "id": "ef24bb92",
   "metadata": {},
   "source": [
    "2+2"
   ]
  },
  {
   "cell_type": "code",
   "execution_count": 8,
   "id": "0e0cee1d",
   "metadata": {},
   "outputs": [
    {
     "data": {
      "text/plain": [
       "4"
      ]
     },
     "execution_count": 8,
     "metadata": {},
     "output_type": "execute_result"
    }
   ],
   "source": [
    "2+2"
   ]
  },
  {
   "cell_type": "code",
   "execution_count": 9,
   "id": "22b8610b",
   "metadata": {},
   "outputs": [
    {
     "data": {
      "text/plain": [
       "int"
      ]
     },
     "execution_count": 9,
     "metadata": {},
     "output_type": "execute_result"
    }
   ],
   "source": [
    "type(2)"
   ]
  },
  {
   "cell_type": "markdown",
   "id": "01523e2c",
   "metadata": {},
   "source": [
    "### Floats"
   ]
  },
  {
   "cell_type": "code",
   "execution_count": 10,
   "id": "122d6b1e",
   "metadata": {},
   "outputs": [
    {
     "data": {
      "text/plain": [
       "float"
      ]
     },
     "execution_count": 10,
     "metadata": {},
     "output_type": "execute_result"
    }
   ],
   "source": [
    "type(2.00)"
   ]
  },
  {
   "cell_type": "code",
   "execution_count": 91,
   "id": "43e35074",
   "metadata": {},
   "outputs": [
    {
     "data": {
      "text/plain": [
       "float"
      ]
     },
     "execution_count": 91,
     "metadata": {},
     "output_type": "execute_result"
    }
   ],
   "source": [
    "type(53.2222222222)"
   ]
  },
  {
   "cell_type": "code",
   "execution_count": 92,
   "id": "6ab71426",
   "metadata": {},
   "outputs": [
    {
     "data": {
      "text/plain": [
       "float"
      ]
     },
     "execution_count": 92,
     "metadata": {},
     "output_type": "execute_result"
    }
   ],
   "source": [
    "type(2+8.00)"
   ]
  },
  {
   "cell_type": "markdown",
   "id": "7919912e",
   "metadata": {},
   "source": [
    "### String"
   ]
  },
  {
   "cell_type": "code",
   "execution_count": 11,
   "id": "0dfab3c5",
   "metadata": {},
   "outputs": [
    {
     "data": {
      "text/plain": [
       "str"
      ]
     },
     "execution_count": 11,
     "metadata": {},
     "output_type": "execute_result"
    }
   ],
   "source": [
    "type(\"sandeep\")"
   ]
  },
  {
   "cell_type": "code",
   "execution_count": 12,
   "id": "0333629f",
   "metadata": {},
   "outputs": [
    {
     "data": {
      "text/plain": [
       "str"
      ]
     },
     "execution_count": 12,
     "metadata": {},
     "output_type": "execute_result"
    }
   ],
   "source": [
    "type(\"2\")"
   ]
  },
  {
   "cell_type": "code",
   "execution_count": 13,
   "id": "24cc8149",
   "metadata": {},
   "outputs": [
    {
     "data": {
      "text/plain": [
       "str"
      ]
     },
     "execution_count": 13,
     "metadata": {},
     "output_type": "execute_result"
    }
   ],
   "source": [
    "type(\"deepan12345\")"
   ]
  },
  {
   "cell_type": "code",
   "execution_count": 93,
   "id": "f660523e",
   "metadata": {},
   "outputs": [
    {
     "data": {
      "text/plain": [
       "str"
      ]
     },
     "execution_count": 93,
     "metadata": {},
     "output_type": "execute_result"
    }
   ],
   "source": [
    "type(\"536327376\")"
   ]
  },
  {
   "cell_type": "code",
   "execution_count": 94,
   "id": "c6a6b8b2",
   "metadata": {},
   "outputs": [
    {
     "data": {
      "text/plain": [
       "str"
      ]
     },
     "execution_count": 94,
     "metadata": {},
     "output_type": "execute_result"
    }
   ],
   "source": [
    "type(\"2+2\")"
   ]
  },
  {
   "cell_type": "code",
   "execution_count": 95,
   "id": "56d163e8",
   "metadata": {},
   "outputs": [
    {
     "data": {
      "text/plain": [
       "str"
      ]
     },
     "execution_count": 95,
     "metadata": {},
     "output_type": "execute_result"
    }
   ],
   "source": [
    "type(\"3+9j\")"
   ]
  },
  {
   "cell_type": "code",
   "execution_count": 96,
   "id": "5bc132da",
   "metadata": {},
   "outputs": [
    {
     "data": {
      "text/plain": [
       "str"
      ]
     },
     "execution_count": 96,
     "metadata": {},
     "output_type": "execute_result"
    }
   ],
   "source": [
    "type(\"true\")"
   ]
  },
  {
   "cell_type": "markdown",
   "id": "d9a6e239",
   "metadata": {},
   "source": [
    "### Boolean"
   ]
  },
  {
   "cell_type": "code",
   "execution_count": 16,
   "id": "a5c22c97",
   "metadata": {},
   "outputs": [
    {
     "data": {
      "text/plain": [
       "bool"
      ]
     },
     "execution_count": 16,
     "metadata": {},
     "output_type": "execute_result"
    }
   ],
   "source": [
    "type(True)  ### true or false is boolean"
   ]
  },
  {
   "cell_type": "code",
   "execution_count": 17,
   "id": "ee4dac52",
   "metadata": {},
   "outputs": [
    {
     "data": {
      "text/plain": [
       "int"
      ]
     },
     "execution_count": 17,
     "metadata": {},
     "output_type": "execute_result"
    }
   ],
   "source": [
    "type(0)"
   ]
  },
  {
   "cell_type": "code",
   "execution_count": 18,
   "id": "247b44e8",
   "metadata": {},
   "outputs": [
    {
     "data": {
      "text/plain": [
       "bool"
      ]
     },
     "execution_count": 18,
     "metadata": {},
     "output_type": "execute_result"
    }
   ],
   "source": [
    "type(False) "
   ]
  },
  {
   "cell_type": "code",
   "execution_count": 97,
   "id": "32a95abe",
   "metadata": {},
   "outputs": [
    {
     "ename": "NameError",
     "evalue": "name 'false' is not defined",
     "output_type": "error",
     "traceback": [
      "\u001b[1;31m---------------------------------------------------------------------------\u001b[0m",
      "\u001b[1;31mNameError\u001b[0m                                 Traceback (most recent call last)",
      "\u001b[1;32m~\\AppData\\Local\\Temp/ipykernel_25272/1270578466.py\u001b[0m in \u001b[0;36m<module>\u001b[1;34m\u001b[0m\n\u001b[1;32m----> 1\u001b[1;33m \u001b[0mtype\u001b[0m\u001b[1;33m(\u001b[0m\u001b[0mfalse\u001b[0m\u001b[1;33m)\u001b[0m   \u001b[1;31m#### no small letter\u001b[0m\u001b[1;33m\u001b[0m\u001b[1;33m\u001b[0m\u001b[0m\n\u001b[0m",
      "\u001b[1;31mNameError\u001b[0m: name 'false' is not defined"
     ]
    }
   ],
   "source": [
    "type(false)   #### no small letter"
   ]
  },
  {
   "cell_type": "markdown",
   "id": "97fd0d87",
   "metadata": {},
   "source": [
    "### Complex number"
   ]
  },
  {
   "cell_type": "code",
   "execution_count": 19,
   "id": "1e1c77a6",
   "metadata": {},
   "outputs": [
    {
     "data": {
      "text/plain": [
       "complex"
      ]
     },
     "execution_count": 19,
     "metadata": {},
     "output_type": "execute_result"
    }
   ],
   "source": [
    "type(2+3j)"
   ]
  },
  {
   "cell_type": "code",
   "execution_count": 98,
   "id": "9d96da8e",
   "metadata": {},
   "outputs": [
    {
     "ename": "SyntaxError",
     "evalue": "invalid syntax (Temp/ipykernel_25272/78696049.py, line 1)",
     "output_type": "error",
     "traceback": [
      "\u001b[1;36m  File \u001b[1;32m\"C:\\Users\\CHS9NA\\AppData\\Local\\Temp/ipykernel_25272/78696049.py\"\u001b[1;36m, line \u001b[1;32m1\u001b[0m\n\u001b[1;33m    type(2i)\u001b[0m\n\u001b[1;37m          ^\u001b[0m\n\u001b[1;31mSyntaxError\u001b[0m\u001b[1;31m:\u001b[0m invalid syntax\n"
     ]
    }
   ],
   "source": [
    "type(2i)    #### always use j for complex number"
   ]
  },
  {
   "cell_type": "code",
   "execution_count": 99,
   "id": "43f96fb6",
   "metadata": {},
   "outputs": [
    {
     "data": {
      "text/plain": [
       "complex"
      ]
     },
     "execution_count": 99,
     "metadata": {},
     "output_type": "execute_result"
    }
   ],
   "source": [
    "type(2j)"
   ]
  },
  {
   "cell_type": "code",
   "execution_count": 100,
   "id": "c02349c9",
   "metadata": {},
   "outputs": [
    {
     "ename": "NameError",
     "evalue": "name 'bj' is not defined",
     "output_type": "error",
     "traceback": [
      "\u001b[1;31m---------------------------------------------------------------------------\u001b[0m",
      "\u001b[1;31mNameError\u001b[0m                                 Traceback (most recent call last)",
      "\u001b[1;32m~\\AppData\\Local\\Temp/ipykernel_25272/4014438607.py\u001b[0m in \u001b[0;36m<module>\u001b[1;34m\u001b[0m\n\u001b[1;32m----> 1\u001b[1;33m \u001b[0mtype\u001b[0m\u001b[1;33m(\u001b[0m\u001b[0ma\u001b[0m\u001b[1;33m+\u001b[0m\u001b[0mbj\u001b[0m\u001b[1;33m)\u001b[0m\u001b[1;33m\u001b[0m\u001b[1;33m\u001b[0m\u001b[0m\n\u001b[0m",
      "\u001b[1;31mNameError\u001b[0m: name 'bj' is not defined"
     ]
    }
   ],
   "source": [
    "type(a+bj)   ### has to be numeric"
   ]
  },
  {
   "cell_type": "code",
   "execution_count": 101,
   "id": "d3ffe702",
   "metadata": {},
   "outputs": [
    {
     "ename": "TypeError",
     "evalue": "can only concatenate str (not \"complex\") to str",
     "output_type": "error",
     "traceback": [
      "\u001b[1;31m---------------------------------------------------------------------------\u001b[0m",
      "\u001b[1;31mTypeError\u001b[0m                                 Traceback (most recent call last)",
      "\u001b[1;32m~\\AppData\\Local\\Temp/ipykernel_25272/202401056.py\u001b[0m in \u001b[0;36m<module>\u001b[1;34m\u001b[0m\n\u001b[1;32m----> 1\u001b[1;33m \u001b[0mtype\u001b[0m\u001b[1;33m(\u001b[0m\u001b[0ma\u001b[0m\u001b[1;33m+\u001b[0m\u001b[1;36m3j\u001b[0m\u001b[1;33m)\u001b[0m\u001b[1;33m\u001b[0m\u001b[1;33m\u001b[0m\u001b[0m\n\u001b[0m",
      "\u001b[1;31mTypeError\u001b[0m: can only concatenate str (not \"complex\") to str"
     ]
    }
   ],
   "source": [
    "type(a+3j)"
   ]
  },
  {
   "cell_type": "code",
   "execution_count": 102,
   "id": "926bb948",
   "metadata": {},
   "outputs": [
    {
     "data": {
      "text/plain": [
       "complex"
      ]
     },
     "execution_count": 102,
     "metadata": {},
     "output_type": "execute_result"
    }
   ],
   "source": [
    "type(0+0j)"
   ]
  },
  {
   "cell_type": "code",
   "execution_count": 29,
   "id": "c89952ab",
   "metadata": {},
   "outputs": [
    {
     "name": "stdout",
     "output_type": "stream",
     "text": [
      "7.0\n",
      "2.0\n"
     ]
    }
   ],
   "source": [
    "import cmath\n",
    "x1 = 2+7j\n",
    "print(x1.imag)\n",
    "print(x1.real)"
   ]
  },
  {
   "cell_type": "markdown",
   "id": "01186b64",
   "metadata": {},
   "source": [
    "### Variables"
   ]
  },
  {
   "cell_type": "code",
   "execution_count": 14,
   "id": "180d5368",
   "metadata": {},
   "outputs": [
    {
     "name": "stdout",
     "output_type": "stream",
     "text": [
      "sandeep\n"
     ]
    }
   ],
   "source": [
    "x= \"sandeep\"\n",
    "y = 5\n",
    "print(x)"
   ]
  },
  {
   "cell_type": "code",
   "execution_count": 15,
   "id": "710b45cf",
   "metadata": {},
   "outputs": [
    {
     "data": {
      "text/plain": [
       "'sandeep'"
      ]
     },
     "execution_count": 15,
     "metadata": {},
     "output_type": "execute_result"
    }
   ],
   "source": [
    "x"
   ]
  },
  {
   "cell_type": "markdown",
   "id": "fc328566",
   "metadata": {},
   "source": [
    "operations in data types using Variables"
   ]
  },
  {
   "cell_type": "code",
   "execution_count": 30,
   "id": "58211f80",
   "metadata": {},
   "outputs": [
    {
     "name": "stdout",
     "output_type": "stream",
     "text": [
      "5\n",
      "-1\n",
      "8\n"
     ]
    }
   ],
   "source": [
    "a = 2\n",
    "b = 3\n",
    "print(a+b)\n",
    "print(a-b)\n",
    "print(a**b)"
   ]
  },
  {
   "cell_type": "code",
   "execution_count": 31,
   "id": "3a6a82ad",
   "metadata": {},
   "outputs": [
    {
     "data": {
      "text/plain": [
       "8"
      ]
     },
     "execution_count": 31,
     "metadata": {},
     "output_type": "execute_result"
    }
   ],
   "source": [
    "a = 2\n",
    "b = 3\n",
    "(a+b)\n",
    "(a-b)\n",
    "(a**b)"
   ]
  },
  {
   "cell_type": "code",
   "execution_count": 34,
   "id": "81dc1c60",
   "metadata": {},
   "outputs": [
    {
     "name": "stdout",
     "output_type": "stream",
     "text": [
      "sandeepchowdhury\n",
      "sandeepsandeep\n",
      "sandeepsandeepsandeep\n"
     ]
    }
   ],
   "source": [
    "c = \"sandeep\"\n",
    "d = \"chowdhury\"\n",
    "\n",
    "print(c+d)\n",
    "# print(c*d)\n",
    "print(c*2)\n",
    "print(c+c+c)"
   ]
  },
  {
   "cell_type": "code",
   "execution_count": 37,
   "id": "a1cf08a0",
   "metadata": {},
   "outputs": [
    {
     "data": {
      "text/plain": [
       "'sandeep    deepan   chowdhury'"
      ]
     },
     "execution_count": 37,
     "metadata": {},
     "output_type": "execute_result"
    }
   ],
   "source": [
    "c + \"   deepan \"+ d"
   ]
  },
  {
   "cell_type": "code",
   "execution_count": 38,
   "id": "30241cc5",
   "metadata": {},
   "outputs": [
    {
     "name": "stdout",
     "output_type": "stream",
     "text": [
      "enter your name: hdhvodvojfpovf\n"
     ]
    },
    {
     "data": {
      "text/plain": [
       "'hdhvodvojfpovf'"
      ]
     },
     "execution_count": 38,
     "metadata": {},
     "output_type": "execute_result"
    }
   ],
   "source": [
    "input(\"enter your name: \")"
   ]
  },
  {
   "cell_type": "code",
   "execution_count": 40,
   "id": "db374c21",
   "metadata": {},
   "outputs": [
    {
     "name": "stdout",
     "output_type": "stream",
     "text": [
      "enter your ph number: 6574756574\n"
     ]
    }
   ],
   "source": [
    "var = input(\"enter your ph number: \")"
   ]
  },
  {
   "cell_type": "code",
   "execution_count": 41,
   "id": "2464e08b",
   "metadata": {},
   "outputs": [
    {
     "data": {
      "text/plain": [
       "str"
      ]
     },
     "execution_count": 41,
     "metadata": {},
     "output_type": "execute_result"
    }
   ],
   "source": [
    "type(var)"
   ]
  },
  {
   "cell_type": "code",
   "execution_count": 42,
   "id": "24b44b2c",
   "metadata": {},
   "outputs": [
    {
     "name": "stdout",
     "output_type": "stream",
     "text": [
      "6\n"
     ]
    }
   ],
   "source": [
    "x = 2+2\n",
    "x = 3+3\n",
    "print(x)"
   ]
  },
  {
   "cell_type": "code",
   "execution_count": null,
   "id": "894acb33",
   "metadata": {},
   "outputs": [],
   "source": [
    "#### x1, x2, x3"
   ]
  },
  {
   "cell_type": "code",
   "execution_count": 43,
   "id": "97eeadf6",
   "metadata": {},
   "outputs": [
    {
     "ename": "SyntaxError",
     "evalue": "invalid syntax (Temp/ipykernel_25272/439469678.py, line 2)",
     "output_type": "error",
     "traceback": [
      "\u001b[1;36m  File \u001b[1;32m\"C:\\Users\\CHS9NA\\AppData\\Local\\Temp/ipykernel_25272/439469678.py\"\u001b[1;36m, line \u001b[1;32m2\u001b[0m\n\u001b[1;33m    type(%x1)\u001b[0m\n\u001b[1;37m         ^\u001b[0m\n\u001b[1;31mSyntaxError\u001b[0m\u001b[1;31m:\u001b[0m invalid syntax\n"
     ]
    }
   ],
   "source": [
    "%x1 = 4\n",
    "type(%x1)"
   ]
  },
  {
   "cell_type": "code",
   "execution_count": null,
   "id": "e7364a82",
   "metadata": {},
   "outputs": [],
   "source": [
    " ### *, -, +, **, /, //, % ----> never used as variables"
   ]
  },
  {
   "cell_type": "code",
   "execution_count": 44,
   "id": "b99b40ae",
   "metadata": {},
   "outputs": [
    {
     "data": {
      "text/plain": [
       "int"
      ]
     },
     "execution_count": 44,
     "metadata": {},
     "output_type": "execute_result"
    }
   ],
   "source": [
    "_a = 3\n",
    "type(_a)"
   ]
  },
  {
   "cell_type": "markdown",
   "id": "94de8d4b",
   "metadata": {},
   "source": [
    "### print()"
   ]
  },
  {
   "cell_type": "code",
   "execution_count": 58,
   "id": "a03ada27",
   "metadata": {},
   "outputs": [
    {
     "data": {
      "text/plain": [
       "'sandeep'"
      ]
     },
     "execution_count": 58,
     "metadata": {},
     "output_type": "execute_result"
    }
   ],
   "source": [
    "name = \"sandeep\"\n",
    "name"
   ]
  },
  {
   "cell_type": "code",
   "execution_count": 59,
   "id": "c61daa37",
   "metadata": {},
   "outputs": [],
   "source": [
    "name = \"deepan\""
   ]
  },
  {
   "cell_type": "code",
   "execution_count": 60,
   "id": "9e2fbfbf",
   "metadata": {},
   "outputs": [
    {
     "name": "stdout",
     "output_type": "stream",
     "text": [
      "deepan\n"
     ]
    }
   ],
   "source": [
    "print(name)"
   ]
  },
  {
   "cell_type": "code",
   "execution_count": 61,
   "id": "a715d26c",
   "metadata": {},
   "outputs": [],
   "source": [
    "age = 30\n"
   ]
  },
  {
   "cell_type": "markdown",
   "id": "791f86f0",
   "metadata": {},
   "source": [
    "### f-string"
   ]
  },
  {
   "cell_type": "code",
   "execution_count": 62,
   "id": "fad819dc",
   "metadata": {},
   "outputs": [
    {
     "name": "stdout",
     "output_type": "stream",
     "text": [
      "my name is deepan and age is 30\n"
     ]
    }
   ],
   "source": [
    " print(f'my name is {name} and age is {age}')"
   ]
  },
  {
   "cell_type": "code",
   "execution_count": 64,
   "id": "ee3488e5",
   "metadata": {},
   "outputs": [
    {
     "name": "stdout",
     "output_type": "stream",
     "text": [
      "my name is jay and age is 30\n"
     ]
    }
   ],
   "source": [
    "name2 = \"jay\"\n",
    "\n",
    "print(f'my name is {name2} and age is {age}')"
   ]
  },
  {
   "cell_type": "code",
   "execution_count": 65,
   "id": "f3e75875",
   "metadata": {},
   "outputs": [
    {
     "name": "stdout",
     "output_type": "stream",
     "text": [
      "30\n"
     ]
    }
   ],
   "source": [
    "print(age)"
   ]
  },
  {
   "cell_type": "code",
   "execution_count": 67,
   "id": "c8c03164",
   "metadata": {},
   "outputs": [
    {
     "name": "stdout",
     "output_type": "stream",
     "text": [
      "my name is jay and age is 30\n"
     ]
    }
   ],
   "source": [
    "print(f'my name is {name2} and age is {age}')"
   ]
  },
  {
   "cell_type": "code",
   "execution_count": 72,
   "id": "e00fe23a",
   "metadata": {},
   "outputs": [
    {
     "name": "stdout",
     "output_type": "stream",
     "text": [
      "enter your name: idiuiugfgif\n",
      "enter your pwd: 5463\n",
      "invalid credentials\n"
     ]
    }
   ],
   "source": [
    "name = input(\"enter your name: \")\n",
    "pwd= input(\"enter your pwd: \")\n",
    "\n",
    "if pwd == \"1111\" and name == \"deepan\":\n",
    "    print(\"you are log in\")\n",
    "else:\n",
    "    print(\"invalid credentials\")"
   ]
  },
  {
   "cell_type": "code",
   "execution_count": 74,
   "id": "ea873597",
   "metadata": {},
   "outputs": [
    {
     "name": "stdout",
     "output_type": "stream",
     "text": [
      "enter your name: dfidhvfid\n",
      "enter your pwd: 757484\n",
      "dfidhvfid\n",
      "757484\n"
     ]
    }
   ],
   "source": [
    "name = input(\"enter your name: \")\n",
    "pwd= input(\"enter your pwd: \")\n",
    "\n",
    "print(name)\n",
    "print(pwd)"
   ]
  },
  {
   "cell_type": "code",
   "execution_count": 78,
   "id": "8e69b171",
   "metadata": {},
   "outputs": [
    {
     "name": "stdout",
     "output_type": "stream",
     "text": [
      "<class 'int'>\n",
      "<class 'float'>\n",
      "<class 'str'>\n",
      "<class 'complex'>\n",
      "<class 'bool'>\n"
     ]
    }
   ],
   "source": [
    "a = 3\n",
    "b = 4.9657\n",
    "c = \"gdivshv\"\n",
    "d = 2+4j\n",
    "e = True\n",
    "\n",
    "print(type(a))\n",
    "print(type(b))\n",
    "print(type(c))\n",
    "print(type(d))\n",
    "print(type(e))"
   ]
  },
  {
   "cell_type": "code",
   "execution_count": 79,
   "id": "9ad9c507",
   "metadata": {},
   "outputs": [],
   "source": [
    "a, b, c, d, e = 3, 23.44, \"sandeep\", 3+9j, True"
   ]
  },
  {
   "cell_type": "code",
   "execution_count": 81,
   "id": "4dd7bcfb",
   "metadata": {},
   "outputs": [
    {
     "name": "stdout",
     "output_type": "stream",
     "text": [
      "<class 'complex'>\n"
     ]
    }
   ],
   "source": [
    "print(type(d))"
   ]
  },
  {
   "cell_type": "code",
   "execution_count": 83,
   "id": "749f2a92",
   "metadata": {},
   "outputs": [
    {
     "data": {
      "text/plain": [
       "'10sandeep'"
      ]
     },
     "execution_count": 83,
     "metadata": {},
     "output_type": "execute_result"
    }
   ],
   "source": [
    "a=\"10\"\n",
    "b = \"sandeep\"\n",
    "a+b"
   ]
  },
  {
   "cell_type": "code",
   "execution_count": 90,
   "id": "7332d62d",
   "metadata": {},
   "outputs": [
    {
     "name": "stdout",
     "output_type": "stream",
     "text": [
      "enter your age: vfdvsfsh\n"
     ]
    },
    {
     "ename": "ValueError",
     "evalue": "invalid literal for int() with base 10: 'vfdvsfsh'",
     "output_type": "error",
     "traceback": [
      "\u001b[1;31m---------------------------------------------------------------------------\u001b[0m",
      "\u001b[1;31mValueError\u001b[0m                                Traceback (most recent call last)",
      "\u001b[1;32m~\\AppData\\Local\\Temp/ipykernel_25272/2638893559.py\u001b[0m in \u001b[0;36m<module>\u001b[1;34m\u001b[0m\n\u001b[1;32m----> 1\u001b[1;33m \u001b[0mvar\u001b[0m \u001b[1;33m=\u001b[0m \u001b[0mint\u001b[0m\u001b[1;33m(\u001b[0m\u001b[0minput\u001b[0m\u001b[1;33m(\u001b[0m\u001b[1;34m\"enter your age: \"\u001b[0m\u001b[1;33m)\u001b[0m\u001b[1;33m)\u001b[0m\u001b[1;33m\u001b[0m\u001b[1;33m\u001b[0m\u001b[0m\n\u001b[0m",
      "\u001b[1;31mValueError\u001b[0m: invalid literal for int() with base 10: 'vfdvsfsh'"
     ]
    }
   ],
   "source": [
    "var = int(input(\"enter your age: \"))"
   ]
  },
  {
   "cell_type": "code",
   "execution_count": null,
   "id": "5bc7a237",
   "metadata": {},
   "outputs": [],
   "source": []
  },
  {
   "cell_type": "markdown",
   "id": "8ef19686",
   "metadata": {},
   "source": [
    "### Assignments:"
   ]
  },
  {
   "cell_type": "code",
   "execution_count": null,
   "id": "b9e9b580",
   "metadata": {},
   "outputs": [],
   "source": [
    "\n",
    "1. ##user_input---> name, age\n",
    "\n",
    "###output\n",
    "--> nameage\n",
    "--> name age\n",
    "--> namenameageage"
   ]
  },
  {
   "cell_type": "code",
   "execution_count": null,
   "id": "d0a6a0b0",
   "metadata": {},
   "outputs": [],
   "source": [
    "2. #### print the cube of a number"
   ]
  },
  {
   "cell_type": "code",
   "execution_count": null,
   "id": "6d0a664f",
   "metadata": {},
   "outputs": [],
   "source": [
    "3. #### add a name with the above result i.e cube of an number"
   ]
  },
  {
   "cell_type": "code",
   "execution_count": null,
   "id": "13bc2f23",
   "metadata": {},
   "outputs": [],
   "source": [
    "4. #### add one float and an integer and print its string form."
   ]
  },
  {
   "cell_type": "code",
   "execution_count": null,
   "id": "dcfdb26c",
   "metadata": {},
   "outputs": [],
   "source": []
  },
  {
   "cell_type": "code",
   "execution_count": null,
   "id": "7f26fda6",
   "metadata": {},
   "outputs": [],
   "source": []
  },
  {
   "cell_type": "code",
   "execution_count": null,
   "id": "d2ce97ba",
   "metadata": {},
   "outputs": [],
   "source": []
  }
 ],
 "metadata": {
  "kernelspec": {
   "display_name": "Python 3 (ipykernel)",
   "language": "python",
   "name": "python3"
  },
  "language_info": {
   "codemirror_mode": {
    "name": "ipython",
    "version": 3
   },
   "file_extension": ".py",
   "mimetype": "text/x-python",
   "name": "python",
   "nbconvert_exporter": "python",
   "pygments_lexer": "ipython3",
   "version": "3.9.7"
  }
 },
 "nbformat": 4,
 "nbformat_minor": 5
}
