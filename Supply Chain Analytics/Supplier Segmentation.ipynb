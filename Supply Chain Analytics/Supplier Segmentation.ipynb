{
 "cells": [
  {
   "cell_type": "markdown",
   "id": "6474ddae",
   "metadata": {},
   "source": [
    "# Supplier Segmentation "
   ]
  },
  {
   "cell_type": "markdown",
   "id": "a7e2042a",
   "metadata": {},
   "source": [
    "### Krajic Matrix"
   ]
  },
  {
   "cell_type": "code",
   "execution_count": 1,
   "id": "97d75e40",
   "metadata": {},
   "outputs": [],
   "source": [
    "import pandas as pd\n",
    "import numpy as np\n",
    "import seaborn as sns\n",
    "import matplotlib.pyplot as plt\n",
    "import inventorize3 as inv"
   ]
  },
  {
   "cell_type": "code",
   "execution_count": 2,
   "id": "8dbde076",
   "metadata": {},
   "outputs": [
    {
     "data": {
      "text/html": [
       "<div>\n",
       "<style scoped>\n",
       "    .dataframe tbody tr th:only-of-type {\n",
       "        vertical-align: middle;\n",
       "    }\n",
       "\n",
       "    .dataframe tbody tr th {\n",
       "        vertical-align: top;\n",
       "    }\n",
       "\n",
       "    .dataframe thead th {\n",
       "        text-align: right;\n",
       "    }\n",
       "</style>\n",
       "<table border=\"1\" class=\"dataframe\">\n",
       "  <thead>\n",
       "    <tr style=\"text-align: right;\">\n",
       "      <th></th>\n",
       "      <th>supplier</th>\n",
       "      <th>product</th>\n",
       "      <th>availability</th>\n",
       "      <th>no_suppliers</th>\n",
       "      <th>standard</th>\n",
       "      <th>price_fluctuation</th>\n",
       "      <th>Quantity</th>\n",
       "      <th>price</th>\n",
       "    </tr>\n",
       "  </thead>\n",
       "  <tbody>\n",
       "    <tr>\n",
       "      <th>0</th>\n",
       "      <td>supplier1</td>\n",
       "      <td>product_1</td>\n",
       "      <td>0.0</td>\n",
       "      <td>0.5</td>\n",
       "      <td>0.0</td>\n",
       "      <td>0.5</td>\n",
       "      <td>710</td>\n",
       "      <td>360</td>\n",
       "    </tr>\n",
       "    <tr>\n",
       "      <th>1</th>\n",
       "      <td>supplier1</td>\n",
       "      <td>product_2</td>\n",
       "      <td>0.0</td>\n",
       "      <td>0.5</td>\n",
       "      <td>0.0</td>\n",
       "      <td>0.5</td>\n",
       "      <td>2997</td>\n",
       "      <td>2740</td>\n",
       "    </tr>\n",
       "    <tr>\n",
       "      <th>2</th>\n",
       "      <td>supplier1</td>\n",
       "      <td>product_3</td>\n",
       "      <td>0.0</td>\n",
       "      <td>0.5</td>\n",
       "      <td>0.0</td>\n",
       "      <td>0.5</td>\n",
       "      <td>3917</td>\n",
       "      <td>2919</td>\n",
       "    </tr>\n",
       "    <tr>\n",
       "      <th>3</th>\n",
       "      <td>supplier1</td>\n",
       "      <td>product_4</td>\n",
       "      <td>0.0</td>\n",
       "      <td>0.5</td>\n",
       "      <td>0.0</td>\n",
       "      <td>0.5</td>\n",
       "      <td>3827</td>\n",
       "      <td>3246</td>\n",
       "    </tr>\n",
       "    <tr>\n",
       "      <th>4</th>\n",
       "      <td>supplier1</td>\n",
       "      <td>product_5</td>\n",
       "      <td>0.0</td>\n",
       "      <td>0.5</td>\n",
       "      <td>0.0</td>\n",
       "      <td>0.0</td>\n",
       "      <td>3882</td>\n",
       "      <td>3596</td>\n",
       "    </tr>\n",
       "  </tbody>\n",
       "</table>\n",
       "</div>"
      ],
      "text/plain": [
       "    supplier    product  availability  no_suppliers  standard  \\\n",
       "0  supplier1  product_1           0.0           0.5       0.0   \n",
       "1  supplier1  product_2           0.0           0.5       0.0   \n",
       "2  supplier1  product_3           0.0           0.5       0.0   \n",
       "3  supplier1  product_4           0.0           0.5       0.0   \n",
       "4  supplier1  product_5           0.0           0.5       0.0   \n",
       "\n",
       "   price_fluctuation  Quantity  price  \n",
       "0                0.5       710    360  \n",
       "1                0.5      2997   2740  \n",
       "2                0.5      3917   2919  \n",
       "3                0.5      3827   3246  \n",
       "4                0.0      3882   3596  "
      ]
     },
     "execution_count": 2,
     "metadata": {},
     "output_type": "execute_result"
    }
   ],
   "source": [
    "df = pd.read_csv(\"supplier_data.csv\")\n",
    "df.head()"
   ]
  },
  {
   "cell_type": "code",
   "execution_count": 3,
   "id": "ed774612",
   "metadata": {},
   "outputs": [
    {
     "data": {
      "text/plain": [
       "array([0. , 0.5])"
      ]
     },
     "execution_count": 3,
     "metadata": {},
     "output_type": "execute_result"
    }
   ],
   "source": [
    "df[\"availability\"].unique()"
   ]
  },
  {
   "cell_type": "code",
   "execution_count": 4,
   "id": "74556935",
   "metadata": {},
   "outputs": [
    {
     "data": {
      "text/plain": [
       "Index(['supplier', 'product', 'availability', 'no_suppliers', 'standard',\n",
       "       'price_fluctuation', 'Quantity', 'price'],\n",
       "      dtype='object')"
      ]
     },
     "execution_count": 4,
     "metadata": {},
     "output_type": "execute_result"
    }
   ],
   "source": [
    "df.columns"
   ]
  },
  {
   "cell_type": "code",
   "execution_count": 6,
   "id": "732ba46a",
   "metadata": {},
   "outputs": [
    {
     "data": {
      "text/html": [
       "<div>\n",
       "<style scoped>\n",
       "    .dataframe tbody tr th:only-of-type {\n",
       "        vertical-align: middle;\n",
       "    }\n",
       "\n",
       "    .dataframe tbody tr th {\n",
       "        vertical-align: top;\n",
       "    }\n",
       "\n",
       "    .dataframe thead th {\n",
       "        text-align: right;\n",
       "    }\n",
       "</style>\n",
       "<table border=\"1\" class=\"dataframe\">\n",
       "  <thead>\n",
       "    <tr style=\"text-align: right;\">\n",
       "      <th></th>\n",
       "      <th>supplier</th>\n",
       "      <th>product</th>\n",
       "      <th>availability</th>\n",
       "      <th>no_suppliers</th>\n",
       "      <th>standard</th>\n",
       "      <th>price_fluctuation</th>\n",
       "      <th>Quantity</th>\n",
       "      <th>price</th>\n",
       "      <th>risk_index</th>\n",
       "    </tr>\n",
       "  </thead>\n",
       "  <tbody>\n",
       "    <tr>\n",
       "      <th>0</th>\n",
       "      <td>supplier1</td>\n",
       "      <td>product_1</td>\n",
       "      <td>0.0</td>\n",
       "      <td>0.5</td>\n",
       "      <td>0.0</td>\n",
       "      <td>0.5</td>\n",
       "      <td>710</td>\n",
       "      <td>360</td>\n",
       "      <td>1.0</td>\n",
       "    </tr>\n",
       "    <tr>\n",
       "      <th>1</th>\n",
       "      <td>supplier1</td>\n",
       "      <td>product_2</td>\n",
       "      <td>0.0</td>\n",
       "      <td>0.5</td>\n",
       "      <td>0.0</td>\n",
       "      <td>0.5</td>\n",
       "      <td>2997</td>\n",
       "      <td>2740</td>\n",
       "      <td>1.0</td>\n",
       "    </tr>\n",
       "    <tr>\n",
       "      <th>2</th>\n",
       "      <td>supplier1</td>\n",
       "      <td>product_3</td>\n",
       "      <td>0.0</td>\n",
       "      <td>0.5</td>\n",
       "      <td>0.0</td>\n",
       "      <td>0.5</td>\n",
       "      <td>3917</td>\n",
       "      <td>2919</td>\n",
       "      <td>1.0</td>\n",
       "    </tr>\n",
       "    <tr>\n",
       "      <th>3</th>\n",
       "      <td>supplier1</td>\n",
       "      <td>product_4</td>\n",
       "      <td>0.0</td>\n",
       "      <td>0.5</td>\n",
       "      <td>0.0</td>\n",
       "      <td>0.5</td>\n",
       "      <td>3827</td>\n",
       "      <td>3246</td>\n",
       "      <td>1.0</td>\n",
       "    </tr>\n",
       "    <tr>\n",
       "      <th>4</th>\n",
       "      <td>supplier1</td>\n",
       "      <td>product_5</td>\n",
       "      <td>0.0</td>\n",
       "      <td>0.5</td>\n",
       "      <td>0.0</td>\n",
       "      <td>0.0</td>\n",
       "      <td>3882</td>\n",
       "      <td>3596</td>\n",
       "      <td>0.5</td>\n",
       "    </tr>\n",
       "  </tbody>\n",
       "</table>\n",
       "</div>"
      ],
      "text/plain": [
       "    supplier    product  availability  no_suppliers  standard  \\\n",
       "0  supplier1  product_1           0.0           0.5       0.0   \n",
       "1  supplier1  product_2           0.0           0.5       0.0   \n",
       "2  supplier1  product_3           0.0           0.5       0.0   \n",
       "3  supplier1  product_4           0.0           0.5       0.0   \n",
       "4  supplier1  product_5           0.0           0.5       0.0   \n",
       "\n",
       "   price_fluctuation  Quantity  price  risk_index  \n",
       "0                0.5       710    360         1.0  \n",
       "1                0.5      2997   2740         1.0  \n",
       "2                0.5      3917   2919         1.0  \n",
       "3                0.5      3827   3246         1.0  \n",
       "4                0.0      3882   3596         0.5  "
      ]
     },
     "execution_count": 6,
     "metadata": {},
     "output_type": "execute_result"
    }
   ],
   "source": [
    "df['risk_index']= df['availability']+df['no_suppliers']+df['standard']+df['price_fluctuation']\n",
    "df.head()"
   ]
  },
  {
   "cell_type": "code",
   "execution_count": 7,
   "id": "f175430d",
   "metadata": {},
   "outputs": [
    {
     "data": {
      "text/html": [
       "<div>\n",
       "<style scoped>\n",
       "    .dataframe tbody tr th:only-of-type {\n",
       "        vertical-align: middle;\n",
       "    }\n",
       "\n",
       "    .dataframe tbody tr th {\n",
       "        vertical-align: top;\n",
       "    }\n",
       "\n",
       "    .dataframe thead th {\n",
       "        text-align: right;\n",
       "    }\n",
       "</style>\n",
       "<table border=\"1\" class=\"dataframe\">\n",
       "  <thead>\n",
       "    <tr style=\"text-align: right;\">\n",
       "      <th></th>\n",
       "      <th>supplier</th>\n",
       "      <th>product</th>\n",
       "      <th>availability</th>\n",
       "      <th>no_suppliers</th>\n",
       "      <th>standard</th>\n",
       "      <th>price_fluctuation</th>\n",
       "      <th>Quantity</th>\n",
       "      <th>price</th>\n",
       "      <th>risk_index</th>\n",
       "      <th>value</th>\n",
       "    </tr>\n",
       "  </thead>\n",
       "  <tbody>\n",
       "    <tr>\n",
       "      <th>0</th>\n",
       "      <td>supplier1</td>\n",
       "      <td>product_1</td>\n",
       "      <td>0.0</td>\n",
       "      <td>0.5</td>\n",
       "      <td>0.0</td>\n",
       "      <td>0.5</td>\n",
       "      <td>710</td>\n",
       "      <td>360</td>\n",
       "      <td>1.0</td>\n",
       "      <td>255600</td>\n",
       "    </tr>\n",
       "    <tr>\n",
       "      <th>1</th>\n",
       "      <td>supplier1</td>\n",
       "      <td>product_2</td>\n",
       "      <td>0.0</td>\n",
       "      <td>0.5</td>\n",
       "      <td>0.0</td>\n",
       "      <td>0.5</td>\n",
       "      <td>2997</td>\n",
       "      <td>2740</td>\n",
       "      <td>1.0</td>\n",
       "      <td>8211780</td>\n",
       "    </tr>\n",
       "    <tr>\n",
       "      <th>2</th>\n",
       "      <td>supplier1</td>\n",
       "      <td>product_3</td>\n",
       "      <td>0.0</td>\n",
       "      <td>0.5</td>\n",
       "      <td>0.0</td>\n",
       "      <td>0.5</td>\n",
       "      <td>3917</td>\n",
       "      <td>2919</td>\n",
       "      <td>1.0</td>\n",
       "      <td>11433723</td>\n",
       "    </tr>\n",
       "    <tr>\n",
       "      <th>3</th>\n",
       "      <td>supplier1</td>\n",
       "      <td>product_4</td>\n",
       "      <td>0.0</td>\n",
       "      <td>0.5</td>\n",
       "      <td>0.0</td>\n",
       "      <td>0.5</td>\n",
       "      <td>3827</td>\n",
       "      <td>3246</td>\n",
       "      <td>1.0</td>\n",
       "      <td>12422442</td>\n",
       "    </tr>\n",
       "    <tr>\n",
       "      <th>4</th>\n",
       "      <td>supplier1</td>\n",
       "      <td>product_5</td>\n",
       "      <td>0.0</td>\n",
       "      <td>0.5</td>\n",
       "      <td>0.0</td>\n",
       "      <td>0.0</td>\n",
       "      <td>3882</td>\n",
       "      <td>3596</td>\n",
       "      <td>0.5</td>\n",
       "      <td>13959672</td>\n",
       "    </tr>\n",
       "  </tbody>\n",
       "</table>\n",
       "</div>"
      ],
      "text/plain": [
       "    supplier    product  availability  no_suppliers  standard  \\\n",
       "0  supplier1  product_1           0.0           0.5       0.0   \n",
       "1  supplier1  product_2           0.0           0.5       0.0   \n",
       "2  supplier1  product_3           0.0           0.5       0.0   \n",
       "3  supplier1  product_4           0.0           0.5       0.0   \n",
       "4  supplier1  product_5           0.0           0.5       0.0   \n",
       "\n",
       "   price_fluctuation  Quantity  price  risk_index     value  \n",
       "0                0.5       710    360         1.0    255600  \n",
       "1                0.5      2997   2740         1.0   8211780  \n",
       "2                0.5      3917   2919         1.0  11433723  \n",
       "3                0.5      3827   3246         1.0  12422442  \n",
       "4                0.0      3882   3596         0.5  13959672  "
      ]
     },
     "execution_count": 7,
     "metadata": {},
     "output_type": "execute_result"
    }
   ],
   "source": [
    "df['value']= df['price']*df ['Quantity']\n",
    "df.head()"
   ]
  },
  {
   "cell_type": "code",
   "execution_count": 8,
   "id": "1d8a3ba8",
   "metadata": {},
   "outputs": [
    {
     "data": {
      "text/plain": [
       "count    2.400000e+01\n",
       "mean     5.064812e+06\n",
       "std      4.847504e+06\n",
       "min      1.189500e+05\n",
       "25%      7.975622e+05\n",
       "50%      3.011452e+06\n",
       "75%      8.499426e+06\n",
       "max      1.399081e+07\n",
       "Name: value, dtype: float64"
      ]
     },
     "execution_count": 8,
     "metadata": {},
     "output_type": "execute_result"
    }
   ],
   "source": [
    "df[\"value\"].describe()"
   ]
  },
  {
   "cell_type": "code",
   "execution_count": 9,
   "id": "e4bb0b93",
   "metadata": {},
   "outputs": [],
   "source": [
    "#### lets create condition based on 50% i.e 3000000\n",
    "\n",
    "def category(x,y):\n",
    "    if((x>= 3000000)& (y >= 1)):\n",
    "        return 'strategic'\n",
    "    if((x>= 3000000)& (y < 1)):\n",
    "        return 'leverage'\n",
    "    if((x < 3000000)& (y >= 1)):\n",
    "        return 'Critical'\n",
    "    if((x < 3000000)& (y < 1)):\n",
    "        return 'Routine'"
   ]
  },
  {
   "cell_type": "code",
   "execution_count": 11,
   "id": "cdbc73d0",
   "metadata": {},
   "outputs": [],
   "source": [
    "### looping the first column with the above function\n",
    "\n",
    "for i in range(df.shape[0]):\n",
    "    df.loc[i,'category']=category(df.loc[i,'value'],\n",
    "                                        df.loc[i,'risk_index'])"
   ]
  },
  {
   "cell_type": "code",
   "execution_count": 12,
   "id": "065ad475",
   "metadata": {},
   "outputs": [
    {
     "data": {
      "text/plain": [
       "Critical     10\n",
       "strategic     8\n",
       "leverage      4\n",
       "Routine       2\n",
       "Name: category, dtype: int64"
      ]
     },
     "execution_count": 12,
     "metadata": {},
     "output_type": "execute_result"
    }
   ],
   "source": [
    "df.category.value_counts()"
   ]
  },
  {
   "cell_type": "code",
   "execution_count": 14,
   "id": "1400186a",
   "metadata": {},
   "outputs": [
    {
     "data": {
      "text/plain": [
       "<Axes: xlabel='value', ylabel='risk_index'>"
      ]
     },
     "execution_count": 14,
     "metadata": {},
     "output_type": "execute_result"
    },
    {
     "data": {
      "image/png": "[encoded data removed]",
      "text/plain": [
       "<Figure size 432x288 with 1 Axes>"
      ]
     },
     "metadata": {
      "needs_background": "light"
     },
     "output_type": "display_data"
    }
   ],
   "source": [
    "sns.scatterplot(x='value',y='risk_index',data=df, hue='category')"
   ]
  },
  {
   "cell_type": "code",
   "execution_count": null,
   "id": "b19f49ba",
   "metadata": {},
   "outputs": [],
   "source": []
  }
 ],
 "metadata": {
  "kernelspec": {
   "display_name": "Python 3 (ipykernel)",
   "language": "python",
   "name": "python3"
  },
  "language_info": {
   "codemirror_mode": {
    "name": "ipython",
    "version": 3
   },
   "file_extension": ".py",
   "mimetype": "text/x-python",
   "name": "python",
   "nbconvert_exporter": "python",
   "pygments_lexer": "ipython3",
   "version": "3.9.7"
  }
 },
 "nbformat": 4,
 "nbformat_minor": 5
}
