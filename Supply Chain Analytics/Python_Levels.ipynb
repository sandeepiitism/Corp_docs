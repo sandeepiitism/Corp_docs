{
 "cells": [
  {
   "cell_type": "markdown",
   "id": "1ef3c581",
   "metadata": {},
   "source": [
    "#### 1. Write a program which will find all such numbers which are divisible by 7 but are not a multiple of 5, between 2000 and 3200 (both included)."
   ]
  },
  {
   "cell_type": "code",
   "execution_count": 3,
   "id": "1e9d007f",
   "metadata": {},
   "outputs": [
    {
     "data": {
      "text/plain": [
       "[2002,\n",
       " 2009,\n",
       " 2016,\n",
       " 2023,\n",
       " 2037,\n",
       " 2044,\n",
       " 2051,\n",
       " 2058,\n",
       " 2072,\n",
       " 2079,\n",
       " 2086,\n",
       " 2093,\n",
       " 2107,\n",
       " 2114,\n",
       " 2121,\n",
       " 2128,\n",
       " 2142,\n",
       " 2149,\n",
       " 2156,\n",
       " 2163,\n",
       " 2177,\n",
       " 2184,\n",
       " 2191,\n",
       " 2198,\n",
       " 2212,\n",
       " 2219,\n",
       " 2226,\n",
       " 2233,\n",
       " 2247,\n",
       " 2254,\n",
       " 2261,\n",
       " 2268,\n",
       " 2282,\n",
       " 2289,\n",
       " 2296,\n",
       " 2303,\n",
       " 2317,\n",
       " 2324,\n",
       " 2331,\n",
       " 2338,\n",
       " 2352,\n",
       " 2359,\n",
       " 2366,\n",
       " 2373,\n",
       " 2387,\n",
       " 2394,\n",
       " 2401,\n",
       " 2408,\n",
       " 2422,\n",
       " 2429,\n",
       " 2436,\n",
       " 2443,\n",
       " 2457,\n",
       " 2464,\n",
       " 2471,\n",
       " 2478,\n",
       " 2492,\n",
       " 2499,\n",
       " 2506,\n",
       " 2513,\n",
       " 2527,\n",
       " 2534,\n",
       " 2541,\n",
       " 2548,\n",
       " 2562,\n",
       " 2569,\n",
       " 2576,\n",
       " 2583,\n",
       " 2597,\n",
       " 2604,\n",
       " 2611,\n",
       " 2618,\n",
       " 2632,\n",
       " 2639,\n",
       " 2646,\n",
       " 2653,\n",
       " 2667,\n",
       " 2674,\n",
       " 2681,\n",
       " 2688,\n",
       " 2702,\n",
       " 2709,\n",
       " 2716,\n",
       " 2723,\n",
       " 2737,\n",
       " 2744,\n",
       " 2751,\n",
       " 2758,\n",
       " 2772,\n",
       " 2779,\n",
       " 2786,\n",
       " 2793,\n",
       " 2807,\n",
       " 2814,\n",
       " 2821,\n",
       " 2828,\n",
       " 2842,\n",
       " 2849,\n",
       " 2856,\n",
       " 2863,\n",
       " 2877,\n",
       " 2884,\n",
       " 2891,\n",
       " 2898,\n",
       " 2912,\n",
       " 2919,\n",
       " 2926,\n",
       " 2933,\n",
       " 2947,\n",
       " 2954,\n",
       " 2961,\n",
       " 2968,\n",
       " 2982,\n",
       " 2989,\n",
       " 2996,\n",
       " 3003,\n",
       " 3017,\n",
       " 3024,\n",
       " 3031,\n",
       " 3038,\n",
       " 3052,\n",
       " 3059,\n",
       " 3066,\n",
       " 3073,\n",
       " 3087,\n",
       " 3094,\n",
       " 3101,\n",
       " 3108,\n",
       " 3122,\n",
       " 3129,\n",
       " 3136,\n",
       " 3143,\n",
       " 3157,\n",
       " 3164,\n",
       " 3171,\n",
       " 3178,\n",
       " 3192,\n",
       " 3199]"
      ]
     },
     "execution_count": 3,
     "metadata": {},
     "output_type": "execute_result"
    }
   ],
   "source": [
    "def findnum():\n",
    "    listnum = []\n",
    "    for i in range(2000, 3200, 1):\n",
    "        if i%7==0 and i%5!=0:\n",
    "            listnum.append(i)\n",
    "    return listnum\n",
    "\n",
    "findnum()"
   ]
  },
  {
   "cell_type": "markdown",
   "id": "c0c10a58",
   "metadata": {},
   "source": [
    "#### 2. The above results numbers obtained should be printed in a comma-separated sequence on a single line."
   ]
  },
  {
   "cell_type": "code",
   "execution_count": 5,
   "id": "35958ed9",
   "metadata": {},
   "outputs": [
    {
     "name": "stdout",
     "output_type": "stream",
     "text": [
      "2002,2009,2016,2023,2037,2044,2051,2058,2072,2079,2086,2093,2107,2114,2121,2128,2142,2149,2156,2163,2177,2184,2191,2198,2212,2219,2226,2233,2247,2254,2261,2268,2282,2289,2296,2303,2317,2324,2331,2338,2352,2359,2366,2373,2387,2394,2401,2408,2422,2429,2436,2443,2457,2464,2471,2478,2492,2499,2506,2513,2527,2534,2541,2548,2562,2569,2576,2583,2597,2604,2611,2618,2632,2639,2646,2653,2667,2674,2681,2688,2702,2709,2716,2723,2737,2744,2751,2758,2772,2779,2786,2793,2807,2814,2821,2828,2842,2849,2856,2863,2877,2884,2891,2898,2912,2919,2926,2933,2947,2954,2961,2968,2982,2989,2996,3003,3017,3024,3031,3038,3052,3059,3066,3073,3087,3094,3101,3108,3122,3129,3136,3143,3157,3164,3171,3178,3192,3199\n"
     ]
    }
   ],
   "source": [
    "def findnum():\n",
    "    listnum = []\n",
    "    for i in range(2000, 3200, 1):\n",
    "        if i%7==0 and i%5!=0:\n",
    "            listnum.append(i)\n",
    "    print(','.join(map(str, listnum)))\n",
    "\n",
    "findnum()"
   ]
  },
  {
   "cell_type": "markdown",
   "id": "70a4bace",
   "metadata": {},
   "source": [
    "#### 3. Write a program which can compute the factorial of a given numbers. The results should be printed in a comma-separated sequence on a single line."
   ]
  },
  {
   "cell_type": "code",
   "execution_count": 7,
   "id": "56884287",
   "metadata": {},
   "outputs": [
    {
     "data": {
      "text/plain": [
       "120"
      ]
     },
     "execution_count": 7,
     "metadata": {},
     "output_type": "execute_result"
    }
   ],
   "source": [
    "def facto(num):\n",
    "    if num==0:\n",
    "        return 1\n",
    "    else:\n",
    "        return num*facto(num-1)\n",
    "    \n",
    "facto(5)"
   ]
  },
  {
   "cell_type": "markdown",
   "id": "97c89f5b",
   "metadata": {},
   "source": [
    "#### 4. With a given integral number n, write a program to generate a dictionary that contains (i, i*i) such that is an integral number between 1 and n (both included). and then the program should print the dictionary."
   ]
  },
  {
   "cell_type": "code",
   "execution_count": 14,
   "id": "a4029271",
   "metadata": {},
   "outputs": [
    {
     "data": {
      "text/plain": [
       "{1: 1, 2: 4, 3: 9, 4: 16}"
      ]
     },
     "execution_count": 14,
     "metadata": {},
     "output_type": "execute_result"
    }
   ],
   "source": [
    "def dictnum(n):\n",
    "    num = dict()\n",
    "    for i in range(1, n+1):\n",
    "        num[i] = i*i\n",
    "    return num\n",
    "        \n",
    "\n",
    "dictnum(4)  "
   ]
  },
  {
   "cell_type": "markdown",
   "id": "951edc2a",
   "metadata": {},
   "source": [
    "#### 5. Write a program which accepts a sequence of comma-separated numbers from console and generate a list and a tuple which contains every number."
   ]
  },
  {
   "cell_type": "code",
   "execution_count": 24,
   "id": "f5c9eacc",
   "metadata": {
    "scrolled": true
   },
   "outputs": [
    {
     "name": "stdout",
     "output_type": "stream",
     "text": [
      "Enter numbers:1,2,3,4\n",
      "['1', '2', '3', '4']\n",
      "('1', '2', '3', '4')\n"
     ]
    }
   ],
   "source": [
    "def usernum():\n",
    "    num = input(\"Enter numbers:\")\n",
    "    list_result = num.split(\",\")\n",
    "    tup_result = tuple(list_result)\n",
    "    print(list_result)\n",
    "    print(tup_result)\n",
    "    \n",
    "usernum()\n",
    "    "
   ]
  },
  {
   "cell_type": "markdown",
   "id": "47e9a09f",
   "metadata": {},
   "source": [
    "#### 6. Define a class which has at least two methods: getString: to get a string from console input, printString: to print the string in upper case."
   ]
  },
  {
   "cell_type": "code",
   "execution_count": 26,
   "id": "66d80a17",
   "metadata": {},
   "outputs": [
    {
     "name": "stdout",
     "output_type": "stream",
     "text": [
      "Enter string: sandeep\n"
     ]
    },
    {
     "data": {
      "text/plain": [
       "'SANDEEP'"
      ]
     },
     "execution_count": 26,
     "metadata": {},
     "output_type": "execute_result"
    }
   ],
   "source": [
    "class test:\n",
    "    \n",
    "    def __init__(self):\n",
    "        self.var = \"\"\n",
    "        \n",
    "    def getString(self):\n",
    "        self.var = input(\"Enter string: \")\n",
    "        \n",
    "    def printString(self):\n",
    "        return self.var.upper()\n",
    "    \n",
    "test1 = test()\n",
    "test1.getString()\n",
    "test1.printString()"
   ]
  },
  {
   "cell_type": "markdown",
   "id": "e91bad8f",
   "metadata": {},
   "source": [
    "#### 7. Write a program that calculates and prints the value according to the given formula:"
   ]
  },
  {
   "cell_type": "code",
   "execution_count": 34,
   "id": "c45af029",
   "metadata": {},
   "outputs": [
    {
     "data": {
      "text/plain": [
       "[4, 6, 8, 12]"
      ]
     },
     "execution_count": 34,
     "metadata": {},
     "output_type": "execute_result"
    }
   ],
   "source": [
    "def varnum(x):\n",
    "    result = []\n",
    "    \n",
    "    for i in range(len(x)):\n",
    "        y = 2*x[i] + 2\n",
    "        result.append(y)\n",
    "    return result\n",
    "\n",
    "varnum([1,2,3,5])"
   ]
  },
  {
   "cell_type": "markdown",
   "id": "ea6da213",
   "metadata": {},
   "source": [
    "#### 8. Write a program which takes 2 digits, X,Y as input and generates a 2-dimensional array. The element value in the i-th row and j-th column of the array should be i*j."
   ]
  },
  {
   "cell_type": "code",
   "execution_count": 36,
   "id": "3c1ce37a",
   "metadata": {},
   "outputs": [
    {
     "data": {
      "text/plain": [
       "[[0, 0, 0, 0, 0], [0, 1, 2, 3, 4], [0, 2, 4, 6, 8]]"
      ]
     },
     "execution_count": 36,
     "metadata": {},
     "output_type": "execute_result"
    }
   ],
   "source": [
    "def generate_array(X,Y):\n",
    "    twodarray = []\n",
    "    for i in range(X):\n",
    "        row = []\n",
    "        for j in range(Y):\n",
    "            element = i*j\n",
    "            row.append(element)\n",
    "        twodarray.append(row)\n",
    "    return twodarray\n",
    "\n",
    "generate_array(3,5)"
   ]
  },
  {
   "cell_type": "markdown",
   "id": "469c9858",
   "metadata": {},
   "source": [
    "#### 9. Write a program that accepts a comma separated sequence of words as input and prints the words in a comma-separated sequence after sorting them alphabetically."
   ]
  },
  {
   "cell_type": "code",
   "execution_count": 47,
   "id": "9330ea1a",
   "metadata": {},
   "outputs": [
    {
     "name": "stdout",
     "output_type": "stream",
     "text": [
      "Enter the string: without,hello,bag,world\n"
     ]
    },
    {
     "data": {
      "text/plain": [
       "'bag,hello,without,world'"
      ]
     },
     "execution_count": 47,
     "metadata": {},
     "output_type": "execute_result"
    }
   ],
   "source": [
    "def sort_alpha():\n",
    "    string = input(\"Enter the string: \")\n",
    "    words = string.split(',')\n",
    "    words.sort()\n",
    "    sorted_word = ','.join(words)\n",
    "    return sorted_word\n",
    "    \n",
    "sort_alpha()"
   ]
  },
  {
   "cell_type": "markdown",
   "id": "50645afc",
   "metadata": {},
   "source": [
    "#### 10. Write a program that accepts sequence of lines as input and prints the lines after making all characters in the sentence capitalized."
   ]
  },
  {
   "cell_type": "code",
   "execution_count": 49,
   "id": "75bb868b",
   "metadata": {},
   "outputs": [
    {
     "name": "stdout",
     "output_type": "stream",
     "text": [
      "Enter a line (press Enter to stop): lsdlnsdlbs ksndlksndlksv \n",
      "Enter a line (press Enter to stop): \n",
      "LSDLNSDLBS KSNDLKSNDLKSV \n"
     ]
    }
   ],
   "source": [
    "def capitalize_lines():\n",
    "    lines = []\n",
    " \n",
    "    while True:\n",
    "        line = input(\"Enter a line (press Enter to stop): \")\n",
    "        if not line:\n",
    "            break\n",
    "        lines.append(line.upper()) \n",
    "    \n",
    "    for i in lines:\n",
    "        print(i)\n",
    "\n",
    "capitalize_lines()"
   ]
  },
  {
   "cell_type": "markdown",
   "id": "fb99bf0c",
   "metadata": {},
   "source": [
    "#### 11. Write a Python program that asks the user for a positive integer n, then counts down from n to 1, printing each number on a new line until it reaches 1."
   ]
  },
  {
   "cell_type": "code",
   "execution_count": 54,
   "id": "d166410f",
   "metadata": {},
   "outputs": [
    {
     "name": "stdout",
     "output_type": "stream",
     "text": [
      "4\n",
      "3\n",
      "2\n",
      "1\n"
     ]
    }
   ],
   "source": [
    "def countdown(n):\n",
    "    \n",
    "    while n>=1:\n",
    "        print(n)\n",
    "        n=n-1\n",
    "    \n",
    "countdown(4)"
   ]
  },
  {
   "cell_type": "markdown",
   "id": "a03bb72d",
   "metadata": {},
   "source": [
    "#### 12. Write a program which accepts a sequence of comma separated 4 digit binary numbers as its input and then check whether they are divisible by 5 or not. The numbers that are divisible by 5 are to be printed in a comma separated sequence."
   ]
  },
  {
   "cell_type": "code",
   "execution_count": 3,
   "id": "f1cb5d41",
   "metadata": {},
   "outputs": [
    {
     "ename": "AttributeError",
     "evalue": "'list' object has no attribute 'split'",
     "output_type": "error",
     "traceback": [
      "\u001b[1;31m---------------------------------------------------------------------------\u001b[0m",
      "\u001b[1;31mAttributeError\u001b[0m                            Traceback (most recent call last)",
      "\u001b[1;32m~\\AppData\\Local\\Temp/ipykernel_6892/3336208486.py\u001b[0m in \u001b[0;36m<module>\u001b[1;34m\u001b[0m\n\u001b[0;32m      8\u001b[0m     \u001b[1;32mreturn\u001b[0m \u001b[0mresult\u001b[0m\u001b[1;33m\u001b[0m\u001b[1;33m\u001b[0m\u001b[0m\n\u001b[0;32m      9\u001b[0m \u001b[1;33m\u001b[0m\u001b[0m\n\u001b[1;32m---> 10\u001b[1;33m \u001b[0mprint\u001b[0m\u001b[1;33m(\u001b[0m\u001b[0mbinarynum\u001b[0m\u001b[1;33m(\u001b[0m\u001b[1;33m[\u001b[0m\u001b[1;36m1111\u001b[0m\u001b[1;33m]\u001b[0m\u001b[1;33m)\u001b[0m\u001b[1;33m)\u001b[0m\u001b[1;33m\u001b[0m\u001b[1;33m\u001b[0m\u001b[0m\n\u001b[0m",
      "\u001b[1;32m~\\AppData\\Local\\Temp/ipykernel_6892/3336208486.py\u001b[0m in \u001b[0;36mbinarynum\u001b[1;34m(seq)\u001b[0m\n\u001b[0;32m      1\u001b[0m \u001b[1;32mdef\u001b[0m \u001b[0mbinarynum\u001b[0m\u001b[1;33m(\u001b[0m\u001b[0mseq\u001b[0m\u001b[1;33m)\u001b[0m\u001b[1;33m:\u001b[0m\u001b[1;33m\u001b[0m\u001b[1;33m\u001b[0m\u001b[0m\n\u001b[1;32m----> 2\u001b[1;33m     \u001b[0mbin_num\u001b[0m \u001b[1;33m=\u001b[0m \u001b[0mseq\u001b[0m\u001b[1;33m.\u001b[0m\u001b[0msplit\u001b[0m\u001b[1;33m(\u001b[0m\u001b[1;34m','\u001b[0m\u001b[1;33m)\u001b[0m\u001b[1;33m\u001b[0m\u001b[1;33m\u001b[0m\u001b[0m\n\u001b[0m\u001b[0;32m      3\u001b[0m \u001b[1;33m\u001b[0m\u001b[0m\n\u001b[0;32m      4\u001b[0m     \u001b[0mresult\u001b[0m \u001b[1;33m=\u001b[0m \u001b[1;33m[\u001b[0m\u001b[1;33m]\u001b[0m\u001b[1;33m\u001b[0m\u001b[1;33m\u001b[0m\u001b[0m\n\u001b[0;32m      5\u001b[0m     \u001b[1;32mfor\u001b[0m \u001b[0mi\u001b[0m \u001b[1;32min\u001b[0m \u001b[0mbin_num\u001b[0m\u001b[1;33m:\u001b[0m\u001b[1;33m\u001b[0m\u001b[1;33m\u001b[0m\u001b[0m\n",
      "\u001b[1;31mAttributeError\u001b[0m: 'list' object has no attribute 'split'"
     ]
    }
   ],
   "source": [
    "def binarynum(seq):\n",
    "    bin_num = seq.split(',')\n",
    "    \n",
    "    result = []\n",
    "    for i in bin_num:\n",
    "        dec_num= int(i,2)\n",
    "        result.append(dec_num)\n",
    "    return result\n",
    "\n",
    "print(binarynum([1111]))\n"
   ]
  },
  {
   "cell_type": "markdown",
   "id": "914b6e49",
   "metadata": {},
   "source": [
    "#### 13. Write a program, which will find all such numbers between 1000 and 3000 (both included) such that each digit of the number is an even number."
   ]
  },
  {
   "cell_type": "code",
   "execution_count": 7,
   "id": "97d7ce1b",
   "metadata": {},
   "outputs": [
    {
     "data": {
      "text/plain": [
       "[2000,\n",
       " 2002,\n",
       " 2004,\n",
       " 2006,\n",
       " 2008,\n",
       " 2020,\n",
       " 2022,\n",
       " 2024,\n",
       " 2026,\n",
       " 2028,\n",
       " 2040,\n",
       " 2042,\n",
       " 2044,\n",
       " 2046,\n",
       " 2048,\n",
       " 2060,\n",
       " 2062,\n",
       " 2064,\n",
       " 2066,\n",
       " 2068,\n",
       " 2080,\n",
       " 2082,\n",
       " 2084,\n",
       " 2086,\n",
       " 2088,\n",
       " 2200,\n",
       " 2202,\n",
       " 2204,\n",
       " 2206,\n",
       " 2208,\n",
       " 2220,\n",
       " 2222,\n",
       " 2224,\n",
       " 2226,\n",
       " 2228,\n",
       " 2240,\n",
       " 2242,\n",
       " 2244,\n",
       " 2246,\n",
       " 2248,\n",
       " 2260,\n",
       " 2262,\n",
       " 2264,\n",
       " 2266,\n",
       " 2268,\n",
       " 2280,\n",
       " 2282,\n",
       " 2284,\n",
       " 2286,\n",
       " 2288,\n",
       " 2400,\n",
       " 2402,\n",
       " 2404,\n",
       " 2406,\n",
       " 2408,\n",
       " 2420,\n",
       " 2422,\n",
       " 2424,\n",
       " 2426,\n",
       " 2428,\n",
       " 2440,\n",
       " 2442,\n",
       " 2444,\n",
       " 2446,\n",
       " 2448,\n",
       " 2460,\n",
       " 2462,\n",
       " 2464,\n",
       " 2466,\n",
       " 2468,\n",
       " 2480,\n",
       " 2482,\n",
       " 2484,\n",
       " 2486,\n",
       " 2488,\n",
       " 2600,\n",
       " 2602,\n",
       " 2604,\n",
       " 2606,\n",
       " 2608,\n",
       " 2620,\n",
       " 2622,\n",
       " 2624,\n",
       " 2626,\n",
       " 2628,\n",
       " 2640,\n",
       " 2642,\n",
       " 2644,\n",
       " 2646,\n",
       " 2648,\n",
       " 2660,\n",
       " 2662,\n",
       " 2664,\n",
       " 2666,\n",
       " 2668,\n",
       " 2680,\n",
       " 2682,\n",
       " 2684,\n",
       " 2686,\n",
       " 2688,\n",
       " 2800,\n",
       " 2802,\n",
       " 2804,\n",
       " 2806,\n",
       " 2808,\n",
       " 2820,\n",
       " 2822,\n",
       " 2824,\n",
       " 2826,\n",
       " 2828,\n",
       " 2840,\n",
       " 2842,\n",
       " 2844,\n",
       " 2846,\n",
       " 2848,\n",
       " 2860,\n",
       " 2862,\n",
       " 2864,\n",
       " 2866,\n",
       " 2868,\n",
       " 2880,\n",
       " 2882,\n",
       " 2884,\n",
       " 2886,\n",
       " 2888]"
      ]
     },
     "execution_count": 7,
     "metadata": {},
     "output_type": "execute_result"
    }
   ],
   "source": [
    "def even_digits(start,end):\n",
    "    \n",
    "    even_digits = []\n",
    "    \n",
    "    for i in range(start,end+1):\n",
    "        num = str(i)\n",
    "        even_num = True\n",
    "        \n",
    "        for j in num:\n",
    "            if int(j) % 2 != 0:\n",
    "                even_num = False\n",
    "                break\n",
    "        if even_num:\n",
    "            even_digits.append(i)\n",
    "    return even_digits\n",
    "\n",
    "even_digits(1000, 3000)\n",
    "    "
   ]
  },
  {
   "cell_type": "markdown",
   "id": "b34df5ce",
   "metadata": {},
   "source": [
    "#### 14. Write a program that accepts a sentence and calculate the number of letters and digits."
   ]
  },
  {
   "cell_type": "code",
   "execution_count": 29,
   "id": "0616cf52",
   "metadata": {},
   "outputs": [
    {
     "name": "stdout",
     "output_type": "stream",
     "text": [
      "letters are: 15, digits are: 12\n"
     ]
    }
   ],
   "source": [
    "def count_words_digits(sentence):\n",
    "    num_letter = 0\n",
    "    num_digits = 0\n",
    "    \n",
    "    for i in sentence:\n",
    "        if i.isalpha():\n",
    "            num_letter+=1\n",
    "        elif i.isdigit():\n",
    "            num_digits +=1\n",
    "            \n",
    "    return num_letter, num_digits\n",
    "\n",
    "sentence = \"ksdcs suhds65647 sdshv88 74637\"\n",
    "letter, digit = count_words_digits(sentence)\n",
    "print(f\"letters are: {letter}, digits are: {digit}\")"
   ]
  },
  {
   "cell_type": "markdown",
   "id": "61271777",
   "metadata": {},
   "source": [
    "#### 15. Write a program that accepts a sentence and calculate the number of upper case letters and lower case letters."
   ]
  },
  {
   "cell_type": "code",
   "execution_count": 33,
   "id": "e5c6c283",
   "metadata": {},
   "outputs": [
    {
     "name": "stdout",
     "output_type": "stream",
     "text": [
      "upper are: 7, lower are: 8\n"
     ]
    }
   ],
   "source": [
    "def count_upper_lower(sentence):\n",
    "    upper = 0\n",
    "    lower = 0\n",
    "    \n",
    "    for i in sentence:\n",
    "        if i.isupper():\n",
    "            upper +=1\n",
    "        elif i.islower():\n",
    "            lower +=1\n",
    "    return upper, lower\n",
    "\n",
    "sentence = \"ksdAA suhDS65647 SSShv88 74637\"\n",
    "upper, lower = count_upper_lower(sentence)\n",
    "print(f\"upper are: {upper}, lower are: {lower}\")"
   ]
  },
  {
   "cell_type": "markdown",
   "id": "92d0e953",
   "metadata": {},
   "source": [
    "#### 16. Write a program that computes the value of a+aa+aaa+aaaa with a given digit as the value of a."
   ]
  },
  {
   "cell_type": "code",
   "execution_count": 36,
   "id": "87f4c092",
   "metadata": {},
   "outputs": [
    {
     "name": "stdout",
     "output_type": "stream",
     "text": [
      "Enter a digit: 9\n",
      "The computed value is: 11106\n"
     ]
    }
   ],
   "source": [
    "def compute_a(a):\n",
    "#     a_str = str(a)\n",
    "    \n",
    "#     a = int(a_str)\n",
    "#     aa = int(a_str)*2\n",
    "#     aaa = int(a_str)*3\n",
    "#     aaaa = int(a_str)*4\n",
    "\n",
    "    \n",
    "    a = int(a)\n",
    "    aa = int(a)*2\n",
    "    aaa = int(a)*3\n",
    "    aaaa = int(a)*4\n",
    "    \n",
    "    total = a+aa+aaa+aaaa\n",
    "    return total\n",
    "    \n",
    "a = int(input(\"Enter a digit: \"))\n",
    "result = compute_value(a)\n",
    "print(\"The computed value is:\", result) "
   ]
  },
  {
   "cell_type": "markdown",
   "id": "81c03c9e",
   "metadata": {},
   "source": [
    "#### 17. Use a list comprehension to square each odd number in a list. The list is input by a sequence of comma-separated numbers.\n"
   ]
  },
  {
   "cell_type": "code",
   "execution_count": 44,
   "id": "cd54cd9f",
   "metadata": {},
   "outputs": [
    {
     "name": "stdout",
     "output_type": "stream",
     "text": [
      "1,9\n"
     ]
    }
   ],
   "source": [
    "numbers = \"1,2,3,4\"\n",
    "number_list = numbers.split(',')\n",
    "\n",
    "sq_odd = [int(i)**2 for i in number_list if int(i)%2 !=0 ] ### list comprehension of the below\n",
    "\n",
    "# for i in number_list:\n",
    "#     if int(i)%2 !=0:\n",
    "#         i = int(i)**2\n",
    "\n",
    "result = ','.join(map(str, sq_odd))\n",
    "print(result)"
   ]
  },
  {
   "cell_type": "code",
   "execution_count": null,
   "id": "91b79fa8",
   "metadata": {},
   "outputs": [],
   "source": []
  }
 ],
 "metadata": {
  "kernelspec": {
   "display_name": "Python 3 (ipykernel)",
   "language": "python",
   "name": "python3"
  },
  "language_info": {
   "codemirror_mode": {
    "name": "ipython",
    "version": 3
   },
   "file_extension": ".py",
   "mimetype": "text/x-python",
   "name": "python",
   "nbconvert_exporter": "python",
   "pygments_lexer": "ipython3",
   "version": "3.9.7"
  }
 },
 "nbformat": 4,
 "nbformat_minor": 5
}
