{
 "cells": [
  {
   "cell_type": "markdown",
   "id": "62363a10",
   "metadata": {},
   "source": [
    "## MS SQL Database"
   ]
  },
  {
   "cell_type": "markdown",
   "id": "dfa38168",
   "metadata": {},
   "source": [
    "#### using Pyodbc"
   ]
  },
  {
   "cell_type": "code",
   "execution_count": 2,
   "id": "7c508dfe",
   "metadata": {},
   "outputs": [],
   "source": [
    "import pandas as pd\n",
    "import numpy as np\n",
    "import pyodbc\n",
    "import warnings\n",
    "\n",
    "warnings.filterwarnings(\"ignore\")\n"
   ]
  },
  {
   "cell_type": "code",
   "execution_count": 3,
   "id": "9dc6d6c6",
   "metadata": {},
   "outputs": [
    {
     "data": {
      "text/plain": [
       "['SQL Server',\n",
       " 'SQL Server Native Client 11.0',\n",
       " 'ODBC Driver 17 for SQL Server',\n",
       " 'Oracle in OracleClient19Home1_64bits',\n",
       " 'Microsoft Access Driver (*.mdb, *.accdb)',\n",
       " 'Microsoft Excel Driver (*.xls, *.xlsx, *.xlsm, *.xlsb)',\n",
       " 'Microsoft Access Text Driver (*.txt, *.csv)']"
      ]
     },
     "execution_count": 3,
     "metadata": {},
     "output_type": "execute_result"
    }
   ],
   "source": [
    "pyodbc.drivers()"
   ]
  },
  {
   "cell_type": "code",
   "execution_count": 4,
   "id": "383b3936",
   "metadata": {},
   "outputs": [],
   "source": [
    "import pyodbc\n",
    "cnxn = pyodbc.connect(\"Driver={SQL Server Native Client 11.0};\"\n",
    "                        \"Server=na0vm00024.apac.bosch.com;\"\n",
    "                        \"Database=DB_MFC2DB_SQL;\"\n",
    "                        \"Trusted_Connection=yes;\")"
   ]
  },
  {
   "cell_type": "code",
   "execution_count": 9,
   "id": "a9cf1857",
   "metadata": {},
   "outputs": [],
   "source": [
    "# sql = \"\"\"SELECT [SP1TEMP] ,[SP2TEMP],[TimeStamp] FROM [ChironDZ9_1] WHERE Timestamp BETWEEN '2023-09-20T00:00:47' AND '2023-09-21T09:45:58'\n",
    "#   ORDER BY 'TimeStamp'\"\"\" "
   ]
  },
  {
   "cell_type": "code",
   "execution_count": 5,
   "id": "64a7fac0",
   "metadata": {},
   "outputs": [
    {
     "data": {
      "text/plain": [
       "Index(['PartCount', 'AaxisError', 'ProgNo', 'CoolantPr', 'ProgRun', 'Alarm',\n",
       "       'PresentToolLife', 'PresentTool', 'ToolBroken', 'SP1Load', 'SP2Load',\n",
       "       'SP1TEMP', 'SP2TEMP', 'CTinMIN', 'CTinSEC', 'UAxisError',\n",
       "       'Prog_Interrupt', 'Coolant_Set_pressure', 'Tool_wear', 'ASetpoint',\n",
       "       'USetpoint', 'HydMTmp', 'HydMVibration', 'SP1Vibration', 'SP1Temp1',\n",
       "       'SP2Vibration', 'SP2Temp1', 'ElecPanel_Humidity',\n",
       "       'ElecPanel_Temperature', 'Id'],\n",
       "      dtype='object')"
      ]
     },
     "execution_count": 5,
     "metadata": {},
     "output_type": "execute_result"
    }
   ],
   "source": [
    "sql = \"\"\"SELECT * FROM [ChironDZ9_1] WHERE Timestamp BETWEEN '2023-09-20T00:00:47' AND '2023-09-21T09:45:58'\n",
    "  ORDER BY 'TimeStamp'\"\"\" \n",
    "df = pd.read_sql_query(sql, cnxn, index_col=\"TimeStamp\", parse_dates=True)\n",
    "df.columns\n"
   ]
  },
  {
   "cell_type": "code",
   "execution_count": 6,
   "id": "d5266c9c",
   "metadata": {},
   "outputs": [
    {
     "ename": "DatabaseError",
     "evalue": "Execution failed on sql 'SELECT [CoolantPr] AS max_value, [PresentTool], [TimeStamp] AS on_timestamp\n    FROM [ChironDZ9_1] WHERE [PresentTool] = 7 ORDER BY 'TimeStamp'': ('42000', '[42000] [Microsoft][SQL Server Native Client 11.0][SQL Server]A constant expression was encountered in the ORDER BY list, position 1. (408) (SQLExecDirectW)')",
     "output_type": "error",
     "traceback": [
      "\u001b[1;31m---------------------------------------------------------------------------\u001b[0m",
      "\u001b[1;31mProgrammingError\u001b[0m                          Traceback (most recent call last)",
      "\u001b[1;32mC:\\Program Files\\Anaconda3\\lib\\site-packages\\pandas\\io\\sql.py\u001b[0m in \u001b[0;36mexecute\u001b[1;34m(self, *args, **kwargs)\u001b[0m\n\u001b[0;32m   2055\u001b[0m         \u001b[1;32mtry\u001b[0m\u001b[1;33m:\u001b[0m\u001b[1;33m\u001b[0m\u001b[1;33m\u001b[0m\u001b[0m\n\u001b[1;32m-> 2056\u001b[1;33m             \u001b[0mcur\u001b[0m\u001b[1;33m.\u001b[0m\u001b[0mexecute\u001b[0m\u001b[1;33m(\u001b[0m\u001b[1;33m*\u001b[0m\u001b[0margs\u001b[0m\u001b[1;33m,\u001b[0m \u001b[1;33m**\u001b[0m\u001b[0mkwargs\u001b[0m\u001b[1;33m)\u001b[0m\u001b[1;33m\u001b[0m\u001b[1;33m\u001b[0m\u001b[0m\n\u001b[0m\u001b[0;32m   2057\u001b[0m             \u001b[1;32mreturn\u001b[0m \u001b[0mcur\u001b[0m\u001b[1;33m\u001b[0m\u001b[1;33m\u001b[0m\u001b[0m\n",
      "\u001b[1;31mProgrammingError\u001b[0m: ('42000', '[42000] [Microsoft][SQL Server Native Client 11.0][SQL Server]A constant expression was encountered in the ORDER BY list, position 1. (408) (SQLExecDirectW)')",
      "\nThe above exception was the direct cause of the following exception:\n",
      "\u001b[1;31mDatabaseError\u001b[0m                             Traceback (most recent call last)",
      "\u001b[1;32m~\\AppData\\Local\\Temp/ipykernel_5068/1738272723.py\u001b[0m in \u001b[0;36m<module>\u001b[1;34m\u001b[0m\n\u001b[0;32m      1\u001b[0m sql = \"\"\"SELECT [CoolantPr] AS max_value, [PresentTool], [TimeStamp] AS on_timestamp\n\u001b[0;32m      2\u001b[0m     FROM [ChironDZ9_1] WHERE [PresentTool] = 7 ORDER BY 'TimeStamp'\"\"\" \n\u001b[1;32m----> 3\u001b[1;33m \u001b[0mdf\u001b[0m \u001b[1;33m=\u001b[0m \u001b[0mpd\u001b[0m\u001b[1;33m.\u001b[0m\u001b[0mread_sql_query\u001b[0m\u001b[1;33m(\u001b[0m\u001b[0msql\u001b[0m\u001b[1;33m,\u001b[0m \u001b[0mcnxn\u001b[0m\u001b[1;33m,\u001b[0m \u001b[0mindex_col\u001b[0m\u001b[1;33m=\u001b[0m\u001b[1;34m\"on_timestamp\"\u001b[0m\u001b[1;33m,\u001b[0m \u001b[0mparse_dates\u001b[0m\u001b[1;33m=\u001b[0m\u001b[1;32mTrue\u001b[0m\u001b[1;33m)\u001b[0m\u001b[1;33m\u001b[0m\u001b[1;33m\u001b[0m\u001b[0m\n\u001b[0m\u001b[0;32m      4\u001b[0m \u001b[0mdf\u001b[0m\u001b[1;33m.\u001b[0m\u001b[0mhead\u001b[0m\u001b[1;33m(\u001b[0m\u001b[1;33m)\u001b[0m\u001b[1;33m\u001b[0m\u001b[1;33m\u001b[0m\u001b[0m\n",
      "\u001b[1;32mC:\\Program Files\\Anaconda3\\lib\\site-packages\\pandas\\io\\sql.py\u001b[0m in \u001b[0;36mread_sql_query\u001b[1;34m(sql, con, index_col, coerce_float, params, parse_dates, chunksize, dtype)\u001b[0m\n\u001b[0;32m    434\u001b[0m     \"\"\"\n\u001b[0;32m    435\u001b[0m     \u001b[0mpandas_sql\u001b[0m \u001b[1;33m=\u001b[0m \u001b[0mpandasSQL_builder\u001b[0m\u001b[1;33m(\u001b[0m\u001b[0mcon\u001b[0m\u001b[1;33m)\u001b[0m\u001b[1;33m\u001b[0m\u001b[1;33m\u001b[0m\u001b[0m\n\u001b[1;32m--> 436\u001b[1;33m     return pandas_sql.read_query(\n\u001b[0m\u001b[0;32m    437\u001b[0m         \u001b[0msql\u001b[0m\u001b[1;33m,\u001b[0m\u001b[1;33m\u001b[0m\u001b[1;33m\u001b[0m\u001b[0m\n\u001b[0;32m    438\u001b[0m         \u001b[0mindex_col\u001b[0m\u001b[1;33m=\u001b[0m\u001b[0mindex_col\u001b[0m\u001b[1;33m,\u001b[0m\u001b[1;33m\u001b[0m\u001b[1;33m\u001b[0m\u001b[0m\n",
      "\u001b[1;32mC:\\Program Files\\Anaconda3\\lib\\site-packages\\pandas\\io\\sql.py\u001b[0m in \u001b[0;36mread_query\u001b[1;34m(self, sql, index_col, coerce_float, params, parse_dates, chunksize, dtype)\u001b[0m\n\u001b[0;32m   2114\u001b[0m \u001b[1;33m\u001b[0m\u001b[0m\n\u001b[0;32m   2115\u001b[0m         \u001b[0margs\u001b[0m \u001b[1;33m=\u001b[0m \u001b[0m_convert_params\u001b[0m\u001b[1;33m(\u001b[0m\u001b[0msql\u001b[0m\u001b[1;33m,\u001b[0m \u001b[0mparams\u001b[0m\u001b[1;33m)\u001b[0m\u001b[1;33m\u001b[0m\u001b[1;33m\u001b[0m\u001b[0m\n\u001b[1;32m-> 2116\u001b[1;33m         \u001b[0mcursor\u001b[0m \u001b[1;33m=\u001b[0m \u001b[0mself\u001b[0m\u001b[1;33m.\u001b[0m\u001b[0mexecute\u001b[0m\u001b[1;33m(\u001b[0m\u001b[1;33m*\u001b[0m\u001b[0margs\u001b[0m\u001b[1;33m)\u001b[0m\u001b[1;33m\u001b[0m\u001b[1;33m\u001b[0m\u001b[0m\n\u001b[0m\u001b[0;32m   2117\u001b[0m         \u001b[0mcolumns\u001b[0m \u001b[1;33m=\u001b[0m \u001b[1;33m[\u001b[0m\u001b[0mcol_desc\u001b[0m\u001b[1;33m[\u001b[0m\u001b[1;36m0\u001b[0m\u001b[1;33m]\u001b[0m \u001b[1;32mfor\u001b[0m \u001b[0mcol_desc\u001b[0m \u001b[1;32min\u001b[0m \u001b[0mcursor\u001b[0m\u001b[1;33m.\u001b[0m\u001b[0mdescription\u001b[0m\u001b[1;33m]\u001b[0m\u001b[1;33m\u001b[0m\u001b[1;33m\u001b[0m\u001b[0m\n\u001b[0;32m   2118\u001b[0m \u001b[1;33m\u001b[0m\u001b[0m\n",
      "\u001b[1;32mC:\\Program Files\\Anaconda3\\lib\\site-packages\\pandas\\io\\sql.py\u001b[0m in \u001b[0;36mexecute\u001b[1;34m(self, *args, **kwargs)\u001b[0m\n\u001b[0;32m   2066\u001b[0m \u001b[1;33m\u001b[0m\u001b[0m\n\u001b[0;32m   2067\u001b[0m             \u001b[0mex\u001b[0m \u001b[1;33m=\u001b[0m \u001b[0mDatabaseError\u001b[0m\u001b[1;33m(\u001b[0m\u001b[1;34mf\"Execution failed on sql '{args[0]}': {exc}\"\u001b[0m\u001b[1;33m)\u001b[0m\u001b[1;33m\u001b[0m\u001b[1;33m\u001b[0m\u001b[0m\n\u001b[1;32m-> 2068\u001b[1;33m             \u001b[1;32mraise\u001b[0m \u001b[0mex\u001b[0m \u001b[1;32mfrom\u001b[0m \u001b[0mexc\u001b[0m\u001b[1;33m\u001b[0m\u001b[1;33m\u001b[0m\u001b[0m\n\u001b[0m\u001b[0;32m   2069\u001b[0m \u001b[1;33m\u001b[0m\u001b[0m\n\u001b[0;32m   2070\u001b[0m     \u001b[1;33m@\u001b[0m\u001b[0mstaticmethod\u001b[0m\u001b[1;33m\u001b[0m\u001b[1;33m\u001b[0m\u001b[0m\n",
      "\u001b[1;31mDatabaseError\u001b[0m: Execution failed on sql 'SELECT [CoolantPr] AS max_value, [PresentTool], [TimeStamp] AS on_timestamp\n    FROM [ChironDZ9_1] WHERE [PresentTool] = 7 ORDER BY 'TimeStamp'': ('42000', '[42000] [Microsoft][SQL Server Native Client 11.0][SQL Server]A constant expression was encountered in the ORDER BY list, position 1. (408) (SQLExecDirectW)')"
     ]
    }
   ],
   "source": [
    "sql = \"\"\"SELECT [CoolantPr] AS max_value, [PresentTool], [TimeStamp] AS on_timestamp\n",
    "    FROM [ChironDZ9_1] WHERE [PresentTool] = 7 ORDER BY 'TimeStamp'\"\"\" \n",
    "df = pd.read_sql_query(sql, cnxn, index_col=\"on_timestamp\", parse_dates=True)\n",
    "df.head()"
   ]
  },
  {
   "cell_type": "markdown",
   "id": "c6762e91",
   "metadata": {},
   "source": [
    "### Gun-drill tool extraction"
   ]
  },
  {
   "cell_type": "markdown",
   "id": "9dd43396",
   "metadata": {},
   "source": [
    "#### gun-drill tool numbers\n",
    "- 6,7 --> 1.25\n",
    "- 13,14 --> 1.43\n",
    "\n",
    "- 22, 23 --> 1.25\n",
    "- 29, 30 --> 1.43\n"
   ]
  },
  {
   "cell_type": "code",
   "execution_count": 8,
   "id": "ae8ccfcf",
   "metadata": {},
   "outputs": [
    {
     "data": {
      "text/html": [
       "<div>\n",
       "<style scoped>\n",
       "    .dataframe tbody tr th:only-of-type {\n",
       "        vertical-align: middle;\n",
       "    }\n",
       "\n",
       "    .dataframe tbody tr th {\n",
       "        vertical-align: top;\n",
       "    }\n",
       "\n",
       "    .dataframe thead th {\n",
       "        text-align: right;\n",
       "    }\n",
       "</style>\n",
       "<table border=\"1\" class=\"dataframe\">\n",
       "  <thead>\n",
       "    <tr style=\"text-align: right;\">\n",
       "      <th></th>\n",
       "      <th>PresentTool</th>\n",
       "      <th>CoolantPr</th>\n",
       "    </tr>\n",
       "    <tr>\n",
       "      <th>TimeStamp</th>\n",
       "      <th></th>\n",
       "      <th></th>\n",
       "    </tr>\n",
       "  </thead>\n",
       "  <tbody>\n",
       "    <tr>\n",
       "      <th>2023-07-25 12:08:26.770</th>\n",
       "      <td>6</td>\n",
       "      <td>72.92398</td>\n",
       "    </tr>\n",
       "    <tr>\n",
       "      <th>2023-07-25 12:08:27.770</th>\n",
       "      <td>6</td>\n",
       "      <td>72.92398</td>\n",
       "    </tr>\n",
       "    <tr>\n",
       "      <th>2023-07-25 12:08:28.770</th>\n",
       "      <td>6</td>\n",
       "      <td>72.92398</td>\n",
       "    </tr>\n",
       "    <tr>\n",
       "      <th>2023-07-25 12:08:29.770</th>\n",
       "      <td>6</td>\n",
       "      <td>72.92398</td>\n",
       "    </tr>\n",
       "    <tr>\n",
       "      <th>2023-07-25 12:08:30.770</th>\n",
       "      <td>6</td>\n",
       "      <td>72.92398</td>\n",
       "    </tr>\n",
       "  </tbody>\n",
       "</table>\n",
       "</div>"
      ],
      "text/plain": [
       "                         PresentTool  CoolantPr\n",
       "TimeStamp                                      \n",
       "2023-07-25 12:08:26.770            6   72.92398\n",
       "2023-07-25 12:08:27.770            6   72.92398\n",
       "2023-07-25 12:08:28.770            6   72.92398\n",
       "2023-07-25 12:08:29.770            6   72.92398\n",
       "2023-07-25 12:08:30.770            6   72.92398"
      ]
     },
     "execution_count": 8,
     "metadata": {},
     "output_type": "execute_result"
    }
   ],
   "source": [
    "sql = \"\"\"SELECT [PresentTool] ,[CoolantPr],[TimeStamp] FROM [ChironDZ9_1] WHERE Timestamp BETWEEN '2023-07-25T00:00:47' AND '2023-12-12T09:45:58'\n",
    "  AND [PresentTool] = 6 AND [CoolantPr]>0 ORDER BY 'TimeStamp'\"\"\" \n",
    "df = pd.read_sql_query(sql, cnxn, index_col=\"TimeStamp\", parse_dates=True)\n",
    "df.head(5)\n"
   ]
  },
  {
   "cell_type": "code",
   "execution_count": 45,
   "id": "fa25ec08",
   "metadata": {},
   "outputs": [
    {
     "data": {
      "image/png": "[encoded data removed]",
      "text/plain": [
       "<Figure size 720x432 with 1 Axes>"
      ]
     },
     "metadata": {
      "needs_background": "light"
     },
     "output_type": "display_data"
    }
   ],
   "source": [
    "import matplotlib.pyplot as plt\n",
    "\n",
    "plt.figure(figsize=(10, 6))\n",
    "plt.plot(df.index, df['CoolantPr'], marker='o', linestyle='-', color='b')\n",
    "plt.title('Coolant Pressure Trend for PresentTool = 6')\n",
    "plt.xlabel('TimeStamp')\n",
    "plt.ylabel('Coolant Pressure')\n",
    "plt.grid(True)\n",
    "plt.show()"
   ]
  },
  {
   "cell_type": "code",
   "execution_count": 48,
   "id": "85a97796",
   "metadata": {},
   "outputs": [],
   "source": [
    "sql = \"\"\"SELECT [PresentTool] ,[CoolantPr],[TimeStamp] FROM [ChironDZ9_1] WHERE Timestamp BETWEEN '2023-07-25T00:00:47' AND '2023-12-12T09:45:58'\n",
    "  AND [PresentTool] = 7 AND [CoolantPr]>0 ORDER BY 'TimeStamp'\"\"\" \n",
    "df = pd.read_sql_query(sql, cnxn, index_col=\"TimeStamp\", parse_dates=True)"
   ]
  },
  {
   "cell_type": "code",
   "execution_count": 49,
   "id": "3a0dc7bf",
   "metadata": {},
   "outputs": [
    {
     "data": {
      "image/png": "[encoded data removed]",
      "text/plain": [
       "<Figure size 720x432 with 1 Axes>"
      ]
     },
     "metadata": {
      "needs_background": "light"
     },
     "output_type": "display_data"
    }
   ],
   "source": [
    "import matplotlib.pyplot as plt\n",
    "\n",
    "\n",
    "plt.figure(figsize=(10, 6))\n",
    "plt.plot(df.index, df['CoolantPr'], marker='o', linestyle='-', color='b')\n",
    "plt.title('Coolant Pressure Trend for PresentTool = 7')\n",
    "plt.xlabel('TimeStamp')\n",
    "plt.ylabel('Coolant Pressure')\n",
    "plt.grid(True)\n",
    "plt.show()"
   ]
  },
  {
   "cell_type": "code",
   "execution_count": 50,
   "id": "d4811d8a",
   "metadata": {},
   "outputs": [],
   "source": [
    "sql = \"\"\"SELECT [PresentTool] ,[CoolantPr],[TimeStamp] FROM [ChironDZ9_1] WHERE Timestamp BETWEEN '2023-07-25T00:00:47' AND '2023-12-12T09:45:58'\n",
    "  AND [PresentTool] = 22 AND [CoolantPr]>0 ORDER BY 'TimeStamp'\"\"\" \n",
    "df = pd.read_sql_query(sql, cnxn, index_col=\"TimeStamp\", parse_dates=True)"
   ]
  },
  {
   "cell_type": "code",
   "execution_count": 51,
   "id": "25a586fa",
   "metadata": {},
   "outputs": [
    {
     "data": {
      "image/png": "[encoded data removed]",
      "text/plain": [
       "<Figure size 720x432 with 1 Axes>"
      ]
     },
     "metadata": {
      "needs_background": "light"
     },
     "output_type": "display_data"
    }
   ],
   "source": [
    "import matplotlib.pyplot as plt\n",
    "\n",
    "plt.figure(figsize=(10, 6))\n",
    "plt.plot(df.index, df['CoolantPr'], marker='o', linestyle='-', color='b')\n",
    "plt.title('Coolant Pressure Trend for PresentTool = 22')\n",
    "plt.xlabel('TimeStamp')\n",
    "plt.ylabel('Coolant Pressure')\n",
    "plt.grid(True)\n",
    "plt.show()"
   ]
  },
  {
   "cell_type": "code",
   "execution_count": 52,
   "id": "9c0a2f53",
   "metadata": {},
   "outputs": [],
   "source": [
    "sql = \"\"\"SELECT [PresentTool] ,[CoolantPr],[TimeStamp] FROM [ChironDZ9_1] WHERE Timestamp BETWEEN '2023-07-25T00:00:47' AND '2023-12-12T09:45:58'\n",
    "  AND [PresentTool] = 23 AND [CoolantPr]>0 ORDER BY 'TimeStamp'\"\"\" \n",
    "df = pd.read_sql_query(sql, cnxn, index_col=\"TimeStamp\", parse_dates=True)"
   ]
  },
  {
   "cell_type": "code",
   "execution_count": 53,
   "id": "6eaaf549",
   "metadata": {},
   "outputs": [
    {
     "data": {
      "image/png": "[encoded data removed]",
      "text/plain": [
       "<Figure size 720x432 with 1 Axes>"
      ]
     },
     "metadata": {
      "needs_background": "light"
     },
     "output_type": "display_data"
    }
   ],
   "source": [
    "import matplotlib.pyplot as plt\n",
    "\n",
    "plt.figure(figsize=(10, 6))\n",
    "plt.plot(df.index, df['CoolantPr'], marker='o', linestyle='-', color='b')\n",
    "plt.title('Coolant Pressure Trend for PresentTool = 23')\n",
    "plt.xlabel('TimeStamp')\n",
    "plt.ylabel('Coolant Pressure')\n",
    "plt.grid(True)\n",
    "plt.show()"
   ]
  },
  {
   "cell_type": "code",
   "execution_count": null,
   "id": "3512d111",
   "metadata": {},
   "outputs": [],
   "source": []
  },
  {
   "cell_type": "markdown",
   "id": "b01365f6",
   "metadata": {},
   "source": [
    "### Getting the latest time by running"
   ]
  },
  {
   "cell_type": "code",
   "execution_count": 13,
   "id": "f4bc1d44",
   "metadata": {},
   "outputs": [
    {
     "ename": "KeyboardInterrupt",
     "evalue": "Interrupted by user",
     "output_type": "error",
     "traceback": [
      "\u001b[1;31m---------------------------------------------------------------------------\u001b[0m",
      "\u001b[1;31mKeyboardInterrupt\u001b[0m                         Traceback (most recent call last)",
      "\u001b[1;32m~\\AppData\\Local\\Temp/ipykernel_26308/3538225779.py\u001b[0m in \u001b[0;36m<module>\u001b[1;34m\u001b[0m\n\u001b[0;32m      3\u001b[0m \u001b[0mcurrent_time\u001b[0m \u001b[1;33m=\u001b[0m \u001b[0mdatetime\u001b[0m\u001b[1;33m.\u001b[0m\u001b[0mdatetime\u001b[0m\u001b[1;33m.\u001b[0m\u001b[0mnow\u001b[0m\u001b[1;33m(\u001b[0m\u001b[1;33m)\u001b[0m\u001b[1;33m\u001b[0m\u001b[1;33m\u001b[0m\u001b[0m\n\u001b[0;32m      4\u001b[0m \u001b[1;33m\u001b[0m\u001b[0m\n\u001b[1;32m----> 5\u001b[1;33m \u001b[0muser_time\u001b[0m \u001b[1;33m=\u001b[0m \u001b[0mint\u001b[0m\u001b[1;33m(\u001b[0m\u001b[0minput\u001b[0m\u001b[1;33m(\u001b[0m\u001b[1;34m\"Enter the pasttime in minutes: \"\u001b[0m\u001b[1;33m)\u001b[0m\u001b[1;33m)\u001b[0m\u001b[1;33m\u001b[0m\u001b[1;33m\u001b[0m\u001b[0m\n\u001b[0m\u001b[0;32m      6\u001b[0m \u001b[0muser_time\u001b[0m \u001b[1;33m=\u001b[0m \u001b[0muser_time\u001b[0m\u001b[1;33m*\u001b[0m\u001b[1;36m60\u001b[0m\u001b[1;33m\u001b[0m\u001b[1;33m\u001b[0m\u001b[0m\n\u001b[0;32m      7\u001b[0m \u001b[1;33m\u001b[0m\u001b[0m\n",
      "\u001b[1;32mC:\\Program Files\\Anaconda3\\lib\\site-packages\\ipykernel\\kernelbase.py\u001b[0m in \u001b[0;36mraw_input\u001b[1;34m(self, prompt)\u001b[0m\n\u001b[0;32m   1004\u001b[0m                 \u001b[1;34m\"raw_input was called, but this frontend does not support input requests.\"\u001b[0m\u001b[1;33m\u001b[0m\u001b[1;33m\u001b[0m\u001b[0m\n\u001b[0;32m   1005\u001b[0m             )\n\u001b[1;32m-> 1006\u001b[1;33m         return self._input_request(\n\u001b[0m\u001b[0;32m   1007\u001b[0m             \u001b[0mstr\u001b[0m\u001b[1;33m(\u001b[0m\u001b[0mprompt\u001b[0m\u001b[1;33m)\u001b[0m\u001b[1;33m,\u001b[0m\u001b[1;33m\u001b[0m\u001b[1;33m\u001b[0m\u001b[0m\n\u001b[0;32m   1008\u001b[0m             \u001b[0mself\u001b[0m\u001b[1;33m.\u001b[0m\u001b[0m_parent_ident\u001b[0m\u001b[1;33m[\u001b[0m\u001b[1;34m\"shell\"\u001b[0m\u001b[1;33m]\u001b[0m\u001b[1;33m,\u001b[0m\u001b[1;33m\u001b[0m\u001b[1;33m\u001b[0m\u001b[0m\n",
      "\u001b[1;32mC:\\Program Files\\Anaconda3\\lib\\site-packages\\ipykernel\\kernelbase.py\u001b[0m in \u001b[0;36m_input_request\u001b[1;34m(self, prompt, ident, parent, password)\u001b[0m\n\u001b[0;32m   1049\u001b[0m             \u001b[1;32mexcept\u001b[0m \u001b[0mKeyboardInterrupt\u001b[0m\u001b[1;33m:\u001b[0m\u001b[1;33m\u001b[0m\u001b[1;33m\u001b[0m\u001b[0m\n\u001b[0;32m   1050\u001b[0m                 \u001b[1;31m# re-raise KeyboardInterrupt, to truncate traceback\u001b[0m\u001b[1;33m\u001b[0m\u001b[1;33m\u001b[0m\u001b[0m\n\u001b[1;32m-> 1051\u001b[1;33m                 \u001b[1;32mraise\u001b[0m \u001b[0mKeyboardInterrupt\u001b[0m\u001b[1;33m(\u001b[0m\u001b[1;34m\"Interrupted by user\"\u001b[0m\u001b[1;33m)\u001b[0m \u001b[1;32mfrom\u001b[0m \u001b[1;32mNone\u001b[0m\u001b[1;33m\u001b[0m\u001b[1;33m\u001b[0m\u001b[0m\n\u001b[0m\u001b[0;32m   1052\u001b[0m             \u001b[1;32mexcept\u001b[0m \u001b[0mException\u001b[0m\u001b[1;33m:\u001b[0m\u001b[1;33m\u001b[0m\u001b[1;33m\u001b[0m\u001b[0m\n\u001b[0;32m   1053\u001b[0m                 \u001b[0mself\u001b[0m\u001b[1;33m.\u001b[0m\u001b[0mlog\u001b[0m\u001b[1;33m.\u001b[0m\u001b[0mwarning\u001b[0m\u001b[1;33m(\u001b[0m\u001b[1;34m\"Invalid Message:\"\u001b[0m\u001b[1;33m,\u001b[0m \u001b[0mexc_info\u001b[0m\u001b[1;33m=\u001b[0m\u001b[1;32mTrue\u001b[0m\u001b[1;33m)\u001b[0m\u001b[1;33m\u001b[0m\u001b[1;33m\u001b[0m\u001b[0m\n",
      "\u001b[1;31mKeyboardInterrupt\u001b[0m: Interrupted by user"
     ]
    }
   ],
   "source": [
    "import datetime  \n",
    "\n",
    "current_time = datetime.datetime.now()\n",
    "\n",
    "user_time = int(input(\"Enter the pasttime in minutes: \"))\n",
    "user_time = user_time*60\n",
    "\n",
    "past_time = current_time - datetime.timedelta(seconds=user_time)\n",
    "  \n",
    "current_time = current_time.strftime(\"%Y-%m-%dT%H:%M:%S\")\n",
    "past_time = past_time.strftime(\"%Y-%m-%dT%H:%M:%S\")\n",
    "\n",
    "\n",
    "# param1 = str(input(\"Enter the Parameter: \"))\n",
    "# sql = f\"SELECT [SP1TEMP],[TimeStamp] FROM [ChironDZ9_1] WHERE Timestamp BETWEEN '{past_time}' AND '{current_time}' ORDER BY 'TimeStamp'\"\n",
    "sql = f\"SELECT [SP1TEMP] ,[SP2TEMP],[TimeStamp] FROM [ChironDZ9_1] WHERE Timestamp BETWEEN '{past_time}' AND '{current_time}' ORDER BY 'TimeStamp'\"\n",
    "\n",
    "# sql = f\"SELECT [{param1}] FROM [ChironDZ9_1] WHERE Timestamp BETWEEN '{past_time}' AND '{current_time}' ORDER BY 'TimeStamp'\"\n",
    "\n",
    "df = pd.read_sql_query(sql, cnxn, index_col=\"TimeStamp\", parse_dates=True)\n",
    "df.head()\n",
    "\n",
    "# df.plot(figsize=(20,10))"
   ]
  },
  {
   "cell_type": "markdown",
   "id": "0651b465",
   "metadata": {},
   "source": [
    "### Time without user input"
   ]
  },
  {
   "cell_type": "code",
   "execution_count": 12,
   "id": "cff926a6",
   "metadata": {},
   "outputs": [
    {
     "name": "stdout",
     "output_type": "stream",
     "text": [
      "Enter the pasttime in minutes: 10\n"
     ]
    },
    {
     "data": {
      "text/html": [
       "<div>\n",
       "<style scoped>\n",
       "    .dataframe tbody tr th:only-of-type {\n",
       "        vertical-align: middle;\n",
       "    }\n",
       "\n",
       "    .dataframe tbody tr th {\n",
       "        vertical-align: top;\n",
       "    }\n",
       "\n",
       "    .dataframe thead th {\n",
       "        text-align: right;\n",
       "    }\n",
       "</style>\n",
       "<table border=\"1\" class=\"dataframe\">\n",
       "  <thead>\n",
       "    <tr style=\"text-align: right;\">\n",
       "      <th></th>\n",
       "      <th>SP1TEMP</th>\n",
       "    </tr>\n",
       "    <tr>\n",
       "      <th>TimeStamp</th>\n",
       "      <th></th>\n",
       "    </tr>\n",
       "  </thead>\n",
       "  <tbody>\n",
       "    <tr>\n",
       "      <th>2023-11-10 11:55:20.117</th>\n",
       "      <td>27</td>\n",
       "    </tr>\n",
       "    <tr>\n",
       "      <th>2023-11-10 11:55:21.117</th>\n",
       "      <td>27</td>\n",
       "    </tr>\n",
       "    <tr>\n",
       "      <th>2023-11-10 11:55:22.117</th>\n",
       "      <td>27</td>\n",
       "    </tr>\n",
       "    <tr>\n",
       "      <th>2023-11-10 11:55:23.117</th>\n",
       "      <td>26</td>\n",
       "    </tr>\n",
       "    <tr>\n",
       "      <th>2023-11-10 11:55:24.117</th>\n",
       "      <td>26</td>\n",
       "    </tr>\n",
       "  </tbody>\n",
       "</table>\n",
       "</div>"
      ],
      "text/plain": [
       "                         SP1TEMP\n",
       "TimeStamp                       \n",
       "2023-11-10 11:55:20.117       27\n",
       "2023-11-10 11:55:21.117       27\n",
       "2023-11-10 11:55:22.117       27\n",
       "2023-11-10 11:55:23.117       26\n",
       "2023-11-10 11:55:24.117       26"
      ]
     },
     "execution_count": 12,
     "metadata": {},
     "output_type": "execute_result"
    }
   ],
   "source": [
    "import datetime  \n",
    "\n",
    "current_time = datetime.datetime.now()\n",
    "\n",
    "user_time = int(input(\"Enter the pasttime in minutes: \"))\n",
    "user_time = user_time*60\n",
    "\n",
    "past_time = current_time - datetime.timedelta(seconds=user_time)\n",
    "  \n",
    "current_time = current_time.strftime(\"%Y-%m-%dT%H:%M:%S\")\n",
    "past_time = past_time.strftime(\"%Y-%m-%dT%H:%M:%S\")\n",
    "\n",
    "\n",
    "# param1 = str(input(\"Enter the Parameter: \"))\n",
    "# sql = f\"SELECT [SP1TEMP],[TimeStamp] FROM [ChironDZ9_1] WHERE Timestamp BETWEEN '{past_time}' AND '{current_time}' ORDER BY 'TimeStamp'\"\n",
    "sql = f\"SELECT [SP1TEMP] ,[TimeStamp] FROM [ChironDZ9_1] WHERE Timestamp BETWEEN '{past_time}' AND '{current_time}' ORDER BY 'TimeStamp'\"\n",
    "\n",
    "# sql = f\"SELECT [{param1}] FROM [ChironDZ9_1] WHERE Timestamp BETWEEN '{past_time}' AND '{current_time}' ORDER BY 'TimeStamp'\"\n",
    "\n",
    "df = pd.read_sql_query(sql, cnxn, index_col=\"TimeStamp\", parse_dates=True)\n",
    "df.head()\n",
    "\n",
    "# df.plot(figsize=(20,10))"
   ]
  },
  {
   "cell_type": "code",
   "execution_count": null,
   "id": "df062e27",
   "metadata": {},
   "outputs": [],
   "source": []
  },
  {
   "cell_type": "markdown",
   "id": "e9a1c473",
   "metadata": {},
   "source": [
    "### Converting the above query to .csv file"
   ]
  },
  {
   "cell_type": "code",
   "execution_count": 11,
   "id": "95dcd3cc",
   "metadata": {},
   "outputs": [
    {
     "name": "stderr",
     "output_type": "stream",
     "text": [
      "ERROR:root:Internal Python error in the inspect module.\n",
      "Below is the traceback from this internal error.\n",
      "\n"
     ]
    },
    {
     "name": "stdout",
     "output_type": "stream",
     "text": [
      "ERROR! Session/line number was not unique in database. History logging moved to new session 626\n",
      "Traceback (most recent call last):\n",
      "  File \"C:\\Users\\CHS9NA\\AppData\\Roaming\\Python\\Python39\\site-packages\\pandas\\io\\sql.py\", line 2018, in execute\n",
      "    cur.execute(*args, **kwargs)\n",
      "pyodbc.OperationalError: ('08S01', '[08S01] [Microsoft][SQL Server Native Client 11.0]TCP Provider: An existing connection was forcibly closed by the remote host.\\r\\n (10054) (SQLExecDirectW); [08S01] [Microsoft][SQL Server Native Client 11.0]Communication link failure (10054)')\n",
      "\n",
      "During handling of the above exception, another exception occurred:\n",
      "\n",
      "Traceback (most recent call last):\n",
      "  File \"C:\\Users\\CHS9NA\\AppData\\Roaming\\Python\\Python39\\site-packages\\pandas\\io\\sql.py\", line 2022, in execute\n",
      "    self.con.rollback()\n",
      "pyodbc.OperationalError: ('08S01', '[08S01] [Microsoft][SQL Server Native Client 11.0]Communication link failure (-2147467259) (SQLEndTran)')\n",
      "\n",
      "The above exception was the direct cause of the following exception:\n",
      "\n",
      "Traceback (most recent call last):\n",
      "  File \"C:\\Program Files\\Anaconda3\\lib\\site-packages\\IPython\\core\\interactiveshell.py\", line 3444, in run_code\n",
      "    exec(code_obj, self.user_global_ns, self.user_ns)\n",
      "  File \"C:\\Users\\CHS9NA\\AppData\\Local\\Temp/ipykernel_7576/3307407403.py\", line 3, in <module>\n",
      "    df = pd.read_sql_query(sql, cnxn, index_col=\"TimeStamp\", parse_dates=True)\n",
      "  File \"C:\\Users\\CHS9NA\\AppData\\Roaming\\Python\\Python39\\site-packages\\pandas\\io\\sql.py\", line 397, in read_sql_query\n",
      "    return pandas_sql.read_query(\n",
      "  File \"C:\\Users\\CHS9NA\\AppData\\Roaming\\Python\\Python39\\site-packages\\pandas\\io\\sql.py\", line 2078, in read_query\n",
      "    cursor = self.execute(*args)\n",
      "  File \"C:\\Users\\CHS9NA\\AppData\\Roaming\\Python\\Python39\\site-packages\\pandas\\io\\sql.py\", line 2027, in execute\n",
      "    raise ex from inner_exc\n",
      "pandas.errors.DatabaseError: Execution failed on sql: SELECT [SP1TEMP] ,[SP2TEMP],[TimeStamp] FROM [ChironDZ9_1]\n",
      "('08S01', '[08S01] [Microsoft][SQL Server Native Client 11.0]TCP Provider: An existing connection was forcibly closed by the remote host.\\r\\n (10054) (SQLExecDirectW); [08S01] [Microsoft][SQL Server Native Client 11.0]Communication link failure (10054)')\n",
      "unable to rollback\n",
      "\n",
      "During handling of the above exception, another exception occurred:\n",
      "\n",
      "Traceback (most recent call last):\n",
      "  File \"C:\\Program Files\\Anaconda3\\lib\\site-packages\\IPython\\core\\interactiveshell.py\", line 2064, in showtraceback\n",
      "    stb = value._render_traceback_()\n",
      "AttributeError: 'DatabaseError' object has no attribute '_render_traceback_'\n",
      "\n",
      "During handling of the above exception, another exception occurred:\n",
      "\n",
      "Traceback (most recent call last):\n",
      "  File \"C:\\Program Files\\Anaconda3\\lib\\site-packages\\IPython\\core\\ultratb.py\", line 1101, in get_records\n",
      "    return _fixed_getinnerframes(etb, number_of_lines_of_context, tb_offset)\n",
      "  File \"C:\\Program Files\\Anaconda3\\lib\\site-packages\\IPython\\core\\ultratb.py\", line 248, in wrapped\n",
      "    return f(*args, **kwargs)\n",
      "  File \"C:\\Program Files\\Anaconda3\\lib\\site-packages\\IPython\\core\\ultratb.py\", line 281, in _fixed_getinnerframes\n",
      "    records = fix_frame_records_filenames(inspect.getinnerframes(etb, context))\n",
      "  File \"C:\\Program Files\\Anaconda3\\lib\\inspect.py\", line 1541, in getinnerframes\n",
      "    frameinfo = (tb.tb_frame,) + getframeinfo(tb, context)\n",
      "  File \"C:\\Program Files\\Anaconda3\\lib\\inspect.py\", line 1499, in getframeinfo\n",
      "    filename = getsourcefile(frame) or getfile(frame)\n",
      "  File \"C:\\Program Files\\Anaconda3\\lib\\inspect.py\", line 709, in getsourcefile\n",
      "    if getattr(getmodule(object, filename), '__loader__', None) is not None:\n",
      "  File \"C:\\Program Files\\Anaconda3\\lib\\inspect.py\", line 752, in getmodule\n",
      "    f = getabsfile(module)\n",
      "  File \"C:\\Program Files\\Anaconda3\\lib\\inspect.py\", line 721, in getabsfile\n",
      "    _filename = getsourcefile(object) or getfile(object)\n",
      "  File \"C:\\Program Files\\Anaconda3\\lib\\inspect.py\", line 706, in getsourcefile\n",
      "    if os.path.exists(filename):\n",
      "  File \"C:\\Program Files\\Anaconda3\\lib\\genericpath.py\", line 19, in exists\n",
      "    os.stat(path)\n",
      "KeyboardInterrupt\n"
     ]
    },
    {
     "ename": "TypeError",
     "evalue": "object of type 'NoneType' has no len()",
     "output_type": "error",
     "traceback": [
      "\u001b[1;31m---------------------------------------------------------------------------\u001b[0m",
      "\u001b[1;31mOperationalError\u001b[0m                          Traceback (most recent call last)",
      "\u001b[1;32m~\\AppData\\Roaming\\Python\\Python39\\site-packages\\pandas\\io\\sql.py\u001b[0m in \u001b[0;36mexecute\u001b[1;34m(self, *args, **kwargs)\u001b[0m\n\u001b[0;32m   2017\u001b[0m         \u001b[1;32mtry\u001b[0m\u001b[1;33m:\u001b[0m\u001b[1;33m\u001b[0m\u001b[1;33m\u001b[0m\u001b[0m\n\u001b[1;32m-> 2018\u001b[1;33m             \u001b[0mcur\u001b[0m\u001b[1;33m.\u001b[0m\u001b[0mexecute\u001b[0m\u001b[1;33m(\u001b[0m\u001b[1;33m*\u001b[0m\u001b[0margs\u001b[0m\u001b[1;33m,\u001b[0m \u001b[1;33m**\u001b[0m\u001b[0mkwargs\u001b[0m\u001b[1;33m)\u001b[0m\u001b[1;33m\u001b[0m\u001b[1;33m\u001b[0m\u001b[0m\n\u001b[0m\u001b[0;32m   2019\u001b[0m             \u001b[1;32mreturn\u001b[0m \u001b[0mcur\u001b[0m\u001b[1;33m\u001b[0m\u001b[1;33m\u001b[0m\u001b[0m\n",
      "\u001b[1;31mOperationalError\u001b[0m: ('08S01', '[08S01] [Microsoft][SQL Server Native Client 11.0]TCP Provider: An existing connection was forcibly closed by the remote host.\\r\\n (10054) (SQLExecDirectW); [08S01] [Microsoft][SQL Server Native Client 11.0]Communication link failure (10054)')",
      "\nDuring handling of the above exception, another exception occurred:\n",
      "\u001b[1;31mOperationalError\u001b[0m                          Traceback (most recent call last)",
      "\u001b[1;32m~\\AppData\\Roaming\\Python\\Python39\\site-packages\\pandas\\io\\sql.py\u001b[0m in \u001b[0;36mexecute\u001b[1;34m(self, *args, **kwargs)\u001b[0m\n\u001b[0;32m   2021\u001b[0m             \u001b[1;32mtry\u001b[0m\u001b[1;33m:\u001b[0m\u001b[1;33m\u001b[0m\u001b[1;33m\u001b[0m\u001b[0m\n\u001b[1;32m-> 2022\u001b[1;33m                 \u001b[0mself\u001b[0m\u001b[1;33m.\u001b[0m\u001b[0mcon\u001b[0m\u001b[1;33m.\u001b[0m\u001b[0mrollback\u001b[0m\u001b[1;33m(\u001b[0m\u001b[1;33m)\u001b[0m\u001b[1;33m\u001b[0m\u001b[1;33m\u001b[0m\u001b[0m\n\u001b[0m\u001b[0;32m   2023\u001b[0m             \u001b[1;32mexcept\u001b[0m \u001b[0mException\u001b[0m \u001b[1;32mas\u001b[0m \u001b[0minner_exc\u001b[0m\u001b[1;33m:\u001b[0m  \u001b[1;31m# pragma: no cover\u001b[0m\u001b[1;33m\u001b[0m\u001b[1;33m\u001b[0m\u001b[0m\n",
      "\u001b[1;31mOperationalError\u001b[0m: ('08S01', '[08S01] [Microsoft][SQL Server Native Client 11.0]Communication link failure (-2147467259) (SQLEndTran)')",
      "\nThe above exception was the direct cause of the following exception:\n",
      "\u001b[1;31mDatabaseError\u001b[0m                             Traceback (most recent call last)",
      "    \u001b[1;31m[... skipping hidden 1 frame]\u001b[0m\n",
      "\u001b[1;32m~\\AppData\\Local\\Temp/ipykernel_7576/3307407403.py\u001b[0m in \u001b[0;36m<module>\u001b[1;34m\u001b[0m\n\u001b[0;32m      2\u001b[0m \u001b[1;33m\u001b[0m\u001b[0m\n\u001b[1;32m----> 3\u001b[1;33m \u001b[0mdf\u001b[0m \u001b[1;33m=\u001b[0m \u001b[0mpd\u001b[0m\u001b[1;33m.\u001b[0m\u001b[0mread_sql_query\u001b[0m\u001b[1;33m(\u001b[0m\u001b[0msql\u001b[0m\u001b[1;33m,\u001b[0m \u001b[0mcnxn\u001b[0m\u001b[1;33m,\u001b[0m \u001b[0mindex_col\u001b[0m\u001b[1;33m=\u001b[0m\u001b[1;34m\"TimeStamp\"\u001b[0m\u001b[1;33m,\u001b[0m \u001b[0mparse_dates\u001b[0m\u001b[1;33m=\u001b[0m\u001b[1;32mTrue\u001b[0m\u001b[1;33m)\u001b[0m\u001b[1;33m\u001b[0m\u001b[1;33m\u001b[0m\u001b[0m\n\u001b[0m\u001b[0;32m      4\u001b[0m \u001b[0mdf\u001b[0m\u001b[1;33m.\u001b[0m\u001b[0mhead\u001b[0m\u001b[1;33m(\u001b[0m\u001b[1;33m)\u001b[0m\u001b[1;33m\u001b[0m\u001b[1;33m\u001b[0m\u001b[0m\n",
      "\u001b[1;32m~\\AppData\\Roaming\\Python\\Python39\\site-packages\\pandas\\io\\sql.py\u001b[0m in \u001b[0;36mread_sql_query\u001b[1;34m(sql, con, index_col, coerce_float, params, parse_dates, chunksize, dtype)\u001b[0m\n\u001b[0;32m    396\u001b[0m     \u001b[0mpandas_sql\u001b[0m \u001b[1;33m=\u001b[0m \u001b[0mpandasSQL_builder\u001b[0m\u001b[1;33m(\u001b[0m\u001b[0mcon\u001b[0m\u001b[1;33m)\u001b[0m\u001b[1;33m\u001b[0m\u001b[1;33m\u001b[0m\u001b[0m\n\u001b[1;32m--> 397\u001b[1;33m     return pandas_sql.read_query(\n\u001b[0m\u001b[0;32m    398\u001b[0m         \u001b[0msql\u001b[0m\u001b[1;33m,\u001b[0m\u001b[1;33m\u001b[0m\u001b[1;33m\u001b[0m\u001b[0m\n",
      "\u001b[1;32m~\\AppData\\Roaming\\Python\\Python39\\site-packages\\pandas\\io\\sql.py\u001b[0m in \u001b[0;36mread_query\u001b[1;34m(self, sql, index_col, coerce_float, params, parse_dates, chunksize, dtype)\u001b[0m\n\u001b[0;32m   2077\u001b[0m         \u001b[0margs\u001b[0m \u001b[1;33m=\u001b[0m \u001b[0m_convert_params\u001b[0m\u001b[1;33m(\u001b[0m\u001b[0msql\u001b[0m\u001b[1;33m,\u001b[0m \u001b[0mparams\u001b[0m\u001b[1;33m)\u001b[0m\u001b[1;33m\u001b[0m\u001b[1;33m\u001b[0m\u001b[0m\n\u001b[1;32m-> 2078\u001b[1;33m         \u001b[0mcursor\u001b[0m \u001b[1;33m=\u001b[0m \u001b[0mself\u001b[0m\u001b[1;33m.\u001b[0m\u001b[0mexecute\u001b[0m\u001b[1;33m(\u001b[0m\u001b[1;33m*\u001b[0m\u001b[0margs\u001b[0m\u001b[1;33m)\u001b[0m\u001b[1;33m\u001b[0m\u001b[1;33m\u001b[0m\u001b[0m\n\u001b[0m\u001b[0;32m   2079\u001b[0m         \u001b[0mcolumns\u001b[0m \u001b[1;33m=\u001b[0m \u001b[1;33m[\u001b[0m\u001b[0mcol_desc\u001b[0m\u001b[1;33m[\u001b[0m\u001b[1;36m0\u001b[0m\u001b[1;33m]\u001b[0m \u001b[1;32mfor\u001b[0m \u001b[0mcol_desc\u001b[0m \u001b[1;32min\u001b[0m \u001b[0mcursor\u001b[0m\u001b[1;33m.\u001b[0m\u001b[0mdescription\u001b[0m\u001b[1;33m]\u001b[0m\u001b[1;33m\u001b[0m\u001b[1;33m\u001b[0m\u001b[0m\n",
      "\u001b[1;32m~\\AppData\\Roaming\\Python\\Python39\\site-packages\\pandas\\io\\sql.py\u001b[0m in \u001b[0;36mexecute\u001b[1;34m(self, *args, **kwargs)\u001b[0m\n\u001b[0;32m   2026\u001b[0m                 )\n\u001b[1;32m-> 2027\u001b[1;33m                 \u001b[1;32mraise\u001b[0m \u001b[0mex\u001b[0m \u001b[1;32mfrom\u001b[0m \u001b[0minner_exc\u001b[0m\u001b[1;33m\u001b[0m\u001b[1;33m\u001b[0m\u001b[0m\n\u001b[0m\u001b[0;32m   2028\u001b[0m \u001b[1;33m\u001b[0m\u001b[0m\n",
      "\u001b[1;31mDatabaseError\u001b[0m: Execution failed on sql: SELECT [SP1TEMP] ,[SP2TEMP],[TimeStamp] FROM [ChironDZ9_1]\n('08S01', '[08S01] [Microsoft][SQL Server Native Client 11.0]TCP Provider: An existing connection was forcibly closed by the remote host.\\r\\n (10054) (SQLExecDirectW); [08S01] [Microsoft][SQL Server Native Client 11.0]Communication link failure (10054)')\nunable to rollback",
      "\nDuring handling of the above exception, another exception occurred:\n",
      "\u001b[1;31mAttributeError\u001b[0m                            Traceback (most recent call last)",
      "\u001b[1;32mC:\\Program Files\\Anaconda3\\lib\\site-packages\\IPython\\core\\interactiveshell.py\u001b[0m in \u001b[0;36mshowtraceback\u001b[1;34m(self, exc_tuple, filename, tb_offset, exception_only, running_compiled_code)\u001b[0m\n\u001b[0;32m   2063\u001b[0m                         \u001b[1;31m# in the engines. This should return a list of strings.\u001b[0m\u001b[1;33m\u001b[0m\u001b[1;33m\u001b[0m\u001b[0m\n\u001b[1;32m-> 2064\u001b[1;33m                         \u001b[0mstb\u001b[0m \u001b[1;33m=\u001b[0m \u001b[0mvalue\u001b[0m\u001b[1;33m.\u001b[0m\u001b[0m_render_traceback_\u001b[0m\u001b[1;33m(\u001b[0m\u001b[1;33m)\u001b[0m\u001b[1;33m\u001b[0m\u001b[1;33m\u001b[0m\u001b[0m\n\u001b[0m\u001b[0;32m   2065\u001b[0m                     \u001b[1;32mexcept\u001b[0m \u001b[0mException\u001b[0m\u001b[1;33m:\u001b[0m\u001b[1;33m\u001b[0m\u001b[1;33m\u001b[0m\u001b[0m\n",
      "\u001b[1;31mAttributeError\u001b[0m: 'DatabaseError' object has no attribute '_render_traceback_'",
      "\nDuring handling of the above exception, another exception occurred:\n",
      "\u001b[1;31mTypeError\u001b[0m                                 Traceback (most recent call last)",
      "    \u001b[1;31m[... skipping hidden 1 frame]\u001b[0m\n",
      "\u001b[1;32mC:\\Program Files\\Anaconda3\\lib\\site-packages\\IPython\\core\\interactiveshell.py\u001b[0m in \u001b[0;36mshowtraceback\u001b[1;34m(self, exc_tuple, filename, tb_offset, exception_only, running_compiled_code)\u001b[0m\n\u001b[0;32m   2064\u001b[0m                         \u001b[0mstb\u001b[0m \u001b[1;33m=\u001b[0m \u001b[0mvalue\u001b[0m\u001b[1;33m.\u001b[0m\u001b[0m_render_traceback_\u001b[0m\u001b[1;33m(\u001b[0m\u001b[1;33m)\u001b[0m\u001b[1;33m\u001b[0m\u001b[1;33m\u001b[0m\u001b[0m\n\u001b[0;32m   2065\u001b[0m                     \u001b[1;32mexcept\u001b[0m \u001b[0mException\u001b[0m\u001b[1;33m:\u001b[0m\u001b[1;33m\u001b[0m\u001b[1;33m\u001b[0m\u001b[0m\n\u001b[1;32m-> 2066\u001b[1;33m                         stb = self.InteractiveTB.structured_traceback(etype,\n\u001b[0m\u001b[0;32m   2067\u001b[0m                                             value, tb, tb_offset=tb_offset)\n\u001b[0;32m   2068\u001b[0m \u001b[1;33m\u001b[0m\u001b[0m\n",
      "\u001b[1;32mC:\\Program Files\\Anaconda3\\lib\\site-packages\\IPython\\core\\ultratb.py\u001b[0m in \u001b[0;36mstructured_traceback\u001b[1;34m(self, etype, value, tb, tb_offset, number_of_lines_of_context)\u001b[0m\n\u001b[0;32m   1365\u001b[0m         \u001b[1;32melse\u001b[0m\u001b[1;33m:\u001b[0m\u001b[1;33m\u001b[0m\u001b[1;33m\u001b[0m\u001b[0m\n\u001b[0;32m   1366\u001b[0m             \u001b[0mself\u001b[0m\u001b[1;33m.\u001b[0m\u001b[0mtb\u001b[0m \u001b[1;33m=\u001b[0m \u001b[0mtb\u001b[0m\u001b[1;33m\u001b[0m\u001b[1;33m\u001b[0m\u001b[0m\n\u001b[1;32m-> 1367\u001b[1;33m         return FormattedTB.structured_traceback(\n\u001b[0m\u001b[0;32m   1368\u001b[0m             self, etype, value, tb, tb_offset, number_of_lines_of_context)\n\u001b[0;32m   1369\u001b[0m \u001b[1;33m\u001b[0m\u001b[0m\n",
      "\u001b[1;32mC:\\Program Files\\Anaconda3\\lib\\site-packages\\IPython\\core\\ultratb.py\u001b[0m in \u001b[0;36mstructured_traceback\u001b[1;34m(self, etype, value, tb, tb_offset, number_of_lines_of_context)\u001b[0m\n\u001b[0;32m   1265\u001b[0m         \u001b[1;32mif\u001b[0m \u001b[0mmode\u001b[0m \u001b[1;32min\u001b[0m \u001b[0mself\u001b[0m\u001b[1;33m.\u001b[0m\u001b[0mverbose_modes\u001b[0m\u001b[1;33m:\u001b[0m\u001b[1;33m\u001b[0m\u001b[1;33m\u001b[0m\u001b[0m\n\u001b[0;32m   1266\u001b[0m             \u001b[1;31m# Verbose modes need a full traceback\u001b[0m\u001b[1;33m\u001b[0m\u001b[1;33m\u001b[0m\u001b[0m\n\u001b[1;32m-> 1267\u001b[1;33m             return VerboseTB.structured_traceback(\n\u001b[0m\u001b[0;32m   1268\u001b[0m                 \u001b[0mself\u001b[0m\u001b[1;33m,\u001b[0m \u001b[0metype\u001b[0m\u001b[1;33m,\u001b[0m \u001b[0mvalue\u001b[0m\u001b[1;33m,\u001b[0m \u001b[0mtb\u001b[0m\u001b[1;33m,\u001b[0m \u001b[0mtb_offset\u001b[0m\u001b[1;33m,\u001b[0m \u001b[0mnumber_of_lines_of_context\u001b[0m\u001b[1;33m\u001b[0m\u001b[1;33m\u001b[0m\u001b[0m\n\u001b[0;32m   1269\u001b[0m             )\n",
      "\u001b[1;32mC:\\Program Files\\Anaconda3\\lib\\site-packages\\IPython\\core\\ultratb.py\u001b[0m in \u001b[0;36mstructured_traceback\u001b[1;34m(self, etype, evalue, etb, tb_offset, number_of_lines_of_context)\u001b[0m\n\u001b[0;32m   1122\u001b[0m         \u001b[1;34m\"\"\"Return a nice text document describing the traceback.\"\"\"\u001b[0m\u001b[1;33m\u001b[0m\u001b[1;33m\u001b[0m\u001b[0m\n\u001b[0;32m   1123\u001b[0m \u001b[1;33m\u001b[0m\u001b[0m\n\u001b[1;32m-> 1124\u001b[1;33m         formatted_exception = self.format_exception_as_a_whole(etype, evalue, etb, number_of_lines_of_context,\n\u001b[0m\u001b[0;32m   1125\u001b[0m                                                                tb_offset)\n\u001b[0;32m   1126\u001b[0m \u001b[1;33m\u001b[0m\u001b[0m\n",
      "\u001b[1;32mC:\\Program Files\\Anaconda3\\lib\\site-packages\\IPython\\core\\ultratb.py\u001b[0m in \u001b[0;36mformat_exception_as_a_whole\u001b[1;34m(self, etype, evalue, etb, number_of_lines_of_context, tb_offset)\u001b[0m\n\u001b[0;32m   1080\u001b[0m \u001b[1;33m\u001b[0m\u001b[0m\n\u001b[0;32m   1081\u001b[0m \u001b[1;33m\u001b[0m\u001b[0m\n\u001b[1;32m-> 1082\u001b[1;33m         \u001b[0mlast_unique\u001b[0m\u001b[1;33m,\u001b[0m \u001b[0mrecursion_repeat\u001b[0m \u001b[1;33m=\u001b[0m \u001b[0mfind_recursion\u001b[0m\u001b[1;33m(\u001b[0m\u001b[0morig_etype\u001b[0m\u001b[1;33m,\u001b[0m \u001b[0mevalue\u001b[0m\u001b[1;33m,\u001b[0m \u001b[0mrecords\u001b[0m\u001b[1;33m)\u001b[0m\u001b[1;33m\u001b[0m\u001b[1;33m\u001b[0m\u001b[0m\n\u001b[0m\u001b[0;32m   1083\u001b[0m \u001b[1;33m\u001b[0m\u001b[0m\n\u001b[0;32m   1084\u001b[0m         \u001b[0mframes\u001b[0m \u001b[1;33m=\u001b[0m \u001b[0mself\u001b[0m\u001b[1;33m.\u001b[0m\u001b[0mformat_records\u001b[0m\u001b[1;33m(\u001b[0m\u001b[0mrecords\u001b[0m\u001b[1;33m,\u001b[0m \u001b[0mlast_unique\u001b[0m\u001b[1;33m,\u001b[0m \u001b[0mrecursion_repeat\u001b[0m\u001b[1;33m)\u001b[0m\u001b[1;33m\u001b[0m\u001b[1;33m\u001b[0m\u001b[0m\n",
      "\u001b[1;32mC:\\Program Files\\Anaconda3\\lib\\site-packages\\IPython\\core\\ultratb.py\u001b[0m in \u001b[0;36mfind_recursion\u001b[1;34m(etype, value, records)\u001b[0m\n\u001b[0;32m    380\u001b[0m     \u001b[1;31m# first frame (from in to out) that looks different.\u001b[0m\u001b[1;33m\u001b[0m\u001b[1;33m\u001b[0m\u001b[0m\n\u001b[0;32m    381\u001b[0m     \u001b[1;32mif\u001b[0m \u001b[1;32mnot\u001b[0m \u001b[0mis_recursion_error\u001b[0m\u001b[1;33m(\u001b[0m\u001b[0metype\u001b[0m\u001b[1;33m,\u001b[0m \u001b[0mvalue\u001b[0m\u001b[1;33m,\u001b[0m \u001b[0mrecords\u001b[0m\u001b[1;33m)\u001b[0m\u001b[1;33m:\u001b[0m\u001b[1;33m\u001b[0m\u001b[1;33m\u001b[0m\u001b[0m\n\u001b[1;32m--> 382\u001b[1;33m         \u001b[1;32mreturn\u001b[0m \u001b[0mlen\u001b[0m\u001b[1;33m(\u001b[0m\u001b[0mrecords\u001b[0m\u001b[1;33m)\u001b[0m\u001b[1;33m,\u001b[0m \u001b[1;36m0\u001b[0m\u001b[1;33m\u001b[0m\u001b[1;33m\u001b[0m\u001b[0m\n\u001b[0m\u001b[0;32m    383\u001b[0m \u001b[1;33m\u001b[0m\u001b[0m\n\u001b[0;32m    384\u001b[0m     \u001b[1;31m# Select filename, lineno, func_name to track frames with\u001b[0m\u001b[1;33m\u001b[0m\u001b[1;33m\u001b[0m\u001b[0m\n",
      "\u001b[1;31mTypeError\u001b[0m: object of type 'NoneType' has no len()"
     ]
    }
   ],
   "source": [
    "sql = f\"SELECT [SP1TEMP] ,[SP2TEMP],[TimeStamp] FROM [ChironDZ9_1]\"\n",
    "\n",
    "df = pd.read_sql_query(sql, cnxn, index_col=\"TimeStamp\", parse_dates=True)\n",
    "df.head()"
   ]
  },
  {
   "cell_type": "code",
   "execution_count": null,
   "id": "70e737cc",
   "metadata": {},
   "outputs": [],
   "source": []
  },
  {
   "cell_type": "code",
   "execution_count": null,
   "id": "3d3669de",
   "metadata": {},
   "outputs": [],
   "source": []
  },
  {
   "cell_type": "code",
   "execution_count": null,
   "id": "ba1baf6e",
   "metadata": {},
   "outputs": [],
   "source": []
  },
  {
   "cell_type": "code",
   "execution_count": 5,
   "id": "04418724",
   "metadata": {},
   "outputs": [
    {
     "name": "stdout",
     "output_type": "stream",
     "text": [
      "Enter the pasttime in minutes: 10\n",
      "Live Spindle 1 temperature: 28\n",
      "Live Spindle 2 Temperature: 33\n"
     ]
    }
   ],
   "source": [
    "import pyodbc\n",
    "import datetime \n",
    "conn = pyodbc.connect(\"Driver={SQL Server Native Client 11.0};\"\n",
    "                        \"Server=na0vm00024.apac.bosch.com;\"\n",
    "                        \"Database=DB_MFC2DB_SQL;\"\n",
    "                        \"Trusted_Connection=yes;\")\n",
    "\n",
    "cursor = conn.cursor()\n",
    "\n",
    "current_time = datetime.datetime.now()\n",
    "\n",
    "user_time = int(input(\"Enter the pasttime in minutes: \"))\n",
    "user_time = user_time*60\n",
    "\n",
    "past_time = current_time - datetime.timedelta(seconds=user_time)\n",
    "  \n",
    "current_time = current_time.strftime(\"%Y-%m-%dT%H:%M:%S\")\n",
    "past_time = past_time.strftime(\"%Y-%m-%dT%H:%M:%S\")\n",
    "\n",
    "sql_query = f\"SELECT [SP1TEMP] ,[SP2TEMP],[TimeStamp] FROM [ChironDZ9_1] WHERE Timestamp BETWEEN '{past_time}' AND '{current_time}' ORDER BY 'TimeStamp'\"\n",
    "# sql_query = f\"SELECT [SP1TEMP] ,[SP2TEMP],[TimeStamp] FROM [ChironDZ9_1] WHERE Timestamp BETWEEN '2023-09-21T00:00:47' AND '2023-09-22T11:59:58' ORDER BY 'TimeStamp'\"\n",
    "\n",
    "cursor.execute(sql_query)\n",
    "\n",
    "row = cursor.fetchone()\n",
    "\n",
    "\n",
    "if row:\n",
    "    Sp1_temp = row[0]\n",
    "    sp2_temp = row[1]\n",
    "    print(f\"Live Spindle 1 temperature: {Sp1_temp}\")\n",
    "    print(f\"Live Spindle 2 Temperature: {sp2_temp}\")\n",
    "else:\n",
    "    print(\"No data found\")\n",
    "\n",
    "    \n",
    "cursor.close()\n",
    "conn.close()\n"
   ]
  },
  {
   "cell_type": "markdown",
   "id": "fae6afec",
   "metadata": {},
   "source": [
    "### Generating email alerts if live data crosses Thresold"
   ]
  },
  {
   "cell_type": "code",
   "execution_count": 57,
   "id": "25c4cfec",
   "metadata": {},
   "outputs": [
    {
     "ename": "SyntaxError",
     "evalue": "invalid syntax (Temp/ipykernel_20368/1224031306.py, line 4)",
     "output_type": "error",
     "traceback": [
      "\u001b[1;36m  File \u001b[1;32m\"C:\\Users\\CHS9NA\\AppData\\Local\\Temp/ipykernel_20368/1224031306.py\"\u001b[1;36m, line \u001b[1;32m4\u001b[0m\n\u001b[1;33m    global Sp1_temp = row[0]\u001b[0m\n\u001b[1;37m                    ^\u001b[0m\n\u001b[1;31mSyntaxError\u001b[0m\u001b[1;31m:\u001b[0m invalid syntax\n"
     ]
    }
   ],
   "source": [
    "import smtplib\n",
    "\n",
    "\n",
    "global Sp1_temp = row[0]\n",
    "global sp2_temp = row[1]\n",
    "\n",
    "sp1temp_setpoint = 26\n",
    "sp2temp_setpoint = 30\n",
    "\n",
    "threshold = 2\n",
    "\n",
    "if abs(Sp1_temp - sp1temp_setpoint) > threshold or abs(sp2_temp - sp2temp_setpoint) > threshold:\n",
    "    FROM = \"sandeep.chowdhury@in.bosch.com\"\n",
    "    TO = \"sandeep.chowdhury@in.bosch.com\"\n",
    "\n",
    "    SUBJECT = \"ALERT\"\n",
    "    TEXT = f'Sp1_temp is {Sp1_temp} and sp2_spindle temp is {Sp2_temp}'\n",
    "\n",
    "    message = 'Subject: {}\\n\\n{}'.format(SUBJECT, TEXT)\n",
    "\n",
    "    server = smtplib.SMTP('rb-smtp-int.bosch.com')\n",
    "    server.sendmail(FROM, TO, message)\n",
    "    server.quit()\n",
    "else:\n",
    "    pass\n",
    "\n"
   ]
  },
  {
   "cell_type": "code",
   "execution_count": null,
   "id": "50773388",
   "metadata": {},
   "outputs": [],
   "source": []
  },
  {
   "cell_type": "markdown",
   "id": "6de20e1e",
   "metadata": {},
   "source": [
    "### Main Code"
   ]
  },
  {
   "cell_type": "code",
   "execution_count": 4,
   "id": "150e013c",
   "metadata": {},
   "outputs": [
    {
     "name": "stdout",
     "output_type": "stream",
     "text": [
      "Enter the pasttime in minutes: 10\n",
      "Live Spindle 1 temperature: 26\n",
      "Live Spindle 2 Temperature: 32\n"
     ]
    },
    {
     "ename": "SMTPConnectError",
     "evalue": "(421, b'4.3.2 Service not available')",
     "output_type": "error",
     "traceback": [
      "\u001b[1;31m---------------------------------------------------------------------------\u001b[0m",
      "\u001b[1;31mSMTPConnectError\u001b[0m                          Traceback (most recent call last)",
      "\u001b[1;32m~\\AppData\\Local\\Temp/ipykernel_27032/1874206844.py\u001b[0m in \u001b[0;36m<module>\u001b[1;34m\u001b[0m\n\u001b[0;32m     52\u001b[0m     \u001b[0mmessage\u001b[0m \u001b[1;33m=\u001b[0m \u001b[1;34m'Subject: {}\\n\\n{}'\u001b[0m\u001b[1;33m.\u001b[0m\u001b[0mformat\u001b[0m\u001b[1;33m(\u001b[0m\u001b[0mSUBJECT\u001b[0m\u001b[1;33m,\u001b[0m \u001b[0mTEXT\u001b[0m\u001b[1;33m)\u001b[0m\u001b[1;33m\u001b[0m\u001b[1;33m\u001b[0m\u001b[0m\n\u001b[0;32m     53\u001b[0m \u001b[1;33m\u001b[0m\u001b[0m\n\u001b[1;32m---> 54\u001b[1;33m     \u001b[0mserver\u001b[0m \u001b[1;33m=\u001b[0m \u001b[0msmtplib\u001b[0m\u001b[1;33m.\u001b[0m\u001b[0mSMTP\u001b[0m\u001b[1;33m(\u001b[0m\u001b[1;34m'rb-smtp-int.bosch.com'\u001b[0m\u001b[1;33m)\u001b[0m\u001b[1;33m\u001b[0m\u001b[1;33m\u001b[0m\u001b[0m\n\u001b[0m\u001b[0;32m     55\u001b[0m     \u001b[0mserver\u001b[0m\u001b[1;33m.\u001b[0m\u001b[0msendmail\u001b[0m\u001b[1;33m(\u001b[0m\u001b[0mFROM\u001b[0m\u001b[1;33m,\u001b[0m \u001b[0mTO\u001b[0m\u001b[1;33m,\u001b[0m \u001b[0mmessage\u001b[0m\u001b[1;33m)\u001b[0m\u001b[1;33m\u001b[0m\u001b[1;33m\u001b[0m\u001b[0m\n\u001b[0;32m     56\u001b[0m     \u001b[0mserver\u001b[0m\u001b[1;33m.\u001b[0m\u001b[0mquit\u001b[0m\u001b[1;33m(\u001b[0m\u001b[1;33m)\u001b[0m\u001b[1;33m\u001b[0m\u001b[1;33m\u001b[0m\u001b[0m\n",
      "\u001b[1;32mC:\\Program Files\\Anaconda3\\lib\\smtplib.py\u001b[0m in \u001b[0;36m__init__\u001b[1;34m(self, host, port, local_hostname, timeout, source_address)\u001b[0m\n\u001b[0;32m    256\u001b[0m             \u001b[1;32mif\u001b[0m \u001b[0mcode\u001b[0m \u001b[1;33m!=\u001b[0m \u001b[1;36m220\u001b[0m\u001b[1;33m:\u001b[0m\u001b[1;33m\u001b[0m\u001b[1;33m\u001b[0m\u001b[0m\n\u001b[0;32m    257\u001b[0m                 \u001b[0mself\u001b[0m\u001b[1;33m.\u001b[0m\u001b[0mclose\u001b[0m\u001b[1;33m(\u001b[0m\u001b[1;33m)\u001b[0m\u001b[1;33m\u001b[0m\u001b[1;33m\u001b[0m\u001b[0m\n\u001b[1;32m--> 258\u001b[1;33m                 \u001b[1;32mraise\u001b[0m \u001b[0mSMTPConnectError\u001b[0m\u001b[1;33m(\u001b[0m\u001b[0mcode\u001b[0m\u001b[1;33m,\u001b[0m \u001b[0mmsg\u001b[0m\u001b[1;33m)\u001b[0m\u001b[1;33m\u001b[0m\u001b[1;33m\u001b[0m\u001b[0m\n\u001b[0m\u001b[0;32m    259\u001b[0m         \u001b[1;32mif\u001b[0m \u001b[0mlocal_hostname\u001b[0m \u001b[1;32mis\u001b[0m \u001b[1;32mnot\u001b[0m \u001b[1;32mNone\u001b[0m\u001b[1;33m:\u001b[0m\u001b[1;33m\u001b[0m\u001b[1;33m\u001b[0m\u001b[0m\n\u001b[0;32m    260\u001b[0m             \u001b[0mself\u001b[0m\u001b[1;33m.\u001b[0m\u001b[0mlocal_hostname\u001b[0m \u001b[1;33m=\u001b[0m \u001b[0mlocal_hostname\u001b[0m\u001b[1;33m\u001b[0m\u001b[1;33m\u001b[0m\u001b[0m\n",
      "\u001b[1;31mSMTPConnectError\u001b[0m: (421, b'4.3.2 Service not available')"
     ]
    }
   ],
   "source": [
    "import pyodbc\n",
    "import datetime \n",
    "import smtplib\n",
    "\n",
    "conn = pyodbc.connect(\"Driver={SQL Server Native Client 11.0};\"\n",
    "                        \"Server=na0vm00024.apac.bosch.com;\"\n",
    "                        \"Database=DB_MFC2DB_SQL;\"\n",
    "                        \"Trusted_Connection=yes;\")\n",
    "\n",
    "cursor = conn.cursor()\n",
    "\n",
    "current_time = datetime.datetime.now()\n",
    "\n",
    "user_time = int(input(\"Enter the pasttime in minutes: \"))\n",
    "user_time = user_time*60\n",
    "\n",
    "past_time = current_time - datetime.timedelta(seconds=user_time)\n",
    "  \n",
    "current_time = current_time.strftime(\"%Y-%m-%dT%H:%M:%S\")\n",
    "past_time = past_time.strftime(\"%Y-%m-%dT%H:%M:%S\")\n",
    "\n",
    "sql_query = f\"SELECT [SP1TEMP] ,[SP2TEMP],[TimeStamp] FROM [ChironDZ9_1] WHERE Timestamp BETWEEN '{past_time}' AND '{current_time}' ORDER BY 'TimeStamp'\"\n",
    "# sql_query = f\"SELECT [SP1TEMP] ,[SP2TEMP],[TimeStamp] FROM [ChironDZ9_1] WHERE Timestamp BETWEEN '2023-09-21T00:00:47' AND '2023-09-22T11:59:58' ORDER BY 'TimeStamp'\"\n",
    "\n",
    "cursor.execute(sql_query)\n",
    "\n",
    "row = cursor.fetchone()\n",
    "\n",
    "\n",
    "if row:\n",
    "    Sp1_temp = row[0]\n",
    "    sp2_temp = row[1]\n",
    "    print(f\"Live Spindle 1 temperature: {Sp1_temp}\")\n",
    "    print(f\"Live Spindle 2 Temperature: {sp2_temp}\")\n",
    "else:\n",
    "    print(\"No data found\")\n",
    "    \n",
    "\n",
    "\n",
    "sp1temp_setpoint = 20\n",
    "sp2temp_setpoint = 20\n",
    "\n",
    "threshold = 2\n",
    "\n",
    "if abs(Sp1_temp - sp1temp_setpoint) > threshold or abs(sp2_temp - sp2temp_setpoint) > threshold:\n",
    "    FROM = \"sandeep.chowdhury@in.bosch.com\"\n",
    "    TO = \"sandeep.chowdhury@in.bosch.com\"\n",
    "\n",
    "    SUBJECT = \"!! ALERT SPINDLE TEMP DZ9 !!\"\n",
    "    TEXT = f'Spindle Temp1 range: 25 to 27\\nSpindle Temp1 range = 29 to 32\\n\\n\\nLive Spindle 1 temperature: {Sp1_temp}\\nLive Spindle 2 temperature: {sp2_temp}'\n",
    "\n",
    "    message = 'Subject: {}\\n\\n{}'.format(SUBJECT, TEXT)\n",
    "\n",
    "    server = smtplib.SMTP('rb-smtp-int.bosch.com')\n",
    "    server.sendmail(FROM, TO, message)\n",
    "    server.quit()\n",
    "else:\n",
    "    pass\n",
    "\n",
    "    \n",
    "cursor.close()\n",
    "conn.close()\n"
   ]
  },
  {
   "cell_type": "code",
   "execution_count": null,
   "id": "dc2a829d",
   "metadata": {},
   "outputs": [],
   "source": []
  },
  {
   "cell_type": "code",
   "execution_count": null,
   "id": "c1b0edb8",
   "metadata": {},
   "outputs": [],
   "source": []
  },
  {
   "cell_type": "code",
   "execution_count": null,
   "id": "11978782",
   "metadata": {},
   "outputs": [],
   "source": []
  },
  {
   "cell_type": "markdown",
   "id": "2b755b18",
   "metadata": {},
   "source": [
    "### Testing overall code with repeation condition"
   ]
  },
  {
   "cell_type": "code",
   "execution_count": 1,
   "id": "39cbab0f",
   "metadata": {},
   "outputs": [
    {
     "name": "stdout",
     "output_type": "stream",
     "text": [
      "Enter the pasttime in minutes: 10\n",
      "Live Spindle 1 temperature: 29\n"
     ]
    },
    {
     "ename": "NameError",
     "evalue": "name 'sp2_temp' is not defined",
     "output_type": "error",
     "traceback": [
      "\u001b[1;31m---------------------------------------------------------------------------\u001b[0m",
      "\u001b[1;31mNameError\u001b[0m                                 Traceback (most recent call last)",
      "\u001b[1;32m~\\AppData\\Local\\Temp/ipykernel_24860/1265184093.py\u001b[0m in \u001b[0;36m<module>\u001b[1;34m\u001b[0m\n\u001b[0;32m     45\u001b[0m \u001b[1;33m\u001b[0m\u001b[0m\n\u001b[0;32m     46\u001b[0m \u001b[1;32mwhile\u001b[0m \u001b[1;32mTrue\u001b[0m\u001b[1;33m:\u001b[0m\u001b[1;33m\u001b[0m\u001b[1;33m\u001b[0m\u001b[0m\n\u001b[1;32m---> 47\u001b[1;33m     \u001b[0mlive_data\u001b[0m \u001b[1;33m=\u001b[0m \u001b[0mfetch_live_data\u001b[0m\u001b[1;33m(\u001b[0m\u001b[1;33m)\u001b[0m\u001b[1;33m\u001b[0m\u001b[1;33m\u001b[0m\u001b[0m\n\u001b[0m\u001b[0;32m     48\u001b[0m \u001b[1;33m\u001b[0m\u001b[0m\n\u001b[0;32m     49\u001b[0m     \u001b[0msp1temp_setpoint\u001b[0m \u001b[1;33m=\u001b[0m \u001b[1;36m26\u001b[0m\u001b[1;33m\u001b[0m\u001b[1;33m\u001b[0m\u001b[0m\n",
      "\u001b[1;32m~\\AppData\\Local\\Temp/ipykernel_24860/1265184093.py\u001b[0m in \u001b[0;36mfetch_live_data\u001b[1;34m()\u001b[0m\n\u001b[0;32m     34\u001b[0m         \u001b[0mSp2_temp\u001b[0m \u001b[1;33m=\u001b[0m \u001b[0mrow\u001b[0m\u001b[1;33m[\u001b[0m\u001b[1;36m1\u001b[0m\u001b[1;33m]\u001b[0m\u001b[1;33m\u001b[0m\u001b[1;33m\u001b[0m\u001b[0m\n\u001b[0;32m     35\u001b[0m         \u001b[0mprint\u001b[0m\u001b[1;33m(\u001b[0m\u001b[1;34mf\"Live Spindle 1 temperature: {Sp1_temp}\"\u001b[0m\u001b[1;33m)\u001b[0m\u001b[1;33m\u001b[0m\u001b[1;33m\u001b[0m\u001b[0m\n\u001b[1;32m---> 36\u001b[1;33m         \u001b[0mprint\u001b[0m\u001b[1;33m(\u001b[0m\u001b[1;34mf\"Live Spindle 2 Temperature: {sp2_temp}\"\u001b[0m\u001b[1;33m)\u001b[0m\u001b[1;33m\u001b[0m\u001b[1;33m\u001b[0m\u001b[0m\n\u001b[0m\u001b[0;32m     37\u001b[0m     \u001b[1;32melse\u001b[0m\u001b[1;33m:\u001b[0m\u001b[1;33m\u001b[0m\u001b[1;33m\u001b[0m\u001b[0m\n\u001b[0;32m     38\u001b[0m         \u001b[0mprint\u001b[0m\u001b[1;33m(\u001b[0m\u001b[1;34m\"No data found\"\u001b[0m\u001b[1;33m)\u001b[0m\u001b[1;33m\u001b[0m\u001b[1;33m\u001b[0m\u001b[0m\n",
      "\u001b[1;31mNameError\u001b[0m: name 'sp2_temp' is not defined"
     ]
    }
   ],
   "source": [
    "import time\n",
    "import pyodbc\n",
    "import datetime \n",
    "import smtplib\n",
    "\n",
    "def fetch_live_data():\n",
    "    conn = pyodbc.connect(\"Driver={SQL Server Native Client 11.0};\"\n",
    "                        \"Server=na0vm00024.apac.bosch.com;\"\n",
    "                        \"Database=DB_MFC2DB_SQL;\"\n",
    "                        \"Trusted_Connection=yes;\")\n",
    "\n",
    "    cursor = conn.cursor()\n",
    "\n",
    "    current_time = datetime.datetime.now()\n",
    "\n",
    "    user_time = int(input(\"Enter the pasttime in minutes: \"))\n",
    "    user_time = user_time*60\n",
    "\n",
    "    past_time = current_time - datetime.timedelta(seconds=user_time)\n",
    "\n",
    "    current_time = current_time.strftime(\"%Y-%m-%dT%H:%M:%S\")\n",
    "    past_time = past_time.strftime(\"%Y-%m-%dT%H:%M:%S\")\n",
    "\n",
    "    sql_query = f\"SELECT [SP1TEMP] ,[SP2TEMP],[TimeStamp] FROM [ChironDZ9_1] WHERE Timestamp BETWEEN '{past_time}' AND '{current_time}' ORDER BY 'TimeStamp'\"\n",
    "    # sql_query = f\"SELECT [SP1TEMP] ,[SP2TEMP],[TimeStamp] FROM [ChironDZ9_1] WHERE Timestamp BETWEEN '2023-09-21T00:00:47' AND '2023-09-22T11:59:58' ORDER BY 'TimeStamp'\"\n",
    "\n",
    "    cursor.execute(sql_query)\n",
    "\n",
    "    row = cursor.fetchone()\n",
    "\n",
    "\n",
    "    if row:\n",
    "        Sp1_temp = row[0]\n",
    "        Sp2_temp = row[1]\n",
    "        print(f\"Live Spindle 1 temperature: {Sp1_temp}\")\n",
    "        print(f\"Live Spindle 2 Temperature: {sp2_temp}\")\n",
    "    else:\n",
    "        print(\"No data found\")\n",
    "        \n",
    "        cursor.close()\n",
    "        conn.close()\n",
    "    \n",
    "    return Sp1_temp, Sp2_temp    \n",
    "\n",
    "    \n",
    "while True:\n",
    "    live_data = fetch_live_data()\n",
    "    \n",
    "    sp1temp_setpoint = 26\n",
    "    sp2temp_setpoint = 30\n",
    "\n",
    "    threshold = 2\n",
    "    \n",
    "    if abs(Sp1_temp - sp1temp_setpoint) > threshold or abs(sp2_temp - sp2temp_setpoint) > threshold:\n",
    "        FROM = \"sandeep.chowdhury@in.bosch.com\"\n",
    "        TO = \"sandeep.chowdhury@in.bosch.com\"\n",
    "\n",
    "        SUBJECT = \"!! ALERT SPINDLE TEMP DZ9 !!\"\n",
    "        TEXT = f'Spindle Temp1 range: 25 to 27\\nSpindle Temp1 range = 29 to 32\\n\\n\\nLive Spindle 1 temperature: {Sp1_temp}\\nLive Spindle 2 temperature: {sp2_temp}'\n",
    "\n",
    "        message = 'Subject: {}\\n\\n{}'.format(SUBJECT, TEXT)\n",
    "\n",
    "        server = smtplib.SMTP('rb-smtp-int.bosch.com')\n",
    "        server.sendmail(FROM, TO, message)\n",
    "        server.quit()\n",
    "    else:\n",
    "        pass\n",
    "\n",
    "    time.sleep(30) "
   ]
  },
  {
   "cell_type": "code",
   "execution_count": null,
   "id": "d95bac49",
   "metadata": {},
   "outputs": [],
   "source": []
  },
  {
   "cell_type": "code",
   "execution_count": null,
   "id": "9c593fd8",
   "metadata": {},
   "outputs": [],
   "source": []
  },
  {
   "cell_type": "markdown",
   "id": "a7ad36f2",
   "metadata": {},
   "source": [
    "### Forecasting"
   ]
  },
  {
   "cell_type": "code",
   "execution_count": 304,
   "id": "a2a27db5",
   "metadata": {},
   "outputs": [],
   "source": [
    "train_data = df.iloc[:151]\n",
    "test_data = df.iloc[150:]"
   ]
  },
  {
   "cell_type": "code",
   "execution_count": 305,
   "id": "0b84502a",
   "metadata": {},
   "outputs": [
    {
     "data": {
      "text/html": [
       "<div>\n",
       "<style scoped>\n",
       "    .dataframe tbody tr th:only-of-type {\n",
       "        vertical-align: middle;\n",
       "    }\n",
       "\n",
       "    .dataframe tbody tr th {\n",
       "        vertical-align: top;\n",
       "    }\n",
       "\n",
       "    .dataframe thead th {\n",
       "        text-align: right;\n",
       "    }\n",
       "</style>\n",
       "<table border=\"1\" class=\"dataframe\">\n",
       "  <thead>\n",
       "    <tr style=\"text-align: right;\">\n",
       "      <th></th>\n",
       "      <th>SP1TEMP</th>\n",
       "    </tr>\n",
       "    <tr>\n",
       "      <th>TimeStamp</th>\n",
       "      <th></th>\n",
       "    </tr>\n",
       "  </thead>\n",
       "  <tbody>\n",
       "    <tr>\n",
       "      <th>2023-09-21 17:02:48.983</th>\n",
       "      <td>51</td>\n",
       "    </tr>\n",
       "    <tr>\n",
       "      <th>2023-09-21 17:02:49.983</th>\n",
       "      <td>51</td>\n",
       "    </tr>\n",
       "    <tr>\n",
       "      <th>2023-09-21 17:02:50.983</th>\n",
       "      <td>52</td>\n",
       "    </tr>\n",
       "    <tr>\n",
       "      <th>2023-09-21 17:02:51.983</th>\n",
       "      <td>52</td>\n",
       "    </tr>\n",
       "    <tr>\n",
       "      <th>2023-09-21 17:02:52.983</th>\n",
       "      <td>53</td>\n",
       "    </tr>\n",
       "    <tr>\n",
       "      <th>...</th>\n",
       "      <td>...</td>\n",
       "    </tr>\n",
       "    <tr>\n",
       "      <th>2023-09-21 17:05:15.003</th>\n",
       "      <td>52</td>\n",
       "    </tr>\n",
       "    <tr>\n",
       "      <th>2023-09-21 17:05:16.003</th>\n",
       "      <td>52</td>\n",
       "    </tr>\n",
       "    <tr>\n",
       "      <th>2023-09-21 17:05:17.003</th>\n",
       "      <td>52</td>\n",
       "    </tr>\n",
       "    <tr>\n",
       "      <th>2023-09-21 17:05:18.003</th>\n",
       "      <td>52</td>\n",
       "    </tr>\n",
       "    <tr>\n",
       "      <th>2023-09-21 17:05:19.003</th>\n",
       "      <td>53</td>\n",
       "    </tr>\n",
       "  </tbody>\n",
       "</table>\n",
       "<p>151 rows × 1 columns</p>\n",
       "</div>"
      ],
      "text/plain": [
       "                         SP1TEMP\n",
       "TimeStamp                       \n",
       "2023-09-21 17:02:48.983       51\n",
       "2023-09-21 17:02:49.983       51\n",
       "2023-09-21 17:02:50.983       52\n",
       "2023-09-21 17:02:51.983       52\n",
       "2023-09-21 17:02:52.983       53\n",
       "...                          ...\n",
       "2023-09-21 17:05:15.003       52\n",
       "2023-09-21 17:05:16.003       52\n",
       "2023-09-21 17:05:17.003       52\n",
       "2023-09-21 17:05:18.003       52\n",
       "2023-09-21 17:05:19.003       53\n",
       "\n",
       "[151 rows x 1 columns]"
      ]
     },
     "execution_count": 305,
     "metadata": {},
     "output_type": "execute_result"
    }
   ],
   "source": [
    "train_data"
   ]
  },
  {
   "cell_type": "code",
   "execution_count": 306,
   "id": "b3e54322",
   "metadata": {},
   "outputs": [
    {
     "data": {
      "text/html": [
       "<div>\n",
       "<style scoped>\n",
       "    .dataframe tbody tr th:only-of-type {\n",
       "        vertical-align: middle;\n",
       "    }\n",
       "\n",
       "    .dataframe tbody tr th {\n",
       "        vertical-align: top;\n",
       "    }\n",
       "\n",
       "    .dataframe thead th {\n",
       "        text-align: right;\n",
       "    }\n",
       "</style>\n",
       "<table border=\"1\" class=\"dataframe\">\n",
       "  <thead>\n",
       "    <tr style=\"text-align: right;\">\n",
       "      <th></th>\n",
       "      <th>SP1TEMP</th>\n",
       "    </tr>\n",
       "    <tr>\n",
       "      <th>TimeStamp</th>\n",
       "      <th></th>\n",
       "    </tr>\n",
       "  </thead>\n",
       "  <tbody>\n",
       "    <tr>\n",
       "      <th>2023-09-21 17:05:19.003</th>\n",
       "      <td>53</td>\n",
       "    </tr>\n",
       "    <tr>\n",
       "      <th>2023-09-21 17:05:20.003</th>\n",
       "      <td>53</td>\n",
       "    </tr>\n",
       "    <tr>\n",
       "      <th>2023-09-21 17:05:21.003</th>\n",
       "      <td>51</td>\n",
       "    </tr>\n",
       "    <tr>\n",
       "      <th>2023-09-21 17:05:22.003</th>\n",
       "      <td>51</td>\n",
       "    </tr>\n",
       "    <tr>\n",
       "      <th>2023-09-21 17:05:23.003</th>\n",
       "      <td>53</td>\n",
       "    </tr>\n",
       "    <tr>\n",
       "      <th>...</th>\n",
       "      <td>...</td>\n",
       "    </tr>\n",
       "    <tr>\n",
       "      <th>2023-09-21 17:12:43.097</th>\n",
       "      <td>51</td>\n",
       "    </tr>\n",
       "    <tr>\n",
       "      <th>2023-09-21 17:12:44.097</th>\n",
       "      <td>52</td>\n",
       "    </tr>\n",
       "    <tr>\n",
       "      <th>2023-09-21 17:12:45.097</th>\n",
       "      <td>52</td>\n",
       "    </tr>\n",
       "    <tr>\n",
       "      <th>2023-09-21 17:12:46.097</th>\n",
       "      <td>50</td>\n",
       "    </tr>\n",
       "    <tr>\n",
       "      <th>2023-09-21 17:12:47.097</th>\n",
       "      <td>50</td>\n",
       "    </tr>\n",
       "  </tbody>\n",
       "</table>\n",
       "<p>449 rows × 1 columns</p>\n",
       "</div>"
      ],
      "text/plain": [
       "                         SP1TEMP\n",
       "TimeStamp                       \n",
       "2023-09-21 17:05:19.003       53\n",
       "2023-09-21 17:05:20.003       53\n",
       "2023-09-21 17:05:21.003       51\n",
       "2023-09-21 17:05:22.003       51\n",
       "2023-09-21 17:05:23.003       53\n",
       "...                          ...\n",
       "2023-09-21 17:12:43.097       51\n",
       "2023-09-21 17:12:44.097       52\n",
       "2023-09-21 17:12:45.097       52\n",
       "2023-09-21 17:12:46.097       50\n",
       "2023-09-21 17:12:47.097       50\n",
       "\n",
       "[449 rows x 1 columns]"
      ]
     },
     "execution_count": 306,
     "metadata": {},
     "output_type": "execute_result"
    }
   ],
   "source": [
    "test_data"
   ]
  },
  {
   "cell_type": "code",
   "execution_count": 307,
   "id": "6bd8b2eb",
   "metadata": {},
   "outputs": [],
   "source": [
    "from statsmodels.tsa.holtwinters import ExponentialSmoothing"
   ]
  },
  {
   "cell_type": "code",
   "execution_count": 308,
   "id": "f669e231",
   "metadata": {},
   "outputs": [
    {
     "name": "stdout",
     "output_type": "stream",
     "text": [
      "<statsmodels.tsa.holtwinters.results.HoltWintersResultsWrapper object at 0x000001ECE9309520>\n"
     ]
    }
   ],
   "source": [
    "fitted_model = ExponentialSmoothing(train_data['SP1TEMP'], trend ='mul', seasonal='mul', seasonal_periods=12).fit()\n",
    "print(fitted_model)"
   ]
  },
  {
   "cell_type": "code",
   "execution_count": 309,
   "id": "ff64a812",
   "metadata": {},
   "outputs": [],
   "source": [
    "test_predictions = fitted_model.forecast(36)"
   ]
  },
  {
   "cell_type": "code",
   "execution_count": 310,
   "id": "72973acd",
   "metadata": {},
   "outputs": [
    {
     "data": {
      "text/plain": [
       "RangeIndex(start=0, stop=1, step=1)"
      ]
     },
     "execution_count": 310,
     "metadata": {},
     "output_type": "execute_result"
    }
   ],
   "source": [
    "test_predictions = pd.DataFrame(test_predictions)\n",
    "test_predictions.columns"
   ]
  },
  {
   "cell_type": "code",
   "execution_count": null,
   "id": "f3417397",
   "metadata": {},
   "outputs": [],
   "source": []
  },
  {
   "cell_type": "code",
   "execution_count": 311,
   "id": "aab5c3f6",
   "metadata": {},
   "outputs": [
    {
     "data": {
      "text/plain": [
       "<Axes: xlabel='TimeStamp'>"
      ]
     },
     "execution_count": 311,
     "metadata": {},
     "output_type": "execute_result"
    },
    {
     "data": {
      "image/png": "[encoded data removed]",
      "text/plain": [
       "<Figure size 864x576 with 1 Axes>"
      ]
     },
     "metadata": {
      "needs_background": "light"
     },
     "output_type": "display_data"
    }
   ],
   "source": [
    "df['SP1TEMP'].plot(figsize=(12,8))\n",
    "forecast_predictions.plot()"
   ]
  },
  {
   "cell_type": "code",
   "execution_count": null,
   "id": "b68b5284",
   "metadata": {},
   "outputs": [],
   "source": []
  },
  {
   "cell_type": "code",
   "execution_count": null,
   "id": "94b3f23b",
   "metadata": {},
   "outputs": [],
   "source": []
  },
  {
   "cell_type": "code",
   "execution_count": null,
   "id": "eec76504",
   "metadata": {},
   "outputs": [],
   "source": []
  },
  {
   "cell_type": "code",
   "execution_count": null,
   "id": "6cd35cb6",
   "metadata": {},
   "outputs": [],
   "source": []
  },
  {
   "cell_type": "markdown",
   "id": "c93059f2",
   "metadata": {},
   "source": [
    "## SQL call with Sleep function"
   ]
  },
  {
   "cell_type": "code",
   "execution_count": null,
   "id": "384dabf3",
   "metadata": {},
   "outputs": [],
   "source": [
    "import datetime  \n",
    "current_time = datetime.datetime.now()\n",
    "\n",
    "user_time = int(input(\"Enter the pasttime in minutes: \"))\n",
    "user_time = user_time*60\n",
    "\n",
    "past_time = current_time - datetime.timedelta(seconds=user_time)\n",
    "  \n",
    "current_time = current_time.strftime(\"%Y-%m-%dT%H:%M:%S\")\n",
    "past_time = past_time.strftime(\"%Y-%m-%dT%H:%M:%S\")\n",
    "\n",
    "\n",
    "# param1 = str(input(\"Enter the Parameter: \"))\n",
    "# sql = f\"SELECT [SP1TEMP],[TimeStamp] FROM [ChironDZ9_1] WHERE Timestamp BETWEEN '{past_time}' AND '{current_time}' ORDER BY 'TimeStamp'\"\n",
    "sql = f\"SELECT [SP1TEMP] ,[SP2TEMP],[TimeStamp] FROM [ChironDZ9_1] WHERE Timestamp BETWEEN '{past_time}' AND '{current_time}' ORDER BY 'TimeStamp'\"\n",
    "\n",
    "# sql = f\"SELECT [{param1}] FROM [ChironDZ9_1] WHERE Timestamp BETWEEN '{past_time}' AND '{current_time}' ORDER BY 'TimeStamp'\"\n",
    "\n",
    "df = pd.read_sql_query(sql, cnxn, index_col=\"TimeStamp\", parse_dates=True)\n",
    "# df.head()\n",
    "\n",
    "df.plot(figsize=(20,10))\n",
    "\n",
    "\n",
    "# importing time module\n",
    "import time\n",
    "\n",
    "\n",
    "def message(string):\n",
    "\n",
    "    for i in string:\n",
    "        print(i, end=\"\")\n",
    "        time.sleep(.5)\n",
    "\n",
    "\n",
    "# main function\n",
    "if __name__ == '__main__':\n",
    "    msg = \"hello wold\"\n",
    "    message(msg)"
   ]
  },
  {
   "cell_type": "code",
   "execution_count": null,
   "id": "7514e511",
   "metadata": {},
   "outputs": [],
   "source": []
  },
  {
   "cell_type": "code",
   "execution_count": null,
   "id": "f93a1a8e",
   "metadata": {},
   "outputs": [],
   "source": []
  },
  {
   "cell_type": "markdown",
   "id": "29a9509c",
   "metadata": {},
   "source": [
    "### Mailer test"
   ]
  },
  {
   "cell_type": "code",
   "execution_count": 8,
   "id": "ff5d6f07",
   "metadata": {},
   "outputs": [
    {
     "ename": "gaierror",
     "evalue": "[Errno 11001] getaddrinfo failed",
     "output_type": "error",
     "traceback": [
      "\u001b[1;31m---------------------------------------------------------------------------\u001b[0m",
      "\u001b[1;31mgaierror\u001b[0m                                  Traceback (most recent call last)",
      "\u001b[1;32m~\\AppData\\Local\\Temp/ipykernel_24860/2377166206.py\u001b[0m in \u001b[0;36m<module>\u001b[1;34m\u001b[0m\n\u001b[0;32m     20\u001b[0m \u001b[1;33m\u001b[0m\u001b[0m\n\u001b[0;32m     21\u001b[0m \u001b[1;31m#     server = smtplib.SMTP('rb-smtp-int.bosch.com')\u001b[0m\u001b[1;33m\u001b[0m\u001b[1;33m\u001b[0m\u001b[0m\n\u001b[1;32m---> 22\u001b[1;33m     \u001b[0mserver\u001b[0m \u001b[1;33m=\u001b[0m \u001b[0msmtplib\u001b[0m\u001b[1;33m.\u001b[0m\u001b[0mSMTP\u001b[0m\u001b[1;33m(\u001b[0m\u001b[1;34m'rb-smtp-int.bosch.com'\u001b[0m\u001b[1;33m)\u001b[0m\u001b[1;33m\u001b[0m\u001b[1;33m\u001b[0m\u001b[0m\n\u001b[0m\u001b[0;32m     23\u001b[0m     \u001b[0mserver\u001b[0m\u001b[1;33m.\u001b[0m\u001b[0msendmail\u001b[0m\u001b[1;33m(\u001b[0m\u001b[0mFROM\u001b[0m\u001b[1;33m,\u001b[0m \u001b[0mTO\u001b[0m\u001b[1;33m,\u001b[0m \u001b[0mmessage\u001b[0m\u001b[1;33m)\u001b[0m\u001b[1;33m\u001b[0m\u001b[1;33m\u001b[0m\u001b[0m\n\u001b[0;32m     24\u001b[0m     \u001b[0mserver\u001b[0m\u001b[1;33m.\u001b[0m\u001b[0mquit\u001b[0m\u001b[1;33m(\u001b[0m\u001b[1;33m)\u001b[0m\u001b[1;33m\u001b[0m\u001b[1;33m\u001b[0m\u001b[0m\n",
      "\u001b[1;32mC:\\Program Files\\Anaconda3\\lib\\smtplib.py\u001b[0m in \u001b[0;36m__init__\u001b[1;34m(self, host, port, local_hostname, timeout, source_address)\u001b[0m\n\u001b[0;32m    253\u001b[0m \u001b[1;33m\u001b[0m\u001b[0m\n\u001b[0;32m    254\u001b[0m         \u001b[1;32mif\u001b[0m \u001b[0mhost\u001b[0m\u001b[1;33m:\u001b[0m\u001b[1;33m\u001b[0m\u001b[1;33m\u001b[0m\u001b[0m\n\u001b[1;32m--> 255\u001b[1;33m             \u001b[1;33m(\u001b[0m\u001b[0mcode\u001b[0m\u001b[1;33m,\u001b[0m \u001b[0mmsg\u001b[0m\u001b[1;33m)\u001b[0m \u001b[1;33m=\u001b[0m \u001b[0mself\u001b[0m\u001b[1;33m.\u001b[0m\u001b[0mconnect\u001b[0m\u001b[1;33m(\u001b[0m\u001b[0mhost\u001b[0m\u001b[1;33m,\u001b[0m \u001b[0mport\u001b[0m\u001b[1;33m)\u001b[0m\u001b[1;33m\u001b[0m\u001b[1;33m\u001b[0m\u001b[0m\n\u001b[0m\u001b[0;32m    256\u001b[0m             \u001b[1;32mif\u001b[0m \u001b[0mcode\u001b[0m \u001b[1;33m!=\u001b[0m \u001b[1;36m220\u001b[0m\u001b[1;33m:\u001b[0m\u001b[1;33m\u001b[0m\u001b[1;33m\u001b[0m\u001b[0m\n\u001b[0;32m    257\u001b[0m                 \u001b[0mself\u001b[0m\u001b[1;33m.\u001b[0m\u001b[0mclose\u001b[0m\u001b[1;33m(\u001b[0m\u001b[1;33m)\u001b[0m\u001b[1;33m\u001b[0m\u001b[1;33m\u001b[0m\u001b[0m\n",
      "\u001b[1;32mC:\\Program Files\\Anaconda3\\lib\\smtplib.py\u001b[0m in \u001b[0;36mconnect\u001b[1;34m(self, host, port, source_address)\u001b[0m\n\u001b[0;32m    339\u001b[0m             \u001b[0mport\u001b[0m \u001b[1;33m=\u001b[0m \u001b[0mself\u001b[0m\u001b[1;33m.\u001b[0m\u001b[0mdefault_port\u001b[0m\u001b[1;33m\u001b[0m\u001b[1;33m\u001b[0m\u001b[0m\n\u001b[0;32m    340\u001b[0m         \u001b[0msys\u001b[0m\u001b[1;33m.\u001b[0m\u001b[0maudit\u001b[0m\u001b[1;33m(\u001b[0m\u001b[1;34m\"smtplib.connect\"\u001b[0m\u001b[1;33m,\u001b[0m \u001b[0mself\u001b[0m\u001b[1;33m,\u001b[0m \u001b[0mhost\u001b[0m\u001b[1;33m,\u001b[0m \u001b[0mport\u001b[0m\u001b[1;33m)\u001b[0m\u001b[1;33m\u001b[0m\u001b[1;33m\u001b[0m\u001b[0m\n\u001b[1;32m--> 341\u001b[1;33m         \u001b[0mself\u001b[0m\u001b[1;33m.\u001b[0m\u001b[0msock\u001b[0m \u001b[1;33m=\u001b[0m \u001b[0mself\u001b[0m\u001b[1;33m.\u001b[0m\u001b[0m_get_socket\u001b[0m\u001b[1;33m(\u001b[0m\u001b[0mhost\u001b[0m\u001b[1;33m,\u001b[0m \u001b[0mport\u001b[0m\u001b[1;33m,\u001b[0m \u001b[0mself\u001b[0m\u001b[1;33m.\u001b[0m\u001b[0mtimeout\u001b[0m\u001b[1;33m)\u001b[0m\u001b[1;33m\u001b[0m\u001b[1;33m\u001b[0m\u001b[0m\n\u001b[0m\u001b[0;32m    342\u001b[0m         \u001b[0mself\u001b[0m\u001b[1;33m.\u001b[0m\u001b[0mfile\u001b[0m \u001b[1;33m=\u001b[0m \u001b[1;32mNone\u001b[0m\u001b[1;33m\u001b[0m\u001b[1;33m\u001b[0m\u001b[0m\n\u001b[0;32m    343\u001b[0m         \u001b[1;33m(\u001b[0m\u001b[0mcode\u001b[0m\u001b[1;33m,\u001b[0m \u001b[0mmsg\u001b[0m\u001b[1;33m)\u001b[0m \u001b[1;33m=\u001b[0m \u001b[0mself\u001b[0m\u001b[1;33m.\u001b[0m\u001b[0mgetreply\u001b[0m\u001b[1;33m(\u001b[0m\u001b[1;33m)\u001b[0m\u001b[1;33m\u001b[0m\u001b[1;33m\u001b[0m\u001b[0m\n",
      "\u001b[1;32mC:\\Program Files\\Anaconda3\\lib\\smtplib.py\u001b[0m in \u001b[0;36m_get_socket\u001b[1;34m(self, host, port, timeout)\u001b[0m\n\u001b[0;32m    310\u001b[0m         \u001b[1;32mif\u001b[0m \u001b[0mself\u001b[0m\u001b[1;33m.\u001b[0m\u001b[0mdebuglevel\u001b[0m \u001b[1;33m>\u001b[0m \u001b[1;36m0\u001b[0m\u001b[1;33m:\u001b[0m\u001b[1;33m\u001b[0m\u001b[1;33m\u001b[0m\u001b[0m\n\u001b[0;32m    311\u001b[0m             \u001b[0mself\u001b[0m\u001b[1;33m.\u001b[0m\u001b[0m_print_debug\u001b[0m\u001b[1;33m(\u001b[0m\u001b[1;34m'connect: to'\u001b[0m\u001b[1;33m,\u001b[0m \u001b[1;33m(\u001b[0m\u001b[0mhost\u001b[0m\u001b[1;33m,\u001b[0m \u001b[0mport\u001b[0m\u001b[1;33m)\u001b[0m\u001b[1;33m,\u001b[0m \u001b[0mself\u001b[0m\u001b[1;33m.\u001b[0m\u001b[0msource_address\u001b[0m\u001b[1;33m)\u001b[0m\u001b[1;33m\u001b[0m\u001b[1;33m\u001b[0m\u001b[0m\n\u001b[1;32m--> 312\u001b[1;33m         return socket.create_connection((host, port), timeout,\n\u001b[0m\u001b[0;32m    313\u001b[0m                                         self.source_address)\n\u001b[0;32m    314\u001b[0m \u001b[1;33m\u001b[0m\u001b[0m\n",
      "\u001b[1;32mC:\\Program Files\\Anaconda3\\lib\\socket.py\u001b[0m in \u001b[0;36mcreate_connection\u001b[1;34m(address, timeout, source_address)\u001b[0m\n\u001b[0;32m    821\u001b[0m     \u001b[0mhost\u001b[0m\u001b[1;33m,\u001b[0m \u001b[0mport\u001b[0m \u001b[1;33m=\u001b[0m \u001b[0maddress\u001b[0m\u001b[1;33m\u001b[0m\u001b[1;33m\u001b[0m\u001b[0m\n\u001b[0;32m    822\u001b[0m     \u001b[0merr\u001b[0m \u001b[1;33m=\u001b[0m \u001b[1;32mNone\u001b[0m\u001b[1;33m\u001b[0m\u001b[1;33m\u001b[0m\u001b[0m\n\u001b[1;32m--> 823\u001b[1;33m     \u001b[1;32mfor\u001b[0m \u001b[0mres\u001b[0m \u001b[1;32min\u001b[0m \u001b[0mgetaddrinfo\u001b[0m\u001b[1;33m(\u001b[0m\u001b[0mhost\u001b[0m\u001b[1;33m,\u001b[0m \u001b[0mport\u001b[0m\u001b[1;33m,\u001b[0m \u001b[1;36m0\u001b[0m\u001b[1;33m,\u001b[0m \u001b[0mSOCK_STREAM\u001b[0m\u001b[1;33m)\u001b[0m\u001b[1;33m:\u001b[0m\u001b[1;33m\u001b[0m\u001b[1;33m\u001b[0m\u001b[0m\n\u001b[0m\u001b[0;32m    824\u001b[0m         \u001b[0maf\u001b[0m\u001b[1;33m,\u001b[0m \u001b[0msocktype\u001b[0m\u001b[1;33m,\u001b[0m \u001b[0mproto\u001b[0m\u001b[1;33m,\u001b[0m \u001b[0mcanonname\u001b[0m\u001b[1;33m,\u001b[0m \u001b[0msa\u001b[0m \u001b[1;33m=\u001b[0m \u001b[0mres\u001b[0m\u001b[1;33m\u001b[0m\u001b[1;33m\u001b[0m\u001b[0m\n\u001b[0;32m    825\u001b[0m         \u001b[0msock\u001b[0m \u001b[1;33m=\u001b[0m \u001b[1;32mNone\u001b[0m\u001b[1;33m\u001b[0m\u001b[1;33m\u001b[0m\u001b[0m\n",
      "\u001b[1;32mC:\\Program Files\\Anaconda3\\lib\\socket.py\u001b[0m in \u001b[0;36mgetaddrinfo\u001b[1;34m(host, port, family, type, proto, flags)\u001b[0m\n\u001b[0;32m    952\u001b[0m     \u001b[1;31m# and socket type values to enum constants.\u001b[0m\u001b[1;33m\u001b[0m\u001b[1;33m\u001b[0m\u001b[0m\n\u001b[0;32m    953\u001b[0m     \u001b[0maddrlist\u001b[0m \u001b[1;33m=\u001b[0m \u001b[1;33m[\u001b[0m\u001b[1;33m]\u001b[0m\u001b[1;33m\u001b[0m\u001b[1;33m\u001b[0m\u001b[0m\n\u001b[1;32m--> 954\u001b[1;33m     \u001b[1;32mfor\u001b[0m \u001b[0mres\u001b[0m \u001b[1;32min\u001b[0m \u001b[0m_socket\u001b[0m\u001b[1;33m.\u001b[0m\u001b[0mgetaddrinfo\u001b[0m\u001b[1;33m(\u001b[0m\u001b[0mhost\u001b[0m\u001b[1;33m,\u001b[0m \u001b[0mport\u001b[0m\u001b[1;33m,\u001b[0m \u001b[0mfamily\u001b[0m\u001b[1;33m,\u001b[0m \u001b[0mtype\u001b[0m\u001b[1;33m,\u001b[0m \u001b[0mproto\u001b[0m\u001b[1;33m,\u001b[0m \u001b[0mflags\u001b[0m\u001b[1;33m)\u001b[0m\u001b[1;33m:\u001b[0m\u001b[1;33m\u001b[0m\u001b[1;33m\u001b[0m\u001b[0m\n\u001b[0m\u001b[0;32m    955\u001b[0m         \u001b[0maf\u001b[0m\u001b[1;33m,\u001b[0m \u001b[0msocktype\u001b[0m\u001b[1;33m,\u001b[0m \u001b[0mproto\u001b[0m\u001b[1;33m,\u001b[0m \u001b[0mcanonname\u001b[0m\u001b[1;33m,\u001b[0m \u001b[0msa\u001b[0m \u001b[1;33m=\u001b[0m \u001b[0mres\u001b[0m\u001b[1;33m\u001b[0m\u001b[1;33m\u001b[0m\u001b[0m\n\u001b[0;32m    956\u001b[0m         addrlist.append((_intenum_converter(af, AddressFamily),\n",
      "\u001b[1;31mgaierror\u001b[0m: [Errno 11001] getaddrinfo failed"
     ]
    }
   ],
   "source": [
    "import smtplib\n",
    "\n",
    "\n",
    "# Sp1_temp = 29\n",
    "# sp2_temp = 35\n",
    "\n",
    "# sp1temp_setpoint = 26\n",
    "# sp2temp_setpoint = 30\n",
    "\n",
    "threshold = 2\n",
    "\n",
    "if 2>1:\n",
    "    FROM = \"sandeep.chowdhury@in.bosch.com\"\n",
    "    TO = \"sandeep.chowdhury@in.bosch.com\"\n",
    "\n",
    "    SUBJECT = \"ALERT\"\n",
    "    TEXT = f'Sp1_temp is x and sp2_spindle temp is y'\n",
    "\n",
    "    message = 'Subject: {}\\n\\n{}'.format(SUBJECT, TEXT)\n",
    "\n",
    "#     server = smtplib.SMTP('rb-smtp-int.bosch.com')\n",
    "    server = smtplib.SMTP('rb-smtp-int.bosch.com')\n",
    "    server.sendmail(FROM, TO, message)\n",
    "    server.quit()\n",
    "else:\n",
    "    pass\n"
   ]
  },
  {
   "cell_type": "code",
   "execution_count": 26,
   "id": "a32da847",
   "metadata": {},
   "outputs": [],
   "source": [
    "import smtplib\n",
    "from smtplib import SMTP\n",
    "debuglevel=0\n",
    "\n",
    "FROM = \"chs9na@bosch.com\"\n",
    "TO = \"chs9na@bosch.com\"\n",
    "PASSWORD = \"********\"\n",
    "\n",
    "SUBJECT = \"TEST\"\n",
    "TEXT = f'test test test'\n",
    "\n",
    "message = 'Subject: {}\\n\\n{}'.format(SUBJECT, TEXT)\n",
    "\n",
    "try:\n",
    "    server = smtplib.SMTP('rb-smtp-auth.rbesz01.com', 25)\n",
    "    server.starttls() \n",
    "    server.login(FROM, PASSWORD)\n",
    "    server.sendmail(FROM, TO, message)\n",
    "    server.quit()\n",
    "except Exception as e:\n",
    "    print(e)"
   ]
  },
  {
   "cell_type": "code",
   "execution_count": null,
   "id": "a0112bcc",
   "metadata": {},
   "outputs": [],
   "source": []
  }
 ],
 "metadata": {
  "kernelspec": {
   "display_name": "Python 3 (ipykernel)",
   "language": "python",
   "name": "python3"
  },
  "language_info": {
   "codemirror_mode": {
    "name": "ipython",
    "version": 3
   },
   "file_extension": ".py",
   "mimetype": "text/x-python",
   "name": "python",
   "nbconvert_exporter": "python",
   "pygments_lexer": "ipython3",
   "version": "3.9.7"
  }
 },
 "nbformat": 4,
 "nbformat_minor": 5
}
