{
 "cells": [
  {
   "cell_type": "markdown",
   "id": "a5662117",
   "metadata": {},
   "source": [
    "# Python day -3"
   ]
  },
  {
   "cell_type": "markdown",
   "id": "3fa2c8c7",
   "metadata": {},
   "source": [
    "#### Agenda:\n",
    "- Comments\n",
    "- Multi line comment\n",
    "- Typecasting\n",
    "- Slicing (Revision)\n",
    "- fstring (revision)\n",
    "- print (Revision)\n",
    "- User input (Revision)"
   ]
  },
  {
   "cell_type": "markdown",
   "id": "df531230",
   "metadata": {},
   "source": [
    "### Comments"
   ]
  },
  {
   "cell_type": "code",
   "execution_count": 2,
   "id": "55ff18be",
   "metadata": {},
   "outputs": [
    {
     "name": "stdout",
     "output_type": "stream",
     "text": [
      "4\n"
     ]
    }
   ],
   "source": [
    "# addition \n",
    "\n",
    "print(2+2)  # printing the addition"
   ]
  },
  {
   "cell_type": "code",
   "execution_count": 3,
   "id": "c062be60",
   "metadata": {},
   "outputs": [],
   "source": [
    "# 2+2"
   ]
  },
  {
   "cell_type": "code",
   "execution_count": 4,
   "id": "1d637106",
   "metadata": {},
   "outputs": [
    {
     "data": {
      "text/plain": [
       "4"
      ]
     },
     "execution_count": 4,
     "metadata": {},
     "output_type": "execute_result"
    }
   ],
   "source": [
    "2+2"
   ]
  },
  {
   "cell_type": "code",
   "execution_count": 5,
   "id": "56a090ea",
   "metadata": {},
   "outputs": [
    {
     "name": "stdout",
     "output_type": "stream",
     "text": [
      "enter name: guglk\n"
     ]
    }
   ],
   "source": [
    "# input is used for user inputs\n",
    "name = input(\"enter name: \")"
   ]
  },
  {
   "cell_type": "code",
   "execution_count": 8,
   "id": "df71add7",
   "metadata": {},
   "outputs": [
    {
     "name": "stdout",
     "output_type": "stream",
     "text": [
      "aditya\n"
     ]
    },
    {
     "ename": "NameError",
     "evalue": "name 'name1' is not defined",
     "output_type": "error",
     "traceback": [
      "\u001b[1;31m---------------------------------------------------------------------------\u001b[0m",
      "\u001b[1;31mNameError\u001b[0m                                 Traceback (most recent call last)",
      "\u001b[1;32m~\\AppData\\Local\\Temp/ipykernel_23472/42610493.py\u001b[0m in \u001b[0;36m<module>\u001b[1;34m\u001b[0m\n\u001b[0;32m      2\u001b[0m \u001b[0mname2\u001b[0m\u001b[1;33m=\u001b[0m \u001b[1;34m\"aditya\"\u001b[0m\u001b[1;33m\u001b[0m\u001b[1;33m\u001b[0m\u001b[0m\n\u001b[0;32m      3\u001b[0m \u001b[0mprint\u001b[0m\u001b[1;33m(\u001b[0m\u001b[0mname2\u001b[0m\u001b[1;33m)\u001b[0m\u001b[1;33m\u001b[0m\u001b[1;33m\u001b[0m\u001b[0m\n\u001b[1;32m----> 4\u001b[1;33m \u001b[0mprint\u001b[0m\u001b[1;33m(\u001b[0m\u001b[0mname1\u001b[0m\u001b[1;33m+\u001b[0m\u001b[0mname2\u001b[0m\u001b[1;33m)\u001b[0m\u001b[1;33m\u001b[0m\u001b[1;33m\u001b[0m\u001b[0m\n\u001b[0m\u001b[0;32m      5\u001b[0m \u001b[1;31m# print(name2)\u001b[0m\u001b[1;33m\u001b[0m\u001b[1;33m\u001b[0m\u001b[0m\n",
      "\u001b[1;31mNameError\u001b[0m: name 'name1' is not defined"
     ]
    }
   ],
   "source": [
    "#name1 = \"sandeep\"\n",
    "name2= \"aditya\"\n",
    "print(name2)\n",
    "print(name1+name2)\n",
    "# print(name2)"
   ]
  },
  {
   "cell_type": "markdown",
   "id": "4f8fd379",
   "metadata": {},
   "source": [
    "### multiline comment"
   ]
  },
  {
   "cell_type": "code",
   "execution_count": 9,
   "id": "cb73c580",
   "metadata": {},
   "outputs": [
    {
     "name": "stdout",
     "output_type": "stream",
     "text": [
      "4\n"
     ]
    }
   ],
   "source": [
    "\"\"\"khjhvdiufvd ugfivdhf iudfd gfivdfivhdf\n",
    "gudfviudhfvidfv  kdfkvhdfvhdf\n",
    "kdfvudfvdhfivhdfhvod \"\"\"\n",
    "\n",
    "print(2+2)"
   ]
  },
  {
   "cell_type": "code",
   "execution_count": 10,
   "id": "96fb3887",
   "metadata": {},
   "outputs": [
    {
     "name": "stdout",
     "output_type": "stream",
     "text": [
      "khjhvdiufvd ugfivdhf iudfd gfivdfivhdf\n",
      "gudfviudhfvidfv  kdfkvhdfvhdf\n",
      "kdfvudfvdhfivhdfhvod \n"
     ]
    }
   ],
   "source": [
    "print(\"\"\"khjhvdiufvd ugfivdhf iudfd gfivdfivhdf\n",
    "gudfviudhfvidfv  kdfkvhdfvhdf\n",
    "kdfvudfvdhfivhdfhvod \"\"\")"
   ]
  },
  {
   "cell_type": "code",
   "execution_count": 11,
   "id": "98d23f0e",
   "metadata": {},
   "outputs": [],
   "source": [
    "# kjfvkdfvhdhvuhsif \n",
    "# ksvsvd\n",
    "# lknmfsgfodjgojfg"
   ]
  },
  {
   "cell_type": "code",
   "execution_count": 12,
   "id": "eb16437e",
   "metadata": {},
   "outputs": [
    {
     "name": "stdout",
     "output_type": "stream",
     "text": [
      "*\n",
      "**\n",
      "***\n",
      "****\n",
      "*****\n",
      "******\n"
     ]
    }
   ],
   "source": [
    "print(\"\"\"*\n",
    "**\n",
    "***\n",
    "****\n",
    "*****\n",
    "******\"\"\")"
   ]
  },
  {
   "cell_type": "markdown",
   "id": "fb60f4c8",
   "metadata": {},
   "source": [
    "### Typecasting"
   ]
  },
  {
   "cell_type": "code",
   "execution_count": 22,
   "id": "13236a43",
   "metadata": {},
   "outputs": [],
   "source": [
    "# characters cannot be typecasted"
   ]
  },
  {
   "cell_type": "code",
   "execution_count": 16,
   "id": "56f4bbd7",
   "metadata": {},
   "outputs": [
    {
     "name": "stdout",
     "output_type": "stream",
     "text": [
      "22\n"
     ]
    }
   ],
   "source": [
    "a = 22\n",
    "print(a)"
   ]
  },
  {
   "cell_type": "code",
   "execution_count": 14,
   "id": "690da7e2",
   "metadata": {},
   "outputs": [
    {
     "data": {
      "text/plain": [
       "int"
      ]
     },
     "execution_count": 14,
     "metadata": {},
     "output_type": "execute_result"
    }
   ],
   "source": [
    "type(a)"
   ]
  },
  {
   "cell_type": "code",
   "execution_count": 15,
   "id": "82ba9e60",
   "metadata": {},
   "outputs": [
    {
     "data": {
      "text/plain": [
       "22.0"
      ]
     },
     "execution_count": 15,
     "metadata": {},
     "output_type": "execute_result"
    }
   ],
   "source": [
    "float(a)"
   ]
  },
  {
   "cell_type": "code",
   "execution_count": 17,
   "id": "9dbe5b65",
   "metadata": {},
   "outputs": [],
   "source": [
    "name = \"sandeep\"\n"
   ]
  },
  {
   "cell_type": "code",
   "execution_count": 18,
   "id": "b90f99da",
   "metadata": {},
   "outputs": [
    {
     "ename": "ValueError",
     "evalue": "invalid literal for int() with base 10: 'sandeep'",
     "output_type": "error",
     "traceback": [
      "\u001b[1;31m---------------------------------------------------------------------------\u001b[0m",
      "\u001b[1;31mValueError\u001b[0m                                Traceback (most recent call last)",
      "\u001b[1;32m~\\AppData\\Local\\Temp/ipykernel_23472/3615599144.py\u001b[0m in \u001b[0;36m<module>\u001b[1;34m\u001b[0m\n\u001b[1;32m----> 1\u001b[1;33m \u001b[0mint\u001b[0m\u001b[1;33m(\u001b[0m\u001b[1;34m\"sandeep\"\u001b[0m\u001b[1;33m)\u001b[0m\u001b[1;33m\u001b[0m\u001b[1;33m\u001b[0m\u001b[0m\n\u001b[0m",
      "\u001b[1;31mValueError\u001b[0m: invalid literal for int() with base 10: 'sandeep'"
     ]
    }
   ],
   "source": [
    "int(\"sandeep\")"
   ]
  },
  {
   "cell_type": "code",
   "execution_count": 19,
   "id": "cb07d842",
   "metadata": {},
   "outputs": [
    {
     "data": {
      "text/plain": [
       "str"
      ]
     },
     "execution_count": 19,
     "metadata": {},
     "output_type": "execute_result"
    }
   ],
   "source": [
    "name1 = \"123\"\n",
    "type(name1)"
   ]
  },
  {
   "cell_type": "code",
   "execution_count": 20,
   "id": "306ff00b",
   "metadata": {},
   "outputs": [
    {
     "data": {
      "text/plain": [
       "123"
      ]
     },
     "execution_count": 20,
     "metadata": {},
     "output_type": "execute_result"
    }
   ],
   "source": [
    "int(name1)"
   ]
  },
  {
   "cell_type": "code",
   "execution_count": 21,
   "id": "5a235eff",
   "metadata": {},
   "outputs": [
    {
     "data": {
      "text/plain": [
       "123.0"
      ]
     },
     "execution_count": 21,
     "metadata": {},
     "output_type": "execute_result"
    }
   ],
   "source": [
    "float(name1)"
   ]
  },
  {
   "cell_type": "markdown",
   "id": "bfa54486",
   "metadata": {},
   "source": [
    "### Slicing (Rev.)"
   ]
  },
  {
   "cell_type": "code",
   "execution_count": 23,
   "id": "7c11a8cb",
   "metadata": {},
   "outputs": [],
   "source": [
    "name2 = \"sandeep\""
   ]
  },
  {
   "cell_type": "code",
   "execution_count": 24,
   "id": "e6302ab7",
   "metadata": {},
   "outputs": [
    {
     "data": {
      "text/plain": [
       "'nd'"
      ]
     },
     "execution_count": 24,
     "metadata": {},
     "output_type": "execute_result"
    }
   ],
   "source": [
    "name2[2:4] #start=2 and stop=4"
   ]
  },
  {
   "cell_type": "code",
   "execution_count": 25,
   "id": "d0650dbe",
   "metadata": {},
   "outputs": [
    {
     "data": {
      "text/plain": [
       "'sandeep'"
      ]
     },
     "execution_count": 25,
     "metadata": {},
     "output_type": "execute_result"
    }
   ],
   "source": [
    "name2[:] # from start to stop"
   ]
  },
  {
   "cell_type": "code",
   "execution_count": 26,
   "id": "57e948b4",
   "metadata": {},
   "outputs": [
    {
     "data": {
      "text/plain": [
       "'snep'"
      ]
     },
     "execution_count": 26,
     "metadata": {},
     "output_type": "execute_result"
    }
   ],
   "source": [
    "name2[::2] # start and stop with 2 jumps"
   ]
  },
  {
   "cell_type": "code",
   "execution_count": 27,
   "id": "fdab3375",
   "metadata": {},
   "outputs": [
    {
     "data": {
      "text/plain": [
       "'peednas'"
      ]
     },
     "execution_count": 27,
     "metadata": {},
     "output_type": "execute_result"
    }
   ],
   "source": [
    "name2[::-1]  # start and stop but jump on negative"
   ]
  },
  {
   "cell_type": "code",
   "execution_count": 28,
   "id": "5af7101c",
   "metadata": {},
   "outputs": [
    {
     "data": {
      "text/plain": [
       "'pens'"
      ]
     },
     "execution_count": 28,
     "metadata": {},
     "output_type": "execute_result"
    }
   ],
   "source": [
    "name2[::-2] #start and stop all but jump -2 on negative"
   ]
  },
  {
   "cell_type": "code",
   "execution_count": 29,
   "id": "a65a2b8b",
   "metadata": {},
   "outputs": [
    {
     "data": {
      "text/plain": [
       "'sa'"
      ]
     },
     "execution_count": 29,
     "metadata": {},
     "output_type": "execute_result"
    }
   ],
   "source": [
    "name2[:2] #start from 0 and stop at 2"
   ]
  },
  {
   "cell_type": "code",
   "execution_count": 30,
   "id": "a996584b",
   "metadata": {},
   "outputs": [
    {
     "data": {
      "text/plain": [
       "'ndeep'"
      ]
     },
     "execution_count": 30,
     "metadata": {},
     "output_type": "execute_result"
    }
   ],
   "source": [
    "name2[2:] # start from 2 and stop at end"
   ]
  },
  {
   "cell_type": "code",
   "execution_count": 32,
   "id": "2786ad50",
   "metadata": {},
   "outputs": [
    {
     "data": {
      "text/plain": [
       "17"
      ]
     },
     "execution_count": 32,
     "metadata": {},
     "output_type": "execute_result"
    }
   ],
   "source": [
    "fcm = \"water101 tank100A\"\n",
    "len(fcm)"
   ]
  },
  {
   "cell_type": "code",
   "execution_count": 34,
   "id": "d256012d",
   "metadata": {},
   "outputs": [
    {
     "data": {
      "text/plain": [
       "'100A'"
      ]
     },
     "execution_count": 34,
     "metadata": {},
     "output_type": "execute_result"
    }
   ],
   "source": [
    "fcm[13:]"
   ]
  },
  {
   "cell_type": "code",
   "execution_count": 37,
   "id": "e71644a5",
   "metadata": {},
   "outputs": [
    {
     "data": {
      "text/plain": [
       "'100A'"
      ]
     },
     "execution_count": 37,
     "metadata": {},
     "output_type": "execute_result"
    }
   ],
   "source": [
    "fcm[-4:]"
   ]
  },
  {
   "cell_type": "code",
   "execution_count": 38,
   "id": "ba895b77",
   "metadata": {},
   "outputs": [
    {
     "data": {
      "text/plain": [
       "'tank100A'"
      ]
     },
     "execution_count": 38,
     "metadata": {},
     "output_type": "execute_result"
    }
   ],
   "source": [
    "fcm[-8:]"
   ]
  },
  {
   "cell_type": "markdown",
   "id": "f33742b8",
   "metadata": {},
   "source": [
    "### f-string"
   ]
  },
  {
   "cell_type": "code",
   "execution_count": 41,
   "id": "309e0c30",
   "metadata": {},
   "outputs": [
    {
     "name": "stdout",
     "output_type": "stream",
     "text": [
      "('sandeep', '90')\n"
     ]
    }
   ],
   "source": [
    "name = \"sandeep\"\n",
    "age= \"90\"\n",
    "\n",
    "print(f'{name, age}')"
   ]
  },
  {
   "cell_type": "code",
   "execution_count": 42,
   "id": "4000062b",
   "metadata": {},
   "outputs": [
    {
     "name": "stdout",
     "output_type": "stream",
     "text": [
      "my name is sandeep and age is 90\n"
     ]
    }
   ],
   "source": [
    "print(f'my name is {name} and age is {age}')"
   ]
  },
  {
   "cell_type": "code",
   "execution_count": 43,
   "id": "fd4c2787",
   "metadata": {},
   "outputs": [
    {
     "name": "stdout",
     "output_type": "stream",
     "text": [
      "I am sandeep having age 90\n"
     ]
    }
   ],
   "source": [
    "print(f'I am {name} having age {age}')"
   ]
  },
  {
   "cell_type": "markdown",
   "id": "78e183b5",
   "metadata": {},
   "source": [
    "### Print"
   ]
  },
  {
   "cell_type": "code",
   "execution_count": 44,
   "id": "b98ea7aa",
   "metadata": {},
   "outputs": [
    {
     "name": "stdout",
     "output_type": "stream",
     "text": [
      "4\n"
     ]
    }
   ],
   "source": [
    "print(2+2)"
   ]
  },
  {
   "cell_type": "code",
   "execution_count": 45,
   "id": "bd2aeb5d",
   "metadata": {},
   "outputs": [
    {
     "name": "stdout",
     "output_type": "stream",
     "text": [
      "sandeep\n"
     ]
    }
   ],
   "source": [
    "name =\"sandeep\"\n",
    "print(name)"
   ]
  },
  {
   "cell_type": "code",
   "execution_count": 46,
   "id": "a77bd8d2",
   "metadata": {},
   "outputs": [],
   "source": [
    "a=2\n",
    "b=7\n",
    "c = a*b\n"
   ]
  },
  {
   "cell_type": "code",
   "execution_count": 47,
   "id": "5ced0bd5",
   "metadata": {},
   "outputs": [
    {
     "name": "stdout",
     "output_type": "stream",
     "text": [
      "14\n"
     ]
    }
   ],
   "source": [
    "print(c)"
   ]
  },
  {
   "cell_type": "markdown",
   "id": "bbcd8fe6",
   "metadata": {},
   "source": [
    "### user input"
   ]
  },
  {
   "cell_type": "code",
   "execution_count": 48,
   "id": "baa5b8a1",
   "metadata": {},
   "outputs": [
    {
     "name": "stdout",
     "output_type": "stream",
     "text": [
      "enter your name: gdcusd hs\n"
     ]
    }
   ],
   "source": [
    "user= input(\"enter your name: \")   # input function always gives string"
   ]
  },
  {
   "cell_type": "code",
   "execution_count": 49,
   "id": "3dac1134",
   "metadata": {},
   "outputs": [
    {
     "name": "stdout",
     "output_type": "stream",
     "text": [
      "gdcusd hs\n"
     ]
    }
   ],
   "source": [
    "print(user)"
   ]
  },
  {
   "cell_type": "code",
   "execution_count": 50,
   "id": "cd4c0ae7",
   "metadata": {},
   "outputs": [
    {
     "data": {
      "text/plain": [
       "str"
      ]
     },
     "execution_count": 50,
     "metadata": {},
     "output_type": "execute_result"
    }
   ],
   "source": [
    "type(user)"
   ]
  },
  {
   "cell_type": "code",
   "execution_count": 53,
   "id": "84371ad0",
   "metadata": {},
   "outputs": [
    {
     "name": "stdout",
     "output_type": "stream",
     "text": [
      "enter age: 22\n"
     ]
    }
   ],
   "source": [
    "age = input(\"enter age: \")"
   ]
  },
  {
   "cell_type": "code",
   "execution_count": 54,
   "id": "8268de6a",
   "metadata": {},
   "outputs": [
    {
     "data": {
      "text/plain": [
       "str"
      ]
     },
     "execution_count": 54,
     "metadata": {},
     "output_type": "execute_result"
    }
   ],
   "source": [
    "type(age)"
   ]
  },
  {
   "cell_type": "code",
   "execution_count": 55,
   "id": "d54aa11c",
   "metadata": {},
   "outputs": [
    {
     "data": {
      "text/plain": [
       "22"
      ]
     },
     "execution_count": 55,
     "metadata": {},
     "output_type": "execute_result"
    }
   ],
   "source": [
    "# string to integer as you need age as integer\n",
    "\n",
    "age1 = int(age)\n",
    "age1"
   ]
  },
  {
   "cell_type": "code",
   "execution_count": 56,
   "id": "fe3b97d1",
   "metadata": {},
   "outputs": [
    {
     "data": {
      "text/plain": [
       "int"
      ]
     },
     "execution_count": 56,
     "metadata": {},
     "output_type": "execute_result"
    }
   ],
   "source": [
    "type(age1)"
   ]
  },
  {
   "cell_type": "code",
   "execution_count": null,
   "id": "5043d96f",
   "metadata": {},
   "outputs": [],
   "source": []
  }
 ],
 "metadata": {
  "kernelspec": {
   "display_name": "Python 3 (ipykernel)",
   "language": "python",
   "name": "python3"
  },
  "language_info": {
   "codemirror_mode": {
    "name": "ipython",
    "version": 3
   },
   "file_extension": ".py",
   "mimetype": "text/x-python",
   "name": "python",
   "nbconvert_exporter": "python",
   "pygments_lexer": "ipython3",
   "version": "3.9.7"
  }
 },
 "nbformat": 4,
 "nbformat_minor": 5
}
