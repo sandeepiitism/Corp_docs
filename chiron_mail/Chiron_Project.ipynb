{
 "cells": [
  {
   "cell_type": "markdown",
   "id": "62363a10",
   "metadata": {},
   "source": [
    "## ChironDZ Machine Gundrill Breakage\n"
   ]
  },
  {
   "cell_type": "markdown",
   "id": "ff7ab7ce",
   "metadata": {},
   "source": [
    "`Sandeep Chowdhury`"
   ]
  },
  {
   "cell_type": "markdown",
   "id": "89b8e3bb",
   "metadata": {},
   "source": [
    "- Problem statement: Coolant pressure is the major cause of Gundrill Breakage in all the DZ Machines (Hypothesis).\n",
    "- Approach: Predicting Coolant Pressure abnormalities can help us to forecast the chances of Gun Drill breakage.\n"
   ]
  },
  {
   "cell_type": "markdown",
   "id": "3663eb7f",
   "metadata": {},
   "source": [
    "- Goal: To forecast the coolant abnormalities for GunDrill Φ1.25."
   ]
  },
  {
   "cell_type": "markdown",
   "id": "1d366036",
   "metadata": {},
   "source": [
    "- Hypothesis testing: Statistically p-value is less than 0.05 for a sample size of coolant pressure which causing ToolBroken =1, hence rejecting the Null Hypothesis.\n"
   ]
  },
  {
   "cell_type": "markdown",
   "id": "d7897252",
   "metadata": {},
   "source": [
    "- Data Analysis: \n",
    "    - No such strong correlation on coolant pressure vs ToolBroken, neither there is common signature of coolant pressure found before the tool brokes. \n",
    "    - Data when NO-toolbroken vs Toolbroken reports were compared and no such significant similarity is found.\n",
    "    - Other possible reasons for breakages are Low Collant flow, Burr generation during drilling due to poor Resharpening quality, Pre drill depth not OK, Gun drill Speed/feed, Loose Burr in tool holder, etc.\n",
    "    - ToolBroken = 1 can be any reason mentioned above, and there is no way to classify the reasons as they not captured nor mentioned.\n"
   ]
  },
  {
   "cell_type": "markdown",
   "id": "0e88fd8f",
   "metadata": {},
   "source": [
    "- Time Series Forecasting: \n",
    "    - Max coolant pressure is taken as the abnormality as minimum cannot be captured correctly since PLC ramp the coolant from 0 to that specific value in a short time span.\n",
    "    - Prophet is used as other deep leaning models like LSTM or GRU doesn't fits well with the data."
   ]
  },
  {
   "cell_type": "markdown",
   "id": "397af8f3",
   "metadata": {},
   "source": [
    "- Result: \n",
    "    - Forecasting and mail trigger about all the DZ machines for the next day abnormalities and range.\n",
    "    - Tested with real scneario and since which machine has how may tool broken is noted and lack of evidences that coolant predictd values and the atual values causes the toolbroken.\n",
    "    - Failed to build the action plan with the predicted values.\n",
    "    - No hypermeter used as initial phase results were not well concluded on how to utilize. "
   ]
  },
  {
   "cell_type": "markdown",
   "id": "509d0b59",
   "metadata": {},
   "source": [
    "- Conclusion:\n",
    "    - More clarity, action plan and ROI required to work on such real time PLC based controlled environment where AI can be used as the solution, since predicting/forecasting won't help in quick response. It only give an intution that something might go wrong tomorow based on present day results which anyhow looking at PowerBI or analysis the data will provide at the end of the day."
   ]
  },
  {
   "cell_type": "markdown",
   "id": "6ff06380",
   "metadata": {},
   "source": [
    "- What you can do:\n",
    "    - Try to understand the parameters like coolant pressure how it is affecting, what coolant is used, it is corrosive or what is the property, what is flow, and many such questions to be answered before applying AI.\n",
    "    - Try to find other parameters correlation as well.\n",
    "    - Find the root cause for the breakage.\n",
    "    - Try to capture or note the causes for 1-2 month which tool at which machine due to which program and and what reasona were actually broken.\n",
    "    - Try your best of the experience and hypothesis.\n",
    "    "
   ]
  },
  {
   "cell_type": "markdown",
   "id": "e11ff82d",
   "metadata": {},
   "source": [
    "### Code Breakup to forecast the Coolant Pressure"
   ]
  },
  {
   "cell_type": "markdown",
   "id": "dfa38168",
   "metadata": {},
   "source": [
    "#### using Pyodbc"
   ]
  },
  {
   "cell_type": "code",
   "execution_count": 1,
   "id": "7c508dfe",
   "metadata": {},
   "outputs": [],
   "source": [
    "## importing the libraries\n",
    "import pandas as pd\n",
    "from prophet import Prophet\n",
    "import pyodbc\n",
    "import datetime\n",
    "import warnings\n",
    "\n",
    "warnings.filterwarnings(\"ignore\")\n"
   ]
  },
  {
   "cell_type": "code",
   "execution_count": 2,
   "id": "383b3936",
   "metadata": {},
   "outputs": [],
   "source": [
    "## connecting with DB\n",
    "import pyodbc\n",
    "cnxn = pyodbc.connect(\"Driver={SQL Server Native Client 11.0};\"\n",
    "                        \"Server=na0vm00024.apac.bosch.com;\"\n",
    "                        \"Database=DB_MFC2DB_SQL;\"\n",
    "                        \"Trusted_Connection=yes;\")"
   ]
  },
  {
   "cell_type": "code",
   "execution_count": 8,
   "id": "f7f84d8b",
   "metadata": {},
   "outputs": [
    {
     "data": {
      "text/html": [
       "<div>\n",
       "<style scoped>\n",
       "    .dataframe tbody tr th:only-of-type {\n",
       "        vertical-align: middle;\n",
       "    }\n",
       "\n",
       "    .dataframe tbody tr th {\n",
       "        vertical-align: top;\n",
       "    }\n",
       "\n",
       "    .dataframe thead th {\n",
       "        text-align: right;\n",
       "    }\n",
       "</style>\n",
       "<table border=\"1\" class=\"dataframe\">\n",
       "  <thead>\n",
       "    <tr style=\"text-align: right;\">\n",
       "      <th></th>\n",
       "      <th>ds</th>\n",
       "      <th>y</th>\n",
       "      <th>tool</th>\n",
       "      <th>dz</th>\n",
       "    </tr>\n",
       "  </thead>\n",
       "  <tbody>\n",
       "    <tr>\n",
       "      <th>0</th>\n",
       "      <td>2022-07-27</td>\n",
       "      <td>139.2483</td>\n",
       "      <td>23</td>\n",
       "      <td>dz3</td>\n",
       "    </tr>\n",
       "    <tr>\n",
       "      <th>1</th>\n",
       "      <td>2022-07-27</td>\n",
       "      <td>140.1334</td>\n",
       "      <td>8</td>\n",
       "      <td>dz3</td>\n",
       "    </tr>\n",
       "    <tr>\n",
       "      <th>2</th>\n",
       "      <td>2022-07-28</td>\n",
       "      <td>141.2626</td>\n",
       "      <td>8</td>\n",
       "      <td>dz3</td>\n",
       "    </tr>\n",
       "    <tr>\n",
       "      <th>3</th>\n",
       "      <td>2022-07-28</td>\n",
       "      <td>140.8200</td>\n",
       "      <td>23</td>\n",
       "      <td>dz3</td>\n",
       "    </tr>\n",
       "    <tr>\n",
       "      <th>4</th>\n",
       "      <td>2022-07-29</td>\n",
       "      <td>140.2783</td>\n",
       "      <td>23</td>\n",
       "      <td>dz3</td>\n",
       "    </tr>\n",
       "  </tbody>\n",
       "</table>\n",
       "</div>"
      ],
      "text/plain": [
       "           ds         y  tool   dz\n",
       "0  2022-07-27  139.2483    23  dz3\n",
       "1  2022-07-27  140.1334     8  dz3\n",
       "2  2022-07-28  141.2626     8  dz3\n",
       "3  2022-07-28  140.8200    23  dz3\n",
       "4  2022-07-29  140.2783    23  dz3"
      ]
     },
     "execution_count": 8,
     "metadata": {},
     "output_type": "execute_result"
    }
   ],
   "source": [
    "## SQL script\n",
    "sql = \"\"\"SELECT CONVERT(date, [TimeStamp]) AS ds, MAX([CoolantPr]) AS y, [PresentTool] AS tool, 'dz11' AS dz\n",
    "FROM [ChironDZ1]\n",
    "WHERE [PresentTool] =8\n",
    "GROUP BY [PresentTool], CONVERT(date, [TimeStamp])\n",
    "\n",
    "UNION\n",
    "\n",
    "SELECT CONVERT(date, [TimeStamp]) AS ds, MAX([CoolantPr]) AS y, [PresentTool] AS tool, 'dz10' AS dz\n",
    "FROM [ChironDZ10]\n",
    "WHERE [PresentTool] = 16\n",
    "GROUP BY [PresentTool], CONVERT(date, [TimeStamp])\n",
    "\n",
    "UNION\n",
    "\n",
    "SELECT CONVERT(date, [TimeStamp]) AS ds, MAX([CoolantPr]) AS y, [PresentTool] AS tool, 'dz9' AS dz\n",
    "FROM [ChironDZ9_1]\n",
    "WHERE [PresentTool] IN (7, 23)\n",
    "GROUP BY [PresentTool], CONVERT(date, [TimeStamp])\n",
    "\n",
    "UNION\n",
    "\n",
    "SELECT CONVERT(date, [TimeStamp]) AS ds, MAX([CoolantPr]) AS y, [PresentTool] AS tool, 'dz8' AS dz\n",
    "FROM [ChironDZ8]\n",
    "WHERE [PresentTool] =18\n",
    "GROUP BY [PresentTool], CONVERT(date, [TimeStamp])\n",
    "\n",
    "UNION\n",
    "\n",
    "SELECT CONVERT(date, [TimeStamp]) AS ds, MAX([CoolantPr]) AS y, [PresentTool] AS tool, 'dz7' AS dz\n",
    "FROM [ChironDZ7]\n",
    "WHERE [PresentTool] =8\n",
    "GROUP BY [PresentTool], CONVERT(date, [TimeStamp])\n",
    "\n",
    "UNION\n",
    "\n",
    "SELECT CONVERT(date, [TimeStamp]) AS ds, MAX([CoolantPr]) AS y, [PresentTool] AS tool, 'dz6' AS dz\n",
    "FROM [ChironDZ6]\n",
    "WHERE [PresentTool] IN (7, 23)\n",
    "GROUP BY [PresentTool], CONVERT(date, [TimeStamp])\n",
    "\n",
    "UNION\n",
    "\n",
    "SELECT CONVERT(date, [TimeStamp]) AS ds, MAX([CoolantPr]) AS y, [PresentTool] AS tool, 'dz4' AS dz\n",
    "FROM [ChironDZ4]\n",
    "WHERE [PresentTool] IN (8, 23)\n",
    "GROUP BY [PresentTool], CONVERT(date, [TimeStamp])\n",
    "\n",
    "UNION\n",
    "\n",
    "SELECT CONVERT(date, [TimeStamp]) AS ds, MAX([CoolantPr]) AS y, [PresentTool] AS tool, 'dz3' AS dz\n",
    "FROM [ChironDZ3]\n",
    "WHERE [PresentTool] IN (8, 23)\n",
    "GROUP BY [PresentTool], CONVERT(date, [TimeStamp])\n",
    "\n",
    "UNION\n",
    "\n",
    "SELECT CONVERT(date, [TimeStamp]) AS ds, MAX([CoolantPr]) AS y, [PresentTool] AS tool, 'dz2' AS dz\n",
    "FROM [ChironDZ2]\n",
    "WHERE [PresentTool] IN (8, 23)\n",
    "GROUP BY [PresentTool], CONVERT(date, [TimeStamp])\n",
    "\n",
    "UNION\n",
    "\n",
    "SELECT CONVERT(date, [TimeStamp]) AS ds, MAX([CoolantPr]) AS y, [PresentTool] AS tool, 'dz1' AS dz\n",
    "FROM [ChironDZ1]\n",
    "WHERE [PresentTool] IN (8, 23)\n",
    "GROUP BY [PresentTool], CONVERT(date, [TimeStamp])\n",
    "\n",
    "ORDER BY ds ASC;\"\"\" \n",
    "\n",
    "df_coolant = pd.read_sql_query(sql, cnxn, parse_dates=True)\n",
    "df_coolant.head()"
   ]
  },
  {
   "cell_type": "code",
   "execution_count": null,
   "id": "1308f5be",
   "metadata": {},
   "outputs": [],
   "source": [
    "## DZ machines and Tool numbers were given by MFC2 team"
   ]
  },
  {
   "cell_type": "markdown",
   "id": "4c5581fa",
   "metadata": {},
   "source": [
    "#### Using Prophet Model "
   ]
  },
  {
   "cell_type": "code",
   "execution_count": 10,
   "id": "6a4c1b97",
   "metadata": {},
   "outputs": [
    {
     "name": "stderr",
     "output_type": "stream",
     "text": [
      "11:15:04 - cmdstanpy - INFO - Chain [1] start processing\n",
      "11:15:05 - cmdstanpy - INFO - Chain [1] done processing\n",
      "11:15:05 - cmdstanpy - INFO - Chain [1] start processing\n",
      "11:15:05 - cmdstanpy - INFO - Chain [1] done processing\n"
     ]
    }
   ],
   "source": [
    "### DZ1 code ------------------------------------------------------------------------------------>>>\n",
    "\n",
    "dz1_8 = df_coolant[(df_coolant['tool'] == 8) & (df_coolant['dz']=='dz1')]\n",
    "dz1_23 = df_coolant[(df_coolant['tool'] == 23) & (df_coolant['dz']=='dz1')]\n",
    "\n",
    "### -----------------------------------------------------------------------------------------------###\n",
    "model = Prophet()\n",
    "model.fit(dz1_8)\n",
    "future = model.make_future_dataframe(periods=1)\n",
    "forecast = model.predict(future)\n",
    "result_dz1_8 = forecast[['ds', 'yhat', 'yhat_lower', 'yhat_upper']]\n",
    "result_dz1_8 = result_dz1_8.rename(columns={'ds': 'date', 'yhat': 'predicted', 'yhat_lower': 'lower_range', 'yhat_upper': 'upper_range'})\n",
    "result_dz1_8 = result_dz1_8.tail(1)\n",
    "# print(result_dz1_8)\n",
    "\n",
    "### -----------------------------------------------------------------------------------------------###\n",
    "model = Prophet()\n",
    "model.fit(dz1_23)\n",
    "future = model.make_future_dataframe(periods=1)\n",
    "forecast = model.predict(future)\n",
    "result_dz1_23 = forecast[['ds', 'yhat', 'yhat_lower', 'yhat_upper']]\n",
    "result_dz1_23 = result_dz1_23.rename(columns={'ds': 'date', 'yhat': 'predicted', 'yhat_lower': 'lower_range', 'yhat_upper': 'upper_range'})\n",
    "result_dz1_23 = result_dz1_23.tail(1)\n",
    "# print(result_dz1_23)"
   ]
  },
  {
   "cell_type": "code",
   "execution_count": 11,
   "id": "fc26adfd",
   "metadata": {},
   "outputs": [
    {
     "name": "stderr",
     "output_type": "stream",
     "text": [
      "11:15:09 - cmdstanpy - INFO - Chain [1] start processing\n",
      "11:15:10 - cmdstanpy - INFO - Chain [1] done processing\n",
      "11:15:10 - cmdstanpy - INFO - Chain [1] start processing\n",
      "11:15:10 - cmdstanpy - INFO - Chain [1] done processing\n"
     ]
    }
   ],
   "source": [
    "### DZ2 code ------------------------------------------------------------------------------------>>>\n",
    "\n",
    "dz2_8 = df_coolant[(df_coolant['tool'] == 8) & (df_coolant['dz']=='dz2')]\n",
    "dz2_23 = df_coolant[(df_coolant['tool'] == 23) & (df_coolant['dz']=='dz2')]\n",
    "\n",
    "### -----------------------------------------------------------------------------------------------###\n",
    "model = Prophet()\n",
    "model.fit(dz2_8)\n",
    "future = model.make_future_dataframe(periods=1)\n",
    "forecast = model.predict(future)\n",
    "result_dz2_8 = forecast[['ds', 'yhat', 'yhat_lower', 'yhat_upper']]\n",
    "result_dz2_8 = result_dz2_8.rename(columns={'ds': 'date', 'yhat': 'predicted', 'yhat_lower': 'lower_range', 'yhat_upper': 'upper_range'})\n",
    "result_dz2_8 = result_dz2_8.tail(1)\n",
    "# print(result_dz2_8)\n",
    "\n",
    "### -----------------------------------------------------------------------------------------------###\n",
    "model = Prophet()\n",
    "model.fit(dz2_23)\n",
    "future = model.make_future_dataframe(periods=1)\n",
    "forecast = model.predict(future)\n",
    "result_dz2_23 = forecast[['ds', 'yhat', 'yhat_lower', 'yhat_upper']]\n",
    "result_dz2_23 = result_dz2_23.rename(columns={'ds': 'date', 'yhat': 'predicted', 'yhat_lower': 'lower_range', 'yhat_upper': 'upper_range'})\n",
    "result_dz2_23 = result_dz2_23.tail(1)\n",
    "# print(result_dz2_23)"
   ]
  },
  {
   "cell_type": "code",
   "execution_count": 12,
   "id": "24b8e8d2",
   "metadata": {},
   "outputs": [
    {
     "name": "stderr",
     "output_type": "stream",
     "text": [
      "11:15:12 - cmdstanpy - INFO - Chain [1] start processing\n",
      "11:15:12 - cmdstanpy - INFO - Chain [1] done processing\n",
      "11:15:12 - cmdstanpy - INFO - Chain [1] start processing\n",
      "11:15:12 - cmdstanpy - INFO - Chain [1] done processing\n"
     ]
    }
   ],
   "source": [
    "### DZ3 code ------------------------------------------------------------------------------------>>>\n",
    "\n",
    "dz3_8 = df_coolant[(df_coolant['tool'] == 8) & (df_coolant['dz']=='dz3')]\n",
    "dz3_23 = df_coolant[(df_coolant['tool'] == 23) & (df_coolant['dz']=='dz3')]\n",
    "\n",
    "### -----------------------------------------------------------------------------------------------###\n",
    "model = Prophet()\n",
    "model.fit(dz3_8)\n",
    "future = model.make_future_dataframe(periods=1)\n",
    "forecast = model.predict(future)\n",
    "result_dz3_8 = forecast[['ds', 'yhat', 'yhat_lower', 'yhat_upper']]\n",
    "result_dz3_8 = result_dz3_8.rename(columns={'ds': 'date', 'yhat': 'predicted', 'yhat_lower': 'lower_range', 'yhat_upper': 'upper_range'})\n",
    "result_dz3_8 = result_dz3_8.tail(1)\n",
    "# print(result_dz3_8)\n",
    "\n",
    "### -----------------------------------------------------------------------------------------------###\n",
    "model = Prophet()\n",
    "model.fit(dz3_23)\n",
    "future = model.make_future_dataframe(periods=1)\n",
    "forecast = model.predict(future)\n",
    "result_dz3_23 = forecast[['ds', 'yhat', 'yhat_lower', 'yhat_upper']]\n",
    "result_dz3_23 = result_dz3_23.rename(columns={'ds': 'date', 'yhat': 'predicted', 'yhat_lower': 'lower_range', 'yhat_upper': 'upper_range'})\n",
    "result_dz3_23 = result_dz3_23.tail(1)\n",
    "# print(result_dz3_23)"
   ]
  },
  {
   "cell_type": "code",
   "execution_count": 13,
   "id": "92cb0b40",
   "metadata": {},
   "outputs": [
    {
     "name": "stderr",
     "output_type": "stream",
     "text": [
      "11:15:13 - cmdstanpy - INFO - Chain [1] start processing\n",
      "11:15:13 - cmdstanpy - INFO - Chain [1] done processing\n",
      "11:15:14 - cmdstanpy - INFO - Chain [1] start processing\n",
      "11:15:14 - cmdstanpy - INFO - Chain [1] done processing\n"
     ]
    }
   ],
   "source": [
    "### DZ4 code ------------------------------------------------------------------------------------>>>\n",
    "\n",
    "dz4_8 = df_coolant[(df_coolant['tool'] == 8) & (df_coolant['dz']=='dz4')]\n",
    "dz4_23 = df_coolant[(df_coolant['tool'] == 23) & (df_coolant['dz']=='dz4')]\n",
    "\n",
    "### -----------------------------------------------------------------------------------------------###\n",
    "model = Prophet()\n",
    "model.fit(dz4_8)\n",
    "future = model.make_future_dataframe(periods=1)\n",
    "forecast = model.predict(future)\n",
    "result_dz4_8 = forecast[['ds', 'yhat', 'yhat_lower', 'yhat_upper']]\n",
    "result_dz4_8 = result_dz4_8.rename(columns={'ds': 'date', 'yhat': 'predicted', 'yhat_lower': 'lower_range', 'yhat_upper': 'upper_range'})\n",
    "result_dz4_8 = result_dz4_8.tail(1)\n",
    "# print(result_dz4_8)\n",
    "\n",
    "### -----------------------------------------------------------------------------------------------###\n",
    "model = Prophet()\n",
    "model.fit(dz4_23)\n",
    "future = model.make_future_dataframe(periods=1)\n",
    "forecast = model.predict(future)\n",
    "result_dz4_23 = forecast[['ds', 'yhat', 'yhat_lower', 'yhat_upper']]\n",
    "result_dz4_23 = result_dz4_23.rename(columns={'ds': 'date', 'yhat': 'predicted', 'yhat_lower': 'lower_range', 'yhat_upper': 'upper_range'})\n",
    "result_dz4_23 = result_dz4_23.tail(1)\n",
    "# print(result_dz4_23)"
   ]
  },
  {
   "cell_type": "code",
   "execution_count": 14,
   "id": "7fdc214d",
   "metadata": {},
   "outputs": [
    {
     "name": "stderr",
     "output_type": "stream",
     "text": [
      "11:15:15 - cmdstanpy - INFO - Chain [1] start processing\n",
      "11:15:15 - cmdstanpy - INFO - Chain [1] done processing\n",
      "11:15:15 - cmdstanpy - INFO - Chain [1] start processing\n",
      "11:15:16 - cmdstanpy - INFO - Chain [1] done processing\n"
     ]
    }
   ],
   "source": [
    "### DZ6 code ------------------------------------------------------------------------------------>>>\n",
    "\n",
    "dz6_7 = df_coolant[(df_coolant['tool'] == 7) & (df_coolant['dz']=='dz6')]\n",
    "dz6_23 = df_coolant[(df_coolant['tool'] == 23) & (df_coolant['dz']=='dz6')]\n",
    "\n",
    "### -----------------------------------------------------------------------------------------------###\n",
    "model = Prophet()\n",
    "model.fit(dz6_7)\n",
    "future = model.make_future_dataframe(periods=1)\n",
    "forecast = model.predict(future)\n",
    "result_dz6_7 = forecast[['ds', 'yhat', 'yhat_lower', 'yhat_upper']]\n",
    "result_dz6_7 = result_dz6_7.rename(columns={'ds': 'date', 'yhat': 'predicted', 'yhat_lower': 'lower_range', 'yhat_upper': 'upper_range'})\n",
    "result_dz6_7 = result_dz6_7.tail(1)\n",
    "# print(result_dz6_7)\n",
    "\n",
    "### -----------------------------------------------------------------------------------------------###\n",
    "model = Prophet()\n",
    "model.fit(dz6_23)\n",
    "future = model.make_future_dataframe(periods=1)\n",
    "forecast = model.predict(future)\n",
    "result_dz6_23 = forecast[['ds', 'yhat', 'yhat_lower', 'yhat_upper']]\n",
    "result_dz6_23 = result_dz6_23.rename(columns={'ds': 'date', 'yhat': 'predicted', 'yhat_lower': 'lower_range', 'yhat_upper': 'upper_range'})\n",
    "result_dz6_23 = result_dz6_23.tail(1)\n",
    "# print(result_dz6_23)"
   ]
  },
  {
   "cell_type": "code",
   "execution_count": 15,
   "id": "d5d41dd3",
   "metadata": {},
   "outputs": [
    {
     "name": "stderr",
     "output_type": "stream",
     "text": [
      "11:15:17 - cmdstanpy - INFO - Chain [1] start processing\n",
      "11:15:17 - cmdstanpy - INFO - Chain [1] done processing\n"
     ]
    }
   ],
   "source": [
    "### DZ7 code ------------------------------------------------------------------------------------>>>\n",
    "\n",
    "dz7_8 = df_coolant[(df_coolant['tool'] == 8) & (df_coolant['dz']=='dz7')]\n",
    "\n",
    "### -----------------------------------------------------------------------------------------------###\n",
    "model = Prophet()\n",
    "model.fit(dz7_8)\n",
    "future = model.make_future_dataframe(periods=1)\n",
    "forecast = model.predict(future)\n",
    "result_dz7_8 = forecast[['ds', 'yhat', 'yhat_lower', 'yhat_upper']]\n",
    "result_dz7_8 = result_dz7_8.rename(columns={'ds': 'date', 'yhat': 'predicted', 'yhat_lower': 'lower_range', 'yhat_upper': 'upper_range'})\n",
    "result_dz7_8 = result_dz7_8.tail(1)\n",
    "# print(result_dz7_8)\n",
    "\n"
   ]
  },
  {
   "cell_type": "code",
   "execution_count": 16,
   "id": "74756f54",
   "metadata": {},
   "outputs": [
    {
     "name": "stderr",
     "output_type": "stream",
     "text": [
      "11:15:19 - cmdstanpy - INFO - Chain [1] start processing\n",
      "11:15:19 - cmdstanpy - INFO - Chain [1] done processing\n"
     ]
    }
   ],
   "source": [
    "### DZ8 code ------------------------------------------------------------------------------------>>>\n",
    "\n",
    "dz8_18 = df_coolant[(df_coolant['tool'] == 18) & (df_coolant['dz']=='dz8')]\n",
    "\n",
    "### -----------------------------------------------------------------------------------------------###\n",
    "model = Prophet()\n",
    "model.fit(dz8_18)\n",
    "future = model.make_future_dataframe(periods=1)\n",
    "forecast = model.predict(future)\n",
    "result_dz8_18 = forecast[['ds', 'yhat', 'yhat_lower', 'yhat_upper']]\n",
    "result_dz8_18 = result_dz8_18.rename(columns={'ds': 'date', 'yhat': 'predicted', 'yhat_lower': 'lower_range', 'yhat_upper': 'upper_range'})\n",
    "result_dz8_18 = result_dz8_18.tail(1)\n",
    "# print(result_dz8_18)\n",
    "\n"
   ]
  },
  {
   "cell_type": "code",
   "execution_count": 17,
   "id": "c6ba813f",
   "metadata": {},
   "outputs": [
    {
     "name": "stderr",
     "output_type": "stream",
     "text": [
      "11:15:20 - cmdstanpy - INFO - Chain [1] start processing\n",
      "11:15:21 - cmdstanpy - INFO - Chain [1] done processing\n",
      "11:15:21 - cmdstanpy - INFO - Chain [1] start processing\n",
      "11:15:21 - cmdstanpy - INFO - Chain [1] done processing\n"
     ]
    }
   ],
   "source": [
    "### DZ9 code ------------------------------------------------------------------------------------>>>\n",
    "\n",
    "dz9_7 = df_coolant[(df_coolant['tool'] == 7) & (df_coolant['dz']=='dz9')]\n",
    "dz9_23 = df_coolant[(df_coolant['tool'] == 23) & (df_coolant['dz']=='dz9')]\n",
    "\n",
    "### -----------------------------------------------------------------------------------------------###\n",
    "model = Prophet()\n",
    "model.fit(dz9_7)\n",
    "future = model.make_future_dataframe(periods=1)\n",
    "forecast = model.predict(future)\n",
    "result_dz9_7 = forecast[['ds', 'yhat', 'yhat_lower', 'yhat_upper']]\n",
    "result_dz9_7 = result_dz9_7.rename(columns={'ds': 'date', 'yhat': 'predicted', 'yhat_lower': 'lower_range', 'yhat_upper': 'upper_range'})\n",
    "result_dz9_7 = result_dz9_7.tail(1)\n",
    "# print(result_dz9_7)\n",
    "\n",
    "### -----------------------------------------------------------------------------------------------###\n",
    "model = Prophet()\n",
    "model.fit(dz9_23)\n",
    "future = model.make_future_dataframe(periods=1)\n",
    "forecast = model.predict(future)\n",
    "result_dz9_23 = forecast[['ds', 'yhat', 'yhat_lower', 'yhat_upper']]\n",
    "result_dz9_23 = result_dz9_23.rename(columns={'ds': 'date', 'yhat': 'predicted', 'yhat_lower': 'lower_range', 'yhat_upper': 'upper_range'})\n",
    "result_dz9_23 = result_dz9_23.tail(1)\n",
    "# print(result_dz9_23)"
   ]
  },
  {
   "cell_type": "code",
   "execution_count": null,
   "id": "845769f8",
   "metadata": {},
   "outputs": [],
   "source": [
    "## mail code"
   ]
  },
  {
   "cell_type": "code",
   "execution_count": 40,
   "id": "6f1c1014",
   "metadata": {},
   "outputs": [],
   "source": [
    "import smtplib\n",
    "from smtplib import SMTP\n",
    "debuglevel=0\n",
    "\n",
    "FROM = \"*****@bosch.com\"\n",
    "TO = \"*****@bosch.com\"\n",
    "\n",
    "PASSWORD = \"********\"\n",
    "\n",
    "SUBJECT = f'DZ Machine Gundrill Coolant_pr | {result_dz9_7[\"date\"].dt.date.values[0]} Prediction | TestingPhase'\n",
    "TEXT = (f'<<<------------predicted dz1 tool 8 is ------------->>> \\n {result_dz1_8} \\n \\n' +\n",
    "        f'<<<------------predicted dz1 tool 23 is ------------->>> \\n {result_dz1_23} \\n \\n' +\n",
    "        f'<<<------------predicted dz2 tool 8 is ------------->>> \\n {result_dz2_8} \\n \\n' +\n",
    "        f'<<<------------predicted dz2 tool 23 is ------------->>> \\n {result_dz2_23}\\n \\n' +\n",
    "        f'<<<------------predicted dz3 tool 8 is ------------->>> \\n {result_dz3_8}\\n \\n' +\n",
    "        f'<<<------------predicted dz3 tool 23 is ------------->>> \\n {result_dz3_23}\\n \\n' +\n",
    "        f'<<<------------predicted dz4 tool 8 is ------------->>> \\n {result_dz4_8} \\n \\n' +\n",
    "        f'<<<------------predicted dz4 tool 23 is ------------->>> \\n {result_dz4_23} \\n \\n' +\n",
    "        f'<<<------------predicted dz6 tool 7 is ------------->>> \\n {result_dz6_7}\\n \\n' +\n",
    "        f'<<<------------predicted dz6 tool 23 is ------------->>> \\n {result_dz6_23}\\n \\n' +\n",
    "        f'<<<------------predicted dz7 tool 8 is ------------->>> \\n {result_dz7_8}\\n \\n' +\n",
    "        f'<<<------------predicted dz8 tool 18 is ------------->>> \\n {result_dz8_18} \\n \\n' +\n",
    "        f'<<<------------predicted dz9 tool 7 is ------------->>> \\n {result_dz9_7}\\n \\n' +\n",
    "        f'<<<------------predicted dz9 tool 23 is ------------->>> \\n {result_dz9_23}\\n \\n' +\n",
    "        f'<<<------------predicted dz11 tool 8 is ------------->>> \\n {result_dz11_8}\\n \\n')\n",
    "        \n",
    "        \n",
    "\n",
    "message = 'Subject: {}\\n\\n{}'.format(SUBJECT, TEXT)\n",
    "\n",
    "try:\n",
    "    server = smtplib.SMTP('rb-smtp-auth.rbesz01.com', 25)\n",
    "    server.starttls() \n",
    "    server.login(FROM, PASSWORD)\n",
    "    server.sendmail(FROM, TO, message)\n",
    "    server.quit()\n",
    "except Exception as e:\n",
    "    print(e)"
   ]
  },
  {
   "cell_type": "code",
   "execution_count": null,
   "id": "7842887e",
   "metadata": {},
   "outputs": [],
   "source": [
    "## .py file below ------>"
   ]
  },
  {
   "cell_type": "code",
   "execution_count": null,
   "id": "a61a9478",
   "metadata": {},
   "outputs": [],
   "source": [
    "import pandas as pd\n",
    "import numpy as np\n",
    "from prophet import Prophet\n",
    "import pyodbc\n",
    "import smtplib\n",
    "from email.mime.text import MIMEText\n",
    "from email.mime.multipart import MIMEMultipart\n",
    "\n",
    "def establish_database_connection():\n",
    "    return pyodbc.connect(\"Driver={SQL Server Native Client 11.0};\"\n",
    "                          \"Server=na0vm00024.apac.bosch.com;\"\n",
    "                          \"Database=DB_MFC2DB_SQL;\"\n",
    "                          \"Trusted_Connection=yes;\")\n",
    "\n",
    "def retrieve_data(connection):\n",
    "    sql = \"\"\"SELECT CONVERT(date, [TimeStamp]) AS ds, MAX([CoolantPr]) AS y, [PresentTool] AS tool, 'dz10' AS dz\n",
    "        FROM [ChironDZ10]\n",
    "        WHERE [PresentTool] =8\n",
    "        GROUP BY [PresentTool], CONVERT(date, [TimeStamp])\n",
    "\n",
    "        UNION\n",
    "\n",
    "        SELECT CONVERT(date, [TimeStamp]) AS ds, MAX([CoolantPr]) AS y, [PresentTool] AS tool, 'dz9' AS dz\n",
    "        FROM [ChironDZ9_1]\n",
    "        WHERE [PresentTool] IN (7, 23)\n",
    "        GROUP BY [PresentTool], CONVERT(date, [TimeStamp])\n",
    "\n",
    "        UNION\n",
    "\n",
    "        SELECT CONVERT(date, [TimeStamp]) AS ds, MAX([CoolantPr]) AS y, [PresentTool] AS tool, 'dz8' AS dz\n",
    "        FROM [ChironDZ8]\n",
    "        WHERE [PresentTool] =18\n",
    "        GROUP BY [PresentTool], CONVERT(date, [TimeStamp])\n",
    "\n",
    "        UNION\n",
    "\n",
    "        SELECT CONVERT(date, [TimeStamp]) AS ds, MAX([CoolantPr]) AS y, [PresentTool] AS tool, 'dz7' AS dz\n",
    "        FROM [ChironDZ7]\n",
    "        WHERE [PresentTool] =8\n",
    "        GROUP BY [PresentTool], CONVERT(date, [TimeStamp])\n",
    "\n",
    "        UNION\n",
    "\n",
    "        SELECT CONVERT(date, [TimeStamp]) AS ds, MAX([CoolantPr]) AS y, [PresentTool] AS tool, 'dz6' AS dz\n",
    "        FROM [ChironDZ6]\n",
    "        WHERE [PresentTool] IN (7, 23)\n",
    "        GROUP BY [PresentTool], CONVERT(date, [TimeStamp])\n",
    "\n",
    "        UNION\n",
    "\n",
    "        SELECT CONVERT(date, [TimeStamp]) AS ds, MAX([CoolantPr]) AS y, [PresentTool] AS tool, 'dz4' AS dz\n",
    "        FROM [ChironDZ4]\n",
    "        WHERE [PresentTool] IN (8, 23)\n",
    "        GROUP BY [PresentTool], CONVERT(date, [TimeStamp])\n",
    "\n",
    "        UNION\n",
    "\n",
    "        SELECT CONVERT(date, [TimeStamp]) AS ds, MAX([CoolantPr]) AS y, [PresentTool] AS tool, 'dz3' AS dz\n",
    "        FROM [ChironDZ3]\n",
    "        WHERE [PresentTool] IN (8, 23)\n",
    "        GROUP BY [PresentTool], CONVERT(date, [TimeStamp])\n",
    "\n",
    "        UNION\n",
    "\n",
    "        SELECT CONVERT(date, [TimeStamp]) AS ds, MAX([CoolantPr]) AS y, [PresentTool] AS tool, 'dz2' AS dz\n",
    "        FROM [ChironDZ2]\n",
    "        WHERE [PresentTool] IN (8, 23)\n",
    "        GROUP BY [PresentTool], CONVERT(date, [TimeStamp])\n",
    "\n",
    "        UNION\n",
    "\n",
    "        SELECT CONVERT(date, [TimeStamp]) AS ds, MAX([CoolantPr]) AS y, [PresentTool] AS tool, 'dz1' AS dz\n",
    "        FROM [ChironDZ1]\n",
    "        WHERE [PresentTool] IN (8, 23)\n",
    "        GROUP BY [PresentTool], CONVERT(date, [TimeStamp])\n",
    "\n",
    "        ORDER BY ds ASC;\"\"\" \n",
    "    return pd.read_sql_query(sql, connection, parse_dates=True)\n",
    "\n",
    "def train_prophet_model(data, tool, dz):\n",
    "    df = data[(data['tool'] == tool) & (data['dz'] == dz)]\n",
    "\n",
    "    model = Prophet()\n",
    "    model.fit(df)\n",
    "    future = model.make_future_dataframe(periods=1)\n",
    "    forecast = model.predict(future)\n",
    "    result = forecast[['ds', 'yhat', 'yhat_lower', 'yhat_upper']]\n",
    "    result = result.rename(columns={'ds': 'date', 'yhat': 'predicted', 'yhat_lower': 'lower_range', 'yhat_upper': 'upper_range'})\n",
    "    return result.tail(1)\n",
    "\n",
    "def send_email(subject, body, sender, receiver, password, server_address='rb-smtp-auth.rbesz01.com', port=25):\n",
    "    message = MIMEMultipart()\n",
    "    message['From'] = sender\n",
    "    message['To'] = receiver\n",
    "    message['Subject'] = subject\n",
    "    message.attach(MIMEText(body, 'plain'))\n",
    "\n",
    "    try:\n",
    "        server = smtplib.SMTP(server_address, port)\n",
    "        server.starttls()\n",
    "        server.login(sender, password)\n",
    "        server.sendmail(sender, receiver, message.as_string())\n",
    "        server.quit()\n",
    "        print(\"Email sent successfully!\")\n",
    "    except Exception as e:\n",
    "        print(\"Error:\", e)\n",
    "\n",
    "\n",
    "def main():\n",
    "    connection = establish_database_connection()\n",
    "    data = retrieve_data(connection)\n",
    "    machine_tools = [(8, 'dz1'), (23, 'dz1'), (8, 'dz2'), (23, 'dz2'), (8, 'dz3'), (23, 'dz3'), \n",
    "                     (8, 'dz4'), (23, 'dz4'), (7, 'dz6'), (23, 'dz6'), (8, 'dz7'), (18, 'dz8'), \n",
    "                     (7, 'dz9'), (23, 'dz9')]\n",
    "\n",
    "    results = {}\n",
    "    for tool, dz in machine_tools:\n",
    "        result = train_prophet_model(data, tool, dz)\n",
    "        key = f'{dz}_tool{tool}'\n",
    "        results[key] = result\n",
    "\n",
    "    email_body = \"\\n\".join([f\"Date: {np.datetime_as_string(value['date'].values[0], unit='D')}, Machine: {key}, Predicted coolant_value: {value['predicted'].values[0]:.2f}\" for key, value in results.items()])\n",
    "    email_body += \"\\n\\n*Note: If Predicted Date doesn't matches, Machine is either stopped or data is not captured in the database.\"\n",
    "    send_email('DZ Machine Gundrill Coolant_pr | Predicted Result ', email_body, '*****@bosch.com', '*****@bosch.com', '*****')\n",
    "\n",
    "if __name__ == \"__main__\":\n",
    "    main()\n",
    "\n",
    "\n",
    "\n",
    "\n",
    "\n",
    "\n"
   ]
  }
 ],
 "metadata": {
  "kernelspec": {
   "display_name": "Python 3 (ipykernel)",
   "language": "python",
   "name": "python3"
  },
  "language_info": {
   "codemirror_mode": {
    "name": "ipython",
    "version": 3
   },
   "file_extension": ".py",
   "mimetype": "text/x-python",
   "name": "python",
   "nbconvert_exporter": "python",
   "pygments_lexer": "ipython3",
   "version": "3.9.7"
  }
 },
 "nbformat": 4,
 "nbformat_minor": 5
}
