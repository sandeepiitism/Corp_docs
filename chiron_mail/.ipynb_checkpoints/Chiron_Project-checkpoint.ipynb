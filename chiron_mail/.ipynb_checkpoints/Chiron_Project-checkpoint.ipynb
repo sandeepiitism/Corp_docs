{
 "cells": [
  {
   "cell_type": "markdown",
   "id": "62363a10",
   "metadata": {},
   "source": [
    "## Chiron_Database_MailTrigger\n"
   ]
  },
  {
   "cell_type": "markdown",
   "id": "dfa38168",
   "metadata": {},
   "source": [
    "#### using Pyodbc"
   ]
  },
  {
   "cell_type": "code",
   "execution_count": 2,
   "id": "7c508dfe",
   "metadata": {},
   "outputs": [],
   "source": [
    "import pandas as pd\n",
    "from prophet import Prophet\n",
    "import pyodbc\n",
    "import datetime\n",
    "import warnings\n",
    "\n",
    "warnings.filterwarnings(\"ignore\")\n"
   ]
  },
  {
   "cell_type": "code",
   "execution_count": 3,
   "id": "383b3936",
   "metadata": {},
   "outputs": [],
   "source": [
    "import pyodbc\n",
    "cnxn = pyodbc.connect(\"Driver={SQL Server Native Client 11.0};\"\n",
    "                        \"Server=na0vm00024.apac.bosch.com;\"\n",
    "                        \"Database=DB_MFC2DB_SQL;\"\n",
    "                        \"Trusted_Connection=yes;\")"
   ]
  },
  {
   "cell_type": "code",
   "execution_count": 5,
   "id": "fab4c23e",
   "metadata": {},
   "outputs": [
    {
     "data": {
      "text/plain": [
       "\"\\nSELECT CONVERT(date, [TimeStamp]) AS on_date, MAX([CoolantPr]) AS max_value, [PresentTool], 'dz11' AS database_name\\nFROM [DB_MFC2DB_SQL].[dbo].[ChironDZ1]\\nWHERE [PresentTool] =8\\nGROUP BY [PresentTool], CONVERT(date, [TimeStamp])\\n\\nUNION\\n\\nSELECT CONVERT(date, [TimeStamp]) AS on_date, MAX([CoolantPr]) AS max_value, [PresentTool], 'dz10' AS database_name\\nFROM [DB_MFC2DB_SQL].[dbo].[ChironDZ10]\\nWHERE [PresentTool] = 16\\nGROUP BY [PresentTool], CONVERT(date, [TimeStamp])\\n\\nUNION\\n\\nSELECT CONVERT(date, [TimeStamp]) AS on_date, MAX([CoolantPr]) AS max_value, [PresentTool], 'dz9' AS database_name\\nFROM [DB_MFC2DB_SQL].[dbo].[ChironDZ9_1]\\nWHERE [PresentTool] IN (7, 23)\\nGROUP BY [PresentTool], CONVERT(date, [TimeStamp])\\n\\nUNION\\n\\nSELECT CONVERT(date, [TimeStamp]) AS on_date, MAX([CoolantPr]) AS max_value, [PresentTool], 'dz8' AS database_name\\nFROM [DB_MFC2DB_SQL].[dbo].[ChironDZ8]\\nWHERE [PresentTool] =18\\nGROUP BY [PresentTool], CONVERT(date, [TimeStamp])\\n\\nUNION\\n\\nSELECT CONVERT(date, [TimeStamp]) AS on_date, MAX([CoolantPr]) AS max_value, [PresentTool], 'dz7' AS database_name\\nFROM [DB_MFC2DB_SQL].[dbo].[ChironDZ7]\\nWHERE [PresentTool] =8\\nGROUP BY [PresentTool], CONVERT(date, [TimeStamp])\\n\\nUNION\\n\\nSELECT CONVERT(date, [TimeStamp]) AS on_date, MAX([CoolantPr]) AS max_value, [PresentTool], 'dz6' AS database_name\\nFROM [DB_MFC2DB_SQL].[dbo].[ChironDZ6]\\nWHERE [PresentTool] IN (7, 23)\\nGROUP BY [PresentTool], CONVERT(date, [TimeStamp])\\n\\nUNION\\n\\nSELECT CONVERT(date, [TimeStamp]) AS on_date, MAX([CoolantPr]) AS max_value, [PresentTool], 'dz4' AS database_name\\nFROM [DB_MFC2DB_SQL].[dbo].[ChironDZ4]\\nWHERE [PresentTool] IN (8, 23)\\nGROUP BY [PresentTool], CONVERT(date, [TimeStamp])\\n\\nUNION\\n\\nSELECT CONVERT(date, [TimeStamp]) AS on_date, MAX([CoolantPr]) AS max_value, [PresentTool], 'dz3' AS database_name\\nFROM [DB_MFC2DB_SQL].[dbo].[ChironDZ3]\\nWHERE [PresentTool] IN (8, 23)\\nGROUP BY [PresentTool], CONVERT(date, [TimeStamp])\\n\\nUNION\\n\\nSELECT CONVERT(date, [TimeStamp]) AS on_date, MAX([CoolantPr]) AS max_value, [PresentTool], 'dz2' AS database_name\\nFROM [DB_MFC2DB_SQL].[dbo].[ChironDZ2]\\nWHERE [PresentTool] IN (8, 23)\\nGROUP BY [PresentTool], CONVERT(date, [TimeStamp])\\n\\nUNION\\n\\nSELECT CONVERT(date, [TimeStamp]) AS on_date, MAX([CoolantPr]) AS max_value, [PresentTool], 'dz1' AS database_name\\nFROM [DB_MFC2DB_SQL].[dbo].[ChironDZ1]\\nWHERE [PresentTool] IN (8, 23)\\nGROUP BY [PresentTool], CONVERT(date, [TimeStamp])\\n\\nORDER BY on_date ASC;\\n\""
      ]
     },
     "execution_count": 5,
     "metadata": {},
     "output_type": "execute_result"
    }
   ],
   "source": [
    "\"\"\"\n",
    "SELECT CONVERT(date, [TimeStamp]) AS on_date, MAX([CoolantPr]) AS max_value, [PresentTool], 'dz11' AS database_name\n",
    "FROM [DB_MFC2DB_SQL].[dbo].[ChironDZ1]\n",
    "WHERE [PresentTool] =8\n",
    "GROUP BY [PresentTool], CONVERT(date, [TimeStamp])\n",
    "\n",
    "UNION\n",
    "\n",
    "SELECT CONVERT(date, [TimeStamp]) AS on_date, MAX([CoolantPr]) AS max_value, [PresentTool], 'dz10' AS database_name\n",
    "FROM [DB_MFC2DB_SQL].[dbo].[ChironDZ10]\n",
    "WHERE [PresentTool] = 16\n",
    "GROUP BY [PresentTool], CONVERT(date, [TimeStamp])\n",
    "\n",
    "UNION\n",
    "\n",
    "SELECT CONVERT(date, [TimeStamp]) AS on_date, MAX([CoolantPr]) AS max_value, [PresentTool], 'dz9' AS database_name\n",
    "FROM [DB_MFC2DB_SQL].[dbo].[ChironDZ9_1]\n",
    "WHERE [PresentTool] IN (7, 23)\n",
    "GROUP BY [PresentTool], CONVERT(date, [TimeStamp])\n",
    "\n",
    "UNION\n",
    "\n",
    "SELECT CONVERT(date, [TimeStamp]) AS on_date, MAX([CoolantPr]) AS max_value, [PresentTool], 'dz8' AS database_name\n",
    "FROM [DB_MFC2DB_SQL].[dbo].[ChironDZ8]\n",
    "WHERE [PresentTool] =18\n",
    "GROUP BY [PresentTool], CONVERT(date, [TimeStamp])\n",
    "\n",
    "UNION\n",
    "\n",
    "SELECT CONVERT(date, [TimeStamp]) AS on_date, MAX([CoolantPr]) AS max_value, [PresentTool], 'dz7' AS database_name\n",
    "FROM [DB_MFC2DB_SQL].[dbo].[ChironDZ7]\n",
    "WHERE [PresentTool] =8\n",
    "GROUP BY [PresentTool], CONVERT(date, [TimeStamp])\n",
    "\n",
    "UNION\n",
    "\n",
    "SELECT CONVERT(date, [TimeStamp]) AS on_date, MAX([CoolantPr]) AS max_value, [PresentTool], 'dz6' AS database_name\n",
    "FROM [DB_MFC2DB_SQL].[dbo].[ChironDZ6]\n",
    "WHERE [PresentTool] IN (7, 23)\n",
    "GROUP BY [PresentTool], CONVERT(date, [TimeStamp])\n",
    "\n",
    "UNION\n",
    "\n",
    "SELECT CONVERT(date, [TimeStamp]) AS on_date, MAX([CoolantPr]) AS max_value, [PresentTool], 'dz4' AS database_name\n",
    "FROM [DB_MFC2DB_SQL].[dbo].[ChironDZ4]\n",
    "WHERE [PresentTool] IN (8, 23)\n",
    "GROUP BY [PresentTool], CONVERT(date, [TimeStamp])\n",
    "\n",
    "UNION\n",
    "\n",
    "SELECT CONVERT(date, [TimeStamp]) AS on_date, MAX([CoolantPr]) AS max_value, [PresentTool], 'dz3' AS database_name\n",
    "FROM [DB_MFC2DB_SQL].[dbo].[ChironDZ3]\n",
    "WHERE [PresentTool] IN (8, 23)\n",
    "GROUP BY [PresentTool], CONVERT(date, [TimeStamp])\n",
    "\n",
    "UNION\n",
    "\n",
    "SELECT CONVERT(date, [TimeStamp]) AS on_date, MAX([CoolantPr]) AS max_value, [PresentTool], 'dz2' AS database_name\n",
    "FROM [DB_MFC2DB_SQL].[dbo].[ChironDZ2]\n",
    "WHERE [PresentTool] IN (8, 23)\n",
    "GROUP BY [PresentTool], CONVERT(date, [TimeStamp])\n",
    "\n",
    "UNION\n",
    "\n",
    "SELECT CONVERT(date, [TimeStamp]) AS on_date, MAX([CoolantPr]) AS max_value, [PresentTool], 'dz1' AS database_name\n",
    "FROM [DB_MFC2DB_SQL].[dbo].[ChironDZ1]\n",
    "WHERE [PresentTool] IN (8, 23)\n",
    "GROUP BY [PresentTool], CONVERT(date, [TimeStamp])\n",
    "\n",
    "ORDER BY on_date ASC;\n",
    "\"\"\""
   ]
  },
  {
   "cell_type": "code",
   "execution_count": 67,
   "id": "88603e8a",
   "metadata": {},
   "outputs": [],
   "source": [
    "import pandas as pd\n",
    "from prophet import Prophet\n",
    "\n",
    "import io\n",
    "\n",
    "\n",
    "df_coolant = pd.read_csv('dz_test1.csv')\n",
    "\n"
   ]
  },
  {
   "cell_type": "code",
   "execution_count": 68,
   "id": "6a4c1b97",
   "metadata": {},
   "outputs": [
    {
     "name": "stderr",
     "output_type": "stream",
     "text": [
      "15:16:07 - cmdstanpy - INFO - Chain [1] start processing\n",
      "15:16:07 - cmdstanpy - INFO - Chain [1] done processing\n",
      "15:16:07 - cmdstanpy - INFO - Chain [1] start processing\n",
      "15:16:08 - cmdstanpy - INFO - Chain [1] done processing\n"
     ]
    }
   ],
   "source": [
    "### DZ1 code ------------------------------------------------------------------------------------>>>\n",
    "\n",
    "dz1_8 = df_coolant[(df_coolant['tool'] == 8) & (df_coolant['dz']=='dz1')]\n",
    "dz1_23 = df_coolant[(df_coolant['tool'] == 23) & (df_coolant['dz']=='dz1')]\n",
    "\n",
    "### -----------------------------------------------------------------------------------------------###\n",
    "model = Prophet()\n",
    "model.fit(dz1_8)\n",
    "future = model.make_future_dataframe(periods=1)\n",
    "forecast = model.predict(future)\n",
    "result_dz1_8 = forecast[['ds', 'yhat', 'yhat_lower', 'yhat_upper']]\n",
    "result_dz1_8 = result_dz1_8.rename(columns={'ds': 'date', 'yhat': 'predicted', 'yhat_lower': 'lower_range', 'yhat_upper': 'upper_range'})\n",
    "result_dz1_8 = result_dz1_8.tail(1)\n",
    "# print(result_dz1_8)\n",
    "\n",
    "### -----------------------------------------------------------------------------------------------###\n",
    "model = Prophet()\n",
    "model.fit(dz1_23)\n",
    "future = model.make_future_dataframe(periods=1)\n",
    "forecast = model.predict(future)\n",
    "result_dz1_23 = forecast[['ds', 'yhat', 'yhat_lower', 'yhat_upper']]\n",
    "result_dz1_23 = result_dz1_23.rename(columns={'ds': 'date', 'yhat': 'predicted', 'yhat_lower': 'lower_range', 'yhat_upper': 'upper_range'})\n",
    "result_dz1_23 = result_dz1_23.tail(1)\n",
    "# print(result_dz1_23)"
   ]
  },
  {
   "cell_type": "code",
   "execution_count": 69,
   "id": "fc26adfd",
   "metadata": {},
   "outputs": [
    {
     "name": "stderr",
     "output_type": "stream",
     "text": [
      "15:16:08 - cmdstanpy - INFO - Chain [1] start processing\n",
      "15:16:08 - cmdstanpy - INFO - Chain [1] done processing\n",
      "15:16:08 - cmdstanpy - INFO - Chain [1] start processing\n",
      "15:16:09 - cmdstanpy - INFO - Chain [1] done processing\n"
     ]
    }
   ],
   "source": [
    "### DZ2 code ------------------------------------------------------------------------------------>>>\n",
    "\n",
    "dz2_8 = df_coolant[(df_coolant['tool'] == 8) & (df_coolant['dz']=='dz2')]\n",
    "dz2_23 = df_coolant[(df_coolant['tool'] == 23) & (df_coolant['dz']=='dz2')]\n",
    "\n",
    "### -----------------------------------------------------------------------------------------------###\n",
    "model = Prophet()\n",
    "model.fit(dz2_8)\n",
    "future = model.make_future_dataframe(periods=1)\n",
    "forecast = model.predict(future)\n",
    "result_dz2_8 = forecast[['ds', 'yhat', 'yhat_lower', 'yhat_upper']]\n",
    "result_dz2_8 = result_dz2_8.rename(columns={'ds': 'date', 'yhat': 'predicted', 'yhat_lower': 'lower_range', 'yhat_upper': 'upper_range'})\n",
    "result_dz2_8 = result_dz2_8.tail(1)\n",
    "# print(result_dz2_8)\n",
    "\n",
    "### -----------------------------------------------------------------------------------------------###\n",
    "model = Prophet()\n",
    "model.fit(dz2_23)\n",
    "future = model.make_future_dataframe(periods=1)\n",
    "forecast = model.predict(future)\n",
    "result_dz2_23 = forecast[['ds', 'yhat', 'yhat_lower', 'yhat_upper']]\n",
    "result_dz2_23 = result_dz2_23.rename(columns={'ds': 'date', 'yhat': 'predicted', 'yhat_lower': 'lower_range', 'yhat_upper': 'upper_range'})\n",
    "result_dz2_23 = result_dz2_23.tail(1)\n",
    "# print(result_dz2_23)"
   ]
  },
  {
   "cell_type": "code",
   "execution_count": 70,
   "id": "24b8e8d2",
   "metadata": {},
   "outputs": [
    {
     "name": "stderr",
     "output_type": "stream",
     "text": [
      "15:16:09 - cmdstanpy - INFO - Chain [1] start processing\n",
      "15:16:09 - cmdstanpy - INFO - Chain [1] done processing\n",
      "15:16:09 - cmdstanpy - INFO - Chain [1] start processing\n",
      "15:16:09 - cmdstanpy - INFO - Chain [1] done processing\n"
     ]
    }
   ],
   "source": [
    "### DZ3 code ------------------------------------------------------------------------------------>>>\n",
    "\n",
    "dz3_8 = df_coolant[(df_coolant['tool'] == 8) & (df_coolant['dz']=='dz3')]\n",
    "dz3_23 = df_coolant[(df_coolant['tool'] == 23) & (df_coolant['dz']=='dz3')]\n",
    "\n",
    "### -----------------------------------------------------------------------------------------------###\n",
    "model = Prophet()\n",
    "model.fit(dz3_8)\n",
    "future = model.make_future_dataframe(periods=1)\n",
    "forecast = model.predict(future)\n",
    "result_dz3_8 = forecast[['ds', 'yhat', 'yhat_lower', 'yhat_upper']]\n",
    "result_dz3_8 = result_dz3_8.rename(columns={'ds': 'date', 'yhat': 'predicted', 'yhat_lower': 'lower_range', 'yhat_upper': 'upper_range'})\n",
    "result_dz3_8 = result_dz3_8.tail(1)\n",
    "# print(result_dz3_8)\n",
    "\n",
    "### -----------------------------------------------------------------------------------------------###\n",
    "model = Prophet()\n",
    "model.fit(dz3_23)\n",
    "future = model.make_future_dataframe(periods=1)\n",
    "forecast = model.predict(future)\n",
    "result_dz3_23 = forecast[['ds', 'yhat', 'yhat_lower', 'yhat_upper']]\n",
    "result_dz3_23 = result_dz3_23.rename(columns={'ds': 'date', 'yhat': 'predicted', 'yhat_lower': 'lower_range', 'yhat_upper': 'upper_range'})\n",
    "result_dz3_23 = result_dz3_23.tail(1)\n",
    "# print(result_dz3_23)"
   ]
  },
  {
   "cell_type": "code",
   "execution_count": 71,
   "id": "92cb0b40",
   "metadata": {},
   "outputs": [
    {
     "name": "stderr",
     "output_type": "stream",
     "text": [
      "15:16:10 - cmdstanpy - INFO - Chain [1] start processing\n",
      "15:16:10 - cmdstanpy - INFO - Chain [1] done processing\n",
      "15:16:10 - cmdstanpy - INFO - Chain [1] start processing\n",
      "15:16:10 - cmdstanpy - INFO - Chain [1] done processing\n"
     ]
    }
   ],
   "source": [
    "### DZ4 code ------------------------------------------------------------------------------------>>>\n",
    "\n",
    "dz4_8 = df_coolant[(df_coolant['tool'] == 8) & (df_coolant['dz']=='dz4')]\n",
    "dz4_23 = df_coolant[(df_coolant['tool'] == 23) & (df_coolant['dz']=='dz4')]\n",
    "\n",
    "### -----------------------------------------------------------------------------------------------###\n",
    "model = Prophet()\n",
    "model.fit(dz4_8)\n",
    "future = model.make_future_dataframe(periods=1)\n",
    "forecast = model.predict(future)\n",
    "result_dz4_8 = forecast[['ds', 'yhat', 'yhat_lower', 'yhat_upper']]\n",
    "result_dz4_8 = result_dz4_8.rename(columns={'ds': 'date', 'yhat': 'predicted', 'yhat_lower': 'lower_range', 'yhat_upper': 'upper_range'})\n",
    "result_dz4_8 = result_dz4_8.tail(1)\n",
    "# print(result_dz4_8)\n",
    "\n",
    "### -----------------------------------------------------------------------------------------------###\n",
    "model = Prophet()\n",
    "model.fit(dz4_23)\n",
    "future = model.make_future_dataframe(periods=1)\n",
    "forecast = model.predict(future)\n",
    "result_dz4_23 = forecast[['ds', 'yhat', 'yhat_lower', 'yhat_upper']]\n",
    "result_dz4_23 = result_dz4_23.rename(columns={'ds': 'date', 'yhat': 'predicted', 'yhat_lower': 'lower_range', 'yhat_upper': 'upper_range'})\n",
    "result_dz4_23 = result_dz4_23.tail(1)\n",
    "# print(result_dz4_23)"
   ]
  },
  {
   "cell_type": "code",
   "execution_count": 72,
   "id": "7fdc214d",
   "metadata": {},
   "outputs": [
    {
     "name": "stderr",
     "output_type": "stream",
     "text": [
      "15:16:10 - cmdstanpy - INFO - Chain [1] start processing\n",
      "15:16:11 - cmdstanpy - INFO - Chain [1] done processing\n",
      "15:16:11 - cmdstanpy - INFO - Chain [1] start processing\n",
      "15:16:11 - cmdstanpy - INFO - Chain [1] done processing\n"
     ]
    }
   ],
   "source": [
    "### DZ6 code ------------------------------------------------------------------------------------>>>\n",
    "\n",
    "dz6_7 = df_coolant[(df_coolant['tool'] == 7) & (df_coolant['dz']=='dz6')]\n",
    "dz6_23 = df_coolant[(df_coolant['tool'] == 23) & (df_coolant['dz']=='dz6')]\n",
    "\n",
    "### -----------------------------------------------------------------------------------------------###\n",
    "model = Prophet()\n",
    "model.fit(dz6_7)\n",
    "future = model.make_future_dataframe(periods=1)\n",
    "forecast = model.predict(future)\n",
    "result_dz6_7 = forecast[['ds', 'yhat', 'yhat_lower', 'yhat_upper']]\n",
    "result_dz6_7 = result_dz6_7.rename(columns={'ds': 'date', 'yhat': 'predicted', 'yhat_lower': 'lower_range', 'yhat_upper': 'upper_range'})\n",
    "result_dz6_7 = result_dz6_7.tail(1)\n",
    "# print(result_dz6_7)\n",
    "\n",
    "### -----------------------------------------------------------------------------------------------###\n",
    "model = Prophet()\n",
    "model.fit(dz6_23)\n",
    "future = model.make_future_dataframe(periods=1)\n",
    "forecast = model.predict(future)\n",
    "result_dz6_23 = forecast[['ds', 'yhat', 'yhat_lower', 'yhat_upper']]\n",
    "result_dz6_23 = result_dz6_23.rename(columns={'ds': 'date', 'yhat': 'predicted', 'yhat_lower': 'lower_range', 'yhat_upper': 'upper_range'})\n",
    "result_dz6_23 = result_dz6_23.tail(1)\n",
    "# print(result_dz6_23)"
   ]
  },
  {
   "cell_type": "code",
   "execution_count": 73,
   "id": "d5d41dd3",
   "metadata": {},
   "outputs": [
    {
     "name": "stderr",
     "output_type": "stream",
     "text": [
      "15:16:11 - cmdstanpy - INFO - Chain [1] start processing\n",
      "15:16:11 - cmdstanpy - INFO - Chain [1] done processing\n"
     ]
    }
   ],
   "source": [
    "### DZ7 code ------------------------------------------------------------------------------------>>>\n",
    "\n",
    "dz7_8 = df_coolant[(df_coolant['tool'] == 8) & (df_coolant['dz']=='dz7')]\n",
    "\n",
    "### -----------------------------------------------------------------------------------------------###\n",
    "model = Prophet()\n",
    "model.fit(dz7_8)\n",
    "future = model.make_future_dataframe(periods=1)\n",
    "forecast = model.predict(future)\n",
    "result_dz7_8 = forecast[['ds', 'yhat', 'yhat_lower', 'yhat_upper']]\n",
    "result_dz7_8 = result_dz7_8.rename(columns={'ds': 'date', 'yhat': 'predicted', 'yhat_lower': 'lower_range', 'yhat_upper': 'upper_range'})\n",
    "result_dz7_8 = result_dz7_8.tail(1)\n",
    "# print(result_dz7_8)\n",
    "\n"
   ]
  },
  {
   "cell_type": "code",
   "execution_count": 74,
   "id": "74756f54",
   "metadata": {},
   "outputs": [
    {
     "name": "stderr",
     "output_type": "stream",
     "text": [
      "15:16:12 - cmdstanpy - INFO - Chain [1] start processing\n",
      "15:16:12 - cmdstanpy - INFO - Chain [1] done processing\n"
     ]
    }
   ],
   "source": [
    "### DZ8 code ------------------------------------------------------------------------------------>>>\n",
    "\n",
    "dz8_18 = df_coolant[(df_coolant['tool'] == 18) & (df_coolant['dz']=='dz8')]\n",
    "\n",
    "### -----------------------------------------------------------------------------------------------###\n",
    "model = Prophet()\n",
    "model.fit(dz8_18)\n",
    "future = model.make_future_dataframe(periods=1)\n",
    "forecast = model.predict(future)\n",
    "result_dz8_18 = forecast[['ds', 'yhat', 'yhat_lower', 'yhat_upper']]\n",
    "result_dz8_18 = result_dz8_18.rename(columns={'ds': 'date', 'yhat': 'predicted', 'yhat_lower': 'lower_range', 'yhat_upper': 'upper_range'})\n",
    "result_dz8_18 = result_dz8_18.tail(1)\n",
    "# print(result_dz8_18)\n",
    "\n"
   ]
  },
  {
   "cell_type": "code",
   "execution_count": 75,
   "id": "c6ba813f",
   "metadata": {},
   "outputs": [
    {
     "name": "stderr",
     "output_type": "stream",
     "text": [
      "15:16:12 - cmdstanpy - INFO - Chain [1] start processing\n",
      "15:16:12 - cmdstanpy - INFO - Chain [1] done processing\n",
      "15:16:13 - cmdstanpy - INFO - Chain [1] start processing\n",
      "15:16:13 - cmdstanpy - INFO - Chain [1] done processing\n"
     ]
    }
   ],
   "source": [
    "### DZ9 code ------------------------------------------------------------------------------------>>>\n",
    "\n",
    "dz9_7 = df_coolant[(df_coolant['tool'] == 7) & (df_coolant['dz']=='dz9')]\n",
    "dz9_23 = df_coolant[(df_coolant['tool'] == 23) & (df_coolant['dz']=='dz9')]\n",
    "\n",
    "### -----------------------------------------------------------------------------------------------###\n",
    "model = Prophet()\n",
    "model.fit(dz9_7)\n",
    "future = model.make_future_dataframe(periods=1)\n",
    "forecast = model.predict(future)\n",
    "result_dz9_7 = forecast[['ds', 'yhat', 'yhat_lower', 'yhat_upper']]\n",
    "result_dz9_7 = result_dz9_7.rename(columns={'ds': 'date', 'yhat': 'predicted', 'yhat_lower': 'lower_range', 'yhat_upper': 'upper_range'})\n",
    "result_dz9_7 = result_dz9_7.tail(1)\n",
    "# print(result_dz9_7)\n",
    "\n",
    "### -----------------------------------------------------------------------------------------------###\n",
    "model = Prophet()\n",
    "model.fit(dz9_23)\n",
    "future = model.make_future_dataframe(periods=1)\n",
    "forecast = model.predict(future)\n",
    "result_dz9_23 = forecast[['ds', 'yhat', 'yhat_lower', 'yhat_upper']]\n",
    "result_dz9_23 = result_dz9_23.rename(columns={'ds': 'date', 'yhat': 'predicted', 'yhat_lower': 'lower_range', 'yhat_upper': 'upper_range'})\n",
    "result_dz9_23 = result_dz9_23.tail(1)\n",
    "# print(result_dz9_23)"
   ]
  },
  {
   "cell_type": "code",
   "execution_count": 76,
   "id": "a354b039",
   "metadata": {},
   "outputs": [
    {
     "name": "stderr",
     "output_type": "stream",
     "text": [
      "15:16:13 - cmdstanpy - INFO - Chain [1] start processing\n",
      "15:16:13 - cmdstanpy - INFO - Chain [1] done processing\n"
     ]
    }
   ],
   "source": [
    "### DZ11 code ------------------------------------------------------------------------------------>>>\n",
    "\n",
    "dz11_8 = df_coolant[(df_coolant['tool'] == 8) & (df_coolant['dz']=='dz11')]\n",
    "\n",
    "### -----------------------------------------------------------------------------------------------###\n",
    "model = Prophet()\n",
    "model.fit(dz11_8)\n",
    "future = model.make_future_dataframe(periods=1)\n",
    "forecast = model.predict(future)\n",
    "result_dz11_8 = forecast[['ds', 'yhat', 'yhat_lower', 'yhat_upper']]\n",
    "result_dz11_8 = result_dz11_8.rename(columns={'ds': 'date', 'yhat': 'predicted', 'yhat_lower': 'lower_range', 'yhat_upper': 'upper_range'})\n",
    "result_dz11_8 = result_dz11_8.tail(1)\n",
    "\n",
    "# print(result_dz11_8)"
   ]
  },
  {
   "cell_type": "code",
   "execution_count": null,
   "id": "4157c258",
   "metadata": {},
   "outputs": [],
   "source": []
  },
  {
   "cell_type": "code",
   "execution_count": null,
   "id": "845769f8",
   "metadata": {},
   "outputs": [],
   "source": []
  },
  {
   "cell_type": "code",
   "execution_count": 77,
   "id": "6f1c1014",
   "metadata": {},
   "outputs": [],
   "source": [
    "import smtplib\n",
    "from smtplib import SMTP\n",
    "debuglevel=0\n",
    "\n",
    "FROM = \"chs9na@bosch.com\"\n",
    "TO = \"chs9na@bosch.com\"\n",
    "# TO = \"vrs3na@bosch.com\", \"wat2na@bosch.com\", \"bhy2na@bosch.com\", \"spk1na@bosch.com\"\n",
    "PASSWORD = \"Welcome@Nashik0\"\n",
    "\n",
    "SUBJECT = \"DZ Machine Gundrill Coolant_pr | 14th_FEB Prediction | TestingPhase\"\n",
    "TEXT = (f'<<<------------predicted dz1 tool 8 is ------------->>> \\n {result_dz1_8} \\n \\n' +\n",
    "        f'<<<------------predicted dz1 tool 23 is ------------->>> \\n {result_dz1_23} \\n \\n' +\n",
    "        f'<<<------------predicted dz2 tool 8 is ------------->>> \\n {result_dz2_8} \\n \\n' +\n",
    "        f'<<<------------predicted dz2 tool 23 is ------------->>> \\n {result_dz2_23}\\n \\n' +\n",
    "        f'<<<------------predicted dz3 tool 8 is ------------->>> \\n {result_dz3_8}\\n \\n' +\n",
    "        f'<<<------------predicted dz3 tool 23 is ------------->>> \\n {result_dz3_23}\\n \\n' +\n",
    "        f'<<<------------predicted dz4 tool 8 is ------------->>> \\n {result_dz4_8} \\n \\n' +\n",
    "        f'<<<------------predicted dz4 tool 23 is ------------->>> \\n {result_dz4_23} \\n \\n' +\n",
    "        f'<<<------------predicted dz6 tool 7 is ------------->>> \\n {result_dz6_7}\\n \\n' +\n",
    "        f'<<<------------predicted dz6 tool 23 is ------------->>> \\n {result_dz6_23}\\n \\n' +\n",
    "        f'<<<------------predicted dz7 tool 8 is ------------->>> \\n {result_dz7_8}\\n \\n' +\n",
    "        f'<<<------------predicted dz8 tool 18 is ------------->>> \\n {result_dz8_18} \\n \\n' +\n",
    "        f'<<<------------predicted dz9 tool 7 is ------------->>> \\n {result_dz9_7}\\n \\n' +\n",
    "        f'<<<------------predicted dz9 tool 23 is ------------->>> \\n {result_dz9_23}\\n \\n' +\n",
    "        f'<<<------------predicted dz11 tool 8 is ------------->>> \\n {result_dz11_8}\\n \\n')\n",
    "        \n",
    "        \n",
    "\n",
    "message = 'Subject: {}\\n\\n{}'.format(SUBJECT, TEXT)\n",
    "\n",
    "try:\n",
    "    server = smtplib.SMTP('rb-smtp-auth.rbesz01.com', 25)\n",
    "    server.starttls() \n",
    "    server.login(FROM, PASSWORD)\n",
    "    server.sendmail(FROM, TO, message)\n",
    "    server.quit()\n",
    "except Exception as e:\n",
    "    print(e)"
   ]
  },
  {
   "cell_type": "code",
   "execution_count": null,
   "id": "f6884841",
   "metadata": {},
   "outputs": [],
   "source": []
  },
  {
   "cell_type": "code",
   "execution_count": null,
   "id": "f56c72c2",
   "metadata": {},
   "outputs": [],
   "source": []
  }
 ],
 "metadata": {
  "kernelspec": {
   "display_name": "Python 3 (ipykernel)",
   "language": "python",
   "name": "python3"
  },
  "language_info": {
   "codemirror_mode": {
    "name": "ipython",
    "version": 3
   },
   "file_extension": ".py",
   "mimetype": "text/x-python",
   "name": "python",
   "nbconvert_exporter": "python",
   "pygments_lexer": "ipython3",
   "version": "3.9.7"
  }
 },
 "nbformat": 4,
 "nbformat_minor": 5
}
