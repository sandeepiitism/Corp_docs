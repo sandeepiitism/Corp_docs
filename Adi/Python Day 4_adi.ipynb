{
 "cells": [
  {
   "cell_type": "markdown",
   "id": "cab68417",
   "metadata": {},
   "source": [
    "# Operators"
   ]
  },
  {
   "cell_type": "code",
   "execution_count": 3,
   "id": "5fb98cbb",
   "metadata": {},
   "outputs": [
    {
     "name": "stdout",
     "output_type": "stream",
     "text": [
      "7\n"
     ]
    }
   ],
   "source": [
    "#Addition\n",
    "var1=5\n",
    "var2=2\n",
    "result=(var1+var2)\n",
    "print(result)\n",
    "\n"
   ]
  },
  {
   "cell_type": "code",
   "execution_count": 11,
   "id": "64bc087b",
   "metadata": {},
   "outputs": [
    {
     "name": "stdout",
     "output_type": "stream",
     "text": [
      "enter num1: 3\n",
      "enter num2: 4\n",
      "7\n"
     ]
    }
   ],
   "source": [
    "#Addition with user input\n",
    "var3=input(\"enter num1: \")\n",
    "var4 = input(\"enter num2: \")\n",
    "result1=(int(var3)+int(var4))\n",
    "print(result1)\n"
   ]
  },
  {
   "cell_type": "code",
   "execution_count": 13,
   "id": "a088eba3",
   "metadata": {},
   "outputs": [
    {
     "name": "stdout",
     "output_type": "stream",
     "text": [
      "my name is 3 and age is 4\n"
     ]
    }
   ],
   "source": [
    "# addition with f-string\n",
    "\n",
    "print(f'my name is {var3} and age is {var4}')"
   ]
  },
  {
   "cell_type": "code",
   "execution_count": 18,
   "id": "bcacdfbb",
   "metadata": {},
   "outputs": [
    {
     "name": "stdout",
     "output_type": "stream",
     "text": [
      "enter num1: 6\n",
      "enter num2: 9\n",
      "addition of 6 with 9 is 15\n"
     ]
    }
   ],
   "source": [
    "var5=input(\"enter num1: \")\n",
    "var6 = input(\"enter num2: \")\n",
    "result2=(int(var5)+int(var6))\n",
    "\n",
    "print(f'addition of {var5} with {var6} is {result2}')"
   ]
  },
  {
   "cell_type": "code",
   "execution_count": 23,
   "id": "e0b5a14a",
   "metadata": {},
   "outputs": [
    {
     "data": {
      "text/plain": [
       "1"
      ]
     },
     "execution_count": 23,
     "metadata": {},
     "output_type": "execute_result"
    }
   ],
   "source": [
    "# reminder\n",
    "a=9\n",
    "b=8\n",
    "a%b"
   ]
  },
  {
   "cell_type": "code",
   "execution_count": 24,
   "id": "06513b1f",
   "metadata": {},
   "outputs": [
    {
     "data": {
      "text/plain": [
       "1"
      ]
     },
     "execution_count": 24,
     "metadata": {},
     "output_type": "execute_result"
    }
   ],
   "source": [
    "# nearest round number\n",
    "a//b"
   ]
  },
  {
   "cell_type": "code",
   "execution_count": 25,
   "id": "b04d37a3",
   "metadata": {},
   "outputs": [
    {
     "name": "stdout",
     "output_type": "stream",
     "text": [
      "29\n"
     ]
    }
   ],
   "source": [
    "var_a=10\n",
    "var_a=var_a+19\n",
    "print(var_a)"
   ]
  },
  {
   "cell_type": "code",
   "execution_count": 29,
   "id": "1b8e1fcf",
   "metadata": {},
   "outputs": [
    {
     "data": {
      "text/plain": [
       "29"
      ]
     },
     "execution_count": 29,
     "metadata": {},
     "output_type": "execute_result"
    }
   ],
   "source": [
    "var_b = 10\n",
    "var_b +=19\n",
    "var_b"
   ]
  },
  {
   "cell_type": "code",
   "execution_count": 30,
   "id": "fb8237c2",
   "metadata": {},
   "outputs": [
    {
     "data": {
      "text/plain": [
       "200"
      ]
     },
     "execution_count": 30,
     "metadata": {},
     "output_type": "execute_result"
    }
   ],
   "source": [
    "var_c =10\n",
    "var_c *=20\n",
    "var_c"
   ]
  },
  {
   "cell_type": "markdown",
   "id": "43553cbf",
   "metadata": {},
   "source": [
    "#Comparision"
   ]
  },
  {
   "cell_type": "code",
   "execution_count": 31,
   "id": "7b612c88",
   "metadata": {},
   "outputs": [
    {
     "data": {
      "text/plain": [
       "False"
      ]
     },
     "execution_count": 31,
     "metadata": {},
     "output_type": "execute_result"
    }
   ],
   "source": [
    "var_d = 30\n",
    "var_e = 40\n",
    "\n",
    "var_d == var_e"
   ]
  },
  {
   "cell_type": "code",
   "execution_count": 32,
   "id": "fac95366",
   "metadata": {},
   "outputs": [
    {
     "data": {
      "text/plain": [
       "False"
      ]
     },
     "execution_count": 32,
     "metadata": {},
     "output_type": "execute_result"
    }
   ],
   "source": [
    "var_d > var_e"
   ]
  },
  {
   "cell_type": "code",
   "execution_count": 33,
   "id": "b2b07dbf",
   "metadata": {},
   "outputs": [
    {
     "data": {
      "text/plain": [
       "True"
      ]
     },
     "execution_count": 33,
     "metadata": {},
     "output_type": "execute_result"
    }
   ],
   "source": [
    "var_d < var_e"
   ]
  },
  {
   "cell_type": "code",
   "execution_count": 41,
   "id": "70578eaa",
   "metadata": {},
   "outputs": [
    {
     "name": "stdout",
     "output_type": "stream",
     "text": [
      "enter num1: 6\n",
      "enter num2: 6\n"
     ]
    }
   ],
   "source": [
    "var_e=int(input(\"enter num1: \"))\n",
    "var_f = int(input(\"enter num2: \"))\n"
   ]
  },
  {
   "cell_type": "code",
   "execution_count": 42,
   "id": "d5f2f6a4",
   "metadata": {},
   "outputs": [
    {
     "data": {
      "text/plain": [
       "True"
      ]
     },
     "execution_count": 42,
     "metadata": {},
     "output_type": "execute_result"
    }
   ],
   "source": [
    "var_e == var_f"
   ]
  },
  {
   "cell_type": "code",
   "execution_count": 43,
   "id": "d901e057",
   "metadata": {},
   "outputs": [
    {
     "data": {
      "text/plain": [
       "int"
      ]
     },
     "execution_count": 43,
     "metadata": {},
     "output_type": "execute_result"
    }
   ],
   "source": [
    "type(var_e)"
   ]
  },
  {
   "cell_type": "code",
   "execution_count": 44,
   "id": "2d351399",
   "metadata": {},
   "outputs": [
    {
     "data": {
      "text/plain": [
       "True"
      ]
     },
     "execution_count": 44,
     "metadata": {},
     "output_type": "execute_result"
    }
   ],
   "source": [
    "# is\n",
    "a = 10\n",
    "b = 10\n",
    "\n",
    "a is b"
   ]
  },
  {
   "cell_type": "code",
   "execution_count": 45,
   "id": "0817ffbe",
   "metadata": {},
   "outputs": [
    {
     "data": {
      "text/plain": [
       "True"
      ]
     },
     "execution_count": 45,
     "metadata": {},
     "output_type": "execute_result"
    }
   ],
   "source": [
    "b is a"
   ]
  },
  {
   "cell_type": "code",
   "execution_count": 46,
   "id": "61c1e135",
   "metadata": {},
   "outputs": [
    {
     "data": {
      "text/plain": [
       "2473199692368"
      ]
     },
     "execution_count": 46,
     "metadata": {},
     "output_type": "execute_result"
    }
   ],
   "source": [
    "id(a)"
   ]
  },
  {
   "cell_type": "code",
   "execution_count": 47,
   "id": "0c4d3c4f",
   "metadata": {},
   "outputs": [
    {
     "data": {
      "text/plain": [
       "2473199692368"
      ]
     },
     "execution_count": 47,
     "metadata": {},
     "output_type": "execute_result"
    }
   ],
   "source": [
    "id(b)"
   ]
  },
  {
   "cell_type": "code",
   "execution_count": 48,
   "id": "9a24a2af",
   "metadata": {},
   "outputs": [
    {
     "name": "stdout",
     "output_type": "stream",
     "text": [
      "2473199692368\n",
      "2473199692368\n"
     ]
    }
   ],
   "source": [
    "a = 10\n",
    "b = 10\n",
    "\n",
    "print(id(a))\n",
    "print(id(b))"
   ]
  },
  {
   "cell_type": "code",
   "execution_count": 54,
   "id": "1d474002",
   "metadata": {},
   "outputs": [
    {
     "data": {
      "text/plain": [
       "True"
      ]
     },
     "execution_count": 54,
     "metadata": {},
     "output_type": "execute_result"
    }
   ],
   "source": [
    "a = 10\n",
    "b = 5\n",
    "\n",
    "a != b #not equal"
   ]
  },
  {
   "cell_type": "markdown",
   "id": "161a3595",
   "metadata": {},
   "source": [
    "## Logic Funtions"
   ]
  },
  {
   "cell_type": "code",
   "execution_count": 55,
   "id": "b8d3db24",
   "metadata": {},
   "outputs": [
    {
     "data": {
      "text/plain": [
       "False"
      ]
     },
     "execution_count": 55,
     "metadata": {},
     "output_type": "execute_result"
    }
   ],
   "source": [
    "#and\n",
    "var_e = True\n",
    "var_f= False\n",
    "\n",
    "var_e and var_f\n",
    "\n"
   ]
  },
  {
   "cell_type": "code",
   "execution_count": 56,
   "id": "23e64ca0",
   "metadata": {},
   "outputs": [
    {
     "data": {
      "text/plain": [
       "True"
      ]
     },
     "execution_count": 56,
     "metadata": {},
     "output_type": "execute_result"
    }
   ],
   "source": [
    "var_e or var_f"
   ]
  },
  {
   "cell_type": "code",
   "execution_count": 57,
   "id": "5a634da1",
   "metadata": {},
   "outputs": [
    {
     "data": {
      "text/plain": [
       "False"
      ]
     },
     "execution_count": 57,
     "metadata": {},
     "output_type": "execute_result"
    }
   ],
   "source": [
    "not var_e "
   ]
  },
  {
   "cell_type": "markdown",
   "id": "5395dcc6",
   "metadata": {},
   "source": [
    "### Bitwise"
   ]
  },
  {
   "cell_type": "code",
   "execution_count": 62,
   "id": "36c8f9a7",
   "metadata": {},
   "outputs": [
    {
     "data": {
      "text/plain": [
       "False"
      ]
     },
     "execution_count": 62,
     "metadata": {},
     "output_type": "execute_result"
    }
   ],
   "source": [
    "var_e & var_f"
   ]
  },
  {
   "cell_type": "markdown",
   "id": "67490b71",
   "metadata": {},
   "source": [
    "### Assignments\n",
    "\n",
    "1. Swap two numbers.\n",
    "2. Find the area of a square, rectangle and circle.\n",
    "3. Which area is greater and which is smaller.\n",
    "4. user enters weight in grams. convert it to kg.\n",
    "5. user gives the radius and you print the area of the circle."
   ]
  },
  {
   "cell_type": "code",
   "execution_count": null,
   "id": "d9d22ce7",
   "metadata": {},
   "outputs": [],
   "source": []
  }
 ],
 "metadata": {
  "kernelspec": {
   "display_name": "Python 3 (ipykernel)",
   "language": "python",
   "name": "python3"
  },
  "language_info": {
   "codemirror_mode": {
    "name": "ipython",
    "version": 3
   },
   "file_extension": ".py",
   "mimetype": "text/x-python",
   "name": "python",
   "nbconvert_exporter": "python",
   "pygments_lexer": "ipython3",
   "version": "3.9.7"
  }
 },
 "nbformat": 4,
 "nbformat_minor": 5
}
