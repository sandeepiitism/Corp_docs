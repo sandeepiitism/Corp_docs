{
 "cells": [
  {
   "cell_type": "markdown",
   "id": "a765849e",
   "metadata": {},
   "source": [
    "# Python Data structure"
   ]
  },
  {
   "cell_type": "markdown",
   "id": "c33ef0d9",
   "metadata": {},
   "source": [
    "1. List --> []\n",
    "2. Tupple --> ()\n",
    "3. Set --> {}\n",
    "4. Dictionary --> {}"
   ]
  },
  {
   "cell_type": "markdown",
   "id": "ca1dde61",
   "metadata": {},
   "source": [
    "## 1. LIST"
   ]
  },
  {
   "cell_type": "code",
   "execution_count": 1,
   "id": "0bb5235d",
   "metadata": {},
   "outputs": [],
   "source": [
    "l1 = [] #square bracket"
   ]
  },
  {
   "cell_type": "code",
   "execution_count": 2,
   "id": "fddfa81e",
   "metadata": {},
   "outputs": [
    {
     "data": {
      "text/plain": [
       "list"
      ]
     },
     "execution_count": 2,
     "metadata": {},
     "output_type": "execute_result"
    }
   ],
   "source": [
    "type(l1)"
   ]
  },
  {
   "cell_type": "code",
   "execution_count": 3,
   "id": "0a05bd8b",
   "metadata": {},
   "outputs": [
    {
     "data": {
      "text/plain": [
       "list"
      ]
     },
     "execution_count": 3,
     "metadata": {},
     "output_type": "execute_result"
    }
   ],
   "source": [
    "l2 =[2,3,4]\n",
    "type(l2)"
   ]
  },
  {
   "cell_type": "code",
   "execution_count": 4,
   "id": "1720ff47",
   "metadata": {},
   "outputs": [
    {
     "data": {
      "text/plain": [
       "list"
      ]
     },
     "execution_count": 4,
     "metadata": {},
     "output_type": "execute_result"
    }
   ],
   "source": [
    "l3 = [2.33, 5.66, 4.56]\n",
    "type(l3)"
   ]
  },
  {
   "cell_type": "code",
   "execution_count": 6,
   "id": "74a09eac",
   "metadata": {},
   "outputs": [
    {
     "name": "stdout",
     "output_type": "stream",
     "text": [
      "[1, 2, 3.44, 6.55, False, 'Sandeep', (3+3j)]\n"
     ]
    }
   ],
   "source": [
    "l4 = [1,2,3.44,6.55,False, 'Sandeep', 3+3j] # list of all data types\n",
    "print(l4)"
   ]
  },
  {
   "cell_type": "code",
   "execution_count": 7,
   "id": "a93e4b2d",
   "metadata": {},
   "outputs": [
    {
     "data": {
      "text/plain": [
       "[4, 5, 6, [6, 7, 8], False, 'Sandeep', (3+3j)]"
      ]
     },
     "execution_count": 7,
     "metadata": {},
     "output_type": "execute_result"
    }
   ],
   "source": [
    "l5 = [4,5,6, [6,7,8],False, 'Sandeep', 3+3j] # list inside a list\n",
    "l5"
   ]
  },
  {
   "cell_type": "code",
   "execution_count": 8,
   "id": "61ad291b",
   "metadata": {},
   "outputs": [
    {
     "data": {
      "text/plain": [
       "[2.33, 5.66, 4.56, 1, 2, 3.44, 6.55, False, 'Sandeep', (3+3j)]"
      ]
     },
     "execution_count": 8,
     "metadata": {},
     "output_type": "execute_result"
    }
   ],
   "source": [
    "l3+l4 #concatenation --> list with list"
   ]
  },
  {
   "cell_type": "code",
   "execution_count": 9,
   "id": "510dccd0",
   "metadata": {},
   "outputs": [
    {
     "ename": "TypeError",
     "evalue": "can only concatenate list (not \"str\") to list",
     "output_type": "error",
     "traceback": [
      "\u001b[1;31m---------------------------------------------------------------------------\u001b[0m",
      "\u001b[1;31mTypeError\u001b[0m                                 Traceback (most recent call last)",
      "\u001b[1;32m~\\AppData\\Local\\Temp/ipykernel_16744/1834094869.py\u001b[0m in \u001b[0;36m<module>\u001b[1;34m\u001b[0m\n\u001b[1;32m----> 1\u001b[1;33m \u001b[0ml3\u001b[0m\u001b[1;33m+\u001b[0m\u001b[1;34m\"aditya\"\u001b[0m\u001b[1;33m\u001b[0m\u001b[1;33m\u001b[0m\u001b[0m\n\u001b[0m",
      "\u001b[1;31mTypeError\u001b[0m: can only concatenate list (not \"str\") to list"
     ]
    }
   ],
   "source": [
    "l3+\"aditya\" # list with other data types concatenation not possible"
   ]
  },
  {
   "cell_type": "code",
   "execution_count": 10,
   "id": "0fe449c8",
   "metadata": {},
   "outputs": [
    {
     "data": {
      "text/plain": [
       "['a', 'd', 'i', 't', 'y', 'a']"
      ]
     },
     "execution_count": 10,
     "metadata": {},
     "output_type": "execute_result"
    }
   ],
   "source": [
    "list(\"aditya\")"
   ]
  },
  {
   "cell_type": "code",
   "execution_count": 11,
   "id": "ef531475",
   "metadata": {},
   "outputs": [
    {
     "data": {
      "text/plain": [
       "['h',\n",
       " 'i',\n",
       " ' ',\n",
       " 'a',\n",
       " 'd',\n",
       " 'i',\n",
       " 't',\n",
       " 'y',\n",
       " 'a',\n",
       " ' ',\n",
       " 'I',\n",
       " ' ',\n",
       " 'a',\n",
       " 'm',\n",
       " ' ',\n",
       " 'l',\n",
       " 'e',\n",
       " 'a',\n",
       " 'r',\n",
       " 'n',\n",
       " 'i',\n",
       " 'n',\n",
       " 'g',\n",
       " ' ',\n",
       " 'p',\n",
       " 'y',\n",
       " 't',\n",
       " 'h',\n",
       " 'o',\n",
       " 'n']"
      ]
     },
     "execution_count": 11,
     "metadata": {},
     "output_type": "execute_result"
    }
   ],
   "source": [
    "list(\"hi aditya I am learning python\")"
   ]
  },
  {
   "cell_type": "code",
   "execution_count": 12,
   "id": "13069244",
   "metadata": {},
   "outputs": [
    {
     "ename": "TypeError",
     "evalue": "'int' object is not iterable",
     "output_type": "error",
     "traceback": [
      "\u001b[1;31m---------------------------------------------------------------------------\u001b[0m",
      "\u001b[1;31mTypeError\u001b[0m                                 Traceback (most recent call last)",
      "\u001b[1;32m~\\AppData\\Local\\Temp/ipykernel_16744/3663104331.py\u001b[0m in \u001b[0;36m<module>\u001b[1;34m\u001b[0m\n\u001b[1;32m----> 1\u001b[1;33m \u001b[0mlist\u001b[0m\u001b[1;33m(\u001b[0m\u001b[1;36m12345\u001b[0m\u001b[1;33m)\u001b[0m\u001b[1;33m\u001b[0m\u001b[1;33m\u001b[0m\u001b[0m\n\u001b[0m",
      "\u001b[1;31mTypeError\u001b[0m: 'int' object is not iterable"
     ]
    }
   ],
   "source": [
    "list(12345)"
   ]
  },
  {
   "cell_type": "code",
   "execution_count": 13,
   "id": "76176767",
   "metadata": {},
   "outputs": [
    {
     "data": {
      "text/plain": [
       "['sandeep', 123, 'sandeep', 123, 'sandeep', 123]"
      ]
     },
     "execution_count": 13,
     "metadata": {},
     "output_type": "execute_result"
    }
   ],
   "source": [
    "# multiplication\n",
    "\n",
    "l7 = [\"sandeep\", 123]\n",
    "l7*3"
   ]
  },
  {
   "cell_type": "code",
   "execution_count": 14,
   "id": "9a521ccd",
   "metadata": {},
   "outputs": [
    {
     "data": {
      "text/plain": [
       "[100, 99.44, True, 'Aditya', (4+39j)]"
      ]
     },
     "execution_count": 14,
     "metadata": {},
     "output_type": "execute_result"
    }
   ],
   "source": [
    "l8 = [100,99.44,True, 'Aditya', 4+39j]\n",
    "l8"
   ]
  },
  {
   "cell_type": "code",
   "execution_count": 19,
   "id": "52229d1f",
   "metadata": {},
   "outputs": [
    {
     "data": {
      "text/plain": [
       "100"
      ]
     },
     "execution_count": 19,
     "metadata": {},
     "output_type": "execute_result"
    }
   ],
   "source": [
    "l8[0]"
   ]
  },
  {
   "cell_type": "code",
   "execution_count": 21,
   "id": "802d5240",
   "metadata": {},
   "outputs": [
    {
     "data": {
      "text/plain": [
       "(4+39j)"
      ]
     },
     "execution_count": 21,
     "metadata": {},
     "output_type": "execute_result"
    }
   ],
   "source": [
    "l8[4]"
   ]
  },
  {
   "cell_type": "code",
   "execution_count": 22,
   "id": "0e8949e3",
   "metadata": {},
   "outputs": [
    {
     "data": {
      "text/plain": [
       "['Aditya', (4+39j)]"
      ]
     },
     "execution_count": 22,
     "metadata": {},
     "output_type": "execute_result"
    }
   ],
   "source": [
    "l8[3:5]"
   ]
  },
  {
   "cell_type": "code",
   "execution_count": 24,
   "id": "80ef1002",
   "metadata": {},
   "outputs": [],
   "source": [
    "l9 = [101,77.77,True, [1,2,\"sandeep\"],'Aditya', 4+39j]\n",
    "#1. op: [1,2,\"sandeep\"]\n",
    "#2. op: [1,2]\n",
    "#3. op:['Aditya', 4+39j]"
   ]
  },
  {
   "cell_type": "code",
   "execution_count": 25,
   "id": "b69a0213",
   "metadata": {},
   "outputs": [
    {
     "data": {
      "text/plain": [
       "[1, 2, 'sandeep']"
      ]
     },
     "execution_count": 25,
     "metadata": {},
     "output_type": "execute_result"
    }
   ],
   "source": [
    "#1. op: [1,2,\"sandeep\"]\n",
    "l9[3]"
   ]
  },
  {
   "cell_type": "code",
   "execution_count": 26,
   "id": "a54462bd",
   "metadata": {},
   "outputs": [
    {
     "data": {
      "text/plain": [
       "[1, 2, 'sandeep']"
      ]
     },
     "execution_count": 26,
     "metadata": {},
     "output_type": "execute_result"
    }
   ],
   "source": [
    "var = l9[3]\n",
    "var"
   ]
  },
  {
   "cell_type": "code",
   "execution_count": 27,
   "id": "ba3071d2",
   "metadata": {},
   "outputs": [
    {
     "data": {
      "text/plain": [
       "[1, 2]"
      ]
     },
     "execution_count": 27,
     "metadata": {},
     "output_type": "execute_result"
    }
   ],
   "source": [
    "l9[3][0:2]"
   ]
  },
  {
   "cell_type": "code",
   "execution_count": 28,
   "id": "4d1e2002",
   "metadata": {},
   "outputs": [
    {
     "data": {
      "text/plain": [
       "[1, 3, 4, 'atta', 'poha', 'milk']"
      ]
     },
     "execution_count": 28,
     "metadata": {},
     "output_type": "execute_result"
    }
   ],
   "source": [
    "# list modification\n",
    "l10 = [1, 3, 4, \"atta\", \"poha\", \"milk\"]\n",
    "l10\n"
   ]
  },
  {
   "cell_type": "code",
   "execution_count": 30,
   "id": "b5ba50d8",
   "metadata": {},
   "outputs": [
    {
     "data": {
      "text/plain": [
       "[1, 3, 4, 'maida', 'poha', 'milk']"
      ]
     },
     "execution_count": 30,
     "metadata": {},
     "output_type": "execute_result"
    }
   ],
   "source": [
    "l10[3] = \"maida\"\n",
    "l10"
   ]
  },
  {
   "cell_type": "code",
   "execution_count": 31,
   "id": "8441bdd4",
   "metadata": {},
   "outputs": [
    {
     "data": {
      "text/plain": [
       "6"
      ]
     },
     "execution_count": 31,
     "metadata": {},
     "output_type": "execute_result"
    }
   ],
   "source": [
    "# len of list\n",
    "len(l10)"
   ]
  },
  {
   "cell_type": "code",
   "execution_count": 34,
   "id": "1e593833",
   "metadata": {},
   "outputs": [],
   "source": [
    "l11 = [1, 3, 4, \"atta\", \"poha\", [\"suji\", \"maida\", 4], \"milk\"]\n",
    "\n",
    "# --> op:[1, 3, 4, \"atta\", \"poha\", [\"suji\", \"atta\", 4], \"milk\"]\n"
   ]
  },
  {
   "cell_type": "code",
   "execution_count": 38,
   "id": "b226593d",
   "metadata": {},
   "outputs": [
    {
     "data": {
      "text/plain": [
       "[1, 3, 4, 'atta', 'poha', ['suji', 'atta', 4], 'milk']"
      ]
     },
     "execution_count": 38,
     "metadata": {},
     "output_type": "execute_result"
    }
   ],
   "source": [
    "l11[5][1] = \"atta\"\n",
    "l11"
   ]
  },
  {
   "cell_type": "code",
   "execution_count": null,
   "id": "e9cd30da",
   "metadata": {},
   "outputs": [],
   "source": [
    "# l12 = [1, 3, 4, 'maida', 'poha', 'milk']\n",
    "# 1. op:--> [\"milk\", \"poha\", \"maida\", 4,3,1]...reverse the list\n",
    "# 2. op:--> [\"milk\", \"poha\", \"maida\"]\n"
   ]
  },
  {
   "cell_type": "code",
   "execution_count": 32,
   "id": "2a10bdd2",
   "metadata": {},
   "outputs": [
    {
     "data": {
      "text/plain": [
       "['milk', 'poha', 'maida', 4, 3, 1]"
      ]
     },
     "execution_count": 32,
     "metadata": {},
     "output_type": "execute_result"
    }
   ],
   "source": [
    "l12 = [1, 3, 4, 'maida', 'poha', 'milk']\n",
    "l12[::-1]"
   ]
  },
  {
   "cell_type": "code",
   "execution_count": 33,
   "id": "1196ef51",
   "metadata": {},
   "outputs": [
    {
     "data": {
      "text/plain": [
       "['milk', 'poha', 'maida']"
      ]
     },
     "execution_count": 33,
     "metadata": {},
     "output_type": "execute_result"
    }
   ],
   "source": [
    "l12[::-1][0:3]"
   ]
  },
  {
   "cell_type": "code",
   "execution_count": null,
   "id": "135ca71a",
   "metadata": {},
   "outputs": [],
   "source": []
  },
  {
   "cell_type": "code",
   "execution_count": null,
   "id": "b5dfef8a",
   "metadata": {},
   "outputs": [],
   "source": [
    "# list1 = [1,2,3]\n",
    "# list2 = [4,5,6]\n",
    "# op: [2,6]"
   ]
  },
  {
   "cell_type": "code",
   "execution_count": null,
   "id": "55e89a26",
   "metadata": {},
   "outputs": [],
   "source": [
    "# list3 = [1, \"sandeep\", 100]\n",
    "# list4 = [2, \"aditya\", 99]\n",
    "\n",
    "#op: [\"aytida\", \"peednas\"]\n"
   ]
  },
  {
   "cell_type": "code",
   "execution_count": null,
   "id": "37d969fc",
   "metadata": {},
   "outputs": [],
   "source": []
  },
  {
   "cell_type": "code",
   "execution_count": 12,
   "id": "919b312d",
   "metadata": {},
   "outputs": [
    {
     "data": {
      "text/plain": [
       "['aytida', 'peednas']"
      ]
     },
     "execution_count": 12,
     "metadata": {},
     "output_type": "execute_result"
    }
   ],
   "source": [
    "list3 = [1, \"sandeep\", 100]\n",
    "list4 = [2, \"aditya\", 99]\n",
    "\n",
    "var1 = list3[1][::-1]\n",
    "var2 = list4[1][::-1]\n",
    "\n",
    "new_list = [var2, var1]\n",
    "new_list\n",
    "\n",
    "# list3[1] + list4[1]"
   ]
  },
  {
   "cell_type": "code",
   "execution_count": null,
   "id": "947ca8e2",
   "metadata": {},
   "outputs": [],
   "source": []
  },
  {
   "cell_type": "markdown",
   "id": "48293325",
   "metadata": {},
   "source": [
    "## 2. Tuple"
   ]
  },
  {
   "cell_type": "code",
   "execution_count": 1,
   "id": "332e1137",
   "metadata": {},
   "outputs": [
    {
     "data": {
      "text/plain": [
       "tuple"
      ]
     },
     "execution_count": 1,
     "metadata": {},
     "output_type": "execute_result"
    }
   ],
   "source": [
    "t = (1,2,3)\n",
    "type(t)"
   ]
  },
  {
   "cell_type": "code",
   "execution_count": 3,
   "id": "988ffc69",
   "metadata": {},
   "outputs": [
    {
     "data": {
      "text/plain": [
       "(2.33, 5.66, 4.56)"
      ]
     },
     "execution_count": 3,
     "metadata": {},
     "output_type": "execute_result"
    }
   ],
   "source": [
    "t1 = (2.33, 5.66, 4.56) # common bracket\n",
    "t1"
   ]
  },
  {
   "cell_type": "code",
   "execution_count": 4,
   "id": "30df3d06",
   "metadata": {},
   "outputs": [
    {
     "name": "stdout",
     "output_type": "stream",
     "text": [
      "(1, 2, 3.44, 6.55, False, 'Sandeep', (3+3j))\n"
     ]
    }
   ],
   "source": [
    "t2 = (1,2,3.44,6.55,False, 'Sandeep', 3+3j) # tuple of all data types\n",
    "print(t2)"
   ]
  },
  {
   "cell_type": "code",
   "execution_count": 5,
   "id": "1e055602",
   "metadata": {},
   "outputs": [
    {
     "ename": "TypeError",
     "evalue": "can only concatenate tuple (not \"str\") to tuple",
     "output_type": "error",
     "traceback": [
      "\u001b[1;31m---------------------------------------------------------------------------\u001b[0m",
      "\u001b[1;31mTypeError\u001b[0m                                 Traceback (most recent call last)",
      "\u001b[1;32m~\\AppData\\Local\\Temp/ipykernel_3768/329923313.py\u001b[0m in \u001b[0;36m<module>\u001b[1;34m\u001b[0m\n\u001b[1;32m----> 1\u001b[1;33m \u001b[0mt2\u001b[0m\u001b[1;33m+\u001b[0m\u001b[1;34m\"aditya\"\u001b[0m\u001b[1;33m\u001b[0m\u001b[1;33m\u001b[0m\u001b[0m\n\u001b[0m",
      "\u001b[1;31mTypeError\u001b[0m: can only concatenate tuple (not \"str\") to tuple"
     ]
    }
   ],
   "source": [
    "t2+\"aditya\" "
   ]
  },
  {
   "cell_type": "code",
   "execution_count": 6,
   "id": "c2bf0573",
   "metadata": {},
   "outputs": [
    {
     "ename": "TypeError",
     "evalue": "can only concatenate tuple (not \"str\") to tuple",
     "output_type": "error",
     "traceback": [
      "\u001b[1;31m---------------------------------------------------------------------------\u001b[0m",
      "\u001b[1;31mTypeError\u001b[0m                                 Traceback (most recent call last)",
      "\u001b[1;32m~\\AppData\\Local\\Temp/ipykernel_3768/2363180127.py\u001b[0m in \u001b[0;36m<module>\u001b[1;34m\u001b[0m\n\u001b[1;32m----> 1\u001b[1;33m \u001b[0mt2\u001b[0m\u001b[1;33m+\u001b[0m \u001b[1;33m(\u001b[0m\u001b[1;34m\"aditya\"\u001b[0m\u001b[1;33m)\u001b[0m\u001b[1;33m\u001b[0m\u001b[1;33m\u001b[0m\u001b[0m\n\u001b[0m",
      "\u001b[1;31mTypeError\u001b[0m: can only concatenate tuple (not \"str\") to tuple"
     ]
    }
   ],
   "source": [
    "t2+ (\"aditya\") # tuple not doing concatenation"
   ]
  },
  {
   "cell_type": "code",
   "execution_count": 8,
   "id": "25f4fd1a",
   "metadata": {},
   "outputs": [
    {
     "data": {
      "text/plain": [
       "[1, 2, 3, 'sandeep']"
      ]
     },
     "execution_count": 8,
     "metadata": {},
     "output_type": "execute_result"
    }
   ],
   "source": [
    "l11=[1,2,3]  # list can do concatenation\n",
    "l11+[\"sandeep\"]"
   ]
  },
  {
   "cell_type": "code",
   "execution_count": 9,
   "id": "634f98c1",
   "metadata": {},
   "outputs": [
    {
     "data": {
      "text/plain": [
       "('sandeep', 123, 'sandeep', 123, 'sandeep', 123)"
      ]
     },
     "execution_count": 9,
     "metadata": {},
     "output_type": "execute_result"
    }
   ],
   "source": [
    "t3 = (\"sandeep\", 123) # tuple  can do multiplication of data\n",
    "t3*3"
   ]
  },
  {
   "cell_type": "code",
   "execution_count": 10,
   "id": "609fb2af",
   "metadata": {},
   "outputs": [
    {
     "data": {
      "text/plain": [
       "100"
      ]
     },
     "execution_count": 10,
     "metadata": {},
     "output_type": "execute_result"
    }
   ],
   "source": [
    "t4 = (100,99.44,True, 'Aditya', 4+39j) #slicing is possible in tuple\n",
    "t4[0]"
   ]
  },
  {
   "cell_type": "code",
   "execution_count": 11,
   "id": "26ee1b70",
   "metadata": {},
   "outputs": [
    {
     "data": {
      "text/plain": [
       "(100, 99.44)"
      ]
     },
     "execution_count": 11,
     "metadata": {},
     "output_type": "execute_result"
    }
   ],
   "source": [
    "t4[0:2]"
   ]
  },
  {
   "cell_type": "code",
   "execution_count": null,
   "id": "6006e9b8",
   "metadata": {},
   "outputs": [],
   "source": [
    "t5 = (1, 3, 4, \"atta\", \"poha\", \"milk\")\n",
    "t5()"
   ]
  },
  {
   "cell_type": "code",
   "execution_count": null,
   "id": "38166338",
   "metadata": {},
   "outputs": [],
   "source": [
    "## list revision below"
   ]
  },
  {
   "cell_type": "code",
   "execution_count": 12,
   "id": "fa02715e",
   "metadata": {},
   "outputs": [
    {
     "data": {
      "text/plain": [
       "[1, 3, 4, 'atta', 'poha', 'water']"
      ]
     },
     "execution_count": 12,
     "metadata": {},
     "output_type": "execute_result"
    }
   ],
   "source": [
    "l12 = [1, 3, 4, \"atta\", \"poha\", \"milk\"]\n",
    "l12[-1] = \"water\"\n",
    "l12"
   ]
  },
  {
   "cell_type": "code",
   "execution_count": 15,
   "id": "161375ee",
   "metadata": {},
   "outputs": [
    {
     "data": {
      "text/plain": [
       "[1, 3, 4, 'atta', 'poha', 'water']"
      ]
     },
     "execution_count": 15,
     "metadata": {},
     "output_type": "execute_result"
    }
   ],
   "source": [
    "l12 = [1, 3, 4, \"atta\", \"poha\", \"milk\"]\n",
    "l12[5] = \"water\"\n",
    "l12"
   ]
  },
  {
   "cell_type": "code",
   "execution_count": 18,
   "id": "b522f2c7",
   "metadata": {},
   "outputs": [
    {
     "ename": "TypeError",
     "evalue": "'tuple' object does not support item assignment",
     "output_type": "error",
     "traceback": [
      "\u001b[1;31m---------------------------------------------------------------------------\u001b[0m",
      "\u001b[1;31mTypeError\u001b[0m                                 Traceback (most recent call last)",
      "\u001b[1;32m~\\AppData\\Local\\Temp/ipykernel_3768/4001667340.py\u001b[0m in \u001b[0;36m<module>\u001b[1;34m\u001b[0m\n\u001b[0;32m      1\u001b[0m \u001b[0mt12\u001b[0m \u001b[1;33m=\u001b[0m \u001b[0mtuple\u001b[0m\u001b[1;33m(\u001b[0m\u001b[0ml12\u001b[0m\u001b[1;33m)\u001b[0m\u001b[1;33m\u001b[0m\u001b[1;33m\u001b[0m\u001b[0m\n\u001b[1;32m----> 2\u001b[1;33m \u001b[0mt12\u001b[0m\u001b[1;33m[\u001b[0m\u001b[1;36m3\u001b[0m\u001b[1;33m]\u001b[0m \u001b[1;33m=\u001b[0m \u001b[1;34m\"maida\"\u001b[0m\u001b[1;33m\u001b[0m\u001b[1;33m\u001b[0m\u001b[0m\n\u001b[0m\u001b[0;32m      3\u001b[0m \u001b[0mt12\u001b[0m\u001b[1;33m\u001b[0m\u001b[1;33m\u001b[0m\u001b[0m\n",
      "\u001b[1;31mTypeError\u001b[0m: 'tuple' object does not support item assignment"
     ]
    }
   ],
   "source": [
    "t12 = tuple(l12) # tuple is immutable\n",
    "t12[3] = \"maida\"\n",
    "t12"
   ]
  },
  {
   "cell_type": "markdown",
   "id": "81cba3fd",
   "metadata": {},
   "source": [
    "## 3. Set"
   ]
  },
  {
   "cell_type": "code",
   "execution_count": 19,
   "id": "f9e40583",
   "metadata": {},
   "outputs": [
    {
     "data": {
      "text/plain": [
       "dict"
      ]
     },
     "execution_count": 19,
     "metadata": {},
     "output_type": "execute_result"
    }
   ],
   "source": [
    "s1 = {}\n",
    "type(s1)"
   ]
  },
  {
   "cell_type": "code",
   "execution_count": 20,
   "id": "4453f396",
   "metadata": {},
   "outputs": [
    {
     "data": {
      "text/plain": [
       "set"
      ]
     },
     "execution_count": 20,
     "metadata": {},
     "output_type": "execute_result"
    }
   ],
   "source": [
    "s2 = {1,2,3}\n",
    "type(s2)"
   ]
  },
  {
   "cell_type": "code",
   "execution_count": 31,
   "id": "8b687e25",
   "metadata": {},
   "outputs": [
    {
     "data": {
      "text/plain": [
       "dict"
      ]
     },
     "execution_count": 31,
     "metadata": {},
     "output_type": "execute_result"
    }
   ],
   "source": [
    "d1 = {\"aditya\": \"1/a, ghanta road, chattisgarh\", \"job\": \"BOSCH\"}\n",
    "type(d1)"
   ]
  },
  {
   "cell_type": "code",
   "execution_count": 33,
   "id": "a6386c3e",
   "metadata": {},
   "outputs": [
    {
     "data": {
      "text/plain": [
       "'BOSCH'"
      ]
     },
     "execution_count": 33,
     "metadata": {},
     "output_type": "execute_result"
    }
   ],
   "source": [
    "d1[\"job\"]"
   ]
  },
  {
   "cell_type": "code",
   "execution_count": 23,
   "id": "adb126f3",
   "metadata": {},
   "outputs": [
    {
     "data": {
      "text/plain": [
       "set"
      ]
     },
     "execution_count": 23,
     "metadata": {},
     "output_type": "execute_result"
    }
   ],
   "source": [
    "s3 = {\"sandeep\", \"aditya\", \"1/a, ghanta road, chattisgarh\"}\n",
    "type(s3)"
   ]
  },
  {
   "cell_type": "code",
   "execution_count": 34,
   "id": "efea69f0",
   "metadata": {},
   "outputs": [
    {
     "data": {
      "text/plain": [
       "{1, 2, 3, 4}"
      ]
     },
     "execution_count": 34,
     "metadata": {},
     "output_type": "execute_result"
    }
   ],
   "source": [
    "s4 = {1,2,3,4,4,4,4}\n",
    "s4"
   ]
  },
  {
   "cell_type": "code",
   "execution_count": 36,
   "id": "7b7c94cd",
   "metadata": {},
   "outputs": [
    {
     "data": {
      "text/plain": [
       "{6.6, 7, 7.2, 8, 8.5, 9.3}"
      ]
     },
     "execution_count": 36,
     "metadata": {},
     "output_type": "execute_result"
    }
   ],
   "source": [
    "ph = {7,7.2,8,8.5,8.5,7,7.2,9.3,6.6}\n",
    "ph"
   ]
  },
  {
   "cell_type": "markdown",
   "id": "bfc55264",
   "metadata": {},
   "source": [
    "## Dictionary"
   ]
  },
  {
   "cell_type": "code",
   "execution_count": null,
   "id": "aeebaec9",
   "metadata": {},
   "outputs": [],
   "source": [
    "## dictionary is Key and Value pair"
   ]
  },
  {
   "cell_type": "code",
   "execution_count": 37,
   "id": "51ac15d6",
   "metadata": {},
   "outputs": [
    {
     "data": {
      "text/plain": [
       "dict"
      ]
     },
     "execution_count": 37,
     "metadata": {},
     "output_type": "execute_result"
    }
   ],
   "source": [
    "d1 = {\"aditya\": \"1/a, ghanta road, chattisgarh\", \"job\": \"BOSCH\"}\n",
    "type(d1)"
   ]
  },
  {
   "cell_type": "code",
   "execution_count": 38,
   "id": "6e00495e",
   "metadata": {},
   "outputs": [
    {
     "data": {
      "text/plain": [
       "{'ph': 7, 'cod': 55, 'bod': 87}"
      ]
     },
     "execution_count": 38,
     "metadata": {},
     "output_type": "execute_result"
    }
   ],
   "source": [
    "d2 = {\"ph\":7, \"cod\":55, \"bod\":87}\n",
    "d2"
   ]
  },
  {
   "cell_type": "code",
   "execution_count": 39,
   "id": "1658a84e",
   "metadata": {},
   "outputs": [
    {
     "data": {
      "text/plain": [
       "7"
      ]
     },
     "execution_count": 39,
     "metadata": {},
     "output_type": "execute_result"
    }
   ],
   "source": [
    "d2[\"ph\"]"
   ]
  },
  {
   "cell_type": "code",
   "execution_count": 40,
   "id": "c730a3e0",
   "metadata": {},
   "outputs": [
    {
     "data": {
      "text/plain": [
       "{'ph': [7, 7, 7, 8, 9, 4.4], 'cod': 55, 'bod': 87}"
      ]
     },
     "execution_count": 40,
     "metadata": {},
     "output_type": "execute_result"
    }
   ],
   "source": [
    "# list inside a dictionary\n",
    "d3 = {\"ph\":[7, 7,7, 8, 9, 4.4], \"cod\":55, \"bod\":87}\n",
    "d3"
   ]
  },
  {
   "cell_type": "code",
   "execution_count": 41,
   "id": "c040da39",
   "metadata": {},
   "outputs": [
    {
     "data": {
      "text/plain": [
       "[7, 7, 7, 8, 9, 4.4]"
      ]
     },
     "execution_count": 41,
     "metadata": {},
     "output_type": "execute_result"
    }
   ],
   "source": [
    "d3[\"ph\"]"
   ]
  },
  {
   "cell_type": "code",
   "execution_count": 42,
   "id": "0c5bec5d",
   "metadata": {},
   "outputs": [
    {
     "data": {
      "text/plain": [
       "{4.4, 7, 8, 9}"
      ]
     },
     "execution_count": 42,
     "metadata": {},
     "output_type": "execute_result"
    }
   ],
   "source": [
    "# set inside a dictionary\n",
    "d4 = {\"ph\":{7, 7,7, 8, 9, 4.4}, \"cod\":55, \"bod\":87}\n",
    "d4[\"ph\"]"
   ]
  },
  {
   "cell_type": "code",
   "execution_count": 43,
   "id": "2a34cee2",
   "metadata": {},
   "outputs": [
    {
     "data": {
      "text/plain": [
       "(7, 7, 7, 8, 9, 4.4)"
      ]
     },
     "execution_count": 43,
     "metadata": {},
     "output_type": "execute_result"
    }
   ],
   "source": [
    "# tuple inside a dictionary\n",
    "d4 = {\"ph\":(7, 7,7, 8, 9, 4.4), \"cod\":55, \"bod\":87}\n",
    "d4[\"ph\"]"
   ]
  },
  {
   "cell_type": "code",
   "execution_count": 44,
   "id": "bba9109e",
   "metadata": {},
   "outputs": [],
   "source": [
    "# dict inside a dict\n",
    "## IPL Score\n",
    "d5 = {\"team\": [\"kol\", \"hyd\"], \"captains\":(\"iyer\", \"patcummins\"), \"score\":{150, 175, 175, 200}, \n",
    "      \"ground\":{1:\"eden\", 2:\"chennai\", 3:\"hyd\"}}"
   ]
  },
  {
   "cell_type": "code",
   "execution_count": 45,
   "id": "032de27c",
   "metadata": {},
   "outputs": [
    {
     "data": {
      "text/plain": [
       "{'team': ['kol', 'hyd'],\n",
       " 'captains': ('iyer', 'patcummins'),\n",
       " 'score': {150, 175, 200},\n",
       " 'ground': {1: 'eden', 2: 'chennai', 3: 'hyd'}}"
      ]
     },
     "execution_count": 45,
     "metadata": {},
     "output_type": "execute_result"
    }
   ],
   "source": [
    "d5"
   ]
  },
  {
   "cell_type": "code",
   "execution_count": 47,
   "id": "d2fcb08f",
   "metadata": {},
   "outputs": [
    {
     "data": {
      "text/plain": [
       "'chennai'"
      ]
     },
     "execution_count": 47,
     "metadata": {},
     "output_type": "execute_result"
    }
   ],
   "source": [
    "d5[\"ground\"][2]"
   ]
  },
  {
   "cell_type": "code",
   "execution_count": 48,
   "id": "bd041c11",
   "metadata": {},
   "outputs": [
    {
     "data": {
      "text/plain": [
       "['kol', 'hyd']"
      ]
     },
     "execution_count": 48,
     "metadata": {},
     "output_type": "execute_result"
    }
   ],
   "source": [
    "d5[\"team\"]"
   ]
  },
  {
   "cell_type": "code",
   "execution_count": 49,
   "id": "cbe4895a",
   "metadata": {},
   "outputs": [
    {
     "data": {
      "text/plain": [
       "{150, 175, 200}"
      ]
     },
     "execution_count": 49,
     "metadata": {},
     "output_type": "execute_result"
    }
   ],
   "source": [
    "d5[\"score\"]"
   ]
  },
  {
   "cell_type": "code",
   "execution_count": 50,
   "id": "f7ee5c7e",
   "metadata": {},
   "outputs": [
    {
     "data": {
      "text/plain": [
       "'hyd'"
      ]
     },
     "execution_count": 50,
     "metadata": {},
     "output_type": "execute_result"
    }
   ],
   "source": [
    "d5[\"ground\"][3]"
   ]
  },
  {
   "cell_type": "code",
   "execution_count": 51,
   "id": "ecda5048",
   "metadata": {},
   "outputs": [
    {
     "data": {
      "text/plain": [
       "'value'"
      ]
     },
     "execution_count": 51,
     "metadata": {},
     "output_type": "execute_result"
    }
   ],
   "source": [
    "d6={\"key\": \"value\"}\n",
    "d6[\"key\"]"
   ]
  },
  {
   "cell_type": "code",
   "execution_count": 57,
   "id": "ec876fd0",
   "metadata": {},
   "outputs": [
    {
     "ename": "SyntaxError",
     "evalue": "invalid syntax (Temp/ipykernel_3768/466505300.py, line 1)",
     "output_type": "error",
     "traceback": [
      "\u001b[1;36m  File \u001b[1;32m\"C:\\Users\\CHS9NA\\AppData\\Local\\Temp/ipykernel_3768/466505300.py\"\u001b[1;36m, line \u001b[1;32m1\u001b[0m\n\u001b[1;33m    d6 = {%2:\"sandeep\"}\u001b[0m\n\u001b[1;37m          ^\u001b[0m\n\u001b[1;31mSyntaxError\u001b[0m\u001b[1;31m:\u001b[0m invalid syntax\n"
     ]
    }
   ],
   "source": [
    "d6 = {%2:\"sandeep\"}\n",
    "d6"
   ]
  },
  {
   "cell_type": "code",
   "execution_count": null,
   "id": "ade5f50a",
   "metadata": {},
   "outputs": [],
   "source": []
  }
 ],
 "metadata": {
  "kernelspec": {
   "display_name": "Python 3 (ipykernel)",
   "language": "python",
   "name": "python3"
  },
  "language_info": {
   "codemirror_mode": {
    "name": "ipython",
    "version": 3
   },
   "file_extension": ".py",
   "mimetype": "text/x-python",
   "name": "python",
   "nbconvert_exporter": "python",
   "pygments_lexer": "ipython3",
   "version": "3.9.7"
  }
 },
 "nbformat": 4,
 "nbformat_minor": 5
}
